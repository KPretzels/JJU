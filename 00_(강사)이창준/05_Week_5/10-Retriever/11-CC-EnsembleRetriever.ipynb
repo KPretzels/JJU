{
 "cells": [
  {
   "cell_type": "markdown",
   "metadata": {
    "id": "VHDkdCERwICe"
   },
   "source": [
    "# Ensemble Retriever `Convex Combination(CC)` 추가\n",
    "\n",
    "[written by@teddynote](https://github.com/teddylee777/langchain-teddynote)\n",
    "\n",
    "- 참고글: [AutoRAG 가 게재한 알고리즘 방식의 차이 설명](https://velog.io/@autorag/%EB%9E%AD%EC%B2%B4%EC%9D%B8%EC%9D%98-Ensemble-Retriever-%EC%9D%B4%EA%B2%8C-%EB%8C%80%EC%B2%B4-%EB%AD%90%EC%A7%80)"
   ]
  },
  {
   "cell_type": "markdown",
   "metadata": {
    "id": "hLQFA7V0wICg"
   },
   "source": [
    "아래의 주석을 풀고 패키지를 업데이트 후 진행합니다."
   ]
  },
  {
   "cell_type": "code",
   "execution_count": 1,
   "metadata": {
    "colab": {
     "base_uri": "https://localhost:8080/"
    },
    "executionInfo": {
     "elapsed": 33952,
     "status": "ok",
     "timestamp": 1737461225482,
     "user": {
      "displayName": "Chang Jun Lee",
      "userId": "07449846774346066151"
     },
     "user_tz": -540
    },
    "id": "LIsjzJlpwICh",
    "outputId": "c3222eae-164f-408f-dd11-4505f4043fad"
   },
   "outputs": [
    {
     "name": "stdout",
     "output_type": "stream",
     "text": [
      "  Preparing metadata (setup.py) ... \u001b[?25l\u001b[?25hdone\n",
      "\u001b[2K     \u001b[90m━━━━━━━━━━━━━━━━━━━━━━━━━━━━━━━━━━━━━━━━\u001b[0m \u001b[32m34.7/34.7 MB\u001b[0m \u001b[31m18.8 MB/s\u001b[0m eta \u001b[36m0:00:00\u001b[0m\n",
      "\u001b[?25h  Preparing metadata (setup.py) ... \u001b[?25l\u001b[?25hdone\n",
      "  Preparing metadata (setup.py) ... \u001b[?25l\u001b[?25hdone\n",
      "\u001b[2K   \u001b[90m━━━━━━━━━━━━━━━━━━━━━━━━━━━━━━━━━━━━━━━━\u001b[0m \u001b[32m51.1/51.1 kB\u001b[0m \u001b[31m587.5 kB/s\u001b[0m eta \u001b[36m0:00:00\u001b[0m\n",
      "\u001b[2K   \u001b[90m━━━━━━━━━━━━━━━━━━━━━━━━━━━━━━━━━━━━━━━━\u001b[0m \u001b[32m208.2/208.2 kB\u001b[0m \u001b[31m10.3 MB/s\u001b[0m eta \u001b[36m0:00:00\u001b[0m\n",
      "\u001b[2K   \u001b[90m━━━━━━━━━━━━━━━━━━━━━━━━━━━━━━━━━━━━━━━━\u001b[0m \u001b[32m81.3/81.3 kB\u001b[0m \u001b[31m3.9 MB/s\u001b[0m eta \u001b[36m0:00:00\u001b[0m\n",
      "\u001b[2K   \u001b[90m━━━━━━━━━━━━━━━━━━━━━━━━━━━━━━━━━━━━━━━━\u001b[0m \u001b[32m3.6/3.6 MB\u001b[0m \u001b[31m39.2 MB/s\u001b[0m eta \u001b[36m0:00:00\u001b[0m\n",
      "\u001b[2K   \u001b[90m━━━━━━━━━━━━━━━━━━━━━━━━━━━━━━━━━━━━━━━━\u001b[0m \u001b[32m143.9/143.9 kB\u001b[0m \u001b[31m7.4 MB/s\u001b[0m eta \u001b[36m0:00:00\u001b[0m\n",
      "\u001b[2K   \u001b[90m━━━━━━━━━━━━━━━━━━━━━━━━━━━━━━━━━━━━━━━━\u001b[0m \u001b[32m114.6/114.6 kB\u001b[0m \u001b[31m5.7 MB/s\u001b[0m eta \u001b[36m0:00:00\u001b[0m\n",
      "\u001b[2K   \u001b[90m━━━━━━━━━━━━━━━━━━━━━━━━━━━━━━━━━━━━━━━━\u001b[0m \u001b[32m44.7/44.7 kB\u001b[0m \u001b[31m1.2 MB/s\u001b[0m eta \u001b[36m0:00:00\u001b[0m\n",
      "\u001b[2K   \u001b[90m━━━━━━━━━━━━━━━━━━━━━━━━━━━━━━━━━━━━━━━━\u001b[0m \u001b[32m1.3/1.3 MB\u001b[0m \u001b[31m17.9 MB/s\u001b[0m eta \u001b[36m0:00:00\u001b[0m\n",
      "\u001b[2K   \u001b[90m━━━━━━━━━━━━━━━━━━━━━━━━━━━━━━━━━━━━━━━━\u001b[0m \u001b[32m67.8/67.8 kB\u001b[0m \u001b[31m2.4 MB/s\u001b[0m eta \u001b[36m0:00:00\u001b[0m\n",
      "\u001b[2K   \u001b[90m━━━━━━━━━━━━━━━━━━━━━━━━━━━━━━━━━━━━━━━━\u001b[0m \u001b[32m85.4/85.4 kB\u001b[0m \u001b[31m3.6 MB/s\u001b[0m eta \u001b[36m0:00:00\u001b[0m\n",
      "\u001b[2K   \u001b[90m━━━━━━━━━━━━━━━━━━━━━━━━━━━━━━━━━━━━━━━━\u001b[0m \u001b[32m1.2/1.2 MB\u001b[0m \u001b[31m23.6 MB/s\u001b[0m eta \u001b[36m0:00:00\u001b[0m\n",
      "\u001b[2K   \u001b[90m━━━━━━━━━━━━━━━━━━━━━━━━━━━━━━━━━━━━━━━━\u001b[0m \u001b[32m244.8/244.8 kB\u001b[0m \u001b[31m11.6 MB/s\u001b[0m eta \u001b[36m0:00:00\u001b[0m\n",
      "\u001b[?25h  Building wheel for kiwipiepy_model (setup.py) ... \u001b[?25l\u001b[?25hdone\n",
      "  Building wheel for wget (setup.py) ... \u001b[?25l\u001b[?25hdone\n",
      "  Building wheel for sgmllib3k (setup.py) ... \u001b[?25l\u001b[?25hdone\n"
     ]
    }
   ],
   "source": [
    "# 업데이트 후 진행\n",
    "!pip install -qU langchain-teddynote"
   ]
  },
  {
   "cell_type": "code",
   "execution_count": 2,
   "metadata": {
    "executionInfo": {
     "elapsed": 374,
     "status": "ok",
     "timestamp": 1737461229885,
     "user": {
      "displayName": "Chang Jun Lee",
      "userId": "07449846774346066151"
     },
     "user_tz": -540
    },
    "id": "g_NOJxbmwICi"
   },
   "outputs": [],
   "source": [
    "import os\n",
    "\n",
    "os.environ[\"OPENAI_API_KEY\"] = \"\"\n",
    "\n",
    "os.environ[\"LANGCHAIN_API_KEY\"] = \"\"\n",
    "os.environ[\"LANGCHAIN_TRACING_V2\"] = \"true\"\n",
    "os.environ[\"LANGCHAIN_ENDPOINT\"] = \"https://api.smith.langchain.com\"\n",
    "os.environ[\"LANGCHAIN_PROJECT\"] = \"10-11\""
   ]
  },
  {
   "cell_type": "markdown",
   "metadata": {
    "id": "7ktEsgyjwICi"
   },
   "source": [
    "## 실험을 위한 사전 셋업"
   ]
  },
  {
   "cell_type": "code",
   "execution_count": 3,
   "metadata": {
    "colab": {
     "base_uri": "https://localhost:8080/"
    },
    "executionInfo": {
     "elapsed": 10994,
     "status": "ok",
     "timestamp": 1737461359341,
     "user": {
      "displayName": "Chang Jun Lee",
      "userId": "07449846774346066151"
     },
     "user_tz": -540
    },
    "id": "ZR0_x8Xmw9gk",
    "outputId": "af0fe95e-b4de-49c7-c377-3ec7eecff7e6"
   },
   "outputs": [
    {
     "name": "stdout",
     "output_type": "stream",
     "text": [
      "\u001b[?25l   \u001b[90m━━━━━━━━━━━━━━━━━━━━━━━━━━━━━━━━━━━━━━━━\u001b[0m \u001b[32m0.0/2.5 MB\u001b[0m \u001b[31m?\u001b[0m eta \u001b[36m-:--:--\u001b[0m\r\u001b[2K   \u001b[91m━━━━━━━━━━━━━━━━━━━━━━━━━━━━━━━━━━━━━━━\u001b[0m\u001b[91m╸\u001b[0m \u001b[32m2.5/2.5 MB\u001b[0m \u001b[31m81.0 MB/s\u001b[0m eta \u001b[36m0:00:01\u001b[0m\r\u001b[2K   \u001b[90m━━━━━━━━━━━━━━━━━━━━━━━━━━━━━━━━━━━━━━━━\u001b[0m \u001b[32m2.5/2.5 MB\u001b[0m \u001b[31m46.0 MB/s\u001b[0m eta \u001b[36m0:00:00\u001b[0m\n",
      "\u001b[2K   \u001b[90m━━━━━━━━━━━━━━━━━━━━━━━━━━━━━━━━━━━━━━━━\u001b[0m \u001b[32m54.3/54.3 kB\u001b[0m \u001b[31m3.2 MB/s\u001b[0m eta \u001b[36m0:00:00\u001b[0m\n",
      "\u001b[2K   \u001b[90m━━━━━━━━━━━━━━━━━━━━━━━━━━━━━━━━━━━━━━━━\u001b[0m \u001b[32m1.0/1.0 MB\u001b[0m \u001b[31m46.5 MB/s\u001b[0m eta \u001b[36m0:00:00\u001b[0m\n",
      "\u001b[2K   \u001b[90m━━━━━━━━━━━━━━━━━━━━━━━━━━━━━━━━━━━━━━━━\u001b[0m \u001b[32m412.2/412.2 kB\u001b[0m \u001b[31m25.0 MB/s\u001b[0m eta \u001b[36m0:00:00\u001b[0m\n",
      "\u001b[2K   \u001b[90m━━━━━━━━━━━━━━━━━━━━━━━━━━━━━━━━━━━━━━━━\u001b[0m \u001b[32m49.6/49.6 kB\u001b[0m \u001b[31m3.2 MB/s\u001b[0m eta \u001b[36m0:00:00\u001b[0m\n",
      "\u001b[?25h"
     ]
    }
   ],
   "source": [
    "!pip install -qU langchain-community langchain-openai"
   ]
  },
  {
   "cell_type": "code",
   "execution_count": 5,
   "metadata": {
    "colab": {
     "base_uri": "https://localhost:8080/"
    },
    "executionInfo": {
     "elapsed": 4721,
     "status": "ok",
     "timestamp": 1737461410323,
     "user": {
      "displayName": "Chang Jun Lee",
      "userId": "07449846774346066151"
     },
     "user_tz": -540
    },
    "id": "Bypc4ExOxNhH",
    "outputId": "c25b9b14-b4f0-4cf9-f7e7-32efda039c8f"
   },
   "outputs": [
    {
     "name": "stdout",
     "output_type": "stream",
     "text": [
      "\u001b[2K     \u001b[90m━━━━━━━━━━━━━━━━━━━━━━━━━━━━━━━━━━━━━━━━\u001b[0m \u001b[32m42.5/42.5 kB\u001b[0m \u001b[31m1.9 MB/s\u001b[0m eta \u001b[36m0:00:00\u001b[0m\n",
      "\u001b[2K     \u001b[90m━━━━━━━━━━━━━━━━━━━━━━━━━━━━━━━━━━━━━━━━\u001b[0m \u001b[32m48.2/48.2 kB\u001b[0m \u001b[31m2.4 MB/s\u001b[0m eta \u001b[36m0:00:00\u001b[0m\n",
      "\u001b[2K   \u001b[90m━━━━━━━━━━━━━━━━━━━━━━━━━━━━━━━━━━━━━━━━\u001b[0m \u001b[32m59.5/59.5 kB\u001b[0m \u001b[31m3.9 MB/s\u001b[0m eta \u001b[36m0:00:00\u001b[0m\n",
      "\u001b[2K   \u001b[90m━━━━━━━━━━━━━━━━━━━━━━━━━━━━━━━━━━━━━━━━\u001b[0m \u001b[32m5.6/5.6 MB\u001b[0m \u001b[31m56.7 MB/s\u001b[0m eta \u001b[36m0:00:00\u001b[0m\n",
      "\u001b[2K   \u001b[90m━━━━━━━━━━━━━━━━━━━━━━━━━━━━━━━━━━━━━━━━\u001b[0m \u001b[32m2.9/2.9 MB\u001b[0m \u001b[31m63.2 MB/s\u001b[0m eta \u001b[36m0:00:00\u001b[0m\n",
      "\u001b[?25h"
     ]
    }
   ],
   "source": [
    "!pip install -qU pdfplumber"
   ]
  },
  {
   "cell_type": "code",
   "execution_count": 8,
   "metadata": {
    "colab": {
     "base_uri": "https://localhost:8080/"
    },
    "executionInfo": {
     "elapsed": 7223,
     "status": "ok",
     "timestamp": 1737461482971,
     "user": {
      "displayName": "Chang Jun Lee",
      "userId": "07449846774346066151"
     },
     "user_tz": -540
    },
    "id": "i8SOFS8YxfLq",
    "outputId": "14c19b9d-8be5-4bf6-f763-f51ad46f15be"
   },
   "outputs": [
    {
     "name": "stdout",
     "output_type": "stream",
     "text": [
      "\u001b[2K   \u001b[90m━━━━━━━━━━━━━━━━━━━━━━━━━━━━━━━━━━━━━━━━\u001b[0m \u001b[32m27.5/27.5 MB\u001b[0m \u001b[31m34.9 MB/s\u001b[0m eta \u001b[36m0:00:00\u001b[0m\n",
      "\u001b[?25h"
     ]
    }
   ],
   "source": [
    "!pip install -qU faiss-cpu"
   ]
  },
  {
   "cell_type": "code",
   "execution_count": 9,
   "metadata": {
    "executionInfo": {
     "elapsed": 21055,
     "status": "ok",
     "timestamp": 1737461506579,
     "user": {
      "displayName": "Chang Jun Lee",
      "userId": "07449846774346066151"
     },
     "user_tz": -540
    },
    "id": "57ZSHLxDwICi"
   },
   "outputs": [],
   "source": [
    "from langchain.retrievers import EnsembleRetriever as OriginalEnsembleRetriever\n",
    "from langchain_text_splitters import RecursiveCharacterTextSplitter\n",
    "from langchain_community.document_loaders import PDFPlumberLoader\n",
    "from langchain_community.vectorstores import FAISS\n",
    "from langchain_openai import OpenAIEmbeddings\n",
    "from langchain_teddynote.retrievers import KiwiBM25Retriever\n",
    "\n",
    "# 문서 로드(Load Documents)\n",
    "loader = PDFPlumberLoader(\"/content/data/디지털 정부혁신 추진계획.pdf\")\n",
    "\n",
    "# 문서 분할(Split Documents): 테스트를 위하여 작은 Chunk Size로 설정\n",
    "text_splitter = RecursiveCharacterTextSplitter(chunk_size=100, chunk_overlap=0)\n",
    "split_documents = loader.load_and_split(text_splitter)\n",
    "\n",
    "# 임베딩(Embedding) 생성\n",
    "embeddings = OpenAIEmbeddings(model=\"text-embedding-3-small\")\n",
    "\n",
    "# FaissRetriever 생성\n",
    "faiss = FAISS.from_documents(\n",
    "    documents=split_documents, embedding=embeddings\n",
    ").as_retriever(search_kwargs={\"k\": 5})\n",
    "\n",
    "# KiwiBM25Retriever 생성(한글 형태소 분석기 + BM25 알고리즘)\n",
    "bm25 = KiwiBM25Retriever.from_documents(documents=split_documents, embedding=embeddings)\n",
    "bm25.k = 5\n",
    "\n",
    "# LangChain 버전의 EnsembleRetriever\n",
    "original_ensemble_retriever = OriginalEnsembleRetriever(retrievers=[faiss, bm25])"
   ]
  },
  {
   "cell_type": "markdown",
   "metadata": {
    "id": "457KSCKIwICj"
   },
   "source": [
    "CC 방식과 RRF 방식의 EnsembleRetriever 생성"
   ]
  },
  {
   "cell_type": "code",
   "execution_count": 10,
   "metadata": {
    "executionInfo": {
     "elapsed": 349,
     "status": "ok",
     "timestamp": 1737461512471,
     "user": {
      "displayName": "Chang Jun Lee",
      "userId": "07449846774346066151"
     },
     "user_tz": -540
    },
    "id": "jOihmzt3wICj"
   },
   "outputs": [],
   "source": [
    "from langchain_teddynote.retrievers import (\n",
    "    EnsembleRetriever,\n",
    "    EnsembleMethod,\n",
    ")\n",
    "\n",
    "# RRF 방식의 EnsembleRetriever (기본값으로 RRF 가 설정되어 있음)\n",
    "rrf_ensemble_retriever = EnsembleRetriever(\n",
    "    retrievers=[faiss, bm25], method=EnsembleMethod.RRF\n",
    ")\n",
    "\n",
    "# CC 방식의 EnsembleRetriever\n",
    "cc_ensemble_retriever = EnsembleRetriever(\n",
    "    retrievers=[faiss, bm25], method=EnsembleMethod.CC  # method 지정: CC\n",
    ")"
   ]
  },
  {
   "cell_type": "markdown",
   "metadata": {
    "id": "uxz5-acfwICj"
   },
   "source": [
    "## 검색 결과 비교"
   ]
  },
  {
   "cell_type": "code",
   "execution_count": 11,
   "metadata": {
    "executionInfo": {
     "elapsed": 308,
     "status": "ok",
     "timestamp": 1737461515886,
     "user": {
      "displayName": "Chang Jun Lee",
      "userId": "07449846774346066151"
     },
     "user_tz": -540
    },
    "id": "bkuthSH1wICj"
   },
   "outputs": [],
   "source": [
    "def pretty_print(query):\n",
    "    for i, (original_doc, cc_doc, rrf_doc) in enumerate(\n",
    "        zip(\n",
    "            original_ensemble_retriever.invoke(query),\n",
    "            cc_ensemble_retriever.invoke(query),\n",
    "            rrf_ensemble_retriever.invoke(query),\n",
    "        )\n",
    "    ):\n",
    "        print(f\"[{i}] [Original] Q: {query}\", end=\"\\n\\n\")\n",
    "        print(original_doc.page_content)\n",
    "        print(\"-\" * 100)\n",
    "        print(f\"[{i}] [RRF] Q: {query}\", end=\"\\n\\n\")\n",
    "        print(rrf_doc.page_content)\n",
    "        print(\"-\" * 100)\n",
    "        print(f\"[{i}] [CC] Q: {query}\", end=\"\\n\\n\")\n",
    "        print(cc_doc.page_content)\n",
    "        print(\"=\" * 100, end=\"\\n\\n\")"
   ]
  },
  {
   "cell_type": "markdown",
   "metadata": {
    "id": "iISodWkDwICk"
   },
   "source": [
    "- 검색 결과에 `\"Original\"` 과 `\"RRF\"` 는 차이가 없어야 합니다. (LangChain 그대로 구현)\n",
    "- 검색 결과에 `\"CC\"` 는 `\"RRF\"` 와 차이가 있을 수 있습니다.\n",
    "\n",
    "`RRF` 와 `CC` 방식의 검색 결과 비교하여 문서에 적합한 방식을 차용하시길 바랍니다."
   ]
  },
  {
   "cell_type": "code",
   "execution_count": 12,
   "metadata": {
    "colab": {
     "base_uri": "https://localhost:8080/"
    },
    "executionInfo": {
     "elapsed": 1146,
     "status": "ok",
     "timestamp": 1737461521355,
     "user": {
      "displayName": "Chang Jun Lee",
      "userId": "07449846774346066151"
     },
     "user_tz": -540
    },
    "id": "NM6fhS37wICk",
    "outputId": "852ba96e-804b-42aa-dec5-9fb93a9b8e24"
   },
   "outputs": [
    {
     "name": "stdout",
     "output_type": "stream",
     "text": [
      "[0] [Original] Q: 디지털 트랜스포메이션이란 무엇인가요?\n",
      "\n",
      "디지털기기 사용이 어려운 분들이 차별없이 서비스를 받도록 지원하겠습니.다\n",
      "권익위,\n",
      "□1 국민의 소리 청취·분석 시스템 개선 (22년)\n",
      "각부처·지자체\n",
      "----------------------------------------------------------------------------------------------------\n",
      "[0] [RRF] Q: 디지털 트랜스포메이션이란 무엇인가요?\n",
      "\n",
      "디지털기기 사용이 어려운 분들이 차별없이 서비스를 받도록 지원하겠습니.다\n",
      "권익위,\n",
      "□1 국민의 소리 청취·분석 시스템 개선 (22년)\n",
      "각부처·지자체\n",
      "----------------------------------------------------------------------------------------------------\n",
      "[0] [CC] Q: 디지털 트랜스포메이션이란 무엇인가요?\n",
      "\n",
      "○ (시스템) 디지털 신기술의 적기 도입과 활용 곤란\n",
      "- 기존 복잡한 용역개발 방식은 혁신주기가 짧은 디지털 전환에 부적합\n",
      "====================================================================================================\n",
      "\n",
      "[1] [Original] Q: 디지털 트랜스포메이션이란 무엇인가요?\n",
      "\n",
      "○ (시스템) 디지털 신기술의 적기 도입과 활용 곤란\n",
      "- 기존 복잡한 용역개발 방식은 혁신주기가 짧은 디지털 전환에 부적합\n",
      "----------------------------------------------------------------------------------------------------\n",
      "[1] [RRF] Q: 디지털 트랜스포메이션이란 무엇인가요?\n",
      "\n",
      "○ (시스템) 디지털 신기술의 적기 도입과 활용 곤란\n",
      "- 기존 복잡한 용역개발 방식은 혁신주기가 짧은 디지털 전환에 부적합\n",
      "----------------------------------------------------------------------------------------------------\n",
      "[1] [CC] Q: 디지털 트랜스포메이션이란 무엇인가요?\n",
      "\n",
      "디지털기기 사용이 어려운 분들이 차별없이 서비스를 받도록 지원하겠습니.다\n",
      "권익위,\n",
      "□1 국민의 소리 청취·분석 시스템 개선 (22년)\n",
      "각부처·지자체\n",
      "====================================================================================================\n",
      "\n",
      "[2] [Original] Q: 디지털 트랜스포메이션이란 무엇인가요?\n",
      "\n",
      "Ⅰ. 개 요\n",
      "□ 추진 배경\n",
      "○ 우리나라는 국가적 초고속 정보통신망 투자와 적극적인 공공정보화\n",
      "사업 추진에 힘입어 세계 최고수준의 전자정부를 구축‧운영\n",
      "----------------------------------------------------------------------------------------------------\n",
      "[2] [RRF] Q: 디지털 트랜스포메이션이란 무엇인가요?\n",
      "\n",
      "Ⅰ. 개 요\n",
      "□ 추진 배경\n",
      "○ 우리나라는 국가적 초고속 정보통신망 투자와 적극적인 공공정보화\n",
      "사업 추진에 힘입어 세계 최고수준의 전자정부를 구축‧운영\n",
      "----------------------------------------------------------------------------------------------------\n",
      "[2] [CC] Q: 디지털 트랜스포메이션이란 무엇인가요?\n",
      "\n",
      "참고 1 디지털 정부혁신 추진전략\n",
      "디지털로 여는 좋은 세상\n",
      "□ 비전\n",
      "※ 부제 : 대한민국이 먼저 갑니다.\n",
      "□ 추진원칙 △ 최종 이용자의 관점에서\n",
      "△ 공공서비스 수준 향상을 목표로\n",
      "====================================================================================================\n",
      "\n",
      "[3] [Original] Q: 디지털 트랜스포메이션이란 무엇인가요?\n",
      "\n",
      "참고 1 디지털 정부혁신 추진전략\n",
      "디지털로 여는 좋은 세상\n",
      "□ 비전\n",
      "※ 부제 : 대한민국이 먼저 갑니다.\n",
      "□ 추진원칙 △ 최종 이용자의 관점에서\n",
      "△ 공공서비스 수준 향상을 목표로\n",
      "----------------------------------------------------------------------------------------------------\n",
      "[3] [RRF] Q: 디지털 트랜스포메이션이란 무엇인가요?\n",
      "\n",
      "참고 1 디지털 정부혁신 추진전략\n",
      "디지털로 여는 좋은 세상\n",
      "□ 비전\n",
      "※ 부제 : 대한민국이 먼저 갑니다.\n",
      "□ 추진원칙 △ 최종 이용자의 관점에서\n",
      "△ 공공서비스 수준 향상을 목표로\n",
      "----------------------------------------------------------------------------------------------------\n",
      "[3] [CC] Q: 디지털 트랜스포메이션이란 무엇인가요?\n",
      "\n",
      "○ 오픈소스 중심의 디지털정부 생태계와 공공시장 수요를 바탕으로\n",
      "첨단 디지털 산업의 혁신 가속화와 글로벌 도약을 위한 전기 마련\n",
      "====================================================================================================\n",
      "\n",
      "[4] [Original] Q: 디지털 트랜스포메이션이란 무엇인가요?\n",
      "\n",
      "Ⅱ. 디지털 정부혁신 추진계획\n",
      "‣ (비 전) 디지털로 여는 좋은 세상 ※ 부제 : 대한민국이 먼저 갑니다.\n",
      "----------------------------------------------------------------------------------------------------\n",
      "[4] [RRF] Q: 디지털 트랜스포메이션이란 무엇인가요?\n",
      "\n",
      "Ⅱ. 디지털 정부혁신 추진계획\n",
      "‣ (비 전) 디지털로 여는 좋은 세상 ※ 부제 : 대한민국이 먼저 갑니다.\n",
      "----------------------------------------------------------------------------------------------------\n",
      "[4] [CC] Q: 디지털 트랜스포메이션이란 무엇인가요?\n",
      "\n",
      "디지털 정부혁신 추진계획\n",
      "2019. 10. 29.\n",
      "관계부처 합동\n",
      "====================================================================================================\n",
      "\n",
      "[5] [Original] Q: 디지털 트랜스포메이션이란 무엇인가요?\n",
      "\n",
      "○ 오픈소스 중심의 디지털정부 생태계와 공공시장 수요를 바탕으로\n",
      "첨단 디지털 산업의 혁신 가속화와 글로벌 도약을 위한 전기 마련\n",
      "----------------------------------------------------------------------------------------------------\n",
      "[5] [RRF] Q: 디지털 트랜스포메이션이란 무엇인가요?\n",
      "\n",
      "○ 오픈소스 중심의 디지털정부 생태계와 공공시장 수요를 바탕으로\n",
      "첨단 디지털 산업의 혁신 가속화와 글로벌 도약을 위한 전기 마련\n",
      "----------------------------------------------------------------------------------------------------\n",
      "[5] [CC] Q: 디지털 트랜스포메이션이란 무엇인가요?\n",
      "\n",
      "Ⅰ. 개 요\n",
      "□ 추진 배경\n",
      "○ 우리나라는 국가적 초고속 정보통신망 투자와 적극적인 공공정보화\n",
      "사업 추진에 힘입어 세계 최고수준의 전자정부를 구축‧운영\n",
      "====================================================================================================\n",
      "\n",
      "[6] [Original] Q: 디지털 트랜스포메이션이란 무엇인가요?\n",
      "\n",
      ":시행중인 서비스, : 시행 준비 중인 서비스\n",
      "복지부,\n",
      "□3 사각지대 예방을 위한 선제적 서비스 제공(21년말 시행)\n",
      "각부처·지자체\n",
      "----------------------------------------------------------------------------------------------------\n",
      "[6] [RRF] Q: 디지털 트랜스포메이션이란 무엇인가요?\n",
      "\n",
      ":시행중인 서비스, : 시행 준비 중인 서비스\n",
      "복지부,\n",
      "□3 사각지대 예방을 위한 선제적 서비스 제공(21년말 시행)\n",
      "각부처·지자체\n",
      "----------------------------------------------------------------------------------------------------\n",
      "[6] [CC] Q: 디지털 트랜스포메이션이란 무엇인가요?\n",
      "\n",
      "Ⅱ. 디지털 정부혁신 추진계획\n",
      "‣ (비 전) 디지털로 여는 좋은 세상 ※ 부제 : 대한민국이 먼저 갑니다.\n",
      "====================================================================================================\n",
      "\n",
      "[7] [Original] Q: 디지털 트랜스포메이션이란 무엇인가요?\n",
      "\n",
      "디지털 정부혁신 추진계획\n",
      "2019. 10. 29.\n",
      "관계부처 합동\n",
      "----------------------------------------------------------------------------------------------------\n",
      "[7] [RRF] Q: 디지털 트랜스포메이션이란 무엇인가요?\n",
      "\n",
      "디지털 정부혁신 추진계획\n",
      "2019. 10. 29.\n",
      "관계부처 합동\n",
      "----------------------------------------------------------------------------------------------------\n",
      "[7] [CC] Q: 디지털 트랜스포메이션이란 무엇인가요?\n",
      "\n",
      ":시행중인 서비스, : 시행 준비 중인 서비스\n",
      "복지부,\n",
      "□3 사각지대 예방을 위한 선제적 서비스 제공(21년말 시행)\n",
      "각부처·지자체\n",
      "====================================================================================================\n",
      "\n",
      "[8] [Original] Q: 디지털 트랜스포메이션이란 무엇인가요?\n",
      "\n",
      "□ 문제점 진단 및 평가\n",
      "○ (서비스) 국민과 최종 이용자 관점에서 서비스 혁신 미흡\n",
      "- 자격이 있어도 자신이 받을 수 있는 공공서비스를 파악하기 어려워\n",
      "----------------------------------------------------------------------------------------------------\n",
      "[8] [RRF] Q: 디지털 트랜스포메이션이란 무엇인가요?\n",
      "\n",
      "□ 문제점 진단 및 평가\n",
      "○ (서비스) 국민과 최종 이용자 관점에서 서비스 혁신 미흡\n",
      "- 자격이 있어도 자신이 받을 수 있는 공공서비스를 파악하기 어려워\n",
      "----------------------------------------------------------------------------------------------------\n",
      "[8] [CC] Q: 디지털 트랜스포메이션이란 무엇인가요?\n",
      "\n",
      "□ 문제점 진단 및 평가\n",
      "○ (서비스) 국민과 최종 이용자 관점에서 서비스 혁신 미흡\n",
      "- 자격이 있어도 자신이 받을 수 있는 공공서비스를 파악하기 어려워\n",
      "====================================================================================================\n",
      "\n"
     ]
    }
   ],
   "source": [
    "# 검색 결과 비교\n",
    "pretty_print(\"디지털 트랜스포메이션이란 무엇인가요?\")"
   ]
  }
 ],
 "metadata": {
  "colab": {
   "provenance": []
  },
  "kernelspec": {
   "display_name": "py-test",
   "language": "python",
   "name": "python3"
  },
  "language_info": {
   "codemirror_mode": {
    "name": "ipython",
    "version": 3
   },
   "file_extension": ".py",
   "mimetype": "text/x-python",
   "name": "python",
   "nbconvert_exporter": "python",
   "pygments_lexer": "ipython3",
   "version": "3.11.9"
  }
 },
 "nbformat": 4,
 "nbformat_minor": 0
}
