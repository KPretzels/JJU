{
 "cells": [
  {
   "cell_type": "code",
   "execution_count": 1,
   "metadata": {},
   "outputs": [],
   "source": [
    "from dotenv import load_dotenv\n",
    "import os\n",
    "\n",
    "load_dotenv()\n",
    "\n",
    "OPENAI_API_KEY = os.getenv(\"OPENAI_API_KEY\")\n",
    "LANGCHAIN_API_KEY = os.getenv(\"LANGCHAIN_API_KEY\")\n",
    "LANGCHAIN_TRACING_V2 = os.getenv(\"LANGCHAIN_TRACING_V2\")\n",
    "LANGCHAIN_ENDPOINT = os.getenv(\"LANGCHAIN_ENDPOINT\")\n",
    "LANGCHAIN_PROJECT_ID = os.getenv(\"LANGCHAIN_PROJECT_ID\")"
   ]
  },
  {
   "cell_type": "code",
   "execution_count": 2,
   "metadata": {},
   "outputs": [
    {
     "name": "stdout",
     "output_type": "stream",
     "text": [
      "Requirement already satisfied: langchain-teddynote in c:\\users\\eys63\\anaconda3\\lib\\site-packages (0.3.41)\n",
      "Requirement already satisfied: langchain in c:\\users\\eys63\\anaconda3\\lib\\site-packages (from langchain-teddynote) (0.3.15)\n",
      "Requirement already satisfied: langgraph in c:\\users\\eys63\\anaconda3\\lib\\site-packages (from langchain-teddynote) (0.2.65)\n",
      "Requirement already satisfied: kiwipiepy in c:\\users\\eys63\\anaconda3\\lib\\site-packages (from langchain-teddynote) (0.20.3)\n",
      "Requirement already satisfied: rank_bm25 in c:\\users\\eys63\\anaconda3\\lib\\site-packages (from langchain-teddynote) (0.2.2)\n",
      "Requirement already satisfied: pinecone-client[grpc] in c:\\users\\eys63\\anaconda3\\lib\\site-packages (from langchain-teddynote) (5.0.1)\n",
      "Requirement already satisfied: pinecone-text in c:\\users\\eys63\\anaconda3\\lib\\site-packages (from langchain-teddynote) (0.9.0)\n",
      "Requirement already satisfied: olefile in c:\\users\\eys63\\anaconda3\\lib\\site-packages (from langchain-teddynote) (0.47)\n",
      "Requirement already satisfied: pdf2image in c:\\users\\eys63\\anaconda3\\lib\\site-packages (from langchain-teddynote) (1.17.0)\n",
      "Requirement already satisfied: openai in c:\\users\\eys63\\anaconda3\\lib\\site-packages (from langchain-teddynote) (1.59.9)\n",
      "Requirement already satisfied: anthropic in c:\\users\\eys63\\anaconda3\\lib\\site-packages (from langchain-teddynote) (0.43.1)\n",
      "Requirement already satisfied: deepl in c:\\users\\eys63\\anaconda3\\lib\\site-packages (from langchain-teddynote) (1.21.0)\n",
      "Requirement already satisfied: feedparser in c:\\users\\eys63\\anaconda3\\lib\\site-packages (from langchain-teddynote) (6.0.11)\n",
      "Requirement already satisfied: tavily-python in c:\\users\\eys63\\anaconda3\\lib\\site-packages (from langchain-teddynote) (0.5.0)\n",
      "Requirement already satisfied: pandas in c:\\users\\eys63\\anaconda3\\lib\\site-packages (from langchain-teddynote) (2.2.2)\n",
      "Requirement already satisfied: anyio<5,>=3.5.0 in c:\\users\\eys63\\anaconda3\\lib\\site-packages (from anthropic->langchain-teddynote) (4.2.0)\n",
      "Requirement already satisfied: distro<2,>=1.7.0 in c:\\users\\eys63\\anaconda3\\lib\\site-packages (from anthropic->langchain-teddynote) (1.9.0)\n",
      "Requirement already satisfied: httpx<1,>=0.23.0 in c:\\users\\eys63\\anaconda3\\lib\\site-packages (from anthropic->langchain-teddynote) (0.27.0)\n",
      "Requirement already satisfied: jiter<1,>=0.4.0 in c:\\users\\eys63\\anaconda3\\lib\\site-packages (from anthropic->langchain-teddynote) (0.8.2)\n",
      "Requirement already satisfied: pydantic<3,>=1.9.0 in c:\\users\\eys63\\anaconda3\\lib\\site-packages (from anthropic->langchain-teddynote) (2.8.2)\n",
      "Requirement already satisfied: sniffio in c:\\users\\eys63\\anaconda3\\lib\\site-packages (from anthropic->langchain-teddynote) (1.3.0)\n",
      "Requirement already satisfied: typing-extensions<5,>=4.10 in c:\\users\\eys63\\anaconda3\\lib\\site-packages (from anthropic->langchain-teddynote) (4.11.0)\n",
      "Requirement already satisfied: requests<3,>=2 in c:\\users\\eys63\\anaconda3\\lib\\site-packages (from deepl->langchain-teddynote) (2.32.3)\n",
      "Requirement already satisfied: sgmllib3k in c:\\users\\eys63\\anaconda3\\lib\\site-packages (from feedparser->langchain-teddynote) (1.0.0)\n",
      "Requirement already satisfied: kiwipiepy_model<0.21,>=0.20 in c:\\users\\eys63\\anaconda3\\lib\\site-packages (from kiwipiepy->langchain-teddynote) (0.20.0)\n",
      "Requirement already satisfied: numpy in c:\\users\\eys63\\anaconda3\\lib\\site-packages (from kiwipiepy->langchain-teddynote) (1.26.4)\n",
      "Requirement already satisfied: tqdm in c:\\users\\eys63\\anaconda3\\lib\\site-packages (from kiwipiepy->langchain-teddynote) (4.66.5)\n",
      "Requirement already satisfied: PyYAML>=5.3 in c:\\users\\eys63\\anaconda3\\lib\\site-packages (from langchain->langchain-teddynote) (6.0.1)\n",
      "Requirement already satisfied: SQLAlchemy<3,>=1.4 in c:\\users\\eys63\\anaconda3\\lib\\site-packages (from langchain->langchain-teddynote) (2.0.34)\n",
      "Requirement already satisfied: aiohttp<4.0.0,>=3.8.3 in c:\\users\\eys63\\anaconda3\\lib\\site-packages (from langchain->langchain-teddynote) (3.10.5)\n",
      "Requirement already satisfied: langchain-core<0.4.0,>=0.3.31 in c:\\users\\eys63\\anaconda3\\lib\\site-packages (from langchain->langchain-teddynote) (0.3.31)\n",
      "Requirement already satisfied: langchain-text-splitters<0.4.0,>=0.3.3 in c:\\users\\eys63\\anaconda3\\lib\\site-packages (from langchain->langchain-teddynote) (0.3.5)\n",
      "Requirement already satisfied: langsmith<0.4,>=0.1.17 in c:\\users\\eys63\\anaconda3\\lib\\site-packages (from langchain->langchain-teddynote) (0.2.11)\n",
      "Requirement already satisfied: tenacity!=8.4.0,<10,>=8.1.0 in c:\\users\\eys63\\anaconda3\\lib\\site-packages (from langchain->langchain-teddynote) (8.2.3)\n",
      "Requirement already satisfied: langgraph-checkpoint<3.0.0,>=2.0.10 in c:\\users\\eys63\\anaconda3\\lib\\site-packages (from langgraph->langchain-teddynote) (2.0.10)\n",
      "Requirement already satisfied: langgraph-sdk<0.2.0,>=0.1.42 in c:\\users\\eys63\\anaconda3\\lib\\site-packages (from langgraph->langchain-teddynote) (0.1.51)\n",
      "Requirement already satisfied: python-dateutil>=2.8.2 in c:\\users\\eys63\\anaconda3\\lib\\site-packages (from pandas->langchain-teddynote) (2.9.0.post0)\n",
      "Requirement already satisfied: pytz>=2020.1 in c:\\users\\eys63\\anaconda3\\lib\\site-packages (from pandas->langchain-teddynote) (2024.1)\n",
      "Requirement already satisfied: tzdata>=2022.7 in c:\\users\\eys63\\anaconda3\\lib\\site-packages (from pandas->langchain-teddynote) (2023.3)\n",
      "Requirement already satisfied: pillow in c:\\users\\eys63\\anaconda3\\lib\\site-packages (from pdf2image->langchain-teddynote) (10.4.0)\n",
      "Requirement already satisfied: certifi>=2019.11.17 in c:\\users\\eys63\\anaconda3\\lib\\site-packages (from pinecone-client[grpc]->langchain-teddynote) (2024.8.30)\n",
      "Requirement already satisfied: googleapis-common-protos>=1.53.0 in c:\\users\\eys63\\anaconda3\\lib\\site-packages (from pinecone-client[grpc]->langchain-teddynote) (1.66.0)\n",
      "Requirement already satisfied: grpcio>=1.59.0 in c:\\users\\eys63\\anaconda3\\lib\\site-packages (from pinecone-client[grpc]->langchain-teddynote) (1.69.0)\n",
      "Requirement already satisfied: lz4>=3.1.3 in c:\\users\\eys63\\anaconda3\\lib\\site-packages (from pinecone-client[grpc]->langchain-teddynote) (4.3.2)\n",
      "Requirement already satisfied: pinecone-plugin-inference<2.0.0,>=1.0.3 in c:\\users\\eys63\\anaconda3\\lib\\site-packages (from pinecone-client[grpc]->langchain-teddynote) (1.1.0)\n",
      "Requirement already satisfied: pinecone-plugin-interface<0.0.8,>=0.0.7 in c:\\users\\eys63\\anaconda3\\lib\\site-packages (from pinecone-client[grpc]->langchain-teddynote) (0.0.7)\n",
      "Requirement already satisfied: protobuf<5.0,>=4.25 in c:\\users\\eys63\\anaconda3\\lib\\site-packages (from pinecone-client[grpc]->langchain-teddynote) (4.25.5)\n",
      "Requirement already satisfied: protoc-gen-openapiv2<0.0.2,>=0.0.1 in c:\\users\\eys63\\anaconda3\\lib\\site-packages (from pinecone-client[grpc]->langchain-teddynote) (0.0.1)\n",
      "Requirement already satisfied: urllib3>=1.26.5 in c:\\users\\eys63\\anaconda3\\lib\\site-packages (from pinecone-client[grpc]->langchain-teddynote) (2.2.3)\n",
      "Requirement already satisfied: mmh3<5.0.0,>=4.1.0 in c:\\users\\eys63\\anaconda3\\lib\\site-packages (from pinecone-text->langchain-teddynote) (4.1.0)\n",
      "Requirement already satisfied: nltk<4.0.0,>=3.6.5 in c:\\users\\eys63\\anaconda3\\lib\\site-packages (from pinecone-text->langchain-teddynote) (3.9.1)\n",
      "Requirement already satisfied: python-dotenv<2.0.0,>=1.0.1 in c:\\users\\eys63\\anaconda3\\lib\\site-packages (from pinecone-text->langchain-teddynote) (1.0.1)\n",
      "Requirement already satisfied: types-requests<3.0.0,>=2.25.0 in c:\\users\\eys63\\anaconda3\\lib\\site-packages (from pinecone-text->langchain-teddynote) (2.32.0.20241016)\n",
      "Requirement already satisfied: wget<4.0,>=3.2 in c:\\users\\eys63\\anaconda3\\lib\\site-packages (from pinecone-text->langchain-teddynote) (3.2)\n",
      "Requirement already satisfied: tiktoken>=0.5.1 in c:\\users\\eys63\\anaconda3\\lib\\site-packages (from tavily-python->langchain-teddynote) (0.8.0)\n",
      "Requirement already satisfied: aiohappyeyeballs>=2.3.0 in c:\\users\\eys63\\anaconda3\\lib\\site-packages (from aiohttp<4.0.0,>=3.8.3->langchain->langchain-teddynote) (2.4.0)\n",
      "Requirement already satisfied: aiosignal>=1.1.2 in c:\\users\\eys63\\anaconda3\\lib\\site-packages (from aiohttp<4.0.0,>=3.8.3->langchain->langchain-teddynote) (1.2.0)\n",
      "Requirement already satisfied: attrs>=17.3.0 in c:\\users\\eys63\\anaconda3\\lib\\site-packages (from aiohttp<4.0.0,>=3.8.3->langchain->langchain-teddynote) (23.1.0)\n",
      "Requirement already satisfied: frozenlist>=1.1.1 in c:\\users\\eys63\\anaconda3\\lib\\site-packages (from aiohttp<4.0.0,>=3.8.3->langchain->langchain-teddynote) (1.4.0)\n",
      "Requirement already satisfied: multidict<7.0,>=4.5 in c:\\users\\eys63\\anaconda3\\lib\\site-packages (from aiohttp<4.0.0,>=3.8.3->langchain->langchain-teddynote) (6.0.4)\n",
      "Requirement already satisfied: yarl<2.0,>=1.0 in c:\\users\\eys63\\anaconda3\\lib\\site-packages (from aiohttp<4.0.0,>=3.8.3->langchain->langchain-teddynote) (1.11.0)\n",
      "Requirement already satisfied: idna>=2.8 in c:\\users\\eys63\\anaconda3\\lib\\site-packages (from anyio<5,>=3.5.0->anthropic->langchain-teddynote) (3.7)\n",
      "Requirement already satisfied: httpcore==1.* in c:\\users\\eys63\\anaconda3\\lib\\site-packages (from httpx<1,>=0.23.0->anthropic->langchain-teddynote) (1.0.2)\n",
      "Requirement already satisfied: h11<0.15,>=0.13 in c:\\users\\eys63\\anaconda3\\lib\\site-packages (from httpcore==1.*->httpx<1,>=0.23.0->anthropic->langchain-teddynote) (0.14.0)\n",
      "Requirement already satisfied: jsonpatch<2.0,>=1.33 in c:\\users\\eys63\\anaconda3\\lib\\site-packages (from langchain-core<0.4.0,>=0.3.31->langchain->langchain-teddynote) (1.33)\n",
      "Requirement already satisfied: packaging<25,>=23.2 in c:\\users\\eys63\\anaconda3\\lib\\site-packages (from langchain-core<0.4.0,>=0.3.31->langchain->langchain-teddynote) (24.1)\n",
      "Requirement already satisfied: msgpack<2.0.0,>=1.1.0 in c:\\users\\eys63\\anaconda3\\lib\\site-packages (from langgraph-checkpoint<3.0.0,>=2.0.10->langgraph->langchain-teddynote) (1.1.0)\n",
      "Requirement already satisfied: orjson>=3.10.1 in c:\\users\\eys63\\anaconda3\\lib\\site-packages (from langgraph-sdk<0.2.0,>=0.1.42->langgraph->langchain-teddynote) (3.10.15)\n",
      "Requirement already satisfied: requests-toolbelt<2.0.0,>=1.0.0 in c:\\users\\eys63\\anaconda3\\lib\\site-packages (from langsmith<0.4,>=0.1.17->langchain->langchain-teddynote) (1.0.0)\n",
      "Requirement already satisfied: click in c:\\users\\eys63\\anaconda3\\lib\\site-packages (from nltk<4.0.0,>=3.6.5->pinecone-text->langchain-teddynote) (8.1.7)\n",
      "Requirement already satisfied: joblib in c:\\users\\eys63\\anaconda3\\lib\\site-packages (from nltk<4.0.0,>=3.6.5->pinecone-text->langchain-teddynote) (1.4.2)\n",
      "Requirement already satisfied: regex>=2021.8.3 in c:\\users\\eys63\\anaconda3\\lib\\site-packages (from nltk<4.0.0,>=3.6.5->pinecone-text->langchain-teddynote) (2024.9.11)\n",
      "Requirement already satisfied: annotated-types>=0.4.0 in c:\\users\\eys63\\anaconda3\\lib\\site-packages (from pydantic<3,>=1.9.0->anthropic->langchain-teddynote) (0.6.0)\n",
      "Requirement already satisfied: pydantic-core==2.20.1 in c:\\users\\eys63\\anaconda3\\lib\\site-packages (from pydantic<3,>=1.9.0->anthropic->langchain-teddynote) (2.20.1)\n",
      "Requirement already satisfied: six>=1.5 in c:\\users\\eys63\\anaconda3\\lib\\site-packages (from python-dateutil>=2.8.2->pandas->langchain-teddynote) (1.16.0)\n",
      "Requirement already satisfied: charset-normalizer<4,>=2 in c:\\users\\eys63\\anaconda3\\lib\\site-packages (from requests<3,>=2->deepl->langchain-teddynote) (3.3.2)\n",
      "Requirement already satisfied: greenlet!=0.4.17 in c:\\users\\eys63\\anaconda3\\lib\\site-packages (from SQLAlchemy<3,>=1.4->langchain->langchain-teddynote) (3.0.1)\n",
      "Requirement already satisfied: colorama in c:\\users\\eys63\\anaconda3\\lib\\site-packages (from tqdm->kiwipiepy->langchain-teddynote) (0.4.6)\n",
      "Requirement already satisfied: jsonpointer>=1.9 in c:\\users\\eys63\\anaconda3\\lib\\site-packages (from jsonpatch<2.0,>=1.33->langchain-core<0.4.0,>=0.3.31->langchain->langchain-teddynote) (2.1)\n"
     ]
    }
   ],
   "source": [
    "!pip install langchain-teddynote"
   ]
  },
  {
   "cell_type": "code",
   "execution_count": 3,
   "metadata": {},
   "outputs": [],
   "source": [
    "!pip install -qU langchain_community openai langchain_openai langchain_text_splitters"
   ]
  },
  {
   "cell_type": "code",
   "execution_count": 4,
   "metadata": {},
   "outputs": [],
   "source": [
    "!pip install -qU faiss-cpu"
   ]
  },
  {
   "cell_type": "code",
   "execution_count": 5,
   "metadata": {},
   "outputs": [],
   "source": [
    "from langchain_community.vectorstores import FAISS\n",
    "from langchain_openai import OpenAIEmbeddings\n",
    "from langchain_text_splitters import CharacterTextSplitter\n",
    "from langchain_community.document_loaders import TextLoader\n",
    "\n",
    "# TextLoader를 사용하여 파일을 로드합니다.\n",
    "loader = TextLoader('241227_appendix-keywords.txt')\n",
    "\n",
    "# 문서를 로드합니다.\n",
    "documents = loader.load()\n",
    "\n",
    "# 문자 기반으로 텍스트를 분할하는 CharacterTextSplitter를 생성합니다. 청크 크기는 300이고 청크 간 중복은 없습니다.\n",
    "text_splitter = CharacterTextSplitter(chunk_size=300, chunk_overlap=0)\n",
    "\n",
    "# 로드된 문서를 분할합니다.\n",
    "split_docs = text_splitter.split_documents(documents)\n",
    "\n",
    "# OpenAI 임베딩을 생성합니다.\n",
    "embeddings = OpenAIEmbeddings()\n",
    "\n",
    "# 분할된 텍스트와 임베딩을 사용하여 FAISS 벡터 데이터베이스를 생성합니다.\n",
    "db = FAISS.from_documents(split_docs, embeddings)"
   ]
  }
 ],
 "metadata": {
  "kernelspec": {
   "display_name": "base",
   "language": "python",
   "name": "python3"
  },
  "language_info": {
   "codemirror_mode": {
    "name": "ipython",
    "version": 3
   },
   "file_extension": ".py",
   "mimetype": "text/x-python",
   "name": "python",
   "nbconvert_exporter": "python",
   "pygments_lexer": "ipython3",
   "version": "3.12.7"
  }
 },
 "nbformat": 4,
 "nbformat_minor": 2
}
