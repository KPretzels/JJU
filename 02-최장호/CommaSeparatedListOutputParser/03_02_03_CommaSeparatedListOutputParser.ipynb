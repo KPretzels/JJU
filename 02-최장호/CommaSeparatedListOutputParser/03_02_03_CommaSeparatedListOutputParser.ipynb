{
  "nbformat": 4,
  "nbformat_minor": 0,
  "metadata": {
    "colab": {
      "provenance": []
    },
    "kernelspec": {
      "name": "python3",
      "display_name": "Python 3"
    },
    "language_info": {
      "name": "python"
    }
  },
  "cells": [
    {
      "cell_type": "code",
      "execution_count": 1,
      "metadata": {
        "id": "orr8eZHrevqr"
      },
      "outputs": [],
      "source": [
        "#환경 설정\n",
        "import os\n",
        "\n",
        "os.environ['OPENAI_API_KEY'] = '****'\n",
        "os.environ['LANGCHAIN_API_KEY'] = ''****'' # 본인 api\n",
        "os.environ['LANGCHAIN_TRACING_V2'] = 'true'\n",
        "os.environ['LANGCHAIN_ENDPOINT'] = 'https://api.smith.langchain.com'\n",
        "os.environ['LANGCHAIN_PROJECT'] = '03-02-03'"
      ]
    },
    {
      "cell_type": "markdown",
      "source": [
        "## CommaSeparatedListOutputParser\n",
        "- 쉼표로 구분된 항목 목록을 반환할 때 유용\n",
        "- 사용자가 입력한 데이터나 요청한 정보를 쉼표로 구분하여 명확하고 간결한 목록 형태로 제공받음"
      ],
      "metadata": {
        "id": "HfCJnSpQgprt"
      }
    },
    {
      "cell_type": "code",
      "source": [],
      "metadata": {
        "id": "ZFy5TSgKq5uY"
      },
      "execution_count": null,
      "outputs": []
    },
    {
      "cell_type": "code",
      "source": [
        "!pip install -qU langchain_openai"
      ],
      "metadata": {
        "colab": {
          "base_uri": "https://localhost:8080/"
        },
        "id": "pQoLTzeAhu3j",
        "outputId": "24db821f-4384-4ef1-b4a5-d0f355adc02b"
      },
      "execution_count": 3,
      "outputs": [
        {
          "output_type": "stream",
          "name": "stdout",
          "text": [
            "\u001b[?25l   \u001b[90m━━━━━━━━━━━━━━━━━━━━━━━━━━━━━━━━━━━━━━━━\u001b[0m \u001b[32m0.0/54.2 kB\u001b[0m \u001b[31m?\u001b[0m eta \u001b[36m-:--:--\u001b[0m\r\u001b[2K   \u001b[90m━━━━━━━━━━━━━━━━━━━━━━━━━━━━━━━━━━━━━━━━\u001b[0m \u001b[32m54.2/54.2 kB\u001b[0m \u001b[31m2.0 MB/s\u001b[0m eta \u001b[36m0:00:00\u001b[0m\n",
            "\u001b[?25h\u001b[?25l   \u001b[90m━━━━━━━━━━━━━━━━━━━━━━━━━━━━━━━━━━━━━━━━\u001b[0m \u001b[32m0.0/1.2 MB\u001b[0m \u001b[31m?\u001b[0m eta \u001b[36m-:--:--\u001b[0m\r\u001b[2K   \u001b[91m━━━━━━━\u001b[0m\u001b[91m╸\u001b[0m\u001b[90m━━━━━━━━━━━━━━━━━━━━━━━━━━━━━━━━\u001b[0m \u001b[32m0.2/1.2 MB\u001b[0m \u001b[31m6.5 MB/s\u001b[0m eta \u001b[36m0:00:01\u001b[0m\r\u001b[2K   \u001b[91m━━━━━━━━━━━━━━━━━━━━━━━━━━━━━━━━━━━━━━━\u001b[0m\u001b[91m╸\u001b[0m \u001b[32m1.2/1.2 MB\u001b[0m \u001b[31m18.1 MB/s\u001b[0m eta \u001b[36m0:00:01\u001b[0m\r\u001b[2K   \u001b[90m━━━━━━━━━━━━━━━━━━━━━━━━━━━━━━━━━━━━━━━━\u001b[0m \u001b[32m1.2/1.2 MB\u001b[0m \u001b[31m14.5 MB/s\u001b[0m eta \u001b[36m0:00:00\u001b[0m\n",
            "\u001b[?25h"
          ]
        }
      ]
    },
    {
      "cell_type": "code",
      "source": [
        "from langchain.output_parsers import CommaSeparatedListOutputParser\n",
        "from langchain_core.prompts import PromptTemplate\n",
        "from langchain_openai import ChatOpenAI\n",
        "\n",
        "\n",
        "# 콤마로 구분된 리스트 출력 파서 초기화\n",
        "output_parser = CommaSeparatedListOutputParser()\n",
        "\n",
        "#출력 형식 지침 가져오기\n",
        "format_instructions = output_parser.get_format_instructions()\n",
        "\n",
        "#프롬프트 템플릿 설정\n",
        "prompt = PromptTemplate(\n",
        "    # 주제에 대한 다섯 가지를 나열하라는 템플릿\n",
        "    template=\"List five {subject}.\\n{format_instructions}\",\n",
        "\n",
        "    #입력 변수로 'subject' 사용\n",
        "    input_variables=['subject'],\n",
        "\n",
        "    #부분 변수로 형식 지침 사용\n",
        "    partial_variables={\"format_instructions\" : format_instructions},\n",
        ")\n",
        "\n",
        "model = ChatOpenAI(\n",
        "    temperature=0,\n",
        "    model='gpt-4o'\n",
        ")\n",
        "\n",
        "chain = prompt | model | output_parser\n"
      ],
      "metadata": {
        "id": "I6c7exqkfkO5"
      },
      "execution_count": 18,
      "outputs": []
    },
    {
      "cell_type": "code",
      "source": [
        "chain.invoke({\"subject\":\"유명 EPL 선수 한글로 말해\"})"
      ],
      "metadata": {
        "colab": {
          "base_uri": "https://localhost:8080/"
        },
        "id": "oVoutYNdiiik",
        "outputId": "52cd379e-2324-4652-b9cc-830487a55a2c"
      },
      "execution_count": 19,
      "outputs": [
        {
          "output_type": "execute_result",
          "data": {
            "text/plain": [
              "['해리 케인', '모하메드 살라', '케빈 더 브라위너', '손흥민', '마커스 래시포드']"
            ]
          },
          "metadata": {},
          "execution_count": 19
        }
      ]
    },
    {
      "cell_type": "markdown",
      "source": [
        "### chain.stream을 사용하여 반복 처리"
      ],
      "metadata": {
        "id": "KoHfLn5wjVIN"
      }
    },
    {
      "cell_type": "code",
      "source": [
        "for n in chain.stream({\"subject\":\"유명 EPL 선수 한글로 말해\"}):\n",
        "  print(n)"
      ],
      "metadata": {
        "colab": {
          "base_uri": "https://localhost:8080/"
        },
        "id": "67bBhfl1jMuJ",
        "outputId": "e032fda3-a5a8-46c8-9cbe-54b82270c3ea"
      },
      "execution_count": 17,
      "outputs": [
        {
          "output_type": "stream",
          "name": "stdout",
          "text": [
            "['해리 케인']\n",
            "['모하메드 살라']\n",
            "['케빈 더 브라위너']\n",
            "['손흥민']\n",
            "['브루노 페르난데스']\n"
          ]
        }
      ]
    }
  ]
}