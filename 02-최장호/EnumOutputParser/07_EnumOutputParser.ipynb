{
  "nbformat": 4,
  "nbformat_minor": 0,
  "metadata": {
    "colab": {
      "provenance": []
    },
    "kernelspec": {
      "name": "python3",
      "display_name": "Python 3"
    },
    "language_info": {
      "name": "python"
    }
  },
  "cells": [
    {
      "cell_type": "code",
      "execution_count": 1,
      "metadata": {
        "id": "EY2BIPz61Anj"
      },
      "outputs": [],
      "source": [
        "import os\n",
        "\n",
        "os.environ['OPENAI_API_KEY'] = '****'\n",
        "os.environ['LANGCHAIN_API_KEY'] = '****'\n",
        "os.environ['LANGCHAIN_TRACING_V2'] = 'true'\n",
        "os.environ['LANGCHAIN_ENDPOINT'] = 'https://api.smith.langchain.com'\n",
        "os.environ['LANGCHAIN_PROJECT'] = '03-07'"
      ]
    },
    {
      "cell_type": "code",
      "source": [
        "!pip install -qU langchain_openai"
      ],
      "metadata": {
        "colab": {
          "base_uri": "https://localhost:8080/"
        },
        "id": "Bkfgkg8K1FRA",
        "outputId": "39fb6f65-a3cb-4ae9-b26e-09ed496733c9"
      },
      "execution_count": 2,
      "outputs": [
        {
          "output_type": "stream",
          "name": "stdout",
          "text": [
            "\u001b[2K   \u001b[90m━━━━━━━━━━━━━━━━━━━━━━━━━━━━━━━━━━━━━━━━\u001b[0m \u001b[32m54.2/54.2 kB\u001b[0m \u001b[31m719.9 kB/s\u001b[0m eta \u001b[36m0:00:00\u001b[0m\n",
            "\u001b[2K   \u001b[90m━━━━━━━━━━━━━━━━━━━━━━━━━━━━━━━━━━━━━━━━\u001b[0m \u001b[32m1.2/1.2 MB\u001b[0m \u001b[31m9.6 MB/s\u001b[0m eta \u001b[36m0:00:00\u001b[0m\n",
            "\u001b[?25h"
          ]
        }
      ]
    },
    {
      "cell_type": "code",
      "source": [
        "from langchain.output_parsers.enum import EnumOutputParser\n",
        "from enum import Enum\n",
        "\n",
        "from enum import Enum\n",
        "\n",
        "class Colors(Enum):\n",
        "    RED = \"빨간색\"\n",
        "    GREEN = \"초록색\"\n",
        "    BLUE = \"파란색\"\n",
        "    YELLOW = \"노란색\"\n",
        "    ORANGE = \"주황색\"\n",
        "    PURPLE = \"보라색\"\n",
        "    PINK = \"분홍색\"\n",
        "    BROWN = \"갈색\"\n",
        "    BLACK = \"검정색\"\n",
        "    WHITE = \"흰색\"\n",
        "    GRAY = \"회색\"\n",
        "    CYAN = \"청록색\"\n",
        "    MAGENTA = \"자홍색\"\n",
        "    LIGHT_BLUE = \"연파랑\"\n",
        "    LIGHT_GREEN = \"연초록\"\n",
        "    LIGHT_YELLOW = \"연노랑\"\n",
        "    LIGHT_GRAY = \"연회색\"\n",
        "    DARK_RED = \"짙은빨강\"\n",
        "    DARK_GREEN = \"짙은초록\"\n",
        "    DARK_BLUE = \"짙은파랑\"\n",
        "    DARK_YELLOW = \"짙은노랑\"\n",
        "    DARK_GRAY = \"짙은회색\"\n",
        "    SKY_BLUE = \"하늘색\"\n",
        "    NAVY_BLUE = \"네이비블루\"\n",
        "    TEAL = \"틸색\"\n",
        "    TURQUOISE = \"터키석색\"\n",
        "    BEIGE = \"베이지색\"\n",
        "    IVORY = \"아이보리색\"\n",
        "    CORAL = \"코랄색\"\n",
        "    SALMON = \"연어색\"\n",
        "    LIME = \"라임색\"\n",
        "    MINT = \"민트색\"\n",
        "    OLIVE = \"올리브색\"\n",
        "    PEACH = \"피치색\"\n",
        "    PLUM = \"플럼색\"\n",
        "    LAVENDER = \"라벤더색\"\n",
        "    MAROON = \"마룬색\"\n",
        "    AQUA = \"아쿠아색\"\n",
        "    CHARTREUSE = \"샤르트뢰즈색\"\n",
        "    GOLD = \"금색\"\n",
        "    SILVER = \"은색\"\n",
        "    BRONZE = \"청동색\"\n",
        "    COPPER = \"구리색\"\n",
        "    TAN = \"탄색\"\n",
        "    RUST = \"녹슨색\"\n",
        "    INDIGO = \"남색\"\n",
        "    VIOLET = \"제비꽃색\"\n",
        "    FUCHSIA = \"퓨시아색\"\n",
        "    AMBER = \"호박색\"\n",
        "    CHARCOAL = \"숯색\"\n",
        "    CREAM = \"크림색\"\n",
        "    WINE = \"와인색\"\n",
        "    KHAKI = \"카키색\"\n",
        "    MUSTARD = \"겨자색\"\n",
        "    BLUSH = \"연분홍색\"\n",
        "    PERIWINKLE = \"페리윙클색\"\n",
        "    MAUVE = \"모브색\"\n",
        "    SAPPHIRE = \"사파이어색\"\n",
        "    EMERALD = \"에메랄드색\"\n",
        "    RUBY = \"루비색\"\n",
        "    TOPAZ = \"토파즈색\"\n",
        "    JADE = \"비취색\"\n",
        "    CINNAMON = \"계피색\"\n",
        "    HONEY = \"꿀색\"\n",
        "    OCHRE = \"오커색\"\n",
        "    SEPIA = \"세피아색\"\n",
        "    SLATE = \"슬레이트색\"\n",
        "    PINE_GREEN = \"소나무초록색\"\n",
        "    FOREST_GREEN = \"숲초록색\"\n",
        "    SEA_GREEN = \"바다초록색\"\n",
        "    LEMON = \"레몬색\"\n",
        "    LILAC = \"라일락색\"\n",
        "    PASTEL_PINK = \"파스텔분홍색\"\n",
        "    PASTEL_BLUE = \"파스텔파랑색\"\n",
        "    PASTEL_GREEN = \"파스텔초록색\"\n",
        "    PASTEL_YELLOW = \"파스텔노랑색\"\n",
        "    PASTEL_PURPLE = \"파스텔보라색\"\n",
        "    HOT_PINK = \"핫핑크색\"\n",
        "    NEON_GREEN = \"네온초록색\"\n",
        "    NEON_BLUE = \"네온파랑색\"\n",
        "    NEON_YELLOW = \"네온노랑색\"\n",
        "\n"
      ],
      "metadata": {
        "id": "DOtOEi-71OU-"
      },
      "execution_count": 21,
      "outputs": []
    },
    {
      "cell_type": "code",
      "source": [
        "parser = EnumOutputParser(enum=Colors)"
      ],
      "metadata": {
        "id": "PFA22Ms12HY-"
      },
      "execution_count": 22,
      "outputs": []
    },
    {
      "cell_type": "code",
      "source": [
        "from langchain_core.prompts import PromptTemplate\n",
        "from langchain_openai import ChatOpenAI\n",
        "\n",
        "# 프롬프트 템플릿 생성\n",
        "prompt = PromptTemplate.from_template(\n",
        "    \"\"\"\n",
        "    다음의 물체는 어떤 색깔인가요?\n",
        "\n",
        "Object : {object}\n",
        "\n",
        "    Instructions: {instructions}\"\"\"\n",
        ").partial(instructions=parser.get_format_instructions())\n",
        "\n",
        "chain = prompt | ChatOpenAI() | parser"
      ],
      "metadata": {
        "id": "ECrsVqgb2ODO"
      },
      "execution_count": 23,
      "outputs": []
    },
    {
      "cell_type": "code",
      "source": [
        "response = chain.invoke({'object':'눈사람'})\n",
        "\n",
        "print(response)"
      ],
      "metadata": {
        "colab": {
          "base_uri": "https://localhost:8080/"
        },
        "id": "McuLsBVf24Q1",
        "outputId": "fcf05cec-71a4-4a55-d9c6-8c6f66c7e19c"
      },
      "execution_count": 25,
      "outputs": [
        {
          "output_type": "stream",
          "name": "stdout",
          "text": [
            "Colors.WHITE\n"
          ]
        }
      ]
    }
  ]
}