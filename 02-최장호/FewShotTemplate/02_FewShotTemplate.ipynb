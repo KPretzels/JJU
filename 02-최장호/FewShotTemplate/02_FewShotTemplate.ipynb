{
  "cells": [
    {
      "cell_type": "code",
      "execution_count": null,
      "metadata": {
        "id": "8x87-EXXXuRa"
      },
      "outputs": [],
      "source": [
        "#환경 설정\n",
        "import os\n",
        "\n",
        "os.environ['OPENAI_API_KEY'] = '****'\n",
        "os.environ['LANGCHAIN_API_KEY'] = '****' \n",
        "os.environ['LANGCHAIN_TRACING_V2'] = 'true'\n",
        "os.environ['LANGCHAIN_ENDPOINT'] = 'https://api.smith.langchain.com'\n",
        "os.environ['LANGCHAIN_PROJECT'] = '01-04'"
      ]
    },
    {
      "cell_type": "code",
      "execution_count": null,
      "metadata": {
        "colab": {
          "base_uri": "https://localhost:8080/"
        },
        "id": "CZyC7Nb-d05q",
        "outputId": "0c611283-8292-45ef-df89-9c9dd1a44cf9"
      },
      "outputs": [
        {
          "name": "stdout",
          "output_type": "stream",
          "text": [
            "\u001b[?25l   \u001b[90m━━━━━━━━━━━━━━━━━━━━━━━━━━━━━━━━━━━━━━━━\u001b[0m \u001b[32m0.0/54.2 kB\u001b[0m \u001b[31m?\u001b[0m eta \u001b[36m-:--:--\u001b[0m\r\u001b[2K   \u001b[90m━━━━━━━━━━━━━━━━━━━━━━━━━━━━━━━━━━━━━━━━\u001b[0m \u001b[32m54.2/54.2 kB\u001b[0m \u001b[31m1.9 MB/s\u001b[0m eta \u001b[36m0:00:00\u001b[0m\n",
            "\u001b[?25h\u001b[?25l   \u001b[90m━━━━━━━━━━━━━━━━━━━━━━━━━━━━━━━━━━━━━━━━\u001b[0m \u001b[32m0.0/1.2 MB\u001b[0m \u001b[31m?\u001b[0m eta \u001b[36m-:--:--\u001b[0m\r\u001b[2K   \u001b[91m━━━━━━━━━\u001b[0m\u001b[91m╸\u001b[0m\u001b[90m━━━━━━━━━━━━━━━━━━━━━━━━━━━━━━\u001b[0m \u001b[32m0.3/1.2 MB\u001b[0m \u001b[31m9.9 MB/s\u001b[0m eta \u001b[36m0:00:01\u001b[0m\r\u001b[2K   \u001b[91m━━━━━━━━━━━━━━━━━━━━━━━━━━━━━━━━━━━━━━━\u001b[0m\u001b[91m╸\u001b[0m \u001b[32m1.2/1.2 MB\u001b[0m \u001b[31m21.6 MB/s\u001b[0m eta \u001b[36m0:00:01\u001b[0m\r\u001b[2K   \u001b[90m━━━━━━━━━━━━━━━━━━━━━━━━━━━━━━━━━━━━━━━━\u001b[0m \u001b[32m1.2/1.2 MB\u001b[0m \u001b[31m16.1 MB/s\u001b[0m eta \u001b[36m0:00:00\u001b[0m\n",
            "\u001b[?25h"
          ]
        }
      ],
      "source": [
        "!pip install -qU langchain_openai"
      ]
    },
    {
      "cell_type": "code",
      "execution_count": null,
      "metadata": {
        "id": "OgIk1XJkdT-B"
      },
      "outputs": [],
      "source": [
        "# 라이브러리\n",
        "\n",
        "from langchain_core.prompts.few_shot import FewShotPromptTemplate\n",
        "from langchain_core.prompts import PromptTemplate\n",
        "from langchain_core.output_parsers import StrOutputParser"
      ]
    },
    {
      "cell_type": "code",
      "execution_count": null,
      "metadata": {
        "id": "W2IWy87-aIwk"
      },
      "outputs": [],
      "source": [
        "#질문 examples\n",
        "\n",
        "\n",
        "\n",
        "examples = [\n",
        "    {\n",
        "        \"question\":\"스티브 잡스와 아인슈타인 중 누가 더 오래 살았나요?\",\n",
        "        \"answer\" : \"\"\"이 질문에 추가 질문이 필요한가요 : 예.\n",
        "        추가 질문 : 스티브 잡스는 몇 살에 사망했나요?\n",
        "        중간 답변 : 스티브 잡스는 58세에 사망했습니다.\n",
        "        추가 질문 : 아인슈타인은 몇 살에 사망했나요?\n",
        "        중간 답변 : 아인슈타인은 76세에 사망했습니다.\n",
        "        최종 답변은 : 아인슈타인\n",
        "        \"\"\",\n",
        "    },\n",
        "    {\n",
        "        \"question\": \"네이버의 창립자는 언제 태어났나요?\",\n",
        "        \"answer\": \"\"\"이 질문에 추가 질문이 필요한가요: 예.\n",
        "추가 질문: 네이버의 창립자는 누구인가요?\n",
        "중간 답변: 네이버는 이해진에 의해 창립되었습니다.\n",
        "추가 질문: 이해진은 언제 태어났나요?\n",
        "중간 답변: 이해진은 1967년 6월 22일에 태어났습니다.\n",
        "최종 답변은: 1967년 6월 22일\n",
        "\"\"\",\n",
        "    },\n",
        "    {\n",
        "        \"question\": \"율곡 이이의 어머니가 태어난 해의 통치하던 왕은 누구인가요?\",\n",
        "        \"answer\": \"\"\"이 질문에 추가 질문이 필요한가요: 예.\n",
        "추가 질문: 율곡 이이의 어머니는 누구인가요?\n",
        "중간 답변: 율곡 이이의 어머니는 신사임당입니다.\n",
        "추가 질문: 신사임당은 언제 태어났나요?\n",
        "중간 답변: 신사임당은 1504년에 태어났습니다.\n",
        "추가 질문: 1504년에 조선을 통치한 왕은 누구인가요?\n",
        "중간 답변: 1504년에 조선을 통치한 왕은 연산군입니다.\n",
        "최종 답변은: 연산군\n",
        "\"\"\",\n",
        "    },\n",
        "    {\n",
        "        \"question\": \"올드보이와 기생충의 감독이 같은 나라 출신인가요?\",\n",
        "        \"answer\": \"\"\"이 질문에 추가 질문이 필요한가요: 예.\n",
        "추가 질문: 올드보이의 감독은 누구인가요?\n",
        "중간 답변: 올드보이의 감독은 박찬욱입니다.\n",
        "추가 질문: 박찬욱은 어느 나라 출신인가요?\n",
        "중간 답변: 박찬욱은 대한민국 출신입니다.\n",
        "추가 질문: 기생충의 감독은 누구인가요?\n",
        "중간 답변: 기생충의 감독은 봉준호입니다.\n",
        "추가 질문: 봉준호는 어느 나라 출신인가요?\n",
        "중간 답변: 봉준호는 대한민국 출신입니다.\n",
        "최종 답변은: 예\n",
        "\"\"\",\n",
        "    },\n",
        "]\n"
      ]
    },
    {
      "cell_type": "code",
      "execution_count": null,
      "metadata": {
        "id": "3DZFR8XJfbRG"
      },
      "outputs": [],
      "source": [
        "# 질문의 형태\n",
        "\n",
        "example_prompt = PromptTemplate.from_template(\n",
        "    \"Question:\\n{question}\\nAnswer:\\n{answer}\"\n",
        ")"
      ]
    },
    {
      "cell_type": "code",
      "execution_count": null,
      "metadata": {
        "colab": {
          "base_uri": "https://localhost:8080/"
        },
        "id": "ESdoSn9EgVgz",
        "outputId": "8decfed9-ebfa-469b-b480-fa5de6224228"
      },
      "outputs": [
        {
          "data": {
            "text/plain": [
              "PromptTemplate(input_variables=['answer', 'question'], input_types={}, partial_variables={}, template='Question:\\n{question}\\nAnswer:\\n{answer}')"
            ]
          },
          "execution_count": 29,
          "metadata": {},
          "output_type": "execute_result"
        }
      ],
      "source": [
        "example_prompt"
      ]
    },
    {
      "cell_type": "code",
      "execution_count": null,
      "metadata": {
        "id": "9y6M4rBqez09"
      },
      "outputs": [],
      "source": [
        "# fewshotprompttemplate\n",
        "\n",
        "prompt = FewShotPromptTemplate(\n",
        "    examples = examples,\n",
        "    example_prompt = example_prompt,\n",
        "    suffix = \"Question : \\n{question} \\nAnswer : \",\n",
        "    input_variables=[\"question\"],\n",
        ")"
      ]
    },
    {
      "cell_type": "code",
      "execution_count": null,
      "metadata": {
        "colab": {
          "base_uri": "https://localhost:8080/"
        },
        "id": "dbBvUoKxxHet",
        "outputId": "b3769344-8652-4611-b1b3-5d489f2520e0"
      },
      "outputs": [
        {
          "data": {
            "text/plain": [
              "FewShotPromptTemplate(input_variables=['question'], input_types={}, partial_variables={}, example_selector=SemanticSimilarityExampleSelector(vectorstore=<langchain_chroma.vectorstores.Chroma object at 0x7d2767a30730>, k=1, example_keys=None, input_keys=None, vectorstore_kwargs=None), example_prompt=PromptTemplate(input_variables=['answer', 'question'], input_types={}, partial_variables={}, template='Question:\\n{question}\\nAnswer:\\n{answer}'), suffix='Question : \\n{question} \\nAnswer : ')"
            ]
          },
          "execution_count": 75,
          "metadata": {},
          "output_type": "execute_result"
        }
      ],
      "source": [
        "prompt"
      ]
    },
    {
      "cell_type": "code",
      "execution_count": null,
      "metadata": {
        "id": "qxtBrIl4eo8x"
      },
      "outputs": [],
      "source": [
        "# prompt 생성\n",
        "\n",
        "question = \"Google이 창립된 연도에 Bill Gates의 나이는 몇 살인가요?\"\n",
        "\n",
        "final_prompt = prompt.format(question=question)"
      ]
    },
    {
      "cell_type": "code",
      "execution_count": null,
      "metadata": {
        "id": "ia3BHTefeAnI"
      },
      "outputs": [],
      "source": [
        "# llm 생성\n",
        "\n",
        "from langchain_openai import ChatOpenAI\n",
        "\n",
        "llm = ChatOpenAI(\n",
        "    temperature=0, #창의성\n",
        "    model_name=\"gpt-4o\" #모델명\n",
        ")"
      ]
    },
    {
      "cell_type": "code",
      "execution_count": null,
      "metadata": {
        "colab": {
          "base_uri": "https://localhost:8080/",
          "height": 89
        },
        "id": "w0na76cAdxI7",
        "outputId": "1521d5fa-b264-489e-c279-9ca69caf8bd6"
      },
      "outputs": [
        {
          "data": {
            "application/vnd.google.colaboratory.intrinsic+json": {
              "type": "string"
            },
            "text/plain": [
              "'이 질문에 추가 질문이 필요한가요: 예.\\n추가 질문: Google은 언제 창립되었나요?\\n중간 답변: Google은 1998년에 창립되었습니다.\\n추가 질문: Bill Gates는 언제 태어났나요?\\n중간 답변: Bill Gates는 1955년 10월 28일에 태어났습니다.\\n추가 질문: 1998년에 Bill Gates는 몇 살이었나요?\\n중간 답변: 1998년에 Bill Gates는 43세였습니다.\\n최종 답변은: 43세'"
            ]
          },
          "execution_count": 26,
          "metadata": {},
          "output_type": "execute_result"
        }
      ],
      "source": [
        "#결과\n",
        "\n",
        "response = llm.invoke(final_prompt)"
      ]
    },
    {
      "cell_type": "code",
      "execution_count": null,
      "metadata": {
        "colab": {
          "base_uri": "https://localhost:8080/"
        },
        "id": "xF8HSwCmgNZa",
        "outputId": "ec9d6b8c-134d-453c-cd90-e529d3ebdc8d"
      },
      "outputs": [
        {
          "name": "stdout",
          "output_type": "stream",
          "text": [
            "이 질문에 추가 질문이 필요한가요: 예.\n",
            "추가 질문: Google은 언제 창립되었나요?\n",
            "중간 답변: Google은 1998년에 창립되었습니다.\n",
            "추가 질문: Bill Gates는 언제 태어났나요?\n",
            "중간 답변: Bill Gates는 1955년 10월 28일에 태어났습니다.\n",
            "추가 질문: 1998년에 Bill Gates는 몇 살이었나요?\n",
            "중간 답변: 1998년에 Bill Gates는 43세였습니다.\n",
            "최종 답변은: 43세\n"
          ]
        }
      ],
      "source": [
        "print(response.content)"
      ]
    },
    {
      "cell_type": "code",
      "execution_count": null,
      "metadata": {
        "colab": {
          "base_uri": "https://localhost:8080/"
        },
        "id": "uq0-lssdgpAk",
        "outputId": "48fadd7a-381c-40c1-ec71-860dc0ccf0da"
      },
      "outputs": [
        {
          "name": "stdout",
          "output_type": "stream",
          "text": [
            "이 질문에 추가 질문이 필요한가요: 예.\n",
            "추가 질문: Tesla를 인수한 연도는 언제인가요?\n",
            "중간 답변: Elon Musk는 2004년에 Tesla에 투자하고 이사회에 합류했습니다.\n",
            "추가 질문: Elon Musk는 언제 태어났나요?\n",
            "중간 답변: Elon Musk는 1971년 6월 28일에 태어났습니다.\n",
            "추가 질문: 2004년에 Elon Musk의 나이는 몇 살이었나요?\n",
            "중간 답변: 2004년에 Elon Musk는 33세였습니다.\n",
            "최종 답변은: 33세\n"
          ]
        }
      ],
      "source": [
        "#예제\n",
        "\n",
        "question = \"Tesla를 인수한 연도에 musk의 나이는 몇 살인가요?\"\n",
        "\n",
        "final_prompt = prompt.format(question=question)\n",
        "\n",
        "response = llm.invoke(final_prompt)\n",
        "\n",
        "print(response.content)"
      ]
    },
    {
      "cell_type": "code",
      "execution_count": null,
      "metadata": {
        "colab": {
          "base_uri": "https://localhost:8080/"
        },
        "id": "tvLWi0cdg46g",
        "outputId": "6cf5e213-990e-4738-94bf-052a3ad6a5b5"
      },
      "outputs": [
        {
          "name": "stdout",
          "output_type": "stream",
          "text": [
            "이 질문에 추가 질문이 필요한가요: 예.\n",
            "추가 질문: OpenAI는 언제 만들어졌나요?\n",
            "중간 답변: OpenAI는 2015년에 만들어졌습니다.\n",
            "추가 질문: OpenAI의 CEO는 누구인가요?\n",
            "중간 답변: OpenAI의 CEO는 샘 알트먼입니다.\n",
            "추가 질문: 샘 알트먼은 언제 태어났나요?\n",
            "중간 답변: 샘 알트먼은 1985년 4월 22일에 태어났습니다.\n",
            "추가 질문: 2015년에 샘 알트먼의 나이는 몇 살이었나요?\n",
            "중간 답변: 2015년에 샘 알트먼은 30세였습니다.\n",
            "최종 답변은: 30세\n"
          ]
        }
      ],
      "source": [
        "#예제\n",
        "\n",
        "question = \"openai가 만들어진 연도에 CEO의 나이는 몇 살인가요?\"\n",
        "\n",
        "final_prompt = prompt.format(question=question)\n",
        "\n",
        "response = llm.invoke(final_prompt)\n",
        "\n",
        "print(response.content)"
      ]
    },
    {
      "cell_type": "code",
      "execution_count": null,
      "metadata": {
        "colab": {
          "base_uri": "https://localhost:8080/"
        },
        "id": "sYFUQRrMhL9X",
        "outputId": "71c6510e-6297-4b57-fe37-2da6871bc912"
      },
      "outputs": [
        {
          "name": "stdout",
          "output_type": "stream",
          "text": [
            "이 질문에 추가 질문이 필요한가요: 예.\n",
            "추가 질문: DeepLearning이 만들어진 연도는 언제인가요?\n",
            "중간 답변: DeepLearning의 개념은 1980년대에 시작되었지만, 2006년에 제프리 힌튼이 딥러닝의 중요한 발전을 이루었습니다.\n",
            "추가 질문: 제프리 힌튼은 언제 태어났나요?\n",
            "중간 답변: 제프리 힌튼은 1947년 12월 6일에 태어났습니다.\n",
            "추가 질문: 2006년에 제프리 힌튼의 나이는 몇 살이었나요?\n",
            "중간 답변: 2006년에 제프리 힌튼은 59세였습니다.\n",
            "최종 답변은: 59세\n"
          ]
        }
      ],
      "source": [
        "#예제\n",
        "\n",
        "question = \"DeepLearning이 만들어진 연도에 제프리 힌튼의 나이는 몇 살인가요?\"\n",
        "\n",
        "final_prompt = prompt.format(question=question)\n",
        "\n",
        "response = llm.invoke(final_prompt)\n",
        "\n",
        "print(response.content)"
      ]
    },
    {
      "cell_type": "code",
      "execution_count": null,
      "metadata": {
        "colab": {
          "base_uri": "https://localhost:8080/"
        },
        "id": "0IjHUJMShyLF",
        "outputId": "7ff182f6-7c9c-443b-8b65-65e241c77dcd"
      },
      "outputs": [
        {
          "data": {
            "text/plain": [
              "AIMessage(content='이 질문에 추가 질문이 필요한가요: 예.\\n추가 질문: 엔비디아는 언제 설립되었나요?\\n중간 답변: 엔비디아는 1993년에 설립되었습니다.\\n추가 질문: 젠슨 황은 언제 태어났나요?\\n중간 답변: 젠슨 황은 1963년 2월 17일에 태어났습니다.\\n추가 질문: 1993년에 젠슨 황의 나이는 몇 살이었나요?\\n중간 답변: 1993년에 젠슨 황은 30세였습니다.\\n최종 답변은: 30세', additional_kwargs={'refusal': None}, response_metadata={'token_usage': {'completion_tokens': 137, 'prompt_tokens': 591, 'total_tokens': 728, 'completion_tokens_details': {'accepted_prediction_tokens': 0, 'audio_tokens': 0, 'reasoning_tokens': 0, 'rejected_prediction_tokens': 0}, 'prompt_tokens_details': {'audio_tokens': 0, 'cached_tokens': 0}}, 'model_name': 'gpt-4o-2024-08-06', 'system_fingerprint': 'fp_703d4ff298', 'finish_reason': 'stop', 'logprobs': None}, id='run-b3f305d1-d55f-4f8a-9f62-84fcd4d0fd08-0', usage_metadata={'input_tokens': 591, 'output_tokens': 137, 'total_tokens': 728, 'input_token_details': {'audio': 0, 'cache_read': 0}, 'output_token_details': {'audio': 0, 'reasoning': 0}})"
            ]
          },
          "execution_count": 42,
          "metadata": {},
          "output_type": "execute_result"
        }
      ],
      "source": [
        "# chain 생성\n",
        "\n",
        "question = \"엔비디아 만들어진 연도에 젠슨 황 나이는 몇 살인가요?\"\n",
        "\n",
        "chain = prompt | llm\n",
        "\n",
        "chain.invoke(question)"
      ]
    },
    {
      "cell_type": "markdown",
      "metadata": {
        "id": "ibJUEMfVpE_e"
      },
      "source": [
        "## 2. Example Selector\n",
        "\n",
        "### 유사한 벡터를 select 하여 해당 example만 가져와서 사용함"
      ]
    },
    {
      "cell_type": "code",
      "execution_count": null,
      "metadata": {
        "colab": {
          "base_uri": "https://localhost:8080/"
        },
        "collapsed": true,
        "id": "A3OjUMtWqOEg",
        "outputId": "89688fe9-99ce-4ab6-ddb1-c37ffb4b86f9"
      },
      "outputs": [
        {
          "name": "stdout",
          "output_type": "stream",
          "text": [
            "\u001b[?25l     \u001b[90m━━━━━━━━━━━━━━━━━━━━━━━━━━━━━━━━━━━━━━━━\u001b[0m \u001b[32m0.0/67.3 kB\u001b[0m \u001b[31m?\u001b[0m eta \u001b[36m-:--:--\u001b[0m\r\u001b[2K     \u001b[90m━━━━━━━━━━━━━━━━━━━━━━━━━━━━━━━━━━━━━━━━\u001b[0m \u001b[32m67.3/67.3 kB\u001b[0m \u001b[31m3.1 MB/s\u001b[0m eta \u001b[36m0:00:00\u001b[0m\n",
            "\u001b[?25h  Installing build dependencies ... \u001b[?25l\u001b[?25hdone\n",
            "  Getting requirements to build wheel ... \u001b[?25l\u001b[?25hdone\n",
            "  Preparing metadata (pyproject.toml) ... \u001b[?25l\u001b[?25hdone\n",
            "\u001b[2K   \u001b[90m━━━━━━━━━━━━━━━━━━━━━━━━━━━━━━━━━━━━━━━━\u001b[0m \u001b[32m628.3/628.3 kB\u001b[0m \u001b[31m13.7 MB/s\u001b[0m eta \u001b[36m0:00:00\u001b[0m\n",
            "\u001b[2K   \u001b[90m━━━━━━━━━━━━━━━━━━━━━━━━━━━━━━━━━━━━━━━━\u001b[0m \u001b[32m2.4/2.4 MB\u001b[0m \u001b[31m50.3 MB/s\u001b[0m eta \u001b[36m0:00:00\u001b[0m\n",
            "\u001b[2K   \u001b[90m━━━━━━━━━━━━━━━━━━━━━━━━━━━━━━━━━━━━━━━━\u001b[0m \u001b[32m94.8/94.8 kB\u001b[0m \u001b[31m6.7 MB/s\u001b[0m eta \u001b[36m0:00:00\u001b[0m\n",
            "\u001b[2K   \u001b[90m━━━━━━━━━━━━━━━━━━━━━━━━━━━━━━━━━━━━━━━━\u001b[0m \u001b[32m278.6/278.6 kB\u001b[0m \u001b[31m12.4 MB/s\u001b[0m eta \u001b[36m0:00:00\u001b[0m\n",
            "\u001b[2K   \u001b[90m━━━━━━━━━━━━━━━━━━━━━━━━━━━━━━━━━━━━━━━━\u001b[0m \u001b[32m1.9/1.9 MB\u001b[0m \u001b[31m42.6 MB/s\u001b[0m eta \u001b[36m0:00:00\u001b[0m\n",
            "\u001b[2K   \u001b[90m━━━━━━━━━━━━━━━━━━━━━━━━━━━━━━━━━━━━━━━━\u001b[0m \u001b[32m93.2/93.2 kB\u001b[0m \u001b[31m7.7 MB/s\u001b[0m eta \u001b[36m0:00:00\u001b[0m\n",
            "\u001b[2K   \u001b[90m━━━━━━━━━━━━━━━━━━━━━━━━━━━━━━━━━━━━━━━━\u001b[0m \u001b[32m13.3/13.3 MB\u001b[0m \u001b[31m60.0 MB/s\u001b[0m eta \u001b[36m0:00:00\u001b[0m\n",
            "\u001b[2K   \u001b[90m━━━━━━━━━━━━━━━━━━━━━━━━━━━━━━━━━━━━━━━━\u001b[0m \u001b[32m55.8/55.8 kB\u001b[0m \u001b[31m2.8 MB/s\u001b[0m eta \u001b[36m0:00:00\u001b[0m\n",
            "\u001b[2K   \u001b[90m━━━━━━━━━━━━━━━━━━━━━━━━━━━━━━━━━━━━━━━━\u001b[0m \u001b[32m54.9/54.9 kB\u001b[0m \u001b[31m3.9 MB/s\u001b[0m eta \u001b[36m0:00:00\u001b[0m\n",
            "\u001b[2K   \u001b[90m━━━━━━━━━━━━━━━━━━━━━━━━━━━━━━━━━━━━━━━━\u001b[0m \u001b[32m73.2/73.2 kB\u001b[0m \u001b[31m5.5 MB/s\u001b[0m eta \u001b[36m0:00:00\u001b[0m\n",
            "\u001b[2K   \u001b[90m━━━━━━━━━━━━━━━━━━━━━━━━━━━━━━━━━━━━━━━━\u001b[0m \u001b[32m3.0/3.0 MB\u001b[0m \u001b[31m53.0 MB/s\u001b[0m eta \u001b[36m0:00:00\u001b[0m\n",
            "\u001b[2K   \u001b[90m━━━━━━━━━━━━━━━━━━━━━━━━━━━━━━━━━━━━━━━━\u001b[0m \u001b[32m62.3/62.3 kB\u001b[0m \u001b[31m4.4 MB/s\u001b[0m eta \u001b[36m0:00:00\u001b[0m\n",
            "\u001b[2K   \u001b[90m━━━━━━━━━━━━━━━━━━━━━━━━━━━━━━━━━━━━━━━━\u001b[0m \u001b[32m442.1/442.1 kB\u001b[0m \u001b[31m24.3 MB/s\u001b[0m eta \u001b[36m0:00:00\u001b[0m\n",
            "\u001b[2K   \u001b[90m━━━━━━━━━━━━━━━━━━━━━━━━━━━━━━━━━━━━━━━━\u001b[0m \u001b[32m319.7/319.7 kB\u001b[0m \u001b[31m18.6 MB/s\u001b[0m eta \u001b[36m0:00:00\u001b[0m\n",
            "\u001b[2K   \u001b[90m━━━━━━━━━━━━━━━━━━━━━━━━━━━━━━━━━━━━━━━━\u001b[0m \u001b[32m3.8/3.8 MB\u001b[0m \u001b[31m55.4 MB/s\u001b[0m eta \u001b[36m0:00:00\u001b[0m\n",
            "\u001b[2K   \u001b[90m━━━━━━━━━━━━━━━━━━━━━━━━━━━━━━━━━━━━━━━━\u001b[0m \u001b[32m452.9/452.9 kB\u001b[0m \u001b[31m25.4 MB/s\u001b[0m eta \u001b[36m0:00:00\u001b[0m\n",
            "\u001b[2K   \u001b[90m━━━━━━━━━━━━━━━━━━━━━━━━━━━━━━━━━━━━━━━━\u001b[0m \u001b[32m46.0/46.0 kB\u001b[0m \u001b[31m3.1 MB/s\u001b[0m eta \u001b[36m0:00:00\u001b[0m\n",
            "\u001b[2K   \u001b[90m━━━━━━━━━━━━━━━━━━━━━━━━━━━━━━━━━━━━━━━━\u001b[0m \u001b[32m86.8/86.8 kB\u001b[0m \u001b[31m5.9 MB/s\u001b[0m eta \u001b[36m0:00:00\u001b[0m\n",
            "\u001b[?25h  Building wheel for pypika (pyproject.toml) ... \u001b[?25l\u001b[?25hdone\n",
            "\u001b[31mERROR: pip's dependency resolver does not currently take into account all the packages that are installed. This behaviour is the source of the following dependency conflicts.\n",
            "tensorflow 2.17.1 requires protobuf!=4.21.0,!=4.21.1,!=4.21.2,!=4.21.3,!=4.21.4,!=4.21.5,<5.0.0dev,>=3.20.3, but you have protobuf 5.29.3 which is incompatible.\n",
            "tensorflow-metadata 1.13.1 requires protobuf<5,>=3.20.3, but you have protobuf 5.29.3 which is incompatible.\n",
            "transformers 4.47.1 requires tokenizers<0.22,>=0.21, but you have tokenizers 0.20.3 which is incompatible.\u001b[0m\u001b[31m\n",
            "\u001b[0m"
          ]
        }
      ],
      "source": [
        "!pip install -qU langchain_chroma langchain_openai"
      ]
    },
    {
      "cell_type": "code",
      "execution_count": null,
      "metadata": {
        "id": "Xh5BQHlxpIPR"
      },
      "outputs": [],
      "source": [
        "from langchain_core.example_selectors import SemanticSimilarityExampleSelector\n",
        "from langchain_openai import OpenAIEmbeddings\n",
        "from langchain_chroma import Chroma\n",
        "\n",
        "example_selector = SemanticSimilarityExampleSelector.from_examples(\n",
        "    # 여기에는 선택 가능한 예시 목록이 있습니다.\n",
        "    examples,\n",
        "    # 여기에는 의미적 유사성을 측정하는 데 사용되는 임베딩을 생성하는 임베딩 클래스가 있음\n",
        "    OpenAIEmbeddings(),\n",
        "    # 여기에는 임베딩을 저장하고 유사성 검색을 수행하는 데 사용되는 VectorStore 클래스가 있음\n",
        "    Chroma,\n",
        "    # 이것은 생성할 예시의 수\n",
        "    k=1,\n",
        ")"
      ]
    },
    {
      "cell_type": "code",
      "execution_count": null,
      "metadata": {
        "id": "XIhpYOOptzy0"
      },
      "outputs": [],
      "source": [
        "# 질문의 형태\n",
        "\n",
        "example_prompt = PromptTemplate.from_template(\n",
        "    \"Question:\\n{question}\\nAnswer:\\n{answer}\"\n",
        ")"
      ]
    },
    {
      "cell_type": "code",
      "execution_count": null,
      "metadata": {
        "id": "QjaMhk9vrb4J"
      },
      "outputs": [],
      "source": [
        "# fewshotprompttemplate\n",
        "\n",
        "prompt = FewShotPromptTemplate(\n",
        "    example_selector = example_selector,\n",
        "    example_prompt = example_prompt,\n",
        "    suffix = \"Question : \\n{question} \\nAnswer : \",\n",
        "    input_variables=[\"question\"],\n",
        ")\n",
        "\n",
        "chain = prompt | llm"
      ]
    },
    {
      "cell_type": "code",
      "execution_count": null,
      "metadata": {
        "id": "gdaN19WFsbfF"
      },
      "outputs": [],
      "source": [
        "question = \"Google이 창립된 연도에 Bill Gates의 나이는 몇 살인가요?\"\n",
        "\n",
        "final_prompt = prompt.format(question=question)"
      ]
    },
    {
      "cell_type": "code",
      "execution_count": null,
      "metadata": {
        "id": "991nG09OsaFT"
      },
      "outputs": [],
      "source": [
        "#네이버 예시를 Select 하였음\n",
        "\n",
        "reslut = chain.invoke(final_prompt)"
      ]
    },
    {
      "cell_type": "code",
      "execution_count": null,
      "metadata": {
        "colab": {
          "base_uri": "https://localhost:8080/"
        },
        "id": "xU2EayxQuq9B",
        "outputId": "43270593-aeb7-48f1-88ad-ccaecc4da48f"
      },
      "outputs": [
        {
          "name": "stdout",
          "output_type": "stream",
          "text": [
            "이 질문에 추가 질문이 필요한가요: 예.\n",
            "추가 질문: Google은 언제 창립되었나요?\n",
            "중간 답변: Google은 1998년에 창립되었습니다.\n",
            "추가 질문: Bill Gates는 언제 태어났나요?\n",
            "중간 답변: Bill Gates는 1955년 10월 28일에 태어났습니다.\n",
            "추가 질문: 1998년에 Bill Gates의 나이는 몇 살이었나요?\n",
            "중간 답변: 1998년에는 Bill Gates가 43세였습니다.\n",
            "최종 답변은: 43세\n"
          ]
        }
      ],
      "source": [
        "print(reslut.content)"
      ]
    }
  ],
  "metadata": {
    "colab": {
      "provenance": []
    },
    "kernelspec": {
      "display_name": "Python 3",
      "name": "python3"
    },
    "language_info": {
      "name": "python"
    }
  },
  "nbformat": 4,
  "nbformat_minor": 0
}
