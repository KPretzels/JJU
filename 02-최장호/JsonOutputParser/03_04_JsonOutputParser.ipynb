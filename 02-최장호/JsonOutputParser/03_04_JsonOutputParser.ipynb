{
  "nbformat": 4,
  "nbformat_minor": 0,
  "metadata": {
    "colab": {
      "provenance": []
    },
    "kernelspec": {
      "name": "python3",
      "display_name": "Python 3"
    },
    "language_info": {
      "name": "python"
    }
  },
  "cells": [
    {
      "cell_type": "code",
      "execution_count": 1,
      "metadata": {
        "id": "ZegvZa7JTMnO"
      },
      "outputs": [],
      "source": [
        "import os\n",
        "\n",
        "os.environ['OPENAI_API_KEY'] = '****'\n",
        "os.environ['LANGCHAIN_API_KEY'] = '****'\n",
        "os.environ['LANGCHAIN_TRACING_V2'] = 'true'\n",
        "os.environ['LANGCHAIN_ENDPOINT'] = 'https://api.smith.langchain.com'\n",
        "os.environ['LANGCHAIN_PROJECT'] = '03-04'"
      ]
    },
    {
      "cell_type": "code",
      "source": [
        "!pip install -qU langchain_openai"
      ],
      "metadata": {
        "colab": {
          "base_uri": "https://localhost:8080/"
        },
        "id": "YUJgoFkFUQOF",
        "outputId": "64f9a379-cdd0-4f64-ee20-de581ca75459"
      },
      "execution_count": 4,
      "outputs": [
        {
          "output_type": "stream",
          "name": "stdout",
          "text": [
            "\u001b[?25l   \u001b[90m━━━━━━━━━━━━━━━━━━━━━━━━━━━━━━━━━━━━━━━━\u001b[0m \u001b[32m0.0/54.2 kB\u001b[0m \u001b[31m?\u001b[0m eta \u001b[36m-:--:--\u001b[0m\r\u001b[2K   \u001b[90m━━━━━━━━━━━━━━━━━━━━━━━━━━━━━━━━━━━━━━━━\u001b[0m \u001b[32m54.2/54.2 kB\u001b[0m \u001b[31m2.0 MB/s\u001b[0m eta \u001b[36m0:00:00\u001b[0m\n",
            "\u001b[?25h\u001b[?25l   \u001b[90m━━━━━━━━━━━━━━━━━━━━━━━━━━━━━━━━━━━━━━━━\u001b[0m \u001b[32m0.0/1.2 MB\u001b[0m \u001b[31m?\u001b[0m eta \u001b[36m-:--:--\u001b[0m\r\u001b[2K   \u001b[91m━━━━━━━━━━━━━\u001b[0m\u001b[90m╺\u001b[0m\u001b[90m━━━━━━━━━━━━━━━━━━━━━━━━━━\u001b[0m \u001b[32m0.4/1.2 MB\u001b[0m \u001b[31m13.4 MB/s\u001b[0m eta \u001b[36m0:00:01\u001b[0m\r\u001b[2K   \u001b[90m━━━━━━━━━━━━━━━━━━━━━━━━━━━━━━━━━━━━━━━━\u001b[0m \u001b[32m1.2/1.2 MB\u001b[0m \u001b[31m17.6 MB/s\u001b[0m eta \u001b[36m0:00:00\u001b[0m\n",
            "\u001b[?25h"
          ]
        }
      ]
    },
    {
      "cell_type": "code",
      "source": [
        "from langchain_core.prompts import ChatPromptTemplate\n",
        "from langchain_core.output_parsers import JsonOutputParser\n",
        "from langchain_openai import ChatOpenAI\n",
        "from pydantic import BaseModel, Field"
      ],
      "metadata": {
        "id": "-mALTkSMTrNQ"
      },
      "execution_count": 5,
      "outputs": []
    },
    {
      "cell_type": "code",
      "source": [
        "model = ChatOpenAI(\n",
        "    temperature=0,\n",
        "    model = \"gpt-4o\"\n",
        ")"
      ],
      "metadata": {
        "id": "z07hINunUWhx"
      },
      "execution_count": 6,
      "outputs": []
    },
    {
      "cell_type": "code",
      "source": [
        "class Topic(BaseModel):\n",
        "  description: str = Field(description=\"주제에 대한 간결한 설명\")\n",
        "  hashtags: str = Field(description=\"해시태그 형식의 키워드(2개 이상)\")"
      ],
      "metadata": {
        "id": "NbvPPogUUyhX"
      },
      "execution_count": 7,
      "outputs": []
    },
    {
      "cell_type": "code",
      "source": [
        "parser = JsonOutputParser(pydantic_object=Topic)"
      ],
      "metadata": {
        "id": "ril4TIOdVIkM"
      },
      "execution_count": 8,
      "outputs": []
    },
    {
      "cell_type": "code",
      "source": [
        "prompt = ChatPromptTemplate.from_messages(\n",
        "    [\n",
        "        (\"system\",\"당신은 친절한 AI 어시스턴트 입니다. 질문에 간결하게 답변하세요.\"),\n",
        "        (\"user\",\"#Format:{format_instructions}\\n\\n#Question:{question}\"),\n",
        "    ]\n",
        ")\n",
        "\n",
        "prompt = prompt.partial(format_instructions=parser.get_format_instructions())"
      ],
      "metadata": {
        "id": "O3S7zfTqVQ6L"
      },
      "execution_count": 10,
      "outputs": []
    },
    {
      "cell_type": "code",
      "source": [
        "chain = prompt | model | parser\n",
        "\n",
        "response = chain.invoke({\"question\":\"EPL19-20 시즌 토트넘과 아스날 경기에서 가장 활약한 선수 알려주고 어떤 부분에서 활약했는지 설명해\"})\n",
        "\n",
        "print(response)"
      ],
      "metadata": {
        "colab": {
          "base_uri": "https://localhost:8080/"
        },
        "id": "ZuMRnL3zV2jz",
        "outputId": "32ee0330-70fe-41cd-ef39-2a3714eedb55"
      },
      "execution_count": 23,
      "outputs": [
        {
          "output_type": "stream",
          "name": "stdout",
          "text": [
            "{'description': 'EPL 19-20 시즌 토트넘과 아스날 경기에서 손흥민이 가장 활약한 선수로 꼽혔습니다. 그는 경기에서 골을 기록하며 팀의 승리에 기여했습니다.', 'hashtags': '#EPL #Tottenham #Arsenal #SonHeungMin'}\n"
          ]
        }
      ]
    },
    {
      "cell_type": "markdown",
      "source": [
        "## Pydantic 없이 사용"
      ],
      "metadata": {
        "id": "fWwNbJqoYZ8-"
      }
    },
    {
      "cell_type": "code",
      "source": [
        "# 질의\n",
        "question = \"UCL 18-19시즌 손흥민의 활약에 대해 알려주세요.  이 설명은 `description`에, 관련 키워드는 `hashtags`에 담아주세요.\"\n",
        "\n",
        "\n",
        "# JSON 출력 파서 초기화\n",
        "parser = JsonOutputParser()\n",
        "\n",
        "prompt = ChatPromptTemplate.from_messages(\n",
        "    [\n",
        "        (\"system\", \"당신은 친절한 AI 어시스턴트 입니다. 질문에 간결하게 답변하세요.\"),\n",
        "        (\"user\", \"#Format: {format_instructions}\\n\\n#Question: {question}\"),\n",
        "    ]\n",
        ")\n",
        "\n",
        "# 지시사항을 프롬프트에 주입합니다.\n",
        "prompt = prompt.partial(format_instructions=parser.get_format_instructions())\n",
        "\n",
        "# 프롬프트, 모델, 파서를 연결하는 체인 생성\n",
        "chain = prompt | model | parser\n",
        "\n",
        "# 체인을 호출하여 쿼리 실행\n",
        "response = chain.invoke({\"question\": question})\n",
        "\n",
        "response"
      ],
      "metadata": {
        "colab": {
          "base_uri": "https://localhost:8080/"
        },
        "id": "3Q7S6jAjYec3",
        "outputId": "533a8ec1-03e7-4e33-9f6e-fe9282679f8d"
      },
      "execution_count": 44,
      "outputs": [
        {
          "output_type": "execute_result",
          "data": {
            "text/plain": [
              "{'description': '손흥민은 2018-19 UEFA 챔피언스리그에서 토트넘 홋스퍼의 핵심 선수로 활약했습니다. 그는 맨체스터 시티와의 8강전에서 두 경기 합계 3골을 기록하며 팀의 준결승 진출에 크게 기여했습니다. 특히, 에티하드 스타디움에서 열린 2차전에서 두 골을 넣어 팀의 승리를 이끌었습니다. 또한, 아약스와의 준결승 2차전에서도 중요한 역할을 하며 팀의 결승 진출에 기여했습니다.',\n",
              " 'hashtags': ['#손흥민', '#UCL', '#토트넘', '#챔피언스리그', '#축구']}"
            ]
          },
          "metadata": {},
          "execution_count": 44
        }
      ]
    }
  ]
}