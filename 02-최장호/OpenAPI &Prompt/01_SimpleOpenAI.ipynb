{
  "cells": [
    {
      "cell_type": "code",
      "execution_count": null,
      "metadata": {
        "colab": {
          "base_uri": "https://localhost:8080/"
        },
        "id": "BWgp4oEb6tkX",
        "outputId": "877911d3-6734-4552-8139-c8821978f3f7"
      },
      "outputs": [
        {
          "name": "stdout",
          "output_type": "stream",
          "text": [
            "\u001b[?25l   \u001b[90m━━━━━━━━━━━━━━━━━━━━━━━━━━━━━━━━━━━━━━━━\u001b[0m \u001b[32m0.0/50.9 kB\u001b[0m \u001b[31m?\u001b[0m eta \u001b[36m-:--:--\u001b[0m\r\u001b[2K   \u001b[90m━━━━━━━━━━━━━━━━━━━━━━━━━━━━━━━━━━━━━━━━\u001b[0m \u001b[32m50.9/50.9 kB\u001b[0m \u001b[31m2.4 MB/s\u001b[0m eta \u001b[36m0:00:00\u001b[0m\n",
            "\u001b[?25h\u001b[?25l   \u001b[90m━━━━━━━━━━━━━━━━━━━━━━━━━━━━━━━━━━━━━━━━\u001b[0m \u001b[32m0.0/1.2 MB\u001b[0m \u001b[31m?\u001b[0m eta \u001b[36m-:--:--\u001b[0m\r\u001b[2K   \u001b[91m━━━━━━━━━━━━━━━━━━━━━━━━━━━━━\u001b[0m\u001b[91m╸\u001b[0m\u001b[90m━━━━━━━━━━\u001b[0m \u001b[32m0.9/1.2 MB\u001b[0m \u001b[31m28.6 MB/s\u001b[0m eta \u001b[36m0:00:01\u001b[0m\r\u001b[2K   \u001b[91m━━━━━━━━━━━━━━━━━━━━━━━━━━━━━━━━━━━━━━━\u001b[0m\u001b[91m╸\u001b[0m \u001b[32m1.2/1.2 MB\u001b[0m \u001b[31m29.5 MB/s\u001b[0m eta \u001b[36m0:00:01\u001b[0m\r\u001b[2K   \u001b[90m━━━━━━━━━━━━━━━━━━━━━━━━━━━━━━━━━━━━━━━━\u001b[0m \u001b[32m1.2/1.2 MB\u001b[0m \u001b[31m15.9 MB/s\u001b[0m eta \u001b[36m0:00:00\u001b[0m\n",
            "\u001b[?25h"
          ]
        }
      ],
      "source": [
        "!pip install -qU langchain_openai"
      ]
    },
    {
      "cell_type": "code",
      "execution_count": null,
      "metadata": {
        "id": "5z4VRORY6_z1"
      },
      "outputs": [],
      "source": [
        "import os\n",
        "\n",
        "os.environ['OPENAI_API_KEY'] = '***'\n",
        "os.environ['LANGCHAIN_API_KEY'] = '***' # 본인 api\n",
        "os.environ['LANGCHAIN_TRACING_V2'] = 'true'\n",
        "os.environ['LANGCHAIN_ENDPOINT'] = 'https://api.smith.langchain.com'\n",
        "os.environ['LANGCHAIN_PROJECT'] = 'test_JJU_Agent_02'\n",
        "\n"
      ]
    },
    {
      "cell_type": "code",
      "execution_count": null,
      "metadata": {
        "id": "uVRXtPcrAsFC"
      },
      "outputs": [],
      "source": []
    },
    {
      "cell_type": "code",
      "execution_count": null,
      "metadata": {
        "id": "7DVBD2Iv7LBx"
      },
      "outputs": [],
      "source": [
        "OPENAI_API_KEY = \"***\""
      ]
    },
    {
      "cell_type": "code",
      "execution_count": null,
      "metadata": {
        "id": "UycuGpU35_I0"
      },
      "outputs": [],
      "source": [
        "from langchain_openai import ChatOpenAI\n",
        "llm = ChatOpenAI(\n",
        "    model = \"gpt-4o\",\n",
        "    temperature = 0,\n",
        "    max_tokens = None,\n",
        "    timeout = None,\n",
        "    max_retries=2,\n",
        "    api_key=OPENAI_API_KEY\n",
        ")"
      ]
    },
    {
      "cell_type": "code",
      "execution_count": null,
      "metadata": {
        "colab": {
          "base_uri": "https://localhost:8080/"
        },
        "id": "HW-uPRkZQbez",
        "outputId": "dd32a1bc-22b5-4738-d66a-14528630b8a4"
      },
      "outputs": [
        {
          "data": {
            "text/plain": [
              "ChatOpenAI(client=<openai.resources.chat.completions.Completions object at 0x791f2d79e710>, async_client=<openai.resources.chat.completions.AsyncCompletions object at 0x791f2d79d7e0>, root_client=<openai.OpenAI object at 0x791f2d66a950>, root_async_client=<openai.AsyncOpenAI object at 0x791f2d79cac0>, model_name='gpt-4o', temperature=0.0, model_kwargs={}, openai_api_key=SecretStr('**********'))"
            ]
          },
          "execution_count": 5,
          "metadata": {},
          "output_type": "execute_result"
        }
      ],
      "source": [
        "llm"
      ]
    },
    {
      "cell_type": "code",
      "execution_count": null,
      "metadata": {
        "id": "hsKckpFcQG1U"
      },
      "outputs": [],
      "source": [
        "prompt = \"현재 토트넘 주전 ST 선수 알려줘\""
      ]
    },
    {
      "cell_type": "code",
      "execution_count": null,
      "metadata": {
        "id": "HhGRlTs_7QCJ"
      },
      "outputs": [],
      "source": [
        "result = llm.invoke(prompt)"
      ]
    },
    {
      "cell_type": "code",
      "execution_count": null,
      "metadata": {
        "colab": {
          "base_uri": "https://localhost:8080/"
        },
        "id": "GxOFb5Uk7eXx",
        "outputId": "9ada2b61-04c5-41c7-fdc0-2e8b701bc84c"
      },
      "outputs": [
        {
          "data": {
            "text/plain": [
              "AIMessage(content='2023년 기준으로 토트넘 홋스퍼의 주전 스트라이커(ST)는 히샬리송(Richarlison)입니다. 하지만 축구 팀의 주전 선수는 경기 상황, 감독의 전략, 선수의 컨디션 등에 따라 변동될 수 있으니 최신 정보를 확인하는 것이 좋습니다.', additional_kwargs={'refusal': None}, response_metadata={'token_usage': {'completion_tokens': 71, 'prompt_tokens': 17, 'total_tokens': 88, 'completion_tokens_details': {'accepted_prediction_tokens': 0, 'audio_tokens': 0, 'reasoning_tokens': 0, 'rejected_prediction_tokens': 0}, 'prompt_tokens_details': {'audio_tokens': 0, 'cached_tokens': 0}}, 'model_name': 'gpt-4o-2024-08-06', 'system_fingerprint': 'fp_703d4ff298', 'finish_reason': 'stop', 'logprobs': None}, id='run-b9def692-3835-4de9-97d2-987c56a5767a-0', usage_metadata={'input_tokens': 17, 'output_tokens': 71, 'total_tokens': 88, 'input_token_details': {'audio': 0, 'cache_read': 0}, 'output_token_details': {'audio': 0, 'reasoning': 0}})"
            ]
          },
          "execution_count": 27,
          "metadata": {},
          "output_type": "execute_result"
        }
      ],
      "source": [
        "result"
      ]
    },
    {
      "cell_type": "markdown",
      "metadata": {
        "id": "3cg8EeYxRZ4i"
      },
      "source": [
        "### 2. PromptTemplate_Basic"
      ]
    },
    {
      "cell_type": "code",
      "execution_count": null,
      "metadata": {
        "id": "tV1LNLdCQ-Up"
      },
      "outputs": [],
      "source": [
        "prompt = [\n",
        "    (\"system\", \"너는 제시된 국가에서 유명한 축구 선수 1명을 알려주는 어시스턴트야.\"),\n",
        "    (\"human\", \"영국\")\n",
        "]"
      ]
    },
    {
      "cell_type": "code",
      "execution_count": null,
      "metadata": {
        "colab": {
          "base_uri": "https://localhost:8080/"
        },
        "id": "o69b-93_SfM8",
        "outputId": "8f209570-ba0c-4166-cc50-3f9bd61e081c"
      },
      "outputs": [
        {
          "data": {
            "text/plain": [
              "[('system', '너는 제시된 국가에서 유명한 축구 선수 1명을 알려주는 어시스턴트야.'), ('human', '영국')]"
            ]
          },
          "execution_count": 77,
          "metadata": {},
          "output_type": "execute_result"
        }
      ],
      "source": [
        "prompt"
      ]
    },
    {
      "cell_type": "code",
      "execution_count": null,
      "metadata": {
        "id": "yPNjQuGRSuxt"
      },
      "outputs": [],
      "source": [
        "Response = llm.invoke(prompt)"
      ]
    },
    {
      "cell_type": "code",
      "execution_count": null,
      "metadata": {
        "colab": {
          "base_uri": "https://localhost:8080/"
        },
        "id": "PK1evYTcS5tv",
        "outputId": "a88e9063-0a00-48c9-fab9-a520766b7958"
      },
      "outputs": [
        {
          "data": {
            "text/plain": [
              "AIMessage(content='영국에서 유명한 축구 선수 중 한 명은 해리 케인(Harry Kane)입니다. 그는 잉글랜드 축구 국가대표팀의 주장이며, 프리미어리그의 토트넘 홋스퍼에서 뛰었던 것으로 잘 알려져 있습니다.', additional_kwargs={'refusal': None}, response_metadata={'token_usage': {'completion_tokens': 62, 'prompt_tokens': 37, 'total_tokens': 99, 'completion_tokens_details': {'accepted_prediction_tokens': 0, 'audio_tokens': 0, 'reasoning_tokens': 0, 'rejected_prediction_tokens': 0}, 'prompt_tokens_details': {'audio_tokens': 0, 'cached_tokens': 0}}, 'model_name': 'gpt-4o-2024-08-06', 'system_fingerprint': 'fp_5f20662549', 'finish_reason': 'stop', 'logprobs': None}, id='run-c03450fd-7954-4872-9500-2c9c0f758734-0', usage_metadata={'input_tokens': 37, 'output_tokens': 62, 'total_tokens': 99, 'input_token_details': {'audio': 0, 'cache_read': 0}, 'output_token_details': {'audio': 0, 'reasoning': 0}})"
            ]
          },
          "execution_count": 79,
          "metadata": {},
          "output_type": "execute_result"
        }
      ],
      "source": [
        "Response"
      ]
    },
    {
      "cell_type": "code",
      "execution_count": null,
      "metadata": {
        "id": "vouEQfbcT1HT"
      },
      "outputs": [],
      "source": []
    },
    {
      "cell_type": "markdown",
      "metadata": {
        "id": "ol2fhDMoVgCp"
      },
      "source": [
        "### 3_1 promptTemplate(1)"
      ]
    },
    {
      "cell_type": "code",
      "execution_count": null,
      "metadata": {
        "id": "lylUTjwqVkFw"
      },
      "outputs": [],
      "source": [
        "from langchain_core.prompts import PromptTemplate\n",
        "\n",
        "template = \"{input_dict}에서 유명한 현역 축구 선수 10명 알려줘\"\n",
        "\n",
        "prompt_3 = PromptTemplate.from_template(template)"
      ]
    },
    {
      "cell_type": "code",
      "execution_count": null,
      "metadata": {
        "colab": {
          "base_uri": "https://localhost:8080/"
        },
        "id": "nnF7pDSHWbKk",
        "outputId": "b93fef6c-7f92-464d-91dc-a327841b0f01"
      },
      "outputs": [
        {
          "data": {
            "text/plain": [
              "PromptTemplate(input_variables=['input_dict'], input_types={}, partial_variables={}, template='{input_dict}에서 유명한 현역 축구 선수 10명 알려줘')"
            ]
          },
          "execution_count": 121,
          "metadata": {},
          "output_type": "execute_result"
        }
      ],
      "source": [
        "prompt_3"
      ]
    },
    {
      "cell_type": "code",
      "execution_count": null,
      "metadata": {
        "id": "SnmHT67hXdO8"
      },
      "outputs": [],
      "source": [
        "Prompt_3 = prompt_3.format(input_dict=\"대한민국\")"
      ]
    },
    {
      "cell_type": "code",
      "execution_count": null,
      "metadata": {
        "id": "oRULLBv8XzmR"
      },
      "outputs": [],
      "source": [
        "Result_3 = llm.invoke(Prompt_3)"
      ]
    },
    {
      "cell_type": "code",
      "execution_count": null,
      "metadata": {
        "colab": {
          "base_uri": "https://localhost:8080/"
        },
        "id": "QC9VZSgUX-Cc",
        "outputId": "9419d6ef-0c72-4c50-8aac-7fc26579e704"
      },
      "outputs": [
        {
          "data": {
            "text/plain": [
              "AIMessage(content='2023년 기준으로 대한민국에서 유명한 현역 축구 선수 10명을 소개하겠습니다. 이 선수들은 국내외에서 활약하며 많은 팬들에게 사랑받고 있습니다.\\n\\n1. **손흥민 (Son Heung-min)** - 토트넘 홋스퍼 FC에서 뛰고 있는 공격수로, 프리미어리그에서 활약 중입니다.\\n2. **김민재 (Kim Min-jae)** - 바이에른 뮌헨에서 수비수로 활약하고 있으며, 유럽 무대에서 주목받고 있습니다.\\n3. **황희찬 (Hwang Hee-chan)** - 울버햄튼 원더러스 FC에서 공격수로 뛰고 있습니다.\\n4. **이강인 (Lee Kang-in)** - 파리 생제르맹 FC에서 미드필더로 활약하고 있습니다.\\n5. **정우영 (Jung Woo-young)** - SC 프라이부르크에서 미드필더로 뛰고 있습니다.\\n6. **황의조 (Hwang Ui-jo)** - 노리치 시티 FC에서 공격수로 활약하고 있습니다.\\n7. **조현우 (Jo Hyeon-woo)** - 울산 현대 FC에서 골키퍼로 뛰고 있습니다.\\n8. **김진수 (Kim Jin-su)** - 전북 현대 모터스에서 수비수로 활약하고 있습니다.\\n9. **이재성 (Lee Jae-sung)** - 마인츠 05에서 미드필더로 뛰고 있습니다.\\n10. **김영권 (Kim Young-gwon)** - 울산 현대 FC에서 수비수로 활약하고 있습니다.\\n\\n이 선수들은 각자의 팀에서 중요한 역할을 맡고 있으며, 국가대표팀에서도 활약하고 있습니다.', additional_kwargs={'refusal': None}, response_metadata={'token_usage': {'completion_tokens': 379, 'prompt_tokens': 22, 'total_tokens': 401, 'completion_tokens_details': {'accepted_prediction_tokens': 0, 'audio_tokens': 0, 'reasoning_tokens': 0, 'rejected_prediction_tokens': 0}, 'prompt_tokens_details': {'audio_tokens': 0, 'cached_tokens': 0}}, 'model_name': 'gpt-4o-2024-08-06', 'system_fingerprint': 'fp_b7d65f1a5b', 'finish_reason': 'stop', 'logprobs': None}, id='run-2685a037-7a56-46de-9421-a3a1e29b3be5-0', usage_metadata={'input_tokens': 22, 'output_tokens': 379, 'total_tokens': 401, 'input_token_details': {'audio': 0, 'cache_read': 0}, 'output_token_details': {'audio': 0, 'reasoning': 0}})"
            ]
          },
          "execution_count": 124,
          "metadata": {},
          "output_type": "execute_result"
        }
      ],
      "source": [
        "Result_3"
      ]
    },
    {
      "cell_type": "markdown",
      "metadata": {
        "id": "5PbPUdNac53c"
      },
      "source": [
        "### 3_2 PromptTemplate(1)[링크텍스트]"
      ]
    },
    {
      "cell_type": "code",
      "execution_count": null,
      "metadata": {
        "colab": {
          "base_uri": "https://localhost:8080/"
        },
        "id": "awSbYCusdJc3",
        "outputId": "dada44ae-057e-4476-c161-8ec628b09681"
      },
      "outputs": [
        {
          "name": "stdout",
          "output_type": "stream",
          "text": [
            "input_variables=['input_1'] input_types={} partial_variables={'input_2': '농구선수'} template='{input_1}에서 유명한 현역 {input_2} 3명 알려줘'\n"
          ]
        }
      ],
      "source": [
        "from langchain_core.prompts import PromptTemplate\n",
        "\n",
        "template = \"{input_1}에서 유명한 현역 {input_2} 3명 알려줘\"\n",
        "\n",
        "prompt_4 = PromptTemplate(\n",
        "    template = template,\n",
        "    input_variables=[\"input_1\"],\n",
        "    partial_variables={\"input_2\" : \"농구선수\"}\n",
        ")\n",
        "\n",
        "print(prompt_4)"
      ]
    },
    {
      "cell_type": "code",
      "execution_count": null,
      "metadata": {
        "colab": {
          "base_uri": "https://localhost:8080/",
          "height": 35
        },
        "id": "aDdUtPiyeK7S",
        "outputId": "e3445c45-3994-4011-cda2-91ebc1b98cb6"
      },
      "outputs": [
        {
          "data": {
            "application/vnd.google.colaboratory.intrinsic+json": {
              "type": "string"
            },
            "text/plain": [
              "'독일에서 유명한 현역 농구선수 3명 알려줘'"
            ]
          },
          "execution_count": 136,
          "metadata": {},
          "output_type": "execute_result"
        }
      ],
      "source": [
        "prompt_4.format(input_1=\"독일\")"
      ]
    },
    {
      "cell_type": "code",
      "execution_count": null,
      "metadata": {
        "id": "4-5YNJeteTnB"
      },
      "outputs": [],
      "source": [
        "Result_4 = prompt_4.format(input_1=\"미국\")"
      ]
    },
    {
      "cell_type": "code",
      "execution_count": null,
      "metadata": {
        "colab": {
          "base_uri": "https://localhost:8080/"
        },
        "id": "jU5Dq4TlhICF",
        "outputId": "182c81f9-e634-4d28-ca1f-fe569d520d06"
      },
      "outputs": [
        {
          "data": {
            "text/plain": [
              "AIMessage(content='2023년 기준으로 미국에서 유명한 현역 농구 선수 세 명을 소개하겠습니다.\\n\\n1. **르브론 제임스 (LeBron James)** - 로스앤젤레스 레이커스 소속으로, NBA 역사상 가장 뛰어난 선수 중 한 명으로 평가받고 있습니다. 그의 다재다능한 플레이 스타일과 리더십은 많은 팬들에게 사랑받고 있습니다.\\n\\n2. **스테판 커리 (Stephen Curry)** - 골든스테이트 워리어스의 슈팅 가드로, 3점 슛의 혁신을 이끌며 NBA에서 가장 뛰어난 슈터 중 한 명으로 인정받고 있습니다.\\n\\n3. **케빈 듀란트 (Kevin Durant)** - 피닉스 선즈 소속으로, 그의 뛰어난 득점 능력과 다재다능함으로 인해 리그에서 가장 위협적인 선수 중 한 명으로 꼽힙니다.\\n\\n이 선수들은 각각의 팀에서 중요한 역할을 하며, NBA 팬들에게 큰 인기를 끌고 있습니다.', additional_kwargs={'refusal': None}, response_metadata={'token_usage': {'completion_tokens': 228, 'prompt_tokens': 23, 'total_tokens': 251, 'completion_tokens_details': {'accepted_prediction_tokens': 0, 'audio_tokens': 0, 'reasoning_tokens': 0, 'rejected_prediction_tokens': 0}, 'prompt_tokens_details': {'audio_tokens': 0, 'cached_tokens': 0}}, 'model_name': 'gpt-4o-2024-08-06', 'system_fingerprint': 'fp_703d4ff298', 'finish_reason': 'stop', 'logprobs': None}, id='run-3452b779-da05-4094-b764-831f97d30685-0', usage_metadata={'input_tokens': 23, 'output_tokens': 228, 'total_tokens': 251, 'input_token_details': {'audio': 0, 'cache_read': 0}, 'output_token_details': {'audio': 0, 'reasoning': 0}})"
            ]
          },
          "execution_count": 140,
          "metadata": {},
          "output_type": "execute_result"
        }
      ],
      "source": [
        "llm.invoke(Result_4)"
      ]
    },
    {
      "cell_type": "code",
      "execution_count": null,
      "metadata": {
        "id": "MfWusGNLhkdi"
      },
      "outputs": [],
      "source": [
        "from langchain_core.prompts import PromptTemplate\n",
        "\n",
        "template = \"{input_1}에서 유명한 현역 {input_2} 3명 알려줘\"\n",
        "\n",
        "prompt_4 = PromptTemplate(\n",
        "    template = template,\n",
        "    input_variables=[\"input_1\"],\n",
        "    partial_variables={\"input_2\" : \"농구선수\"}\n",
        ")\n",
        "\n",
        "print(prompt_4)"
      ]
    },
    {
      "cell_type": "code",
      "execution_count": null,
      "metadata": {
        "id": "cPkn7obsqs_0"
      },
      "outputs": [],
      "source": [
        "chain = prompt_4 | llm"
      ]
    },
    {
      "cell_type": "code",
      "execution_count": null,
      "metadata": {
        "colab": {
          "base_uri": "https://localhost:8080/"
        },
        "id": "8DHg5JoNqyeB",
        "outputId": "a874a599-4cf0-4380-f7a9-922d90f32130"
      },
      "outputs": [
        {
          "data": {
            "text/plain": [
              "AIMessage(content='2023년 기준으로 잉글랜드에서 유명한 현역 축구선수 세 명을 소개하겠습니다.\\n\\n1. **해리 케인 (Harry Kane)**: 잉글랜드 국가대표팀의 주장이자 주요 공격수로, 프리미어리그에서 오랜 기간 동안 뛰어난 득점력을 보여주고 있습니다. 2023년에는 바이에른 뮌헨으로 이적하여 활약하고 있습니다.\\n\\n2. **마커스 래시포드 (Marcus Rashford)**: 맨체스터 유나이티드에서 뛰고 있는 공격수로, 빠른 스피드와 뛰어난 기술로 유명합니다. 또한, 경기장 밖에서도 사회적 이슈에 적극적으로 참여하며 많은 주목을 받고 있습니다.\\n\\n3. **필 포든 (Phil Foden)**: 맨체스터 시티에서 뛰고 있는 젊은 미드필더로, 뛰어난 기술과 창의적인 플레이로 주목받고 있습니다. 잉글랜드 국가대표팀에서도 중요한 역할을 맡고 있습니다.\\n\\n이 선수들은 잉글랜드 축구를 대표하는 인물들로, 각자의 팀과 국가대표팀에서 중요한 역할을 하고 있습니다.', additional_kwargs={'refusal': None}, response_metadata={'token_usage': {'completion_tokens': 260, 'prompt_tokens': 25, 'total_tokens': 285, 'completion_tokens_details': {'accepted_prediction_tokens': 0, 'audio_tokens': 0, 'reasoning_tokens': 0, 'rejected_prediction_tokens': 0}, 'prompt_tokens_details': {'audio_tokens': 0, 'cached_tokens': 0}}, 'model_name': 'gpt-4o-2024-08-06', 'system_fingerprint': 'fp_703d4ff298', 'finish_reason': 'stop', 'logprobs': None}, id='run-8e3dd70f-b0c1-4eee-a1ca-6eb4b58d6ab7-0', usage_metadata={'input_tokens': 25, 'output_tokens': 260, 'total_tokens': 285, 'input_token_details': {'audio': 0, 'cache_read': 0}, 'output_token_details': {'audio': 0, 'reasoning': 0}})"
            ]
          },
          "execution_count": 146,
          "metadata": {},
          "output_type": "execute_result"
        }
      ],
      "source": [
        "chain.invoke({\"input_1\":\"잉글랜드\",\"input_2\":\"축구선수\"})"
      ]
    },
    {
      "cell_type": "markdown",
      "metadata": {
        "id": "XbV_G_-arm9L"
      },
      "source": [
        "### Partial Variable의 사용 예"
      ]
    },
    {
      "cell_type": "code",
      "execution_count": null,
      "metadata": {
        "id": "kRJ1hU55rmY9"
      },
      "outputs": [],
      "source": [
        "from datetime import datetime\n",
        "\n",
        "prompt_6 = PromptTemplate(\n",
        "    template = \"오늘 날짜는 {today} 입니다. 오늘이 생일인 유명인 {n}명을 나열해 주세요. 생년월일을 표기해주세요.\",\n",
        "    input_variables=[\"n\"],\n",
        "    partial_variables={\n",
        "        \"today\" : datetime.now().strftime(\"%B %d\")\n",
        "    },\n",
        ")"
      ]
    },
    {
      "cell_type": "code",
      "execution_count": null,
      "metadata": {
        "colab": {
          "base_uri": "https://localhost:8080/"
        },
        "id": "nUGUASY1snk3",
        "outputId": "3f94d8cd-fcc3-4d11-bc57-4a1fb451fede"
      },
      "outputs": [
        {
          "data": {
            "text/plain": [
              "PromptTemplate(input_variables=['n'], input_types={}, partial_variables={'today': 'January 09'}, template='오늘 날짜는 {today} 입니다. 오늘이 생일인 유명인 {n}명을 나열해 주세요. 생년월일을 표기해주세요.')"
            ]
          },
          "execution_count": 182,
          "metadata": {},
          "output_type": "execute_result"
        }
      ],
      "source": [
        "prompt_6"
      ]
    },
    {
      "cell_type": "code",
      "execution_count": null,
      "metadata": {
        "colab": {
          "base_uri": "https://localhost:8080/",
          "height": 35
        },
        "id": "HPtsn3bVss7K",
        "outputId": "ba1ef76f-f4bc-4684-b908-bc945b65a53d"
      },
      "outputs": [
        {
          "data": {
            "application/vnd.google.colaboratory.intrinsic+json": {
              "type": "string"
            },
            "text/plain": [
              "'오늘 날짜는 January 09 입니다. 오늘이 생일인 유명인 3명을 나열해 주세요. 생년월일을 표기해주세요.'"
            ]
          },
          "execution_count": 183,
          "metadata": {},
          "output_type": "execute_result"
        }
      ],
      "source": [
        "prompt_6.format(n=3)"
      ]
    },
    {
      "cell_type": "code",
      "execution_count": null,
      "metadata": {
        "id": "4r6awptHtIIB"
      },
      "outputs": [],
      "source": [
        "chain = prompt_6|llm"
      ]
    },
    {
      "cell_type": "code",
      "execution_count": null,
      "metadata": {
        "id": "MjH1ADwotM5h"
      },
      "outputs": [],
      "source": [
        "Response_6 = chain.invoke({\"n\":\"3\"}).content"
      ]
    },
    {
      "cell_type": "code",
      "execution_count": null,
      "metadata": {
        "colab": {
          "base_uri": "https://localhost:8080/",
          "height": 53
        },
        "id": "yTqK06tItVX7",
        "outputId": "249052a3-c366-4723-ff0e-e39af03495a6"
      },
      "outputs": [
        {
          "data": {
            "application/vnd.google.colaboratory.intrinsic+json": {
              "type": "string"
            },
            "text/plain": [
              "'1월 9일이 생일인 유명인 중 세 명을 소개하겠습니다.\\n\\n1. 리처드 닉슨 (Richard Nixon) - 1913년 1월 9일\\n2. 케이트 미들턴 (Kate Middleton) - 1982년 1월 9일\\n3. 데이브 매튜스 (Dave Matthews) - 1967년 1월 9일\\n\\n이들은 각각 정치, 왕실, 음악 분야에서 잘 알려진 인물들입니다.'"
            ]
          },
          "execution_count": 186,
          "metadata": {},
          "output_type": "execute_result"
        }
      ],
      "source": [
        "Response_6"
      ]
    },
    {
      "cell_type": "markdown",
      "metadata": {
        "id": "GMGI21I969Y8"
      },
      "source": [
        "### PromptTemplate TAML 데이터 읽어오기"
      ]
    },
    {
      "cell_type": "code",
      "execution_count": null,
      "metadata": {
        "colab": {
          "base_uri": "https://localhost:8080/"
        },
        "id": "oCdm4x9IuJP0",
        "outputId": "406907b0-84fb-4d17-c2b8-efd2d064393c"
      },
      "outputs": [
        {
          "name": "stderr",
          "output_type": "stream",
          "text": [
            "WARNING:langchain_core.prompts.loading:No `_type` key found, defaulting to `prompt`.\n"
          ]
        }
      ],
      "source": [
        "from langchain_core.prompts import load_prompt\n",
        "\n",
        "prompt_yaml_1 = load_prompt(\"/content/data/fruit_color.yaml\")"
      ]
    },
    {
      "cell_type": "code",
      "execution_count": null,
      "metadata": {
        "colab": {
          "base_uri": "https://localhost:8080/"
        },
        "id": "4Pzx8kbX5KKS",
        "outputId": "65a1a5c0-7a98-4dd1-b06f-38bee78099c0"
      },
      "outputs": [
        {
          "data": {
            "text/plain": [
              "PromptTemplate(input_variables=['fruit'], input_types={}, partial_variables={}, template='{fruit}의 색상이 뭐야?')"
            ]
          },
          "execution_count": 7,
          "metadata": {},
          "output_type": "execute_result"
        }
      ],
      "source": [
        "prompt_yaml_1"
      ]
    },
    {
      "cell_type": "code",
      "execution_count": null,
      "metadata": {
        "colab": {
          "base_uri": "https://localhost:8080/",
          "height": 35
        },
        "id": "EsiCpbfz52qK",
        "outputId": "06a61399-eab1-46b0-cefe-6c440dceeb50"
      },
      "outputs": [
        {
          "data": {
            "application/vnd.google.colaboratory.intrinsic+json": {
              "type": "string"
            },
            "text/plain": [
              "'비트의 색상이 뭐야?'"
            ]
          },
          "execution_count": 8,
          "metadata": {},
          "output_type": "execute_result"
        }
      ],
      "source": [
        "prompt_yaml_1.format(fruit='비트')"
      ]
    },
    {
      "cell_type": "code",
      "execution_count": null,
      "metadata": {
        "id": "wXjxHerh6MFr"
      },
      "outputs": [],
      "source": [
        "chain = prompt_yaml_1|llm"
      ]
    }
  ],
  "metadata": {
    "colab": {
      "provenance": []
    },
    "kernelspec": {
      "display_name": "Python 3",
      "name": "python3"
    },
    "language_info": {
      "name": "python"
    }
  },
  "nbformat": 4,
  "nbformat_minor": 0
}
