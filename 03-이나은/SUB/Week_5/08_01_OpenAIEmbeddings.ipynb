{
  "nbformat": 4,
  "nbformat_minor": 0,
  "metadata": {
    "colab": {
      "provenance": []
    },
    "kernelspec": {
      "name": "python3",
      "display_name": "Python 3"
    },
    "language_info": {
      "name": "python"
    }
  },
  "cells": [
    {
      "cell_type": "code",
      "source": [
        "!pip install -qU langchain_openai"
      ],
      "metadata": {
        "id": "GrFW_7bxwvvc"
      },
      "execution_count": 37,
      "outputs": []
    },
    {
      "cell_type": "code",
      "source": [
        "from langchain_openai import OpenAIEmbeddings\n",
        "\n",
        "embeddings = OpenAIEmbeddings(model = 'text-embedding-3-small')"
      ],
      "metadata": {
        "id": "L5ApP1vjxTgP"
      },
      "execution_count": 38,
      "outputs": []
    },
    {
      "cell_type": "code",
      "source": [
        "text = '임베팅 테스트를 위한 샘플 문장입니다.'"
      ],
      "metadata": {
        "id": "rg6KN7KlxwCq"
      },
      "execution_count": 39,
      "outputs": []
    },
    {
      "cell_type": "markdown",
      "source": [
        "## 1. Quary Embedding"
      ],
      "metadata": {
        "id": "zliA07_8yd40"
      }
    },
    {
      "cell_type": "code",
      "source": [
        "quary_result = embeddings.embed_query(text)\n",
        "\n",
        "len(quary_result)"
      ],
      "metadata": {
        "colab": {
          "base_uri": "https://localhost:8080/"
        },
        "id": "cRwZ-Ue1yRmj",
        "outputId": "33a69f0b-9b69-432e-a82c-4f7a2ed34430"
      },
      "execution_count": 40,
      "outputs": [
        {
          "output_type": "execute_result",
          "data": {
            "text/plain": [
              "1536"
            ]
          },
          "metadata": {},
          "execution_count": 40
        }
      ]
    },
    {
      "cell_type": "markdown",
      "source": [
        "## 2. Document Embedding"
      ],
      "metadata": {
        "id": "T3wLjbwcF8g3"
      }
    },
    {
      "cell_type": "code",
      "source": [
        "text_2 = \"임베딩이란 임베딩은 데이터를 고정된 크기의 벡터로 변환하는 과정입니다. 보통 언어나 이미지와 같은 복잡한 데이터를 수학적으로 다루기 쉽게 표현하기 위해 사용됩니다.\"\n",
        "\n",
        "# 차원을 임베딩하여 문서 벡터 생성\n",
        "doc_result = embeddings.embed_documents(\n",
        "    [text_2, text_2, text_2, text_2]\n",
        ")"
      ],
      "metadata": {
        "id": "QKCuVpbuy-2d"
      },
      "execution_count": 41,
      "outputs": []
    },
    {
      "cell_type": "code",
      "source": [
        "doc_result[0][:5]"
      ],
      "metadata": {
        "colab": {
          "base_uri": "https://localhost:8080/"
        },
        "id": "eCRw_vnaHBSW",
        "outputId": "c84a0325-dd7c-4c1d-955d-884f0ae19b3b"
      },
      "execution_count": 42,
      "outputs": [
        {
          "output_type": "execute_result",
          "data": {
            "text/plain": [
              "[0.011202448979020119,\n",
              " 0.013468556106090546,\n",
              " 0.01064084842801094,\n",
              " -0.003973076120018959,\n",
              " 0.0204737801104784]"
            ]
          },
          "metadata": {},
          "execution_count": 42
        }
      ]
    },
    {
      "cell_type": "code",
      "source": [
        "len(doc_result[0])"
      ],
      "metadata": {
        "colab": {
          "base_uri": "https://localhost:8080/"
        },
        "id": "BIFaPzAgHFS7",
        "outputId": "aab324ab-35ee-4e7a-b8f1-64fde73ebdeb"
      },
      "execution_count": 43,
      "outputs": [
        {
          "output_type": "execute_result",
          "data": {
            "text/plain": [
              "1536"
            ]
          },
          "metadata": {},
          "execution_count": 43
        }
      ]
    },
    {
      "cell_type": "markdown",
      "source": [
        "## 3. 차원을 강제 배정"
      ],
      "metadata": {
        "id": "M5EWhcANHaux"
      }
    },
    {
      "cell_type": "code",
      "source": [
        "scaled_embeddings = OpenAIEmbeddings(model = 'text-embedding-3-small', dimensions = 1024)"
      ],
      "metadata": {
        "id": "nWCUqrLdHZph"
      },
      "execution_count": 46,
      "outputs": []
    },
    {
      "cell_type": "code",
      "source": [
        "len(scaled_embeddings.embed_documents([text])[0])"
      ],
      "metadata": {
        "colab": {
          "base_uri": "https://localhost:8080/"
        },
        "id": "02hZnbkqIOvX",
        "outputId": "e6250a6a-be91-46db-a3f8-10e1b6509e27"
      },
      "execution_count": 47,
      "outputs": [
        {
          "output_type": "execute_result",
          "data": {
            "text/plain": [
              "1024"
            ]
          },
          "metadata": {},
          "execution_count": 47
        }
      ]
    },
    {
      "cell_type": "markdown",
      "source": [
        "## 4. Similarity Calc"
      ],
      "metadata": {
        "id": "y-WPQB1PInvq"
      }
    },
    {
      "cell_type": "code",
      "source": [
        "sentence1 = \"안녕하세요? 반갑습니다.\"\n",
        "sentence2 = \"안녕하세요? 반갑습니다!\"\n",
        "sentence3 = \"안녕하세요? 만나서 반가워요.\"\n",
        "sentence4 = \"Hi, nice to meet you.\"\n",
        "sentence5 = \"I like to eat apples.\""
      ],
      "metadata": {
        "id": "9LACcJKbIV68"
      },
      "execution_count": 48,
      "outputs": []
    },
    {
      "cell_type": "code",
      "source": [
        "from sklearn.metrics.pairwise import cosine_similarity\n",
        "\n",
        "sentences = [sentence1, sentence2, sentence3, sentence4, sentence5]\n",
        "embedded_sentences=scaled_embeddings.embed_documents(sentences)"
      ],
      "metadata": {
        "id": "Jban4vZhI1y9"
      },
      "execution_count": 50,
      "outputs": []
    },
    {
      "cell_type": "code",
      "source": [
        "def similarity(a, b):\n",
        "  return cosine_similarity([a], [b])[0][0]"
      ],
      "metadata": {
        "id": "4wEtOmafKeOV"
      },
      "execution_count": 51,
      "outputs": []
    },
    {
      "cell_type": "code",
      "source": [
        "for i , sentence in enumerate(embedded_sentences):\n",
        "  for j, other_sentence in enumerate(embedded_sentences):\n",
        "    if i <j:\n",
        "      print(\n",
        "          f\"[유사도 {similarity(sentence, other_sentence):4f}] {sentences[i]} \\t <=====> \\t {sentences[j]}\"\n",
        "          )"
      ],
      "metadata": {
        "colab": {
          "base_uri": "https://localhost:8080/"
        },
        "id": "LwYmzd1jL5IV",
        "outputId": "d2d44511-a9f8-485d-e2eb-73427b2f67bf"
      },
      "execution_count": 52,
      "outputs": [
        {
          "output_type": "stream",
          "name": "stdout",
          "text": [
            "[유사도 0.964410] 안녕하세요? 반갑습니다. \t <=====> \t 안녕하세요? 반갑습니다!\n",
            "[유사도 0.837563] 안녕하세요? 반갑습니다. \t <=====> \t 안녕하세요? 만나서 반가워요.\n",
            "[유사도 0.504189] 안녕하세요? 반갑습니다. \t <=====> \t Hi, nice to meet you.\n",
            "[유사도 0.136176] 안녕하세요? 반갑습니다. \t <=====> \t I like to eat apples.\n",
            "[유사도 0.814209] 안녕하세요? 반갑습니다! \t <=====> \t 안녕하세요? 만나서 반가워요.\n",
            "[유사도 0.479023] 안녕하세요? 반갑습니다! \t <=====> \t Hi, nice to meet you.\n",
            "[유사도 0.131796] 안녕하세요? 반갑습니다! \t <=====> \t I like to eat apples.\n",
            "[유사도 0.512781] 안녕하세요? 만나서 반가워요. \t <=====> \t Hi, nice to meet you.\n",
            "[유사도 0.140877] 안녕하세요? 만나서 반가워요. \t <=====> \t I like to eat apples.\n",
            "[유사도 0.224936] Hi, nice to meet you. \t <=====> \t I like to eat apples.\n"
          ]
        }
      ]
    },
    {
      "cell_type": "code",
      "source": [
        "from sentence_transformers import SentenceTransformer\n",
        "from sklearn.metrics.pairwise import cosine_similarity\n",
        "\n",
        "# 다국어 지원 모델 불러오기\n",
        "model = SentenceTransformer('distiluse-base-multilingual-cased')\n",
        "\n",
        "# 문장 임베딩\n",
        "sentences = [\n",
        "    \"안녕하세요? 반갑습니다.\",\n",
        "    \"안녕하세요? 반갑습니다!\",\n",
        "    \"안녕하세요? 만나서 반가워요.\",\n",
        "    \"Hi, nice to meet you.\",\n",
        "    \"I like to eat apples.\"\n",
        "]\n",
        "embedded_sentences = model.encode(sentences)\n",
        "\n",
        "# 유사도 계산 함수\n",
        "def similarity(a, b):\n",
        "    return cosine_similarity([a], [b])[0][0]\n",
        "\n",
        "# 유사도 출력\n",
        "for i, sentence in enumerate(embedded_sentences):\n",
        "    for j, other_sentence in enumerate(embedded_sentences):\n",
        "        if i < j:\n",
        "            print(\n",
        "                f\"[유사도 {similarity(sentence, other_sentence):.4f}] {sentences[i]} \\t <=====> \\t {sentences[j]}\"\n",
        "            )"
      ],
      "metadata": {
        "colab": {
          "base_uri": "https://localhost:8080/"
        },
        "id": "6D_g9lO8P4wf",
        "outputId": "6eaf46dc-1b34-4a94-9eab-10dd7f1adac6"
      },
      "execution_count": 60,
      "outputs": [
        {
          "output_type": "stream",
          "name": "stdout",
          "text": [
            "[유사도 0.9952] 안녕하세요? 반갑습니다. \t <=====> \t 안녕하세요? 반갑습니다!\n",
            "[유사도 0.9879] 안녕하세요? 반갑습니다. \t <=====> \t 안녕하세요? 만나서 반가워요.\n",
            "[유사도 0.7848] 안녕하세요? 반갑습니다. \t <=====> \t Hi, nice to meet you.\n",
            "[유사도 0.1997] 안녕하세요? 반갑습니다. \t <=====> \t I like to eat apples.\n",
            "[유사도 0.9794] 안녕하세요? 반갑습니다! \t <=====> \t 안녕하세요? 만나서 반가워요.\n",
            "[유사도 0.7696] 안녕하세요? 반갑습니다! \t <=====> \t Hi, nice to meet you.\n",
            "[유사도 0.1915] 안녕하세요? 반갑습니다! \t <=====> \t I like to eat apples.\n",
            "[유사도 0.8436] 안녕하세요? 만나서 반가워요. \t <=====> \t Hi, nice to meet you.\n",
            "[유사도 0.2137] 안녕하세요? 만나서 반가워요. \t <=====> \t I like to eat apples.\n",
            "[유사도 0.1882] Hi, nice to meet you. \t <=====> \t I like to eat apples.\n"
          ]
        }
      ]
    },
    {
      "cell_type": "code",
      "source": [],
      "metadata": {
        "id": "7eAu9A0tn11n"
      },
      "execution_count": null,
      "outputs": []
    }
  ]
}