{
  "nbformat": 4,
  "nbformat_minor": 0,
  "metadata": {
    "colab": {
      "provenance": []
    },
    "kernelspec": {
      "name": "python3",
      "display_name": "Python 3"
    },
    "language_info": {
      "name": "python"
    }
  },
  "cells": [
    {
      "cell_type": "code",
      "source": [
        "!pip install -qU langchain langchain_openai"
      ],
      "metadata": {
        "id": "t1Jp_gZsJcFf"
      },
      "execution_count": null,
      "outputs": []
    },
    {
      "cell_type": "code",
      "execution_count": null,
      "metadata": {
        "id": "81CJZeogHjgh"
      },
      "outputs": [],
      "source": [
        "import os\n",
        "\n",
        "os.environ[\"OPENAI_API_KEY\"] = \"\"\n",
        "os.environ[\"LANGCHAIN_API_KEY\"] = \"\"\n",
        "os.environ[\"LANGCHAIN_TRACING_V2\"] = \"true\"\n",
        "os.environ[\"LANGCHAIN_ENDPOINT\"] = \"https://api.smith.langchain.com\"\n",
        "os.environ[\"LANGCHAIN_PROJECT\"] = \"01-03\""
      ]
    },
    {
      "cell_type": "code",
      "source": [
        "from langchain_core.prompts import ChatPromptTemplate, MessagesPlaceholder\n",
        "from langchain_openai import OpenAI\n",
        "from datetime import datetime\n",
        "import random\n",
        "import pytz"
      ],
      "metadata": {
        "id": "7UNIi1LnJXly"
      },
      "execution_count": null,
      "outputs": []
    },
    {
      "cell_type": "code",
      "source": [
        "# 현재 시간을 바로 사용\n",
        "now = datetime.now()"
      ],
      "metadata": {
        "id": "VwiRBZi5MZX3"
      },
      "execution_count": null,
      "outputs": []
    },
    {
      "cell_type": "code",
      "source": [
        "# 랜덤으로 선택할 국가 목록과 시간대 정보\n",
        "nations = [\n",
        "    (\"대한민국\", \"Asia/Seoul\"),\n",
        "    (\"미국\", \"America/New_York\"),\n",
        "    (\"영국\", \"Europe/London\"),\n",
        "    (\"일본\", \"Asia/Tokyo\"),\n",
        "    (\"프랑스\", \"Europe/Paris\"),\n",
        "    (\"독일\", \"Europe/Berlin\"),\n",
        "    (\"중국\", \"Asia/Shanghai\")\n",
        "]\n",
        "\n",
        "# 랜덤으로 국가와 시간대 선택\n",
        "nation, timezone_str = random.choice(nations)\n",
        "\n",
        "# 해당 국가의 실시간 시간 가져오기\n",
        "current_time = datetime.now(pytz.timezone(timezone_str))\n",
        "\n",
        "# 시간 정보 추출\n",
        "year = current_time.year\n",
        "month = current_time.month\n",
        "day = current_time.day\n",
        "hour = current_time.hour\n",
        "minute = current_time.minute\n",
        "second = current_time.second"
      ],
      "metadata": {
        "id": "aQE6NXyQMemg"
      },
      "execution_count": null,
      "outputs": []
    },
    {
      "cell_type": "code",
      "source": [
        "chat_prompt = ChatPromptTemplate.from_messages(\n",
        "    [\n",
        "        (\n",
        "            \"system\",\n",
        "            \"당신은 요약 전문 AI 어시스턴트입니다. 당신의 임무는 현재 시간을 제공하고 이를 대화의 주요 키워드로 요약하는 것입니다.\"\n",
        "        ),\n",
        "        (\"human\", \"{nation}현재시간은 {year}년 {month}월 {day}일 {hour}시 {minute}분 {second}초에 대해 요약합니다.\")\n",
        "    ]\n",
        ")"
      ],
      "metadata": {
        "id": "al2ER1ZmIIAy"
      },
      "execution_count": null,
      "outputs": []
    },
    {
      "cell_type": "code",
      "source": [
        "chat_prompt"
      ],
      "metadata": {
        "colab": {
          "base_uri": "https://localhost:8080/"
        },
        "id": "RJW9rUQJJkVV",
        "outputId": "6db921ed-7205-4b16-8ef7-9bc4fde655d6"
      },
      "execution_count": null,
      "outputs": [
        {
          "output_type": "execute_result",
          "data": {
            "text/plain": [
              "ChatPromptTemplate(input_variables=['day', 'hour', 'minute', 'month', 'nation', 'second', 'year'], input_types={}, partial_variables={}, messages=[SystemMessagePromptTemplate(prompt=PromptTemplate(input_variables=[], input_types={}, partial_variables={}, template='당신은 요약 전문 AI 어시스턴트입니다. 당신의 임무는 현재 시간을 제공하고 이를 대화의 주요 키워드로 요약하는 것입니다.'), additional_kwargs={}), HumanMessagePromptTemplate(prompt=PromptTemplate(input_variables=['day', 'hour', 'minute', 'month', 'nation', 'second', 'year'], input_types={}, partial_variables={}, template='{nation}현재시간은 {year}년 {month}월 {day}일 {hour}시 {minute}분 {second}초에 대해 요약합니다.'), additional_kwargs={})])"
            ]
          },
          "metadata": {},
          "execution_count": 42
        }
      ]
    },
    {
      "cell_type": "code",
      "source": [
        "# 메시지 생성\n",
        "message = chat_prompt.format_messages(\n",
        "    nation=nation, year=year, month=month, day=day, hour=hour, minute=minute, second=second\n",
        ")\n",
        "\n",
        "# 생성된 메시지 출력\n",
        "print(message)"
      ],
      "metadata": {
        "colab": {
          "base_uri": "https://localhost:8080/"
        },
        "id": "VI4joBoYQ2YA",
        "outputId": "64dabf77-3eee-47cd-89bc-3dab11d0f45b"
      },
      "execution_count": null,
      "outputs": [
        {
          "output_type": "stream",
          "name": "stdout",
          "text": [
            "[SystemMessage(content='당신은 요약 전문 AI 어시스턴트입니다. 당신의 임무는 현재 시간을 제공하고 이를 대화의 주요 키워드로 요약하는 것입니다.', additional_kwargs={}, response_metadata={}), HumanMessage(content='일본현재시간은 2025년 1월 14일 9시 42분 37초에 대해 요약합니다.', additional_kwargs={}, response_metadata={})]\n"
          ]
        }
      ]
    },
    {
      "cell_type": "code",
      "source": [],
      "metadata": {
        "id": "V__wQ-RBN51c"
      },
      "execution_count": null,
      "outputs": []
    }
  ]
}