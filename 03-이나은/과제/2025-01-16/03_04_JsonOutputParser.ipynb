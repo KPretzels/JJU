{
  "nbformat": 4,
  "nbformat_minor": 0,
  "metadata": {
    "colab": {
      "provenance": []
    },
    "kernelspec": {
      "name": "python3",
      "display_name": "Python 3"
    },
    "language_info": {
      "name": "python"
    }
  },
  "cells": [
    {
      "cell_type": "code",
      "execution_count": 35,
      "metadata": {
        "id": "TQ8m-aAfTB90"
      },
      "outputs": [],
      "source": [
        "import os\n",
        "\n",
        "os.environ[\"OPENAI_API_KEY\"] = \"\"\n",
        "os.environ[\"LANGCHAIN_API_KEY\"] = \"\"\n",
        "os.environ[\"LANGCHAIN_TRACING_V2\"] = \"true\"\n",
        "os.environ[\"LANGCHAIN_ENDPOINT\"] = \"https://api.smith.langchain.com\"\n",
        "os.environ[\"LANGCHAIN_PROJECT\"] = \"01-03-4\""
      ]
    },
    {
      "cell_type": "code",
      "source": [
        "!pip install -qU langchain_core langchain_openai"
      ],
      "metadata": {
        "id": "Mqcs4nclUXWf"
      },
      "execution_count": 36,
      "outputs": []
    },
    {
      "cell_type": "markdown",
      "source": [
        "### pydantic 사용하지 않을 때 (구조화)"
      ],
      "metadata": {
        "id": "kw0EQHFlgMyv"
      }
    },
    {
      "cell_type": "code",
      "source": [
        "from langchain_core.prompts import ChatPromptTemplate\n",
        "from langchain_core.output_parsers import JsonOutputParser\n",
        "from langchain_openai import ChatOpenAI\n",
        "from pydantic import BaseModel, Field"
      ],
      "metadata": {
        "id": "EzIX407KTKlc"
      },
      "execution_count": 37,
      "outputs": []
    },
    {
      "cell_type": "code",
      "source": [
        "model = ChatOpenAI(temperature=0, model_name = 'gpt-4o')"
      ],
      "metadata": {
        "id": "jXrWmZP_UjB_"
      },
      "execution_count": 38,
      "outputs": []
    },
    {
      "cell_type": "code",
      "source": [
        "class Topic(BaseModel):\n",
        "  description: str = Field(description='주제에 대한 간결한 설명')\n",
        "  hashtags : str = Field(description = '해시태그 형식의 키워드 (2개 이상)')"
      ],
      "metadata": {
        "id": "8CKDbpoFUuRx"
      },
      "execution_count": 39,
      "outputs": []
    },
    {
      "cell_type": "code",
      "source": [
        "parser = JsonOutputParser(pydantic_schema = Topic)"
      ],
      "metadata": {
        "id": "hu4FEZ6-VCCz"
      },
      "execution_count": 40,
      "outputs": []
    },
    {
      "cell_type": "code",
      "source": [
        "prompt = ChatPromptTemplate.from_messages(\n",
        "    [\n",
        "        (\"system\", \"당신은 친절한 AI 어시스턴트입니다. 질문에 간결하게 대답하세요.\"),\n",
        "        (\"user\", \"#Format: {format_instructions}\\n\\n #Qustion: {question}\"),\n",
        "    ]\n",
        ")\n",
        "\n",
        "prompt = prompt.partial(format_instructions = parser.get_format_instructions())"
      ],
      "metadata": {
        "id": "yVDHgeugVGW0"
      },
      "execution_count": 41,
      "outputs": []
    },
    {
      "cell_type": "code",
      "source": [
        "chain = prompt | model | parser"
      ],
      "metadata": {
        "id": "MftuUyn9VpeJ"
      },
      "execution_count": 42,
      "outputs": []
    },
    {
      "cell_type": "code",
      "source": [
        "question = \"유튜버의 폐해.\"\n",
        "answer = chain.invoke({'question':question})"
      ],
      "metadata": {
        "id": "7iITgnHlWrKd"
      },
      "execution_count": 53,
      "outputs": []
    },
    {
      "cell_type": "code",
      "source": [
        "answer"
      ],
      "metadata": {
        "colab": {
          "base_uri": "https://localhost:8080/"
        },
        "id": "ljwpdo73g858",
        "outputId": "7bd64fad-3977-4fc6-b2c3-4dde4653ac5f"
      },
      "execution_count": 52,
      "outputs": [
        {
          "output_type": "execute_result",
          "data": {
            "text/plain": [
              "{'description': '지구 온난화는 대기 중 온실가스 농도의 증가로 인해 지구의 평균 기온이 상승하는 현상입니다. 이는 주로 화석 연료의 연소, 산림 파괴, 산업 활동 등 인간의 활동에 의해 촉발됩니다. 지구 온난화는 기후 변화, 해수면 상승, 극단적인 기상 현상 증가 등 다양한 환경적 영향을 초래합니다.',\n",
              " 'hashtags': ['#지구온난화', '#기후변화', '#온실가스', '#환경문제', '#지속가능성']}"
            ]
          },
          "metadata": {},
          "execution_count": 52
        }
      ]
    },
    {
      "cell_type": "code",
      "source": [
        "print(type(answer))"
      ],
      "metadata": {
        "colab": {
          "base_uri": "https://localhost:8080/"
        },
        "id": "tw8KEnQNgzcW",
        "outputId": "26323377-7826-4307-c68d-ea535c654ff8"
      },
      "execution_count": 46,
      "outputs": [
        {
          "output_type": "stream",
          "name": "stdout",
          "text": [
            "<class 'dict'>\n"
          ]
        }
      ]
    },
    {
      "cell_type": "markdown",
      "source": [
        "### pydantic 사용하지 않을 때"
      ],
      "metadata": {
        "id": "nugvI8oagHNg"
      }
    },
    {
      "cell_type": "code",
      "source": [
        "# 질의 작성\n",
        "question = \"지구 온난화에 대해 알려주세요. 온난화에 대한 설명은 'description'예, 관련 키워드는 'hashtags'에 담아주세요.\"\n",
        "\n",
        "#JSON 출력 파서 초기화\n",
        "parser = JsonOutputParser()\n",
        "\n",
        "# 프롬포트 템플릿을 설정합니다.\n",
        "prompt = ChatPromptTemplate.from_messages(\n",
        "    [\n",
        "        (\"system\", \"당신은 친절한 AI 어시스턴트입니다. 질문에 간결하게 대답하세요.\"),\n",
        "        (\"user\", \"#Format: {format_instructions}\\n\\n #Qustion: {question}\"),\n",
        "    ]\n",
        ")\n",
        "\n",
        "# 지시사항을 프롬포트에 주입합니다.\n",
        "prompt = prompt.partial(format_instructions = parser.get_format_instructions())\n",
        "\n",
        "# 프롬포트, 모델, 파서를 연결하는 체인 생성\n",
        "chain = prompt | model | parser\n",
        "\n",
        "# 체인을 호출하여 쿼리 실행\n",
        "response = chain.invoke({\"question\" : question})"
      ],
      "metadata": {
        "id": "aJ4EI7u7Wy2w"
      },
      "execution_count": 32,
      "outputs": []
    },
    {
      "cell_type": "code",
      "source": [
        "print(response)"
      ],
      "metadata": {
        "colab": {
          "base_uri": "https://localhost:8080/"
        },
        "id": "ItMfEPX9g3o1",
        "outputId": "1a2a4199-ffdd-48db-9b8e-b8cd709c30c1"
      },
      "execution_count": 49,
      "outputs": [
        {
          "output_type": "stream",
          "name": "stdout",
          "text": [
            "{'description': '지구 온난화는 대기 중 온실가스 농도의 증가로 인해 지구의 평균 기온이 상승하는 현상입니다. 이는 주로 화석 연료의 연소, 산림 파괴, 산업 활동 등 인간의 활동에 의해 촉발됩니다. 지구 온난화는 기후 변화, 해수면 상승, 극단적인 기상 현상 증가 등 다양한 환경적 영향을 초래합니다.', 'hashtags': ['#지구온난화', '#기후변화', '#온실가스', '#환경문제', '#지속가능성']}\n"
          ]
        }
      ]
    },
    {
      "cell_type": "code",
      "source": [
        "print(type(response))"
      ],
      "metadata": {
        "colab": {
          "base_uri": "https://localhost:8080/"
        },
        "id": "pH6l6y8UZu8x",
        "outputId": "89027123-6fb4-4767-9258-d3c71a10829e"
      },
      "execution_count": 47,
      "outputs": [
        {
          "output_type": "stream",
          "name": "stdout",
          "text": [
            "<class 'dict'>\n"
          ]
        }
      ]
    },
    {
      "cell_type": "code",
      "source": [],
      "metadata": {
        "id": "yGkLFxXWg3AF"
      },
      "execution_count": null,
      "outputs": []
    }
  ]
}