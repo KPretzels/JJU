{
 "cells": [
  {
   "cell_type": "markdown",
   "metadata": {
    "id": "pEnDr3e01Qvz"
   },
   "source": [
    "- **열거형 파싱**: 문자열 출력을 미리 정의된 Enum 값으로 변환합니다\n",
    "- **타입 안전성**: 파싱된 결과가 반드시 정의된 Enum 값 중 하나임을 보장합니다.\n",
    "- **유연성**: 공백이나 줄바꿈 문자를 자동으로 처리합니다."
   ]
  },
  {
   "cell_type": "code",
   "execution_count": 56,
   "metadata": {
    "executionInfo": {
     "elapsed": 414,
     "status": "ok",
     "timestamp": 1737078333433,
     "user": {
      "displayName": "유상민",
      "userId": "13412534722180768201"
     },
     "user_tz": -540
    },
    "id": "kxSQPUBY1oN8"
   },
   "outputs": [],
   "source": [
    "import os\n",
    "\n",
    "os.environ[\"OPENAI_API_KEY\"] = \"\"\n",
    "os.environ[\"LANGCHAIN_API_KEY\"] = \"\"\n",
    "os.environ[\"LANGCHAIN_TRACING_V2\"] = \"true\"\n",
    "os.environ[\"LANGCHAIN_ENDPOINT\"] = \"https://api.smith.langchain.com\"\n",
    "os.environ[\"LANGCHAIN_PROJECT\"] = \"03-07\"\n",
    "\n"
   ]
  },
  {
   "cell_type": "code",
   "execution_count": 57,
   "metadata": {
    "executionInfo": {
     "elapsed": 2,
     "status": "ok",
     "timestamp": 1737078333788,
     "user": {
      "displayName": "유상민",
      "userId": "13412534722180768201"
     },
     "user_tz": -540
    },
    "id": "Dok6YWHM1uYv"
   },
   "outputs": [],
   "source": [
    "from langchain.output_parsers.enum import EnumOutputParser"
   ]
  },
  {
   "cell_type": "code",
   "execution_count": 58,
   "metadata": {
    "executionInfo": {
     "elapsed": 2,
     "status": "ok",
     "timestamp": 1737078333788,
     "user": {
      "displayName": "유상민",
      "userId": "13412534722180768201"
     },
     "user_tz": -540
    },
    "id": "0vxEZv8e15aT"
   },
   "outputs": [],
   "source": [
    "from enum import Enum\n",
    "\n",
    "class Colors(Enum):\n",
    "    RED = \"빨간색\"\n",
    "    GREEN = \"초록색\"\n",
    "    BLUE = \"파란색\"\n",
    "    YELLOW = \"노란색\"\n",
    "    ORANGE = \"주황색\"\n",
    "    PURPLE = \"보라색\"\n",
    "    PINK = \"분홍색\"\n",
    "    BROWN = \"갈색\"  # 나무 책상에 흔히 사용되는 색\n",
    "    BLACK = \"검정색\"\n",
    "    WHITE = \"흰색\"\n",
    "    GRAY = \"회색\"  # 금속 책상 또는 모던한 디자인 색상\n",
    "    CYAN = \"청록색\"\n",
    "    MAGENTA = \"자홍색\"\n",
    "    LIME = \"라임색\"\n",
    "    NAVY = \"남색\"\n",
    "    MAROON = \"적갈색\"\n",
    "    OLIVE = \"올리브색\"\n",
    "    TEAL = \"틸색\"\n",
    "    INDIGO = \"남보라색\"\n",
    "    GOLD = \"금색\"\n",
    "    BEIGE = \"베이지색\"  # 나무 또는 플라스틱 책상에서 자주 사용\n",
    "    CHARCOAL = \"차콜색\"  # 어두운 회색 계열, 모던 책상에 적합\n"
   ]
  },
  {
   "cell_type": "code",
   "execution_count": 59,
   "metadata": {
    "executionInfo": {
     "elapsed": 2,
     "status": "ok",
     "timestamp": 1737078333788,
     "user": {
      "displayName": "유상민",
      "userId": "13412534722180768201"
     },
     "user_tz": -540
    },
    "id": "agQ1dRJT2mhK"
   },
   "outputs": [],
   "source": [
    "parser = EnumOutputParser(enum=Colors)"
   ]
  },
  {
   "cell_type": "code",
   "execution_count": 60,
   "metadata": {
    "colab": {
     "base_uri": "https://localhost:8080/",
     "height": 35
    },
    "executionInfo": {
     "elapsed": 4,
     "status": "ok",
     "timestamp": 1737078334130,
     "user": {
      "displayName": "유상민",
      "userId": "13412534722180768201"
     },
     "user_tz": -540
    },
    "id": "g7oLr4gT4MwN",
    "outputId": "8a59b1ea-fab8-4a97-9274-e784913fa14f"
   },
   "outputs": [
    {
     "data": {
      "application/vnd.google.colaboratory.intrinsic+json": {
       "type": "string"
      },
      "text/plain": [
       "'Select one of the following options: 빨간색, 초록색, 파란색, 노란색, 주황색, 보라색, 분홍색, 갈색, 검정색, 흰색, 회색, 청록색, 자홍색, 라임색, 남색, 적갈색, 올리브색, 틸색, 남보라색, 금색, 베이지색, 차콜색'"
      ]
     },
     "execution_count": 60,
     "metadata": {},
     "output_type": "execute_result"
    }
   ],
   "source": [
    "parser.get_format_instructions()"
   ]
  },
  {
   "cell_type": "code",
   "execution_count": 75,
   "metadata": {
    "executionInfo": {
     "elapsed": 277,
     "status": "ok",
     "timestamp": 1737078511865,
     "user": {
      "displayName": "유상민",
      "userId": "13412534722180768201"
     },
     "user_tz": -540
    },
    "id": "MSPl_o-R2rhr"
   },
   "outputs": [],
   "source": [
    "from langchain_core.prompts import PromptTemplate\n",
    "\n",
    "prompt = PromptTemplate.from_template(\n",
    "    \"\"\" 다음의 물체는 어떤 색깔인가요?\n",
    "    Object: {object}\n",
    "\n",
    "    instructions: {instructions}\n",
    "\n",
    "    출력은 무조건 색깔 하나를 골라서 출력해야 합니다.\n",
    "\n",
    "    \"\"\"\n",
    ").partial(instructions=parser.get_format_instructions())"
   ]
  },
  {
   "cell_type": "code",
   "execution_count": 66,
   "metadata": {
    "executionInfo": {
     "elapsed": 2827,
     "status": "ok",
     "timestamp": 1737078406047,
     "user": {
      "displayName": "유상민",
      "userId": "13412534722180768201"
     },
     "user_tz": -540
    },
    "id": "-dQISpcC4ofz"
   },
   "outputs": [],
   "source": [
    "!pip install -qU langchain_openai"
   ]
  },
  {
   "cell_type": "code",
   "execution_count": 76,
   "metadata": {
    "executionInfo": {
     "elapsed": 433,
     "status": "ok",
     "timestamp": 1737078513495,
     "user": {
      "displayName": "유상민",
      "userId": "13412534722180768201"
     },
     "user_tz": -540
    },
    "id": "UWrBegsk3Qbs"
   },
   "outputs": [],
   "source": [
    "from langchain_openai import ChatOpenAI\n",
    "llm = ChatOpenAI(temperature=0, model_name=\"gpt-4o\")\n",
    "\n",
    "chain= prompt | llm | parser\n"
   ]
  },
  {
   "cell_type": "code",
   "execution_count": 77,
   "metadata": {
    "executionInfo": {
     "elapsed": 847,
     "status": "ok",
     "timestamp": 1737078514340,
     "user": {
      "displayName": "유상민",
      "userId": "13412534722180768201"
     },
     "user_tz": -540
    },
    "id": "wNBDGZWU4qUp"
   },
   "outputs": [],
   "source": [
    "response = chain.invoke({\"object\": \"책상\"})"
   ]
  },
  {
   "cell_type": "code",
   "execution_count": 78,
   "metadata": {
    "colab": {
     "base_uri": "https://localhost:8080/"
    },
    "executionInfo": {
     "elapsed": 2,
     "status": "ok",
     "timestamp": 1737078514340,
     "user": {
      "displayName": "유상민",
      "userId": "13412534722180768201"
     },
     "user_tz": -540
    },
    "id": "_dWf8kCx41Ti",
    "outputId": "83f9adf6-0cc0-4a0c-901d-38b086302368"
   },
   "outputs": [
    {
     "data": {
      "text/plain": [
       "<Colors.BROWN: '갈색'>"
      ]
     },
     "execution_count": 78,
     "metadata": {},
     "output_type": "execute_result"
    }
   ],
   "source": [
    "response"
   ]
  },
  {
   "cell_type": "code",
   "execution_count": null,
   "metadata": {
    "executionInfo": {
     "elapsed": 2,
     "status": "aborted",
     "timestamp": 1737078339553,
     "user": {
      "displayName": "유상민",
      "userId": "13412534722180768201"
     },
     "user_tz": -540
    },
    "id": "xf58bDEg518a"
   },
   "outputs": [],
   "source": []
  }
 ],
 "metadata": {
  "colab": {
   "authorship_tag": "ABX9TyOYEVryMcETchR/+q+S/SLk",
   "provenance": []
  },
  "kernelspec": {
   "display_name": "Python 3",
   "name": "python3"
  },
  "language_info": {
   "name": "python"
  }
 },
 "nbformat": 4,
 "nbformat_minor": 0
}
