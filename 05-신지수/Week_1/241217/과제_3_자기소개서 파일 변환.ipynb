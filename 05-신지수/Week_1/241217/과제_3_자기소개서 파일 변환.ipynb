{
 "cells": [
  {
   "cell_type": "markdown",
   "metadata": {},
   "source": [
    "# 지수의 자기소개서"
   ]
  },
  {
   "cell_type": "markdown",
   "metadata": {},
   "source": [
    "## 성장 과정"
   ]
  },
  {
   "cell_type": "markdown",
   "metadata": {},
   "source": [
    "- 부모님은 노력과 다양한 경험의 중요성을 강조\n",
    "- 수학과 과학에 대한 흥미를 어린시절부터 키움\n",
    "- 합기도를 통해 목표 설정과 끈기, 열정을 배움\n",
    "- 제과제빵을 통해 창의성을 배움\n",
    "- 수학 부장을 맡는 것 뿐만 아니라 대회에 나가 팀워크 및 문제 해결 능력을 향상시킴"
   ]
  },
  {
   "cell_type": "markdown",
   "metadata": {},
   "source": [
    "## 성격"
   ]
  },
  {
   "cell_type": "markdown",
   "metadata": {},
   "source": [
    "- 책임감과 창의적인 탐구 정신을 지니고 있음\n",
    "- 팀 프로젝트에서 리더 역할을 맡아 팀원을 격려하며 협력의 중요성을 배움"
   ]
  },
  {
   "cell_type": "markdown",
   "metadata": {},
   "source": [
    "## 대학생활 및 경력"
   ]
  },
  {
   "cell_type": "markdown",
   "metadata": {},
   "source": [
    "- 1학년\n",
    "    - AI관련 박람회 관람\n",
    "    - 기업 관계자 특강을 통해 최신 기술 동향 파악\n",
    "    - AI대회에 참여하여 데이터 분석 능력 기름\n",
    "- 2학년\n",
    "    - 해외 어학연수를 통해 영어 회화 향상\n",
    "    - AI 해커톤에서 동상 수상\n",
    "    - 서비스러닝 프로젝트를 통해 경험 쌓음\n",
    "- 3학년\n",
    "    - 토론토 대학에서 2주간 인공지능에 대한 공부함\n",
    "    - 위밋(We-meet) 프로젝트를 통해 실제 기업과 협력함"
   ]
  },
  {
   "cell_type": "markdown",
   "metadata": {},
   "source": [
    "## 지원동기"
   ]
  },
  {
   "cell_type": "markdown",
   "metadata": {},
   "source": [
    "- 비트 컴퓨터의 인공지능 과정에 지원, 실무 기술 습득 및 포트폴리오 작성의 기회를 통해 전문성을 높이고자 함\n",
    "- 실습과 프로젝트 경험을 통해 배운 내용을 실제로 적용하고 싶음"
   ]
  },
  {
   "cell_type": "markdown",
   "metadata": {},
   "source": [
    "## 입사 후 포부"
   ]
  },
  {
   "cell_type": "markdown",
   "metadata": {},
   "source": [
    "로봇 제어 및 이미지 세그멘테이션 분야에서 전문성을 심화하고, 학석사 통합 과정을 함으로써 산업에서의 지식과 경험을 활용하고자 함"
   ]
  }
 ],
 "metadata": {
  "language_info": {
   "name": "python"
  }
 },
 "nbformat": 4,
 "nbformat_minor": 2
}
