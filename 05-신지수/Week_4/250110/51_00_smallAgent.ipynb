{
 "cells": [
  {
   "cell_type": "code",
   "execution_count": 1,
   "metadata": {
    "executionInfo": {
     "elapsed": 13070,
     "status": "ok",
     "timestamp": 1736475189038,
     "user": {
      "displayName": "신지수",
      "userId": "00602320465039465849"
     },
     "user_tz": -540
    },
    "id": "ZIt5ceDQvovM"
   },
   "outputs": [],
   "source": [
    "!pip install -qU praisonaiagents\n",
    "!pip install -qU duckduckgo_search"
   ]
  },
  {
   "cell_type": "code",
   "execution_count": 2,
   "metadata": {
    "executionInfo": {
     "elapsed": 3,
     "status": "ok",
     "timestamp": 1736475189038,
     "user": {
      "displayName": "신지수",
      "userId": "00602320465039465849"
     },
     "user_tz": -540
    },
    "id": "Fz9uGDaVwSiB"
   },
   "outputs": [],
   "source": [
    "import os\n",
    "\n",
    "os.environ[\"OPENAI_API_KEY\"] = \"API 키\"\n",
    "os.environ[\"LANGCHAIN_API_KEY\"] = \"API 키\"\n",
    "os.environ[\"LANGCHAIN_TRACING_V2\"] = \"true\"\n",
    "os.environ[\"LANGCHAIN_ENDPOINT\"] = \"https://api.smith.langchain.com\"\n",
    "os.environ[\"LANGCHAIN_PROJECT\"] = \"test_JJU_ShinJisoo\""
   ]
  },
  {
   "cell_type": "code",
   "execution_count": 3,
   "metadata": {
    "colab": {
     "base_uri": "https://localhost:8080/"
    },
    "executionInfo": {
     "elapsed": 51459,
     "status": "ok",
     "timestamp": 1736475240495,
     "user": {
      "displayName": "신지수",
      "userId": "00602320465039465849"
     },
     "user_tz": -540
    },
    "id": "wrW6GoRWvQqI",
    "outputId": "6b84545f-359c-49c3-ca7a-a10d86d7a04b"
   },
   "outputs": [
    {
     "name": "stdout",
     "output_type": "stream",
     "text": [
      "어떤 주제를 검색하고 싶은지 질문해주세요 \n",
      "종료하려면 \"종료\" 입력 \n",
      "→ 방탄의 근황\n"
     ]
    }
   ],
   "source": [
    "from praisonaiagents import Agent, Agents, Tools, PraisonAIAgents\n",
    "\n",
    "def simba_Agent(research_instr, summarize_instr):\n",
    "  research_agent = Agent(\n",
    "      instructions = research_instr,\n",
    "      tools = [Tools.internet_search]\n",
    "  )\n",
    "  summarize_agent = Agent(\n",
    "      instructions = summarize_instr,\n",
    "      )\n",
    "\n",
    "  agents = Agents([research_agent, summarize_agent])\n",
    "  return agents\n",
    "\n",
    "while True:\n",
    "  research_instr = input('어떤 주제를 검색하고 싶은지 질문해주세요 \\n종료하려면 \"종료\" 입력 \\n→ ')\n",
    "  if research_instr == '끝' or '종료' or 'b' or 'break':\n",
    "    break\n",
    "  else:\n",
    "    summarize_instr = input('검색한 내용을 어떤식으로 요약하길 원하는지 답변해주세요 \\n→ ')\n",
    "\n",
    "    agents_instance = simba_Agent(research_instr, summarize_instr)\n",
    "    agents_instance.start()"
   ]
  },
  {
   "cell_type": "code",
   "execution_count": 3,
   "metadata": {
    "executionInfo": {
     "elapsed": 3,
     "status": "ok",
     "timestamp": 1736475240495,
     "user": {
      "displayName": "신지수",
      "userId": "00602320465039465849"
     },
     "user_tz": -540
    },
    "id": "FDXYteVfvplZ"
   },
   "outputs": [],
   "source": []
  }
 ],
 "metadata": {
  "colab": {
   "authorship_tag": "ABX9TyM8L5o4kV50rbIvANBn1pSe",
   "provenance": []
  },
  "kernelspec": {
   "display_name": "Python 3",
   "name": "python3"
  },
  "language_info": {
   "name": "python"
  }
 },
 "nbformat": 4,
 "nbformat_minor": 0
}
