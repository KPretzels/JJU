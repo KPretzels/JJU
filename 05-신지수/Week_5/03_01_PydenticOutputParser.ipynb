{
 "cells": [
  {
   "cell_type": "code",
   "execution_count": 2,
   "metadata": {
    "colab": {
     "base_uri": "https://localhost:8080/"
    },
    "executionInfo": {
     "elapsed": 15118,
     "status": "ok",
     "timestamp": 1736833007890,
     "user": {
      "displayName": "신지수",
      "userId": "00602320465039465849"
     },
     "user_tz": -540
    },
    "id": "J_2vW102A6yf",
    "outputId": "dadfc604-2bff-489b-8ff4-fea41b6245c5"
   },
   "outputs": [
    {
     "name": "stdout",
     "output_type": "stream",
     "text": [
      "\u001b[2K   \u001b[90m━━━━━━━━━━━━━━━━━━━━━━━━━━━━━━━━━━━━━━━━\u001b[0m \u001b[32m54.2/54.2 kB\u001b[0m \u001b[31m2.6 MB/s\u001b[0m eta \u001b[36m0:00:00\u001b[0m\n",
      "\u001b[2K   \u001b[90m━━━━━━━━━━━━━━━━━━━━━━━━━━━━━━━━━━━━━━━━\u001b[0m \u001b[32m1.2/1.2 MB\u001b[0m \u001b[31m18.2 MB/s\u001b[0m eta \u001b[36m0:00:00\u001b[0m\n",
      "\u001b[?25h"
     ]
    }
   ],
   "source": [
    "!pip install -qU langchain_openai"
   ]
  },
  {
   "cell_type": "code",
   "execution_count": 3,
   "metadata": {
    "executionInfo": {
     "elapsed": 3,
     "status": "ok",
     "timestamp": 1736833007890,
     "user": {
      "displayName": "신지수",
      "userId": "00602320465039465849"
     },
     "user_tz": -540
    },
    "id": "HMLPfaIuB1XK"
   },
   "outputs": [],
   "source": [
    "email_conversation = \"\"\"\n",
    "From: John (John@bikecorporation.me)\n",
    "To: Kim (Kim@teddyinternational.me)\n",
    "Subject: “ZENESIS” bike distribution cooperation and meeting schedule proposal\n",
    "Dear Mr. Kim,\n",
    "\n",
    "I am John, Senior Executive Director at Bike Corporation. I recently learned about your new bicycle model, \"ZENESIS,\" through your press release. Bike Corporation is a company that leads innovation and quality in the field of bicycle manufacturing and distribution, with long-time experience and expertise in this field.\n",
    "\n",
    "We would like to request a detailed brochure for the ZENESIS model. In particular, we need information on technical specifications, battery performance, and design aspects. This information will help us further refine our proposed distribution strategy and marketing plan.\n",
    "\n",
    "Additionally, to discuss the possibilities for collaboration in more detail, I propose a meeting next Tuesday, January 15th, at 10:00 AM. Would it be possible to meet at your office to have this discussion?\n",
    "\n",
    "Thank you.\n",
    "\n",
    "Best regards,\n",
    "John\n",
    "Senior Executive Director\n",
    "Bike Corporation\n",
    "\"\"\""
   ]
  },
  {
   "cell_type": "markdown",
   "metadata": {
    "id": "4gNDJ5CvCbjg"
   },
   "source": [
    "### Output Parser를 사용하지 않는 경우"
   ]
  },
  {
   "cell_type": "code",
   "execution_count": 4,
   "metadata": {
    "executionInfo": {
     "elapsed": 10751,
     "status": "ok",
     "timestamp": 1736833018638,
     "user": {
      "displayName": "신지수",
      "userId": "00602320465039465849"
     },
     "user_tz": -540
    },
    "id": "aiHK1wzECV2T"
   },
   "outputs": [],
   "source": [
    "from itertools import chain\n",
    "from langchain_core.prompts import PromptTemplate\n",
    "from langchain_openai import ChatOpenAI\n",
    "from langchain_core.messages import AIMessageChunk\n",
    "from langchain_core.output_parsers import StrOutputParser\n",
    "from pydantic import BaseModel, Field\n",
    "\n",
    "prompt = PromptTemplate.from_template(\n",
    "    \"\"\"Please extract the important partsof the following email.\n",
    "\n",
    "    {email_conversation}\"\"\"\n",
    ")\n",
    "\n",
    "llm = ChatOpenAI(model = 'gpt-4o', temperature = 0)\n",
    "\n",
    "chain = prompt | llm\n",
    "\n",
    "answer = chain.stream({\"email_conversation\": email_conversation})"
   ]
  },
  {
   "cell_type": "code",
   "execution_count": 5,
   "metadata": {
    "colab": {
     "base_uri": "https://localhost:8080/"
    },
    "executionInfo": {
     "elapsed": 3225,
     "status": "ok",
     "timestamp": 1736833021860,
     "user": {
      "displayName": "신지수",
      "userId": "00602320465039465849"
     },
     "user_tz": -540
    },
    "id": "EactA7qjDYSZ",
    "outputId": "6ccd75a3-3710-496b-a136-dde02e8b8fb3"
   },
   "outputs": [
    {
     "name": "stdout",
     "output_type": "stream",
     "text": [
      "**Important Parts of the Email:**\n",
      "\n",
      "- **Sender:** John, Senior Executive Director at Bike Corporation\n",
      "- **Recipient:** Kim at Teddy International\n",
      "- **Subject:** \"ZENESIS\" bike distribution cooperation and meeting schedule proposal\n",
      "- **Key Points:**\n",
      "  - John is interested in the new bicycle model \"ZENESIS.\"\n",
      "  - Request for a detailed brochure on the ZENESIS model, focusing on technical specifications, battery performance, and design aspects.\n",
      "  - Proposal for a meeting to discuss collaboration possibilities.\n",
      "  - Suggested meeting date and time: Next Tuesday, January 15th, at 10:00 AM.\n",
      "  - Proposed meeting location: Kim's office."
     ]
    }
   ],
   "source": [
    "def stream_response(response, return_output = False ):\n",
    "\n",
    "  answer =     \"\"\"\n",
    "    Streams the response from the AI model, processing and printing each chunk.\n",
    "\n",
    "    This function iterates over each item in the 'response' iterable. If an item is an instance of AIMessageChunk, it extracts and prints the content.\n",
    "    If the item is a string, it prints the string directly.\n",
    "    Optionally, the function can return the concatenated string of all response chunks.\n",
    "\n",
    "    Args:\n",
    "    - response (iterable): An iterable of response chunks, which can be AIMessageChunk objects or strings.\n",
    "    - return_output (bool, optional): If True, the function returns the concatenated response string. The default is False.\n",
    "\n",
    "    Returns:\n",
    "    - str: If `return_output` is True, the concatenated response string. Otherwise, nothing is returned.\n",
    "    \"\"\"\n",
    "  for token in response:\n",
    "    if isinstance(token, AIMessageChunk):\n",
    "      answer += token.content\n",
    "      print(token.content, end = \"\", flush= True)\n",
    "    elif isinstance(token, str):\n",
    "      answer += token\n",
    "      print(token, end = \"\", flush = True)\n",
    "  if return_output:\n",
    "    return answer\n",
    "\n",
    "\n",
    "ouptput = stream_response(answer, return_output = True)"
   ]
  },
  {
   "cell_type": "code",
   "execution_count": 6,
   "metadata": {
    "colab": {
     "base_uri": "https://localhost:8080/"
    },
    "executionInfo": {
     "elapsed": 3286,
     "status": "ok",
     "timestamp": 1736833025145,
     "user": {
      "displayName": "신지수",
      "userId": "00602320465039465849"
     },
     "user_tz": -540
    },
    "id": "CbdB0DMbFLDK",
    "outputId": "9151ff5a-b8df-4e03-e266-d0b2a3a31919"
   },
   "outputs": [
    {
     "name": "stdout",
     "output_type": "stream",
     "text": [
      "content='**Important Parts of the Email:**\\n\\n- **Sender:** John, Senior Executive Director at Bike Corporation\\n- **Recipient:** Kim at Teddy International\\n- **Subject:** \"ZENESIS\" bike distribution cooperation and meeting schedule proposal\\n- **Key Points:**\\n  - John learned about the \"ZENESIS\" bicycle model through a press release.\\n  - Bike Corporation is interested in a detailed brochure for the ZENESIS model, focusing on technical specifications, battery performance, and design aspects.\\n  - John proposes a meeting to discuss collaboration possibilities.\\n  - Suggested meeting date and time: Next Tuesday, January 15th, at 10:00 AM.\\n  - Proposed meeting location: Kim\\'s office.' additional_kwargs={'refusal': None} response_metadata={'token_usage': {'completion_tokens': 142, 'prompt_tokens': 225, 'total_tokens': 367, 'completion_tokens_details': {'accepted_prediction_tokens': 0, 'audio_tokens': 0, 'reasoning_tokens': 0, 'rejected_prediction_tokens': 0}, 'prompt_tokens_details': {'audio_tokens': 0, 'cached_tokens': 0}}, 'model_name': 'gpt-4o-2024-08-06', 'system_fingerprint': 'fp_4691090a87', 'finish_reason': 'stop', 'logprobs': None} id='run-531eace7-e7eb-4c5e-a349-d4562729b6ab-0' usage_metadata={'input_tokens': 225, 'output_tokens': 142, 'total_tokens': 367, 'input_token_details': {'audio': 0, 'cache_read': 0}, 'output_token_details': {'audio': 0, 'reasoning': 0}}\n"
     ]
    }
   ],
   "source": [
    "answer = chain.invoke({\"email_conversation\": email_conversation})\n",
    "print(answer)"
   ]
  },
  {
   "cell_type": "markdown",
   "metadata": {
    "id": "0yj0iffaHc87"
   },
   "source": [
    "### Use Output Parser"
   ]
  },
  {
   "cell_type": "code",
   "execution_count": 7,
   "metadata": {
    "executionInfo": {
     "elapsed": 3,
     "status": "ok",
     "timestamp": 1736833025145,
     "user": {
      "displayName": "신지수",
      "userId": "00602320465039465849"
     },
     "user_tz": -540
    },
    "id": "p-XElJs2G-66"
   },
   "outputs": [],
   "source": [
    "class EmailSummary(BaseModel):\n",
    "  person: str = Field(description=\"The sender of the email\")\n",
    "  email: str = Field(description=\"The email adress of the sender\")\n",
    "  subject: str = Field(description=\"The subject of the email\")\n",
    "  summary: str = Field(description = \"A summary of the email content\")\n",
    "  date: str = Field(\n",
    "      dedcription = \"The meeting date and time mentioned in the email content\"\n",
    "  )"
   ]
  },
  {
   "cell_type": "code",
   "execution_count": 9,
   "metadata": {
    "executionInfo": {
     "elapsed": 256,
     "status": "ok",
     "timestamp": 1736833074242,
     "user": {
      "displayName": "신지수",
      "userId": "00602320465039465849"
     },
     "user_tz": -540
    },
    "id": "skCAuCigH-Oi"
   },
   "outputs": [],
   "source": [
    "from langchain.output_parsers import PydanticOutputParser\n",
    "\n",
    "Parser = PydanticOutputParser(pydantic_object = EmailSummary)"
   ]
  },
  {
   "cell_type": "code",
   "execution_count": 10,
   "metadata": {
    "colab": {
     "base_uri": "https://localhost:8080/",
     "height": 127
    },
    "executionInfo": {
     "elapsed": 244,
     "status": "ok",
     "timestamp": 1736833077087,
     "user": {
      "displayName": "신지수",
      "userId": "00602320465039465849"
     },
     "user_tz": -540
    },
    "id": "zqinSAIlQx2y",
    "outputId": "789a2a14-ffe4-46d3-d891-220b70c72529"
   },
   "outputs": [
    {
     "data": {
      "application/vnd.google.colaboratory.intrinsic+json": {
       "type": "string"
      },
      "text/plain": [
       "'The output should be formatted as a JSON instance that conforms to the JSON schema below.\\n\\nAs an example, for the schema {\"properties\": {\"foo\": {\"title\": \"Foo\", \"description\": \"a list of strings\", \"type\": \"array\", \"items\": {\"type\": \"string\"}}}, \"required\": [\"foo\"]}\\nthe object {\"foo\": [\"bar\", \"baz\"]} is a well-formatted instance of the schema. The object {\"properties\": {\"foo\": [\"bar\", \"baz\"]}} is not well-formatted.\\n\\nHere is the output schema:\\n```\\n{\"properties\": {\"person\": {\"description\": \"The sender of the email\", \"title\": \"Person\", \"type\": \"string\"}, \"email\": {\"description\": \"The email adress of the sender\", \"title\": \"Email\", \"type\": \"string\"}, \"subject\": {\"description\": \"The subject of the email\", \"title\": \"Subject\", \"type\": \"string\"}, \"summary\": {\"description\": \"A summary of the email content\", \"title\": \"Summary\", \"type\": \"string\"}, \"date\": {\"dedcription\": \"The meeting date and time mentioned in the email content\", \"title\": \"Date\", \"type\": \"string\"}}, \"required\": [\"person\", \"email\", \"subject\", \"summary\", \"date\"]}\\n```'"
      ]
     },
     "execution_count": 10,
     "metadata": {},
     "output_type": "execute_result"
    }
   ],
   "source": [
    "Parser.get_format_instructions()"
   ]
  },
  {
   "cell_type": "markdown",
   "metadata": {
    "id": "XDXXDlL6I6lx"
   },
   "source": [
    "### Peompt 제작"
   ]
  },
  {
   "cell_type": "code",
   "execution_count": 11,
   "metadata": {
    "executionInfo": {
     "elapsed": 254,
     "status": "ok",
     "timestamp": 1736833079286,
     "user": {
      "displayName": "신지수",
      "userId": "00602320465039465849"
     },
     "user_tz": -540
    },
    "id": "2Dwza2iRKajM"
   },
   "outputs": [],
   "source": [
    "prompt = PromptTemplate.from_template(\n",
    "    \"\"\"\n",
    "You are a helpful assistant.\n",
    "\n",
    "QUESTION:\n",
    "{question}\n",
    "\n",
    "EMAIL CONVERSATION:\n",
    "{email_conversation}\n",
    "\n",
    "FORMAT:\n",
    "{format}\n",
    "\"\"\"\n",
    ")"
   ]
  },
  {
   "cell_type": "code",
   "execution_count": 12,
   "metadata": {
    "executionInfo": {
     "elapsed": 267,
     "status": "ok",
     "timestamp": 1736833082475,
     "user": {
      "displayName": "신지수",
      "userId": "00602320465039465849"
     },
     "user_tz": -540
    },
    "id": "Y1912_H4Qq2R"
   },
   "outputs": [],
   "source": [
    "prompt = prompt.partial(format = Parser.get_format_instructions())"
   ]
  },
  {
   "cell_type": "code",
   "execution_count": 13,
   "metadata": {
    "colab": {
     "base_uri": "https://localhost:8080/"
    },
    "executionInfo": {
     "elapsed": 252,
     "status": "ok",
     "timestamp": 1736833083635,
     "user": {
      "displayName": "신지수",
      "userId": "00602320465039465849"
     },
     "user_tz": -540
    },
    "id": "dPUlLct2Ophk",
    "outputId": "abff5fc7-5bc9-4ede-a57c-625f5eb02f57"
   },
   "outputs": [
    {
     "data": {
      "text/plain": [
       "PromptTemplate(input_variables=['email_conversation', 'question'], input_types={}, partial_variables={'format': 'The output should be formatted as a JSON instance that conforms to the JSON schema below.\\n\\nAs an example, for the schema {\"properties\": {\"foo\": {\"title\": \"Foo\", \"description\": \"a list of strings\", \"type\": \"array\", \"items\": {\"type\": \"string\"}}}, \"required\": [\"foo\"]}\\nthe object {\"foo\": [\"bar\", \"baz\"]} is a well-formatted instance of the schema. The object {\"properties\": {\"foo\": [\"bar\", \"baz\"]}} is not well-formatted.\\n\\nHere is the output schema:\\n```\\n{\"properties\": {\"person\": {\"description\": \"The sender of the email\", \"title\": \"Person\", \"type\": \"string\"}, \"email\": {\"description\": \"The email adress of the sender\", \"title\": \"Email\", \"type\": \"string\"}, \"subject\": {\"description\": \"The subject of the email\", \"title\": \"Subject\", \"type\": \"string\"}, \"summary\": {\"description\": \"A summary of the email content\", \"title\": \"Summary\", \"type\": \"string\"}, \"date\": {\"dedcription\": \"The meeting date and time mentioned in the email content\", \"title\": \"Date\", \"type\": \"string\"}}, \"required\": [\"person\", \"email\", \"subject\", \"summary\", \"date\"]}\\n```'}, template='\\nYou are a helpful assistant.\\n\\nQUESTION:\\n{question}\\n\\nEMAIL CONVERSATION:\\n{email_conversation}\\n\\nFORMAT:\\n{format}\\n')"
      ]
     },
     "execution_count": 13,
     "metadata": {},
     "output_type": "execute_result"
    }
   ],
   "source": [
    "prompt"
   ]
  },
  {
   "cell_type": "code",
   "execution_count": 14,
   "metadata": {
    "executionInfo": {
     "elapsed": 246,
     "status": "ok",
     "timestamp": 1736833086675,
     "user": {
      "displayName": "신지수",
      "userId": "00602320465039465849"
     },
     "user_tz": -540
    },
    "id": "VZUKr4HnP08i"
   },
   "outputs": [],
   "source": [
    "chain = prompt | llm"
   ]
  },
  {
   "cell_type": "code",
   "execution_count": 15,
   "metadata": {
    "executionInfo": {
     "elapsed": 1,
     "status": "ok",
     "timestamp": 1736833087413,
     "user": {
      "displayName": "신지수",
      "userId": "00602320465039465849"
     },
     "user_tz": -540
    },
    "id": "VRUP5PGnRfXd"
   },
   "outputs": [],
   "source": [
    "response = chain.stream(\n",
    "    {\n",
    "        \"email_conversation\": email_conversation,\n",
    "        \"question\": \"이메일을 요약해\"\n",
    "    }\n",
    ")"
   ]
  },
  {
   "cell_type": "code",
   "execution_count": 16,
   "metadata": {
    "colab": {
     "base_uri": "https://localhost:8080/"
    },
    "executionInfo": {
     "elapsed": 2565,
     "status": "ok",
     "timestamp": 1736833091089,
     "user": {
      "displayName": "신지수",
      "userId": "00602320465039465849"
     },
     "user_tz": -540
    },
    "id": "ghPhXvAQRyyz",
    "outputId": "76e15831-a6f5-4945-fdee-e3791a5a5423"
   },
   "outputs": [
    {
     "name": "stdout",
     "output_type": "stream",
     "text": [
      "```json\n",
      "{\n",
      "  \"person\": \"John\",\n",
      "  \"email\": \"John@bikecorporation.me\",\n",
      "  \"subject\": \"“ZENESIS” bike distribution cooperation and meeting schedule proposal\",\n",
      "  \"summary\": \"John, Senior Executive Director at Bike Corporation, is interested in the ZENESIS bike model and requests a detailed brochure with technical specifications, battery performance, and design aspects. He proposes a meeting to discuss potential collaboration on Tuesday, January 15th, at 10:00 AM at Kim's office.\",\n",
      "  \"date\": \"Tuesday, January 15th, 10:00 AM\"\n",
      "}\n",
      "```"
     ]
    }
   ],
   "source": [
    "output = stream_response(response, return_output = True)"
   ]
  },
  {
   "cell_type": "markdown",
   "metadata": {
    "id": "dMODbnNoVPgX"
   },
   "source": [
    "# with Parser"
   ]
  },
  {
   "cell_type": "code",
   "execution_count": 18,
   "metadata": {
    "executionInfo": {
     "elapsed": 250,
     "status": "ok",
     "timestamp": 1736833322941,
     "user": {
      "displayName": "신지수",
      "userId": "00602320465039465849"
     },
     "user_tz": -540
    },
    "id": "tLBiT274R8y7"
   },
   "outputs": [],
   "source": [
    "chain = prompt | llm | Parser"
   ]
  },
  {
   "cell_type": "code",
   "execution_count": 20,
   "metadata": {
    "colab": {
     "base_uri": "https://localhost:8080/"
    },
    "executionInfo": {
     "elapsed": 3232,
     "status": "ok",
     "timestamp": 1736833379122,
     "user": {
      "displayName": "신지수",
      "userId": "00602320465039465849"
     },
     "user_tz": -540
    },
    "id": "UtLSFeimVMES",
    "outputId": "e8fa7adb-aa19-47f6-eb05-7a7fd9a1cf84"
   },
   "outputs": [
    {
     "name": "stdout",
     "output_type": "stream",
     "text": [
      "person='John' email='John@bikecorporation.me' subject='“ZENESIS” bike distribution cooperation and meeting schedule proposal' summary=\"John, Senior Executive Director at Bike Corporation, is interested in the ZENESIS bicycle model and requests a detailed brochure with technical specifications, battery performance, and design aspects. He proposes a meeting to discuss collaboration possibilities on Tuesday, January 15th, at 10:00 AM at Kim's office.\" date='Tuesday, January 15th, at 10:00 AM'\n"
     ]
    }
   ],
   "source": [
    "response = chain.invoke(\n",
    "    {\n",
    "        \"email_conversation\": email_conversation,\n",
    "        \"question\": \"Extract the main content of the email.\",\n",
    "    }\n",
    ")\n",
    "\n",
    "# The results are output in the form of an EmailSummary object.\n",
    "print(response)"
   ]
  },
  {
   "cell_type": "code",
   "execution_count": 21,
   "metadata": {
    "colab": {
     "base_uri": "https://localhost:8080/",
     "height": 35
    },
    "executionInfo": {
     "elapsed": 4,
     "status": "ok",
     "timestamp": 1736833409983,
     "user": {
      "displayName": "신지수",
      "userId": "00602320465039465849"
     },
     "user_tz": -540
    },
    "id": "4lLXYlIkVf3h",
    "outputId": "4d0b6587-f2da-4048-9635-e842dd5fc559"
   },
   "outputs": [
    {
     "data": {
      "application/vnd.google.colaboratory.intrinsic+json": {
       "type": "string"
      },
      "text/plain": [
       "'John'"
      ]
     },
     "execution_count": 21,
     "metadata": {},
     "output_type": "execute_result"
    }
   ],
   "source": [
    "response.person"
   ]
  },
  {
   "cell_type": "code",
   "execution_count": null,
   "metadata": {
    "id": "QvQR47deVqGw"
   },
   "outputs": [],
   "source": []
  }
 ],
 "metadata": {
  "colab": {
   "provenance": []
  },
  "kernelspec": {
   "display_name": "Python 3",
   "name": "python3"
  },
  "language_info": {
   "name": "python"
  }
 },
 "nbformat": 4,
 "nbformat_minor": 0
}
