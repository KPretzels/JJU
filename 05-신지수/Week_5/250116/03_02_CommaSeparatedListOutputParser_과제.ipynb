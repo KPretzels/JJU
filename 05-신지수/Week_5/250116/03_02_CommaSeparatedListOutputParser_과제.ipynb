{
 "cells": [
  {
   "cell_type": "markdown",
   "metadata": {},
   "source": [
    "### 내 기억력.."
   ]
  },
  {
   "cell_type": "code",
   "execution_count": null,
   "metadata": {},
   "outputs": [],
   "source": [
    "from langchain_core.output_parser import CommaSeparatedListOutputParser\n",
    "from langchain_core.prompt import PromptTemplate\n",
    "from langchain_openai import ChatOpenAI\n",
    "\n",
    "output_parser = CommaSeparatedOutputParser()\n",
    "\n",
    "format_instruction = \n",
    "\n",
    "prompt = (\n",
    "template = \"five list {subject}.\\n\"\n",
    "{\"format_instructions\": format_instructions}\n",
    ")\n",
    "model = ChatOpenAI(temperture=0)"
   ]
  }
 ],
 "metadata": {
  "language_info": {
   "name": "python"
  }
 },
 "nbformat": 4,
 "nbformat_minor": 2
}
