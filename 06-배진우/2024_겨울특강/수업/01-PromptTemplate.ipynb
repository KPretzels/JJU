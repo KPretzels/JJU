{
 "cells": [
  {
   "cell_type": "code",
   "execution_count": 1,
   "metadata": {
    "executionInfo": {
     "elapsed": 475,
     "status": "ok",
     "timestamp": 1736729135180,
     "user": {
      "displayName": "배진우",
      "userId": "16041142222927328568"
     },
     "user_tz": -540
    },
    "id": "qzPdyFB8_SAG"
   },
   "outputs": [],
   "source": [
    "import os\n",
    "\n",
    "os.environ[\"OPENAI_API_KEY\"] = \"\"\n",
    "os.environ[\"LANGCHAIN_API_KEY\"] = \"\"\n",
    "os.environ[\"LANGCHAIN_TRACING_V2\"] = \"true\"\n",
    "os.environ[\"LANGCHAIN_ENDPOINT\"] = \"https://api.smith.langchain.com\"\n",
    "os.environ[\"LANGCHAIN_PROJECT\"] = \"\""
   ]
  },
  {
   "cell_type": "code",
   "execution_count": 2,
   "metadata": {
    "colab": {
     "base_uri": "https://localhost:8080/"
    },
    "executionInfo": {
     "elapsed": 12713,
     "status": "ok",
     "timestamp": 1736729148373,
     "user": {
      "displayName": "배진우",
      "userId": "16041142222927328568"
     },
     "user_tz": -540
    },
    "id": "LM_OqD7-GePx",
    "outputId": "3fdc0e2d-49bc-4740-9d71-0315aadcd9dc"
   },
   "outputs": [
    {
     "name": "stdout",
     "output_type": "stream",
     "text": [
      "\u001b[?25l   \u001b[90m━━━━━━━━━━━━━━━━━━━━━━━━━━━━━━━━━━━━━━━━\u001b[0m \u001b[32m0.0/54.2 kB\u001b[0m \u001b[31m?\u001b[0m eta \u001b[36m-:--:--\u001b[0m\r\u001b[2K   \u001b[90m━━━━━━━━━━━━━━━━━━━━━━━━━━━━━━━━━━━━━━━━\u001b[0m \u001b[32m54.2/54.2 kB\u001b[0m \u001b[31m1.6 MB/s\u001b[0m eta \u001b[36m0:00:00\u001b[0m\n",
      "\u001b[?25h\u001b[?25l   \u001b[90m━━━━━━━━━━━━━━━━━━━━━━━━━━━━━━━━━━━━━━━━\u001b[0m \u001b[32m0.0/1.2 MB\u001b[0m \u001b[31m?\u001b[0m eta \u001b[36m-:--:--\u001b[0m\r\u001b[2K   \u001b[91m━━━━━━━━━━━━━━━━━━━━━━━━━\u001b[0m\u001b[90m╺\u001b[0m\u001b[90m━━━━━━━━━━━━━━\u001b[0m \u001b[32m0.7/1.2 MB\u001b[0m \u001b[31m22.5 MB/s\u001b[0m eta \u001b[36m0:00:01\u001b[0m\r\u001b[2K   \u001b[91m━━━━━━━━━━━━━━━━━━━━━━━━━━━━━━━━━━━━━━━\u001b[0m\u001b[91m╸\u001b[0m \u001b[32m1.2/1.2 MB\u001b[0m \u001b[31m18.0 MB/s\u001b[0m eta \u001b[36m0:00:01\u001b[0m\r\u001b[2K   \u001b[90m━━━━━━━━━━━━━━━━━━━━━━━━━━━━━━━━━━━━━━━━\u001b[0m \u001b[32m1.2/1.2 MB\u001b[0m \u001b[31m12.0 MB/s\u001b[0m eta \u001b[36m0:00:00\u001b[0m\n",
      "\u001b[?25h"
     ]
    }
   ],
   "source": [
    "! pip install -qU langchain_openai"
   ]
  },
  {
   "cell_type": "code",
   "execution_count": 3,
   "metadata": {
    "executionInfo": {
     "elapsed": 12446,
     "status": "ok",
     "timestamp": 1736729160817,
     "user": {
      "displayName": "배진우",
      "userId": "16041142222927328568"
     },
     "user_tz": -540
    },
    "id": "9QYzMtysGk24"
   },
   "outputs": [],
   "source": [
    "from langchain_openai import ChatOpenAI\n",
    "\n",
    "llm= ChatOpenAI(\n",
    "    model=\"gpt-4o\",\n",
    "    max_tokens=None,\n",
    "    timeout=None,\n",
    "    max_retries=2,\n",
    "    api_key= os.environ[\"OPENAI_API_KEY\"]\n",
    ")"
   ]
  },
  {
   "cell_type": "code",
   "execution_count": 4,
   "metadata": {
    "colab": {
     "base_uri": "https://localhost:8080/"
    },
    "executionInfo": {
     "elapsed": 5,
     "status": "ok",
     "timestamp": 1736729160817,
     "user": {
      "displayName": "배진우",
      "userId": "16041142222927328568"
     },
     "user_tz": -540
    },
    "id": "raEL_BAGHYOq",
    "outputId": "1096657f-414f-4d3f-a79d-96cd9c8ca805"
   },
   "outputs": [
    {
     "data": {
      "text/plain": [
       "ChatOpenAI(client=<openai.resources.chat.completions.Completions object at 0x7da486afaaa0>, async_client=<openai.resources.chat.completions.AsyncCompletions object at 0x7da4866eaa70>, root_client=<openai.OpenAI object at 0x7da486de70d0>, root_async_client=<openai.AsyncOpenAI object at 0x7da486afa7a0>, model_name='gpt-4o', model_kwargs={}, openai_api_key=SecretStr('**********'), max_retries=2)"
      ]
     },
     "execution_count": 4,
     "metadata": {},
     "output_type": "execute_result"
    }
   ],
   "source": [
    "llm"
   ]
  },
  {
   "cell_type": "markdown",
   "metadata": {
    "id": "Zlup2RNwIME4"
   },
   "source": [
    "# 체인 사용 x"
   ]
  },
  {
   "cell_type": "code",
   "execution_count": 5,
   "metadata": {
    "executionInfo": {
     "elapsed": 3,
     "status": "ok",
     "timestamp": 1736729160817,
     "user": {
      "displayName": "배진우",
      "userId": "16041142222927328568"
     },
     "user_tz": -540
    },
    "id": "DyNKYGdMHjA5"
   },
   "outputs": [],
   "source": [
    "prompt = \"서울의 수도는 ?\""
   ]
  },
  {
   "cell_type": "code",
   "execution_count": 6,
   "metadata": {
    "executionInfo": {
     "elapsed": 807,
     "status": "ok",
     "timestamp": 1736729161621,
     "user": {
      "displayName": "배진우",
      "userId": "16041142222927328568"
     },
     "user_tz": -540
    },
    "id": "hTgHSW6uHwwA"
   },
   "outputs": [],
   "source": [
    "result = llm.invoke(prompt)"
   ]
  },
  {
   "cell_type": "code",
   "execution_count": 7,
   "metadata": {
    "colab": {
     "base_uri": "https://localhost:8080/",
     "height": 36
    },
    "executionInfo": {
     "elapsed": 6,
     "status": "ok",
     "timestamp": 1736729163642,
     "user": {
      "displayName": "배진우",
      "userId": "16041142222927328568"
     },
     "user_tz": -540
    },
    "id": "XGSweUEEH4-n",
    "outputId": "68f363d6-5f46-46b5-9b35-18a7bebfa4ab"
   },
   "outputs": [
    {
     "data": {
      "application/vnd.google.colaboratory.intrinsic+json": {
       "type": "string"
      },
      "text/plain": [
       "'서울은 대한민국의 수도입니다.'"
      ]
     },
     "execution_count": 7,
     "metadata": {},
     "output_type": "execute_result"
    }
   ],
   "source": [
    "result.content"
   ]
  },
  {
   "cell_type": "markdown",
   "metadata": {
    "id": "efg1buvZIPLv"
   },
   "source": [
    "# 질문 구조화"
   ]
  },
  {
   "cell_type": "code",
   "execution_count": 8,
   "metadata": {
    "executionInfo": {
     "elapsed": 289,
     "status": "ok",
     "timestamp": 1736729458743,
     "user": {
      "displayName": "배진우",
      "userId": "16041142222927328568"
     },
     "user_tz": -540
    },
    "id": "aHYOeg8tIRLH"
   },
   "outputs": [],
   "source": [
    "prompt_2 = [\n",
    "    (\"system\", \"너는 제시된 국가의 수도가 어디인지 알려주는 어시스턴트야. 결과는 단어로 제시\"),\n",
    "    (\"human\",\"중국\")\n",
    "]"
   ]
  },
  {
   "cell_type": "code",
   "execution_count": 10,
   "metadata": {
    "executionInfo": {
     "elapsed": 581,
     "status": "ok",
     "timestamp": 1736729474302,
     "user": {
      "displayName": "배진우",
      "userId": "16041142222927328568"
     },
     "user_tz": -540
    },
    "id": "pee_a_3VJHVs"
   },
   "outputs": [],
   "source": [
    "result_2 = llm.invoke(prompt_2)"
   ]
  },
  {
   "cell_type": "code",
   "execution_count": 13,
   "metadata": {
    "colab": {
     "base_uri": "https://localhost:8080/",
     "height": 36
    },
    "executionInfo": {
     "elapsed": 5,
     "status": "ok",
     "timestamp": 1736729496342,
     "user": {
      "displayName": "배진우",
      "userId": "16041142222927328568"
     },
     "user_tz": -540
    },
    "id": "-wG2maLGJMNW",
    "outputId": "7612c63e-8a34-4471-c9a9-d44dc85555be"
   },
   "outputs": [
    {
     "data": {
      "application/vnd.google.colaboratory.intrinsic+json": {
       "type": "string"
      },
      "text/plain": [
       "'베이징'"
      ]
     },
     "execution_count": 13,
     "metadata": {},
     "output_type": "execute_result"
    }
   ],
   "source": [
    "result_2.content"
   ]
  },
  {
   "cell_type": "markdown",
   "metadata": {
    "id": "FVZy3AXpPR60"
   },
   "source": [
    "# PromptTemplate"
   ]
  },
  {
   "cell_type": "code",
   "execution_count": 19,
   "metadata": {
    "colab": {
     "base_uri": "https://localhost:8080/"
    },
    "executionInfo": {
     "elapsed": 277,
     "status": "ok",
     "timestamp": 1736731377799,
     "user": {
      "displayName": "배진우",
      "userId": "16041142222927328568"
     },
     "user_tz": -540
    },
    "id": "eJwved2BPRTc",
    "outputId": "7bb7b9e8-dc2b-40cc-f5d9-b0147756f569"
   },
   "outputs": [
    {
     "data": {
      "text/plain": [
       "PromptTemplate(input_variables=['input'], input_types={}, partial_variables={}, template='{input}의 수도는 어디인가요?')"
      ]
     },
     "execution_count": 19,
     "metadata": {},
     "output_type": "execute_result"
    }
   ],
   "source": [
    "from langchain.prompts import PromptTemplate\n",
    "\n",
    "template = \"{input}의 수도는 어디인가요?\"\n",
    "\n",
    "prompt_3 = PromptTemplate.from_template(template)\n",
    "prompt_3"
   ]
  },
  {
   "cell_type": "code",
   "execution_count": 20,
   "metadata": {
    "colab": {
     "base_uri": "https://localhost:8080/",
     "height": 36
    },
    "executionInfo": {
     "elapsed": 298,
     "status": "ok",
     "timestamp": 1736731379563,
     "user": {
      "displayName": "배진우",
      "userId": "16041142222927328568"
     },
     "user_tz": -540
    },
    "id": "dJJYO0WQPoBt",
    "outputId": "4d82de48-e8f4-4f6b-8220-f3a0c0c11236"
   },
   "outputs": [
    {
     "data": {
      "application/vnd.google.colaboratory.intrinsic+json": {
       "type": "string"
      },
      "text/plain": [
       "'중국의 수도는 어디인가요?'"
      ]
     },
     "execution_count": 20,
     "metadata": {},
     "output_type": "execute_result"
    }
   ],
   "source": [
    "prompt_3 = prompt_3.format(input=\"중국\")\n",
    "prompt_3"
   ]
  },
  {
   "cell_type": "code",
   "execution_count": 21,
   "metadata": {
    "colab": {
     "base_uri": "https://localhost:8080/",
     "height": 36
    },
    "executionInfo": {
     "elapsed": 999,
     "status": "ok",
     "timestamp": 1736731381548,
     "user": {
      "displayName": "배진우",
      "userId": "16041142222927328568"
     },
     "user_tz": -540
    },
    "id": "RDY5OXQFQMRp",
    "outputId": "83d421b9-26c0-4278-e931-5a7bb66c8906"
   },
   "outputs": [
    {
     "data": {
      "application/vnd.google.colaboratory.intrinsic+json": {
       "type": "string"
      },
      "text/plain": [
       "'중국의 수도는 베이징(北京)입니다.'"
      ]
     },
     "execution_count": 21,
     "metadata": {},
     "output_type": "execute_result"
    }
   ],
   "source": [
    "result_3 = llm.invoke(prompt_3)\n",
    "result_3.content"
   ]
  },
  {
   "cell_type": "markdown",
   "metadata": {
    "id": "M44hs4o_Re0B"
   },
   "source": [
    "#chain"
   ]
  },
  {
   "cell_type": "code",
   "execution_count": 23,
   "metadata": {
    "executionInfo": {
     "elapsed": 277,
     "status": "ok",
     "timestamp": 1736731710767,
     "user": {
      "displayName": "배진우",
      "userId": "16041142222927328568"
     },
     "user_tz": -540
    },
    "id": "EIprLjrcRg6K"
   },
   "outputs": [],
   "source": [
    "template = \"{input}의 수도는 어디인가요?\"\n",
    "\n",
    "prompt_4 = PromptTemplate.from_template(template)\n",
    "\n",
    "chain = prompt_4 | llm"
   ]
  },
  {
   "cell_type": "code",
   "execution_count": 24,
   "metadata": {
    "colab": {
     "base_uri": "https://localhost:8080/",
     "height": 36
    },
    "executionInfo": {
     "elapsed": 1051,
     "status": "ok",
     "timestamp": 1736731713664,
     "user": {
      "displayName": "배진우",
      "userId": "16041142222927328568"
     },
     "user_tz": -540
    },
    "id": "11K4quElRp2a",
    "outputId": "b1d3b0d2-5d6b-4d04-8afe-a3472dd06572"
   },
   "outputs": [
    {
     "data": {
      "application/vnd.google.colaboratory.intrinsic+json": {
       "type": "string"
      },
      "text/plain": [
       "'중국의 수도는 베이징입니다.'"
      ]
     },
     "execution_count": 24,
     "metadata": {},
     "output_type": "execute_result"
    }
   ],
   "source": [
    "result_4 = chain.invoke({\"input\":\"중국\"})\n",
    "result_4.content"
   ]
  },
  {
   "cell_type": "markdown",
   "metadata": {
    "id": "RE-m-8vnUIC4"
   },
   "source": [
    "# PromptTemplate 객체를 생성하며, template 문자열과 input_variables를 동시에 지정"
   ]
  },
  {
   "cell_type": "code",
   "execution_count": 27,
   "metadata": {
    "colab": {
     "base_uri": "https://localhost:8080/"
    },
    "executionInfo": {
     "elapsed": 314,
     "status": "ok",
     "timestamp": 1736732948147,
     "user": {
      "displayName": "배진우",
      "userId": "16041142222927328568"
     },
     "user_tz": -540
    },
    "id": "N9bgDFzmUMVv",
    "outputId": "b12c33a0-b753-48e9-adbb-7fca96aa1e53"
   },
   "outputs": [
    {
     "name": "stdout",
     "output_type": "stream",
     "text": [
      "input_variables=['input_1', 'input_2', 'input_3'] input_types={} partial_variables={} template='{input_1},{input_2},{input_3}의 역할'\n"
     ]
    }
   ],
   "source": [
    "from langchain_core.prompts import PromptTemplate\n",
    "\n",
    "template = \"{input_1},{input_2},{input_3}의 역할\"\n",
    "\n",
    "prompt_5 = PromptTemplate(\n",
    "    template=template,\n",
    "    input_variables=[\"input_1\",\"input_2\",\"input_3\"],\n",
    "    partial_variables={\"input_2\": \"GPU\",\"input_3\": \"RAM\"}\n",
    ")\n",
    "\n",
    "print(prompt_5)"
   ]
  },
  {
   "cell_type": "code",
   "execution_count": 28,
   "metadata": {
    "executionInfo": {
     "elapsed": 280,
     "status": "ok",
     "timestamp": 1736732949865,
     "user": {
      "displayName": "배진우",
      "userId": "16041142222927328568"
     },
     "user_tz": -540
    },
    "id": "JgsbKrljWYaG"
   },
   "outputs": [],
   "source": [
    "chain = prompt_5 | llm"
   ]
  },
  {
   "cell_type": "code",
   "execution_count": 29,
   "metadata": {
    "colab": {
     "base_uri": "https://localhost:8080/",
     "height": 185
    },
    "executionInfo": {
     "elapsed": 11224,
     "status": "ok",
     "timestamp": 1736733027996,
     "user": {
      "displayName": "배진우",
      "userId": "16041142222927328568"
     },
     "user_tz": -540
    },
    "id": "QmNn2r8wWcW0",
    "outputId": "e21b62c4-4af3-4614-eb98-9ae96f13b416"
   },
   "outputs": [
    {
     "data": {
      "application/vnd.google.colaboratory.intrinsic+json": {
       "type": "string"
      },
      "text/plain": [
       "'컴퓨터 시스템에서 CPU, GPU, RAM은 각각 특정한 역할을 수행하며, 시스템의 전반적인 성능과 기능에 큰 영향을 미칩니다.\\n\\n1. **CPU (Central Processing Unit, 중앙 처리 장치)**:\\n   - **역할**: CPU는 컴퓨터의 두뇌 역할을 하며, 프로그램 명령을 해석하고 실행합니다. 수학적 계산, 데이터 처리, 프로그램 제어 흐름 등을 담당합니다.\\n   - **구성 요소**: ALU(산술 논리 장치), CU(제어 장치), 레지스터 등으로 구성됩니다.\\n   - **고려 사항**: CPU 성능은 주파수(클록 속도), 코어 수, 스레드 수 등에 따라 달라지며, 다중 작업 처리와 컴퓨터의 전반적인 응답 속도에 큰 영향을 미칩니다.\\n\\n2. **GPU (Graphics Processing Unit, 그래픽 처리 장치)**:\\n   - **역할**: GPU는 주로 그래픽 및 영상 처리에 특화된 프로세서입니다. 복잡한 3D 그래픽 렌더링, 고해상도 이미지 및 비디오 처리, 머신러닝 작업을 가속화하는 데 사용됩니다.\\n   - **고려 사항**: GPU는 병렬 처리 능력이 뛰어나 많은 코어를 사용하여 작업을 동시에 처리할 수 있습니다. 따라서 그래픽 요구 사항이 높은 게임이나 과학적 시뮬레이션, 딥러닝 등에 유리합니다.\\n\\n3. **RAM (Random Access Memory, 임의 접근 메모리)**:\\n   - **역할**: RAM은 컴퓨터의 휘발성 메모리로, 현재 실행 중인 프로그램과 사용 중인 데이터를 저장합니다. CPU가 정보를 빠르게 읽고 쓸 수 있게 하여 시스템 성능을 향상시킵니다.\\n   - **특징**: RAM은 전원이 끊기면 저장된 데이터가 사라지며, 속도가 빠르고 접근 시간이 짧습니다.\\n   - **고려 사항**: RAM의 용량은 동시에 실행할 수 있는 프로그램 수와 데이터 처리량에 영향을 미칩니다. 용량이 부족하면 시스템이 느려질 수 있습니다.\\n\\n이 세 가지 구성 요소는 모두 컴퓨터 성능에 중요한 역할을 하며, 각자의 성능과 특성에 따라 다양한 작업에서 다른 영향을 미칩니다.'"
      ]
     },
     "execution_count": 29,
     "metadata": {},
     "output_type": "execute_result"
    }
   ],
   "source": [
    "result_5 = chain.invoke({\"input_1\":\"CPU\",\"input_2\":\"GPU\",\"input_3\":\"RAM\"})\n",
    "result_5.content"
   ]
  },
  {
   "cell_type": "markdown",
   "metadata": {
    "id": "NO2a23J4Z_Fp"
   },
   "source": [
    "___"
   ]
  },
  {
   "cell_type": "code",
   "execution_count": 32,
   "metadata": {
    "executionInfo": {
     "elapsed": 311,
     "status": "ok",
     "timestamp": 1736734335886,
     "user": {
      "displayName": "배진우",
      "userId": "16041142222927328568"
     },
     "user_tz": -540
    },
    "id": "B1R0Vc9EZ_6B"
   },
   "outputs": [],
   "source": [
    "from datetime import datetime\n",
    "\n",
    "prompt_6 = PromptTemplate(\n",
    "    template=\"오늘 날짜는 {today} 입니다. 오늘 생일인 유명인 {n}명을 나열해 주세요. 생년월일을 표기해주세요.\",\n",
    "    input_variables=[\"n\"],\n",
    "    partial_variables={\"today\" : datetime.now().strftime(\"%Y %B %d\")},\n",
    ")"
   ]
  },
  {
   "cell_type": "code",
   "execution_count": 33,
   "metadata": {
    "colab": {
     "base_uri": "https://localhost:8080/"
    },
    "executionInfo": {
     "elapsed": 273,
     "status": "ok",
     "timestamp": 1736734337815,
     "user": {
      "displayName": "배진우",
      "userId": "16041142222927328568"
     },
     "user_tz": -540
    },
    "id": "uKMLGv0NbfWF",
    "outputId": "b3e0342d-0307-48ef-88e0-36ce401a595f"
   },
   "outputs": [
    {
     "data": {
      "text/plain": [
       "PromptTemplate(input_variables=['n'], input_types={}, partial_variables={'today': '2025 January 13'}, template='오늘 날짜는 {today} 입니다. 오늘 생일인 유명인 {n}명을 나열해 주세요. 생년월일을 표기해주세요.')"
      ]
     },
     "execution_count": 33,
     "metadata": {},
     "output_type": "execute_result"
    }
   ],
   "source": [
    "prompt_6"
   ]
  },
  {
   "cell_type": "code",
   "execution_count": 34,
   "metadata": {
    "colab": {
     "base_uri": "https://localhost:8080/",
     "height": 36
    },
    "executionInfo": {
     "elapsed": 279,
     "status": "ok",
     "timestamp": 1736734339422,
     "user": {
      "displayName": "배진우",
      "userId": "16041142222927328568"
     },
     "user_tz": -540
    },
    "id": "asd9cW0SbhVr",
    "outputId": "33e9cbf2-2cc5-48dd-bd04-e70b820eebd4"
   },
   "outputs": [
    {
     "data": {
      "application/vnd.google.colaboratory.intrinsic+json": {
       "type": "string"
      },
      "text/plain": [
       "'오늘 날짜는 2025 January 13 입니다. 오늘 생일인 유명인 3명을 나열해 주세요. 생년월일을 표기해주세요.'"
      ]
     },
     "execution_count": 34,
     "metadata": {},
     "output_type": "execute_result"
    }
   ],
   "source": [
    "prompt_6.format(n=3)"
   ]
  },
  {
   "cell_type": "code",
   "execution_count": 35,
   "metadata": {
    "executionInfo": {
     "elapsed": 265,
     "status": "ok",
     "timestamp": 1736734363281,
     "user": {
      "displayName": "배진우",
      "userId": "16041142222927328568"
     },
     "user_tz": -540
    },
    "id": "IzV1esiMbwSl"
   },
   "outputs": [],
   "source": [
    "chain  = prompt_6 | llm"
   ]
  },
  {
   "cell_type": "code",
   "execution_count": 37,
   "metadata": {
    "executionInfo": {
     "elapsed": 2977,
     "status": "ok",
     "timestamp": 1736734459610,
     "user": {
      "displayName": "배진우",
      "userId": "16041142222927328568"
     },
     "user_tz": -540
    },
    "id": "WlbnUdq9cGUv"
   },
   "outputs": [],
   "source": [
    "result_6 = chain.invoke({\"n\":3}).content"
   ]
  },
  {
   "cell_type": "code",
   "execution_count": 38,
   "metadata": {
    "colab": {
     "base_uri": "https://localhost:8080/",
     "height": 73
    },
    "executionInfo": {
     "elapsed": 282,
     "status": "ok",
     "timestamp": 1736734464065,
     "user": {
      "displayName": "배진우",
      "userId": "16041142222927328568"
     },
     "user_tz": -540
    },
    "id": "IT89NrpscMcX",
    "outputId": "7e7d9e91-26cf-4825-d79c-37b05af51a45"
   },
   "outputs": [
    {
     "data": {
      "application/vnd.google.colaboratory.intrinsic+json": {
       "type": "string"
      },
      "text/plain": [
       "'오늘 날짜가 2025년 1월 13일이라면, 생일을 맞이하는 몇몇 유명인을 아래에 예시로 들어 드릴 수 있습니다. 그러나 항상 정확성과 최신 정보를 확인하기 위해 인터넷이나 신뢰할 수 있는 출처를 참조하세요.\\n\\n1. 패트릭 드와이어 (Patrick Dwyer) - 1992년 1월 13일\\n2. 나탈리아 다이어 (Natalia Dyer) - 1995년 1월 13일\\n3. 리암 헴스워스 (Liam Hemsworth) - 1990년 1월 13일\\n\\n이 리스트는 완벽하지 않을 수 있으며, 특정 유명인의 생일은 자료마다 다르게 기재될 수 있습니다. 추가적인 검증을 권장합니다.'"
      ]
     },
     "execution_count": 38,
     "metadata": {},
     "output_type": "execute_result"
    }
   ],
   "source": [
    "result_6"
   ]
  },
  {
   "cell_type": "markdown",
   "metadata": {
    "id": "HP66ajJJduf0"
   },
   "source": [
    "___"
   ]
  },
  {
   "cell_type": "code",
   "execution_count": 40,
   "metadata": {
    "colab": {
     "base_uri": "https://localhost:8080/"
    },
    "executionInfo": {
     "elapsed": 404,
     "status": "ok",
     "timestamp": 1736735047210,
     "user": {
      "displayName": "배진우",
      "userId": "16041142222927328568"
     },
     "user_tz": -540
    },
    "id": "nGIvW0iSdttU",
    "outputId": "bde69c74-f5e3-4a93-9a7c-cfc75b9e52fa"
   },
   "outputs": [
    {
     "data": {
      "text/plain": [
       "PromptTemplate(input_variables=['fruit'], input_types={}, partial_variables={}, template='{fruit}의 색깔이 뭐야?')"
      ]
     },
     "execution_count": 40,
     "metadata": {},
     "output_type": "execute_result"
    }
   ],
   "source": [
    "from langchain.prompts import load_prompt\n",
    "\n",
    "prompt_7 = load_prompt(\"/content/fruit_color.yaml\", encoding=\"UTF-8\")\n",
    "prompt_7"
   ]
  },
  {
   "cell_type": "code",
   "execution_count": 42,
   "metadata": {
    "executionInfo": {
     "elapsed": 280,
     "status": "ok",
     "timestamp": 1736735064623,
     "user": {
      "displayName": "배진우",
      "userId": "16041142222927328568"
     },
     "user_tz": -540
    },
    "id": "sl6h7iR-edqE"
   },
   "outputs": [],
   "source": [
    "chain = prompt_7 | llm"
   ]
  },
  {
   "cell_type": "code",
   "execution_count": 43,
   "metadata": {
    "colab": {
     "base_uri": "https://localhost:8080/"
    },
    "executionInfo": {
     "elapsed": 3,
     "status": "ok",
     "timestamp": 1736735070149,
     "user": {
      "displayName": "배진우",
      "userId": "16041142222927328568"
     },
     "user_tz": -540
    },
    "id": "EMOjuHseeg7D",
    "outputId": "49721fb9-9ff9-4137-bdd9-4738b1d5ad93"
   },
   "outputs": [
    {
     "data": {
      "text/plain": [
       "PromptTemplate(input_variables=['fruit'], input_types={}, partial_variables={}, template='{fruit}의 색깔이 뭐야?')\n",
       "| ChatOpenAI(client=<openai.resources.chat.completions.Completions object at 0x7da486afaaa0>, async_client=<openai.resources.chat.completions.AsyncCompletions object at 0x7da4866eaa70>, root_client=<openai.OpenAI object at 0x7da486de70d0>, root_async_client=<openai.AsyncOpenAI object at 0x7da486afa7a0>, model_name='gpt-4o', model_kwargs={}, openai_api_key=SecretStr('**********'), max_retries=2)"
      ]
     },
     "execution_count": 43,
     "metadata": {},
     "output_type": "execute_result"
    }
   ],
   "source": [
    "chain"
   ]
  },
  {
   "cell_type": "code",
   "execution_count": 50,
   "metadata": {
    "colab": {
     "base_uri": "https://localhost:8080/",
     "height": 36
    },
    "executionInfo": {
     "elapsed": 252,
     "status": "ok",
     "timestamp": 1736735295365,
     "user": {
      "displayName": "배진우",
      "userId": "16041142222927328568"
     },
     "user_tz": -540
    },
    "id": "X5fbXSgQfAZp",
    "outputId": "8c184726-e1b3-4230-b506-2ef8c746c8d7"
   },
   "outputs": [
    {
     "data": {
      "application/vnd.google.colaboratory.intrinsic+json": {
       "type": "string"
      },
      "text/plain": [
       "'망고의 색깔이 뭐야?'"
      ]
     },
     "execution_count": 50,
     "metadata": {},
     "output_type": "execute_result"
    }
   ],
   "source": [
    "prompt_7 = prompt_7.format(fruit = \"망고\")\n",
    "prompt_7"
   ]
  },
  {
   "cell_type": "code",
   "execution_count": 53,
   "metadata": {
    "colab": {
     "base_uri": "https://localhost:8080/",
     "height": 54
    },
    "executionInfo": {
     "elapsed": 1878,
     "status": "ok",
     "timestamp": 1736735354877,
     "user": {
      "displayName": "배진우",
      "userId": "16041142222927328568"
     },
     "user_tz": -540
    },
    "id": "ZCbrxyRdfepm",
    "outputId": "34eb5c48-7b31-48b7-f330-61abb13160b7"
   },
   "outputs": [
    {
     "data": {
      "application/vnd.google.colaboratory.intrinsic+json": {
       "type": "string"
      },
      "text/plain": [
       "'망고의 색깔은 익은 정도에 따라 달라질 수 있습니다. 익기 전의 망고는 보통 녹색을 띠며, 익어가면서 노란색, 주황색, 또는 붉은 색을 띌 수 있습니다. 완전히 익은 망고는 주로 노란색이나 주황빛을 많이 보입니다. 망고의 종류에 따라서도 색깔에 약간의 차이가 있을 수 있습니다.'"
      ]
     },
     "execution_count": 53,
     "metadata": {},
     "output_type": "execute_result"
    }
   ],
   "source": [
    "result_7_1 = llm.invoke(prompt_7).content\n",
    "result_7_1"
   ]
  },
  {
   "cell_type": "code",
   "execution_count": 54,
   "metadata": {
    "colab": {
     "base_uri": "https://localhost:8080/",
     "height": 54
    },
    "executionInfo": {
     "elapsed": 1870,
     "status": "ok",
     "timestamp": 1736735357171,
     "user": {
      "displayName": "배진우",
      "userId": "16041142222927328568"
     },
     "user_tz": -540
    },
    "id": "_ZVpldHPfDYD",
    "outputId": "8da66bc5-f170-42ad-f952-77f6d39f80a9"
   },
   "outputs": [
    {
     "data": {
      "application/vnd.google.colaboratory.intrinsic+json": {
       "type": "string"
      },
      "text/plain": [
       "'망고의 색깔은 주로 노란색, 주황색, 빨간색, 혹은 녹색 등의 조합으로 이루어진 경우가 많습니다. 망고가 익을수록 색깔이 더 강렬해지는 경우가 일반적입니다. 하지만 망고의 종류에 따라 색깔은 다를 수 있습니다.'"
      ]
     },
     "execution_count": 54,
     "metadata": {},
     "output_type": "execute_result"
    }
   ],
   "source": [
    "result_7_2 = chain.invoke(prompt_7).content\n",
    "result_7_2"
   ]
  }
 ],
 "metadata": {
  "colab": {
   "authorship_tag": "ABX9TyMlHwJORJfC1pU5rEUNBHgr",
   "collapsed_sections": [
    "Zlup2RNwIME4",
    "efg1buvZIPLv"
   ],
   "provenance": []
  },
  "kernelspec": {
   "display_name": "Python 3",
   "name": "python3"
  },
  "language_info": {
   "name": "python"
  }
 },
 "nbformat": 4,
 "nbformat_minor": 0
}
