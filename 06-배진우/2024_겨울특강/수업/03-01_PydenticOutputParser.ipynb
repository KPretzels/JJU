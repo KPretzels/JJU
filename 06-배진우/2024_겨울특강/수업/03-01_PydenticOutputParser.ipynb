{
 "cells": [
  {
   "cell_type": "code",
   "execution_count": null,
   "metadata": {
    "id": "LrbUyRX0_vAS"
   },
   "outputs": [],
   "source": [
    "import os\n",
    "\n",
    "os.environ[\"OPENAI_API_KEY\"] = \"\"\n",
    "os.environ[\"LANGCHAIN_API_KEY\"] = \"\"\n",
    "os.environ[\"LANGCHAIN_TRACING_V2\"] = \"true\"\n",
    "os.environ[\"LANGCHAIN_ENDPOINT\"] = \"https://api.smith.langchain.com\"\n",
    "os.environ[\"LANGCHAIN_PROJECT\"] = \"\""
   ]
  },
  {
   "cell_type": "code",
   "execution_count": null,
   "metadata": {
    "colab": {
     "base_uri": "https://localhost:8080/"
    },
    "executionInfo": {
     "elapsed": 10486,
     "status": "ok",
     "timestamp": 1736828050073,
     "user": {
      "displayName": "배진우",
      "userId": "16041142222927328568"
     },
     "user_tz": -540
    },
    "id": "gx7p8z6oBJsV",
    "outputId": "dc0cbbdf-737e-475e-a003-fa3a1850dcb5"
   },
   "outputs": [
    {
     "name": "stdout",
     "output_type": "stream",
     "text": [
      "\u001b[?25l   \u001b[90m━━━━━━━━━━━━━━━━━━━━━━━━━━━━━━━━━━━━━━━━\u001b[0m \u001b[32m0.0/54.2 kB\u001b[0m \u001b[31m?\u001b[0m eta \u001b[36m-:--:--\u001b[0m\r\u001b[2K   \u001b[90m━━━━━━━━━━━━━━━━━━━━━━━━━━━━━━━━━━━━━━━━\u001b[0m \u001b[32m54.2/54.2 kB\u001b[0m \u001b[31m4.1 MB/s\u001b[0m eta \u001b[36m0:00:00\u001b[0m\n",
      "\u001b[?25h\u001b[?25l   \u001b[90m━━━━━━━━━━━━━━━━━━━━━━━━━━━━━━━━━━━━━━━━\u001b[0m \u001b[32m0.0/1.2 MB\u001b[0m \u001b[31m?\u001b[0m eta \u001b[36m-:--:--\u001b[0m\r\u001b[2K   \u001b[91m━━━━━━━━━━━━━━━━━━━━━\u001b[0m\u001b[91m╸\u001b[0m\u001b[90m━━━━━━━━━━━━━━━━━━\u001b[0m \u001b[32m0.6/1.2 MB\u001b[0m \u001b[31m26.4 MB/s\u001b[0m eta \u001b[36m0:00:01\u001b[0m\r\u001b[2K   \u001b[91m━━━━━━━━━━━━━━━━━━━━━━━━━━━━━━━━━━━━━━━\u001b[0m\u001b[91m╸\u001b[0m \u001b[32m1.2/1.2 MB\u001b[0m \u001b[31m15.8 MB/s\u001b[0m eta \u001b[36m0:00:01\u001b[0m\r\u001b[2K   \u001b[90m━━━━━━━━━━━━━━━━━━━━━━━━━━━━━━━━━━━━━━━━\u001b[0m \u001b[32m1.2/1.2 MB\u001b[0m \u001b[31m10.4 MB/s\u001b[0m eta \u001b[36m0:00:00\u001b[0m\n",
      "\u001b[?25h"
     ]
    }
   ],
   "source": [
    "! pip install -qU langchain_openai"
   ]
  },
  {
   "cell_type": "code",
   "execution_count": null,
   "metadata": {
    "id": "5RdwGti-BLnD"
   },
   "outputs": [],
   "source": [
    "from langchain_openai import ChatOpenAI\n",
    "from langchain_core.output_parsers import PydanticOutputParser\n",
    "from pydantic import BaseModel, Field\n",
    "\n",
    "llm = ChatOpenAI(\n",
    "    temperature=0,\n",
    "    model_name=\"gpt-4o\",\n",
    ")"
   ]
  },
  {
   "cell_type": "code",
   "execution_count": null,
   "metadata": {
    "id": "mBNCV83gCCwT"
   },
   "outputs": [],
   "source": [
    "email_conversation = \"\"\"\n",
    "From: John (John@bikecorporation.me)\n",
    "To: Kim (Kim@teddyinternational.me)\n",
    "Subject: “ZENESIS” bike distribution cooperation and meeting schedule proposal\n",
    "Dear Mr. Kim,\n",
    "\n",
    "I am John, Senior Executive Director at Bike Corporation. I recently learned about your new bicycle model, \"ZENESIS,\" through your press release. Bike Corporation is a company that leads innovation and quality in the field of bicycle manufacturing and distribution, with long-time experience and expertise in this field.\n",
    "\n",
    "We would like to request a detailed brochure for the ZENESIS model. In particular, we need information on technical specifications, battery performance, and design aspects. This information will help us further refine our proposed distribution strategy and marketing plan.\n",
    "\n",
    "Additionally, to discuss the possibilities for collaboration in more detail, I propose a meeting next Tuesday, January 15th, at 10:00 AM. Would it be possible to meet at your office to have this discussion?\n",
    "\n",
    "Thank you.\n",
    "\n",
    "Best regards,\n",
    "John\n",
    "Senior Executive Director\n",
    "Bike Corporation\n",
    "\"\"\""
   ]
  },
  {
   "cell_type": "markdown",
   "metadata": {
    "id": "VgLOY_MOCaup"
   },
   "source": [
    "### Output Oarser를 사용하지 않는 경우"
   ]
  },
  {
   "cell_type": "code",
   "execution_count": null,
   "metadata": {
    "id": "uwLOJUtLCgX9"
   },
   "outputs": [],
   "source": [
    "from itertools import chain\n",
    "from langchain_core.prompts import PromptTemplate\n",
    "from langchain_core.messages import AIMessageChunk\n",
    "from langchain_core.output_parsers import StrOutputParser\n",
    "\n",
    "prompt = PromptTemplate.from_template(\n",
    "    \"\"\"\n",
    "    Please extract the important parts of the following email.\n",
    "\n",
    "    {email_conversation}\n",
    "    \"\"\"\n",
    ")\n",
    "\n",
    "llm = ChatOpenAI(temperature=0, model_name=\"gpt-4o\")\n",
    "\n",
    "chain = prompt | llm\n"
   ]
  },
  {
   "cell_type": "code",
   "execution_count": null,
   "metadata": {
    "id": "D1Lo2oQUEePZ"
   },
   "outputs": [],
   "source": [
    "def stream_response(response, return_output=False):\n",
    "    \"\"\"\n",
    "    Streams the response from the AI model, processing and printing each chunk.\n",
    "\n",
    "    This function iterates over each item in the 'response' iterable. If an item is an instance of AIMessageChunk, it extracts and prints the content.\n",
    "    If the item is a string, it prints the string directly.\n",
    "    Optionally, the function can return the concatenated string of all response chunks.\n",
    "\n",
    "    Args:\n",
    "    - response (iterable): An iterable of response chunks, which can be AIMessageChunk objects or strings.\n",
    "    - return_output (bool, optional): If True, the function returns the concatenated response string. The default is False.\n",
    "\n",
    "    Returns:\n",
    "    - str: If `return_output` is True, the concatenated response string. Otherwise, nothing is returned.\n",
    "    \"\"\"\n",
    "    for token in response:\n",
    "        if isinstance(token, AIMessageChunk):\n",
    "            print(token.content, end=\"\", flush=True)\n",
    "        elif isinstance(token, str):\n",
    "            print(token, end=\"\", flush=True)\n",
    "    if return_output:\n",
    "        return answer\n",
    "\n",
    "answer = chain.stream({\"email_conversation\": email_conversation})"
   ]
  },
  {
   "cell_type": "markdown",
   "metadata": {
    "id": "vyC2gEYF1O6G"
   },
   "source": []
  },
  {
   "cell_type": "code",
   "execution_count": null,
   "metadata": {
    "colab": {
     "base_uri": "https://localhost:8080/"
    },
    "executionInfo": {
     "elapsed": 1972,
     "status": "ok",
     "timestamp": 1736829635532,
     "user": {
      "displayName": "배진우",
      "userId": "16041142222927328568"
     },
     "user_tz": -540
    },
    "id": "lOEGqTG7DpKy",
    "outputId": "ed78c144-6fb1-4ba0-cbc0-517af5d3b2d6"
   },
   "outputs": [
    {
     "name": "stdout",
     "output_type": "stream",
     "text": [
      "- **Sender:** John, Senior Executive Director at Bike Corporation\n",
      "- **Recipient:** Kim at Teddy International\n",
      "- **Subject:** \"ZENESIS\" bike distribution cooperation and meeting schedule proposal\n",
      "- **Key Points:**\n",
      "  - John learned about the \"ZENESIS\" bicycle model through a press release.\n",
      "  - Bike Corporation is interested in a detailed brochure for the ZENESIS model, focusing on technical specifications, battery performance, and design aspects.\n",
      "  - John proposes a meeting to discuss collaboration possibilities in more detail.\n",
      "  - Proposed meeting date and time: Next Tuesday, January 15th, at 10:00 AM, at Kim's office."
     ]
    }
   ],
   "source": [
    "output = stream_response(answer, return_output=True)"
   ]
  },
  {
   "cell_type": "code",
   "execution_count": null,
   "metadata": {
    "colab": {
     "base_uri": "https://localhost:8080/"
    },
    "executionInfo": {
     "elapsed": 298,
     "status": "ok",
     "timestamp": 1736829645092,
     "user": {
      "displayName": "배진우",
      "userId": "16041142222927328568"
     },
     "user_tz": -540
    },
    "id": "sGOAMZTkHKwI",
    "outputId": "4801002c-0237-4b52-dd9b-2bc048a74648"
   },
   "outputs": [
    {
     "data": {
      "text/plain": [
       "<generator object RunnableSequence.stream at 0x78ac77d6af10>"
      ]
     },
     "execution_count": 17,
     "metadata": {},
     "output_type": "execute_result"
    }
   ],
   "source": [
    "output"
   ]
  },
  {
   "cell_type": "markdown",
   "metadata": {
    "id": "-IA2jPvpHp6o"
   },
   "source": [
    "### Use OutPut Parser"
   ]
  },
  {
   "cell_type": "code",
   "execution_count": 35,
   "metadata": {
    "executionInfo": {
     "elapsed": 298,
     "status": "ok",
     "timestamp": 1736841382642,
     "user": {
      "displayName": "배진우",
      "userId": "16041142222927328568"
     },
     "user_tz": -540
    },
    "id": "EBDTS4H-HQRe"
   },
   "outputs": [],
   "source": [
    "class EmailSummary(BaseModel):\n",
    "    person: str = Field(description=\"The sender of the email\")\n",
    "    email: str = Field(description=\"The email address of the sender\")\n",
    "    subject: str = Field(description=\"The subject of the email\")\n",
    "    summary: str = Field(description=\"A summary of the email content\")\n",
    "    date: str = Field(\n",
    "        description=\"The meeting date and time mentioned in the email content\"\n",
    "    )"
   ]
  },
  {
   "cell_type": "code",
   "execution_count": 36,
   "metadata": {
    "executionInfo": {
     "elapsed": 314,
     "status": "ok",
     "timestamp": 1736841385099,
     "user": {
      "displayName": "배진우",
      "userId": "16041142222927328568"
     },
     "user_tz": -540
    },
    "id": "kWYKR759Jc_X"
   },
   "outputs": [],
   "source": [
    "parser = PydanticOutputParser(pydantic_object=EmailSummary)"
   ]
  },
  {
   "cell_type": "code",
   "execution_count": 37,
   "metadata": {
    "executionInfo": {
     "elapsed": 415,
     "status": "ok",
     "timestamp": 1736841386538,
     "user": {
      "displayName": "배진우",
      "userId": "16041142222927328568"
     },
     "user_tz": -540
    },
    "id": "5swIdXV3P0tx"
   },
   "outputs": [],
   "source": [
    "test_instruct=parser.get_format_instructions()\n"
   ]
  },
  {
   "cell_type": "markdown",
   "metadata": {
    "id": "mD_RDj_kKreH"
   },
   "source": [
    "### prompt 제작"
   ]
  },
  {
   "cell_type": "code",
   "execution_count": null,
   "metadata": {
    "id": "1C3gkp00Ktn3"
   },
   "outputs": [],
   "source": [
    "prompt = PromptTemplate.from_template(\n",
    "    \"\"\"\n",
    "    You are a helpful assistant.\n",
    "\n",
    "    QUESTION:\n",
    "    {question}\n",
    "\n",
    "    EMAIL CONVERSATION:\n",
    "    {email_conversation}\n",
    "\n",
    "    FORMAT:\n",
    "    {format}\n",
    "    \"\"\"\n",
    ")"
   ]
  },
  {
   "cell_type": "code",
   "execution_count": null,
   "metadata": {
    "id": "81LVp-AHPxJV"
   },
   "outputs": [],
   "source": [
    "prompt = prompt.partial(format=parser.get_format_instructions())"
   ]
  },
  {
   "cell_type": "code",
   "execution_count": null,
   "metadata": {
    "colab": {
     "base_uri": "https://localhost:8080/"
    },
    "executionInfo": {
     "elapsed": 3,
     "status": "ok",
     "timestamp": 1736832285500,
     "user": {
      "displayName": "배진우",
      "userId": "16041142222927328568"
     },
     "user_tz": -540
    },
    "id": "Ye5EmTpgRSzD",
    "outputId": "0a366e9d-6774-45c7-aa4a-c416779342b7"
   },
   "outputs": [
    {
     "data": {
      "text/plain": [
       "PromptTemplate(input_variables=['email_conversation', 'question'], input_types={}, partial_variables={'format': 'The output should be formatted as a JSON instance that conforms to the JSON schema below.\\n\\nAs an example, for the schema {\"properties\": {\"foo\": {\"title\": \"Foo\", \"description\": \"a list of strings\", \"type\": \"array\", \"items\": {\"type\": \"string\"}}}, \"required\": [\"foo\"]}\\nthe object {\"foo\": [\"bar\", \"baz\"]} is a well-formatted instance of the schema. The object {\"properties\": {\"foo\": [\"bar\", \"baz\"]}} is not well-formatted.\\n\\nHere is the output schema:\\n```\\n{\"properties\": {\"person\": {\"description\": \"The sender of the email\", \"title\": \"Person\", \"type\": \"string\"}, \"email\": {\"description\": \"The email address of the sender\", \"title\": \"Email\", \"type\": \"string\"}, \"subject\": {\"description\": \"The subject of the email\", \"title\": \"Subject\", \"type\": \"string\"}, \"summary\": {\"description\": \"A summary of the email content\", \"title\": \"Summary\", \"type\": \"string\"}, \"date\": {\"description\": \"The meeting date and mentioned in the email content\", \"title\": \"Date\", \"type\": \"string\"}}, \"required\": [\"person\", \"email\", \"subject\", \"summary\", \"date\"]}\\n```'}, template='\\n    You are a helpful assistant.\\n\\n    QUESTION:\\n    {question}\\n\\n    EMAIL CONVERSATION:\\n    {email_conversation}\\n\\n    FORMAT:\\n    {format}\\n    ')"
      ]
     },
     "execution_count": 24,
     "metadata": {},
     "output_type": "execute_result"
    }
   ],
   "source": [
    "prompt"
   ]
  },
  {
   "cell_type": "code",
   "execution_count": 41,
   "metadata": {
    "executionInfo": {
     "elapsed": 309,
     "status": "ok",
     "timestamp": 1736841614246,
     "user": {
      "displayName": "배진우",
      "userId": "16041142222927328568"
     },
     "user_tz": -540
    },
    "id": "C3VWzcxJRyWy"
   },
   "outputs": [],
   "source": [
    "chain = prompt | llm"
   ]
  },
  {
   "cell_type": "code",
   "execution_count": 42,
   "metadata": {
    "executionInfo": {
     "elapsed": 445,
     "status": "ok",
     "timestamp": 1736841615805,
     "user": {
      "displayName": "배진우",
      "userId": "16041142222927328568"
     },
     "user_tz": -540
    },
    "id": "AxMhzWRhR5fM"
   },
   "outputs": [],
   "source": [
    "response = chain.stream(\n",
    "    {\n",
    "        \"email_conversation\": email_conversation,\n",
    "        \"question\": \"이메일을 요약.\",\n",
    "    }\n",
    ")"
   ]
  },
  {
   "cell_type": "code",
   "execution_count": 43,
   "metadata": {
    "colab": {
     "base_uri": "https://localhost:8080/"
    },
    "executionInfo": {
     "elapsed": 3374,
     "status": "ok",
     "timestamp": 1736841623878,
     "user": {
      "displayName": "배진우",
      "userId": "16041142222927328568"
     },
     "user_tz": -540
    },
    "id": "D582Oc7-SE2P",
    "outputId": "5fb42729-50a0-4376-ef7e-5ea09dab690c"
   },
   "outputs": [
    {
     "name": "stdout",
     "output_type": "stream",
     "text": [
      "```json\n",
      "{\n",
      "    \"person\": \"John\",\n",
      "    \"email\": \"John@bikecorporation.me\",\n",
      "    \"subject\": \"“ZENESIS” bike distribution cooperation and meeting schedule proposal\",\n",
      "    \"summary\": \"John, Senior Executive Director at Bike Corporation, is interested in the new bicycle model 'ZENESIS' from Teddy International. He requests a detailed brochure with technical specifications, battery performance, and design aspects to refine their distribution strategy and marketing plan. John proposes a meeting on Tuesday, January 15th, at 10:00 AM at Kim's office to discuss collaboration possibilities.\",\n",
      "    \"date\": \"January 15th\"\n",
      "}\n",
      "```"
     ]
    }
   ],
   "source": [
    "output = stream_response(response, return_output=True)"
   ]
  },
  {
   "cell_type": "markdown",
   "metadata": {
    "id": "HaAIyVI0U3Mv"
   },
   "source": [
    "### with Parser"
   ]
  },
  {
   "cell_type": "code",
   "execution_count": null,
   "metadata": {
    "id": "2XESGsxPU7LR"
   },
   "outputs": [],
   "source": [
    "chain = prompt | llm | parser"
   ]
  },
  {
   "cell_type": "code",
   "execution_count": null,
   "metadata": {
    "colab": {
     "base_uri": "https://localhost:8080/"
    },
    "executionInfo": {
     "elapsed": 4285,
     "status": "ok",
     "timestamp": 1736833437365,
     "user": {
      "displayName": "배진우",
      "userId": "16041142222927328568"
     },
     "user_tz": -540
    },
    "id": "PhzPCsabVASs",
    "outputId": "3ab5fb92-4c94-4a06-91b6-410dbc83be9b"
   },
   "outputs": [
    {
     "data": {
      "text/plain": [
       "EmailSummary(person='John', email='John@bikecorporation.me', subject='“ZENESIS” bike distribution cooperation and meeting schedule proposal', summary=\"John, Senior Executive Director at Bike Corporation, is interested in the ZENESIS bike model and requests a detailed brochure with technical specifications, battery performance, and design aspects. He proposes a meeting to discuss potential collaboration on Tuesday, January 15th, at 10:00 AM at Kim's office.\", date='January 15th')"
      ]
     },
     "execution_count": 33,
     "metadata": {},
     "output_type": "execute_result"
    }
   ],
   "source": [
    "response = chain.invoke(\n",
    "    {\n",
    "        \"email_conversation\": email_conversation,\n",
    "        \"question\": \"Extract the main content of the email.\",\n",
    "    }\n",
    ")"
   ]
  },
  {
   "cell_type": "code",
   "execution_count": null,
   "metadata": {
    "colab": {
     "base_uri": "https://localhost:8080/",
     "height": 36
    },
    "executionInfo": {
     "elapsed": 4,
     "status": "ok",
     "timestamp": 1736833423378,
     "user": {
      "displayName": "배진우",
      "userId": "16041142222927328568"
     },
     "user_tz": -540
    },
    "id": "bIq0G80WVGEc",
    "outputId": "744cbcbd-2b33-4ad7-a85d-5eb39c40d67f"
   },
   "outputs": [
    {
     "data": {
      "application/vnd.google.colaboratory.intrinsic+json": {
       "type": "string"
      },
      "text/plain": [
       "'John'"
      ]
     },
     "execution_count": 32,
     "metadata": {},
     "output_type": "execute_result"
    }
   ],
   "source": [
    "response.person"
   ]
  }
 ],
 "metadata": {
  "colab": {
   "authorship_tag": "ABX9TyPtbR3bzj7NlbwsLHJL0Os9",
   "provenance": []
  },
  "kernelspec": {
   "display_name": "Python 3",
   "name": "python3"
  },
  "language_info": {
   "name": "python"
  }
 },
 "nbformat": 4,
 "nbformat_minor": 0
}
