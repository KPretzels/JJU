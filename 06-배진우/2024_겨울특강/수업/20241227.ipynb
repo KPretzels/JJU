{
 "cells": [
  {
   "cell_type": "markdown",
   "metadata": {
    "id": "N2BA-XrL7d3m"
   },
   "source": []
  },
  {
   "cell_type": "markdown",
   "metadata": {
    "id": "Fb4DTOUM4T7O"
   },
   "source": [
    "# 1. partial variable이 2개 이상일때 관찰."
   ]
  },
  {
   "cell_type": "code",
   "execution_count": null,
   "metadata": {
    "id": "hBmeacy36my7"
   },
   "outputs": [],
   "source": [
    "from langchain_openai import ChatOpenAI\n",
    "from langchain_core.prompts import PromptTemplate\n",
    "import os\n",
    "\n",
    "os.environ['OPENAI_API_KEY'] = \"\""
   ]
  },
  {
   "cell_type": "code",
   "execution_count": null,
   "metadata": {
    "id": "wtUaI3Gm-PBy"
   },
   "outputs": [],
   "source": [
    "template = \"{country1}과 {country2}의 수도는 각각 어디인가요? {country3}의 수도는 어디인가요?\"\n",
    "\n",
    "prompt = PromptTemplate(\n",
    "    template=template,\n",
    "    input_variables=[\"country1\"],\n",
    "    partial_variables={\n",
    "        \"country2\": \"미국\",\n",
    "        \"country3\": \"일본\"\n",
    "    },\n",
    ")"
   ]
  },
  {
   "cell_type": "code",
   "execution_count": null,
   "metadata": {
    "id": "dxIoYvHB-Qk5"
   },
   "outputs": [],
   "source": [
    "model = ChatOpenAI(\n",
    "    model=\"gpt-3.5-turbo\",\n",
    "    max_tokens=2048,\n",
    "    temperature=0.1\n",
    ")\n",
    "\n",
    "chain = prompt | model"
   ]
  },
  {
   "cell_type": "code",
   "execution_count": null,
   "metadata": {
    "colab": {
     "base_uri": "https://localhost:8080/"
    },
    "executionInfo": {
     "elapsed": 858,
     "status": "ok",
     "timestamp": 1735199990030,
     "user": {
      "displayName": "배진우",
      "userId": "16041142222927328568"
     },
     "user_tz": -540
    },
    "id": "Lx7eHL7i-SyG",
    "outputId": "299f4c44-8a68-48fb-9bb5-e5bd4d99b69c"
   },
   "outputs": [
    {
     "name": "stdout",
     "output_type": "stream",
     "text": [
      "대한민국의 수도는 서울이고, 호주의 수도는 캔버라입니다. 독일의 수도는 베를린입니다.\n"
     ]
    }
   ],
   "source": [
    "result = chain.invoke({\n",
    "    \"country1\": \"대한민국\",\n",
    "    \"country2\": \"호주\",\n",
    "    \"country3\": \"독일\"\n",
    "}).content\n",
    "\n",
    "print(result)"
   ]
  },
  {
   "cell_type": "markdown",
   "metadata": {
    "id": "axb21Som3vMO"
   },
   "source": [
    "# 2. 헷갈리지 않도록-날짜 처리\n"
   ]
  },
  {
   "cell_type": "code",
   "execution_count": null,
   "metadata": {
    "colab": {
     "base_uri": "https://localhost:8080/",
     "height": 36
    },
    "executionInfo": {
     "elapsed": 418,
     "status": "ok",
     "timestamp": 1735199147993,
     "user": {
      "displayName": "배진우",
      "userId": "16041142222927328568"
     },
     "user_tz": -540
    },
    "id": "soymNZcP2BkC",
    "outputId": "c27f989d-aca0-4e99-ecf3-6dafbfb197d0"
   },
   "outputs": [
    {
     "data": {
      "application/vnd.google.colaboratory.intrinsic+json": {
       "type": "string"
      },
      "text/plain": [
       "'December 26'"
      ]
     },
     "execution_count": 39,
     "metadata": {},
     "output_type": "execute_result"
    }
   ],
   "source": [
    "from datetime import datetime\n",
    "\n",
    "datetime.now().strftime(\"%B %d\")"
   ]
  },
  {
   "cell_type": "code",
   "execution_count": null,
   "metadata": {
    "id": "QY-MUobR2aK-"
   },
   "outputs": [],
   "source": [
    "def get_today():\n",
    "  return datetime.now().strftime(\"%B %d\")"
   ]
  },
  {
   "cell_type": "code",
   "execution_count": null,
   "metadata": {
    "id": "6ED2DxCz2rK1"
   },
   "outputs": [],
   "source": [
    "prompt = PromptTemplate(\n",
    "    template=\"오늘 날짜는 {today}입니다. 오늘이 생일인 유명인 {n}명을 나열해 주세요. 생년월일을 표기해주세요.\",\n",
    "    input_variables = [\"n\"],\n",
    "    partial_variables = {\n",
    "        \"today\": get_today()\n",
    "        }\n",
    ")"
   ]
  },
  {
   "cell_type": "code",
   "execution_count": null,
   "metadata": {
    "colab": {
     "base_uri": "https://localhost:8080/"
    },
    "executionInfo": {
     "elapsed": 1511,
     "status": "ok",
     "timestamp": 1735199380670,
     "user": {
      "displayName": "배진우",
      "userId": "16041142222927328568"
     },
     "user_tz": -540
    },
    "id": "Y1Q9xvkW37yQ",
    "outputId": "6517b13c-ba47-4a8b-dcb6-3870061104a1"
   },
   "outputs": [
    {
     "name": "stdout",
     "output_type": "stream",
     "text": [
      "1. Jared Leto - 1971년 12월 26일\n",
      "2. Kit Harington - 1986년 12월 26일\n",
      "3. Eden Hazard - 1991년 12월 26일\n",
      "4. Lars Ulrich - 1963년 12월 26일\n",
      "5. Chris Daughtry - 1979년 12월 26일\n"
     ]
    }
   ],
   "source": [
    "model = ChatOpenAI(\n",
    "    model = \"gpt-3.5-turbo\",\n",
    "    max_tokens = 2048,\n",
    "    temperature = 0.1\n",
    ")\n",
    "\n",
    "chain = prompt | model\n",
    "print(chain.invoke({\"n\":\"5\"}).content)\n"
   ]
  }
 ],
 "metadata": {
  "colab": {
   "authorship_tag": "ABX9TyPL4GchU/jNguGoGLtP1MzL",
   "provenance": []
  },
  "kernelspec": {
   "display_name": "Python 3",
   "name": "python3"
  },
  "language_info": {
   "name": "python"
  }
 },
 "nbformat": 4,
 "nbformat_minor": 0
}
