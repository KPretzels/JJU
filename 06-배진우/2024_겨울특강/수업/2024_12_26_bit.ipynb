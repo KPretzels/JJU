{
 "cells": [
  {
   "cell_type": "markdown",
   "metadata": {
    "id": "tXwbVEZFL2P1"
   },
   "source": [
    "# 1. 키 확인"
   ]
  },
  {
   "cell_type": "code",
   "execution_count": null,
   "metadata": {},
   "outputs": [],
   "source": [
    "import os\n",
    "\n",
    "os.environ['OPENAI_API_KEY'] = \"\""
   ]
  },
  {
   "cell_type": "markdown",
   "metadata": {
    "id": "Az0Dbjm2N-iA"
   },
   "source": [
    "# 2. 키 유효성 확인"
   ]
  },
  {
   "cell_type": "markdown",
   "metadata": {
    "id": "Yz_Jez3fOBXc"
   },
   "source": []
  },
  {
   "cell_type": "code",
   "execution_count": null,
   "metadata": {
    "id": "5FVadtrORrZn"
   },
   "outputs": [],
   "source": [
    "print(f\"[API KEY]\\n{os.environ['OPENAI_API_KEY'][:-15]}\"+\"*\" * 15)"
   ]
  },
  {
   "cell_type": "code",
   "execution_count": null,
   "metadata": {
    "id": "4u4ypSw3RkTt"
   },
   "outputs": [],
   "source": [
    "template = \"{}\""
   ]
  }
 ],
 "metadata": {
  "colab": {
   "authorship_tag": "ABX9TyM/S4VSNzxgofAsWTf/bC0G",
   "provenance": []
  },
  "kernelspec": {
   "display_name": "Python 3",
   "name": "python3"
  },
  "language_info": {
   "name": "python"
  }
 },
 "nbformat": 4,
 "nbformat_minor": 0
}
