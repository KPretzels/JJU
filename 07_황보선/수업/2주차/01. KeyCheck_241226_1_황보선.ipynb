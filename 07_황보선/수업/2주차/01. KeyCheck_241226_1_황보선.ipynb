{
 "cells": [
  {
   "cell_type": "markdown",
   "metadata": {
    "id": "dWpyxJRdL0gh"
   },
   "source": [
    "# 1. 키 확인"
   ]
  },
  {
   "cell_type": "code",
   "execution_count": 2,
   "metadata": {
    "executionInfo": {
     "elapsed": 272,
     "status": "ok",
     "timestamp": 1735187393645,
     "user": {
      "displayName": "황보선",
      "userId": "01102450509081992863"
     },
     "user_tz": -540
    },
    "id": "bSQV0Zz7L7El"
   },
   "outputs": [],
   "source": [
    "import os \n",
    "\n",
    "os.environ['OPENAI_API_KEY']=''"
   ]
  },
  {
   "cell_type": "markdown",
   "metadata": {
    "id": "uGb6IkEPN7uT"
   },
   "source": [
    "# 2. 키 유효성 확인"
   ]
  },
  {
   "cell_type": "code",
   "execution_count": 4,
   "metadata": {
    "colab": {
     "base_uri": "https://localhost:8080/"
    },
    "executionInfo": {
     "elapsed": 445,
     "status": "ok",
     "timestamp": 1735187485990,
     "user": {
      "displayName": "황보선",
      "userId": "01102450509081992863"
     },
     "user_tz": -540
    },
    "id": "I28Cj4niNiIG",
    "outputId": "45409aad-a03c-421d-d35d-8144ae97b08d"
   },
   "outputs": [
    {
     "name": "stdout",
     "output_type": "stream",
     "text": [
      "[API KEY]\n",
      "sk-proj-uA8FFFrb2C7uDnSCY4Bv7Cw6Yu0xj1mRy92cH-L9Ilb_eswRAmm4nTKF4g5QOZt5lZQFcuiXCtT3BlbkFJ4PAzFbg5A4yYaO_XoOwoiHem-phb5nfeFDitf5i8NPkWFuk4EbXM1xwBIVL***************\n"
     ]
    }
   ],
   "source": [
    "print(f\"[API KEY]\\n{os.environ['OPENAI_API_KEY'][:-15]}\" + '*' * 15)"
   ]
  }
 ],
 "metadata": {
  "colab": {
   "authorship_tag": "ABX9TyNNIvzjO5qxnmgtKVmA1nxX",
   "provenance": []
  },
  "kernelspec": {
   "display_name": "Python 3",
   "name": "python3"
  },
  "language_info": {
   "name": "python"
  }
 },
 "nbformat": 4,
 "nbformat_minor": 0
}
