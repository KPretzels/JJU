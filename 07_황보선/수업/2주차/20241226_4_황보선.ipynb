{
 "cells": [
  {
   "cell_type": "code",
   "execution_count": 10,
   "metadata": {
    "executionInfo": {
     "elapsed": 399,
     "status": "ok",
     "timestamp": 1735194191872,
     "user": {
      "displayName": "황보선",
      "userId": "01102450509081992863"
     },
     "user_tz": -540
    },
    "id": "zLefyUTZmeCZ"
   },
   "outputs": [],
   "source": [
    "import os\n",
    "\n",
    "os.environ['OPENAI_API_KEY']=''"
   ]
  },
  {
   "cell_type": "code",
   "execution_count": 11,
   "metadata": {
    "executionInfo": {
     "elapsed": 4215,
     "status": "ok",
     "timestamp": 1735194196083,
     "user": {
      "displayName": "황보선",
      "userId": "01102450509081992863"
     },
     "user_tz": -540
    },
    "id": "r0oPmfDqmlkV"
   },
   "outputs": [],
   "source": [
    "pip install -q langchain_teddynote langchain_openai langchain_core"
   ]
  },
  {
   "cell_type": "code",
   "execution_count": 12,
   "metadata": {
    "executionInfo": {
     "elapsed": 1011,
     "status": "ok",
     "timestamp": 1735194197090,
     "user": {
      "displayName": "황보선",
      "userId": "01102450509081992863"
     },
     "user_tz": -540
    },
    "id": "SbpgPPbSmk30"
   },
   "outputs": [],
   "source": [
    "from langchain_teddynote.messages import stream_response # 스트리밍 출력\n",
    "from langchain_core.prompts import PromptTemplate"
   ]
  },
  {
   "cell_type": "markdown",
   "metadata": {
    "id": "H6a3zGwTnEgF"
   },
   "source": [
    "## 1: 프롬프트 템플릿 객체 생성 방법"
   ]
  },
  {
   "cell_type": "code",
   "execution_count": 13,
   "metadata": {
    "executionInfo": {
     "elapsed": 7,
     "status": "ok",
     "timestamp": 1735194197092,
     "user": {
      "displayName": "황보선",
      "userId": "01102450509081992863"
     },
     "user_tz": -540
    },
    "id": "vTcgxMqfnItg"
   },
   "outputs": [],
   "source": [
    "from langchain_core.prompts import PromptTemplate\n",
    "\n",
    "# template 정의\n",
    "template = '{country}의 수도는 어디인가요'\n",
    "\n",
    "# from_template 메소드를 이용하여 PromptTemplate 객체 생성\n",
    "prompt = PromptTemplate.from_template(template)"
   ]
  },
  {
   "cell_type": "code",
   "execution_count": 14,
   "metadata": {
    "colab": {
     "base_uri": "https://localhost:8080/"
    },
    "executionInfo": {
     "elapsed": 7,
     "status": "ok",
     "timestamp": 1735194197092,
     "user": {
      "displayName": "황보선",
      "userId": "01102450509081992863"
     },
     "user_tz": -540
    },
    "id": "5YFjJ-u1na_c",
    "outputId": "43153c9d-3e4c-40dd-82fe-38059c74fdbd"
   },
   "outputs": [
    {
     "data": {
      "text/plain": [
       "PromptTemplate(input_variables=['country'], input_types={}, partial_variables={}, template='{country}의 수도는 어디인가요')"
      ]
     },
     "execution_count": 14,
     "metadata": {},
     "output_type": "execute_result"
    }
   ],
   "source": [
    "prompt"
   ]
  },
  {
   "cell_type": "code",
   "execution_count": 15,
   "metadata": {
    "colab": {
     "base_uri": "https://localhost:8080/",
     "height": 36
    },
    "executionInfo": {
     "elapsed": 7,
     "status": "ok",
     "timestamp": 1735194197093,
     "user": {
      "displayName": "황보선",
      "userId": "01102450509081992863"
     },
     "user_tz": -540
    },
    "id": "_7mOpPGNnsOl",
    "outputId": "f13f6432-961c-447d-d52f-820632fdb2e9"
   },
   "outputs": [
    {
     "data": {
      "application/vnd.google.colaboratory.intrinsic+json": {
       "type": "string"
      },
      "text/plain": [
       "'대한민국의 수도는 어디인가요'"
      ]
     },
     "execution_count": 15,
     "metadata": {},
     "output_type": "execute_result"
    }
   ],
   "source": [
    "# prompt 생성\n",
    "prompt = prompt_template.format(country='대한민국')\n",
    "prompt"
   ]
  },
  {
   "cell_type": "code",
   "execution_count": 16,
   "metadata": {
    "executionInfo": {
     "elapsed": 7454,
     "status": "ok",
     "timestamp": 1735194204540,
     "user": {
      "displayName": "황보선",
      "userId": "01102450509081992863"
     },
     "user_tz": -540
    },
    "id": "_-ENz2ZpoDX_"
   },
   "outputs": [],
   "source": [
    "pip install -q openai"
   ]
  },
  {
   "cell_type": "code",
   "execution_count": 17,
   "metadata": {
    "executionInfo": {
     "elapsed": 333,
     "status": "ok",
     "timestamp": 1735194204870,
     "user": {
      "displayName": "황보선",
      "userId": "01102450509081992863"
     },
     "user_tz": -540
    },
    "id": "VxR0dbAQoMPD"
   },
   "outputs": [],
   "source": [
    "from langchain_openai import ChatOpenAI\n",
    "\n",
    "model = ChatOpenAI(\n",
    "    model_name='gpt-3.5-turbo',\n",
    "    max_tokens=2048,\n",
    "    temperature=0.1,\n",
    ")"
   ]
  },
  {
   "cell_type": "code",
   "execution_count": 19,
   "metadata": {
    "executionInfo": {
     "elapsed": 249,
     "status": "ok",
     "timestamp": 1735194254556,
     "user": {
      "displayName": "황보선",
      "userId": "01102450509081992863"
     },
     "user_tz": -540
    },
    "id": "EZ9f5GLtoip3"
   },
   "outputs": [],
   "source": [
    "# template 정의\n",
    "template = '{country}의 수도는 어디인가요'\n",
    "\n",
    "# from_template 메소드를 이용하여 PromptTemplate 객체 생성\n",
    "prompt = PromptTemplate.from_template(template)\n",
    "\n",
    "# 객체 생성\n",
    "chain = prompt | model"
   ]
  },
  {
   "cell_type": "code",
   "execution_count": 23,
   "metadata": {
    "colab": {
     "base_uri": "https://localhost:8080/",
     "height": 36
    },
    "executionInfo": {
     "elapsed": 5,
     "status": "ok",
     "timestamp": 1735194326092,
     "user": {
      "displayName": "황보선",
      "userId": "01102450509081992863"
     },
     "user_tz": -540
    },
    "id": "Qgm0VIbspClt",
    "outputId": "e304d98b-1d77-489f-8737-35bc29ce7a7b"
   },
   "outputs": [
    {
     "data": {
      "application/vnd.google.colaboratory.intrinsic+json": {
       "type": "string"
      },
      "text/plain": [
       "'{country}의 수도는 어디인가요'"
      ]
     },
     "execution_count": 23,
     "metadata": {},
     "output_type": "execute_result"
    }
   ],
   "source": [
    "template"
   ]
  },
  {
   "cell_type": "code",
   "execution_count": 20,
   "metadata": {
    "colab": {
     "base_uri": "https://localhost:8080/"
    },
    "executionInfo": {
     "elapsed": 4,
     "status": "ok",
     "timestamp": 1735194262446,
     "user": {
      "displayName": "황보선",
      "userId": "01102450509081992863"
     },
     "user_tz": -540
    },
    "id": "uUluwaNzoy1_",
    "outputId": "f78426df-6d44-487e-c16f-4eb17028942a"
   },
   "outputs": [
    {
     "data": {
      "text/plain": [
       "PromptTemplate(input_variables=['country'], input_types={}, partial_variables={}, template='{country}의 수도는 어디인가요')"
      ]
     },
     "execution_count": 20,
     "metadata": {},
     "output_type": "execute_result"
    }
   ],
   "source": [
    "prompt"
   ]
  },
  {
   "cell_type": "code",
   "execution_count": 21,
   "metadata": {
    "colab": {
     "base_uri": "https://localhost:8080/"
    },
    "executionInfo": {
     "elapsed": 4,
     "status": "ok",
     "timestamp": 1735194265849,
     "user": {
      "displayName": "황보선",
      "userId": "01102450509081992863"
     },
     "user_tz": -540
    },
    "id": "LVWXHK7Poz-2",
    "outputId": "93b61857-0f90-40bf-c4aa-0a530debf41e"
   },
   "outputs": [
    {
     "data": {
      "text/plain": [
       "ChatOpenAI(client=<openai.resources.chat.completions.Completions object at 0x7eef0b47c670>, async_client=<openai.resources.chat.completions.AsyncCompletions object at 0x7eef0b4ac6d0>, root_client=<openai.OpenAI object at 0x7eef0b690490>, root_async_client=<openai.AsyncOpenAI object at 0x7eef0b47c610>, temperature=0.1, model_kwargs={}, openai_api_key=SecretStr('**********'), max_tokens=2048)"
      ]
     },
     "execution_count": 21,
     "metadata": {},
     "output_type": "execute_result"
    }
   ],
   "source": [
    "model"
   ]
  },
  {
   "cell_type": "code",
   "execution_count": 22,
   "metadata": {
    "colab": {
     "base_uri": "https://localhost:8080/",
     "height": 36
    },
    "executionInfo": {
     "elapsed": 570,
     "status": "ok",
     "timestamp": 1735194292348,
     "user": {
      "displayName": "황보선",
      "userId": "01102450509081992863"
     },
     "user_tz": -540
    },
    "id": "o4NX3Pu6o1Dp",
    "outputId": "1f5657ad-77ed-4531-9eee-c3b68970c0f5"
   },
   "outputs": [
    {
     "data": {
      "application/vnd.google.colaboratory.intrinsic+json": {
       "type": "string"
      },
      "text/plain": [
       "'대한민국의 수도는 서울입니다.'"
      ]
     },
     "execution_count": 22,
     "metadata": {},
     "output_type": "execute_result"
    }
   ],
   "source": [
    "chain.invoke('대한민국').content"
   ]
  },
  {
   "cell_type": "markdown",
   "metadata": {
    "id": "_FpbkKBnrzP5"
   },
   "source": [
    "## 방법 2. Prompt"
   ]
  },
  {
   "cell_type": "code",
   "execution_count": 24,
   "metadata": {
    "executionInfo": {
     "elapsed": 266,
     "status": "ok",
     "timestamp": 1735194788526,
     "user": {
      "displayName": "황보선",
      "userId": "01102450509081992863"
     },
     "user_tz": -540
    },
    "id": "czHgu0rZqhvf"
   },
   "outputs": [],
   "source": [
    "# template 정의\n",
    "template = '{country}의 수도는 어디인가요?'\n",
    "\n",
    "# PromptTemplate 객체를 활용하여 prompt_template 생성\n",
    "prompt = PromptTemplate(\n",
    "    template=template,\n",
    "    input_variables=['country'],\n",
    ")"
   ]
  },
  {
   "cell_type": "code",
   "execution_count": 26,
   "metadata": {
    "colab": {
     "base_uri": "https://localhost:8080/"
    },
    "executionInfo": {
     "elapsed": 410,
     "status": "ok",
     "timestamp": 1735194812547,
     "user": {
      "displayName": "황보선",
      "userId": "01102450509081992863"
     },
     "user_tz": -540
    },
    "id": "iU5_voC5q41y",
    "outputId": "eee63aca-2ceb-431c-9f53-5c45e0f1856c"
   },
   "outputs": [
    {
     "data": {
      "text/plain": [
       "PromptTemplate(input_variables=['country'], input_types={}, partial_variables={}, template='{country}의 수도는 어디인가요?')"
      ]
     },
     "execution_count": 26,
     "metadata": {},
     "output_type": "execute_result"
    }
   ],
   "source": [
    "prompt"
   ]
  },
  {
   "cell_type": "code",
   "execution_count": 25,
   "metadata": {
    "colab": {
     "base_uri": "https://localhost:8080/",
     "height": 36
    },
    "executionInfo": {
     "elapsed": 356,
     "status": "ok",
     "timestamp": 1735194803565,
     "user": {
      "displayName": "황보선",
      "userId": "01102450509081992863"
     },
     "user_tz": -540
    },
    "id": "LJDMB61Hq0cb",
    "outputId": "d50f8596-6ef6-4c3e-dc22-d95d78fed931"
   },
   "outputs": [
    {
     "data": {
      "application/vnd.google.colaboratory.intrinsic+json": {
       "type": "string"
      },
      "text/plain": [
       "'대한민국의 수도는 어디인가요?'"
      ]
     },
     "execution_count": 25,
     "metadata": {},
     "output_type": "execute_result"
    }
   ],
   "source": [
    "# prompt 생성\n",
    "prompt.format(country='대한민국')"
   ]
  },
  {
   "cell_type": "code",
   "execution_count": 40,
   "metadata": {
    "executionInfo": {
     "elapsed": 261,
     "status": "ok",
     "timestamp": 1735195582355,
     "user": {
      "displayName": "황보선",
      "userId": "01102450509081992863"
     },
     "user_tz": -540
    },
    "id": "p4NaOwpOti7m"
   },
   "outputs": [],
   "source": [
    "templat = '{x}와 {y}'\n",
    "\n",
    "prompt = PromptTemplate(\n",
    "    template=template,\n",
    "    input_variables=['x'],\n",
    "    partial_variables={\n",
    "        'y':1\n",
    "    }\n",
    ")"
   ]
  },
  {
   "cell_type": "code",
   "execution_count": 29,
   "metadata": {
    "executionInfo": {
     "elapsed": 296,
     "status": "ok",
     "timestamp": 1735195105743,
     "user": {
      "displayName": "황보선",
      "userId": "01102450509081992863"
     },
     "user_tz": -540
    },
    "id": "mwGipNkKrAgs"
   },
   "outputs": [],
   "source": [
    "# template 정의\n",
    "template = '{country1}과 {country2}의 수도는 어디인가요?'\n",
    "\n",
    "# PromptTemplate 객체를 활용하여 prompt_template 생성\n",
    "prompt = PromptTemplate(\n",
    "    template=template,\n",
    "    input_variables=['country1'],\n",
    "    partial_variables={\n",
    "        'country2': '미국', # dictionary 형태로 partial_variables를 전달\n",
    "    }\n",
    ")"
   ]
  },
  {
   "cell_type": "code",
   "execution_count": 30,
   "metadata": {
    "colab": {
     "base_uri": "https://localhost:8080/"
    },
    "executionInfo": {
     "elapsed": 246,
     "status": "ok",
     "timestamp": 1735195108111,
     "user": {
      "displayName": "황보선",
      "userId": "01102450509081992863"
     },
     "user_tz": -540
    },
    "id": "DwNFwMv0raJi",
    "outputId": "9be32519-62d8-454d-c012-cac8dd0c1e7b"
   },
   "outputs": [
    {
     "data": {
      "text/plain": [
       "PromptTemplate(input_variables=['country1'], input_types={}, partial_variables={'country2': '미국'}, template='{country1}과 {country2}의 수도는 어디인가요?')"
      ]
     },
     "execution_count": 30,
     "metadata": {},
     "output_type": "execute_result"
    }
   ],
   "source": [
    "prompt"
   ]
  },
  {
   "cell_type": "code",
   "execution_count": 32,
   "metadata": {
    "colab": {
     "base_uri": "https://localhost:8080/",
     "height": 36
    },
    "executionInfo": {
     "elapsed": 287,
     "status": "ok",
     "timestamp": 1735195129090,
     "user": {
      "displayName": "황보선",
      "userId": "01102450509081992863"
     },
     "user_tz": -540
    },
    "id": "EXFIdF4MsEDE",
    "outputId": "45038d41-5024-44bd-d3de-75cb543bd44a"
   },
   "outputs": [
    {
     "data": {
      "application/vnd.google.colaboratory.intrinsic+json": {
       "type": "string"
      },
      "text/plain": [
       "'대한민국과 미국의 수도는 어디인가요?'"
      ]
     },
     "execution_count": 32,
     "metadata": {},
     "output_type": "execute_result"
    }
   ],
   "source": [
    "prompt.format(country1='대한민국')"
   ]
  },
  {
   "cell_type": "code",
   "execution_count": 33,
   "metadata": {
    "executionInfo": {
     "elapsed": 256,
     "status": "ok",
     "timestamp": 1735195153522,
     "user": {
      "displayName": "황보선",
      "userId": "01102450509081992863"
     },
     "user_tz": -540
    },
    "id": "lK7BYVQZsIhi"
   },
   "outputs": [],
   "source": [
    "prompt_partial = prompt.partial(country2='캐나다')"
   ]
  },
  {
   "cell_type": "code",
   "execution_count": 34,
   "metadata": {
    "colab": {
     "base_uri": "https://localhost:8080/"
    },
    "executionInfo": {
     "elapsed": 5,
     "status": "ok",
     "timestamp": 1735195163317,
     "user": {
      "displayName": "황보선",
      "userId": "01102450509081992863"
     },
     "user_tz": -540
    },
    "id": "C9tpJvdjsNim",
    "outputId": "811926cb-6633-4394-8b4d-aa24341009fe"
   },
   "outputs": [
    {
     "data": {
      "text/plain": [
       "PromptTemplate(input_variables=['country1'], input_types={}, partial_variables={'country2': '캐나다'}, template='{country1}과 {country2}의 수도는 어디인가요?')"
      ]
     },
     "execution_count": 34,
     "metadata": {},
     "output_type": "execute_result"
    }
   ],
   "source": [
    "prompt_partial"
   ]
  },
  {
   "cell_type": "code",
   "execution_count": 35,
   "metadata": {
    "executionInfo": {
     "elapsed": 239,
     "status": "ok",
     "timestamp": 1735195177426,
     "user": {
      "displayName": "황보선",
      "userId": "01102450509081992863"
     },
     "user_tz": -540
    },
    "id": "d1P6KnGRsQqh"
   },
   "outputs": [],
   "source": [
    "chain = prompt_partial | model"
   ]
  },
  {
   "cell_type": "code",
   "execution_count": 37,
   "metadata": {
    "colab": {
     "base_uri": "https://localhost:8080/",
     "height": 36
    },
    "executionInfo": {
     "elapsed": 891,
     "status": "ok",
     "timestamp": 1735195236439,
     "user": {
      "displayName": "황보선",
      "userId": "01102450509081992863"
     },
     "user_tz": -540
    },
    "id": "P_zSP9sBsTb6",
    "outputId": "d9606c6c-ad1d-4ad7-9bb2-2da28db98c09"
   },
   "outputs": [
    {
     "data": {
      "application/vnd.google.colaboratory.intrinsic+json": {
       "type": "string"
      },
      "text/plain": [
       "'대한민국의 수도는 서울이고, 호주의 수도는 캔버라입니다.'"
      ]
     },
     "execution_count": 37,
     "metadata": {},
     "output_type": "execute_result"
    }
   ],
   "source": [
    "chain.invoke({'country1':'대한민국', 'country2':'호주'}).content"
   ]
  },
  {
   "cell_type": "code",
   "execution_count": 38,
   "metadata": {
    "colab": {
     "base_uri": "https://localhost:8080/"
    },
    "executionInfo": {
     "elapsed": 6,
     "status": "ok",
     "timestamp": 1735195471859,
     "user": {
      "displayName": "황보선",
      "userId": "01102450509081992863"
     },
     "user_tz": -540
    },
    "id": "fGfTGbGKtD_D",
    "outputId": "7be24df7-4099-4664-f79f-37e0ff10a5ff"
   },
   "outputs": [
    {
     "data": {
      "text/plain": [
       "PromptTemplate(input_variables=['country1'], input_types={}, partial_variables={'country2': '캐나다'}, template='{country1}과 {country2}의 수도는 어디인가요?')"
      ]
     },
     "execution_count": 38,
     "metadata": {},
     "output_type": "execute_result"
    }
   ],
   "source": [
    "prompt_partial"
   ]
  },
  {
   "cell_type": "code",
   "execution_count": 39,
   "metadata": {
    "colab": {
     "base_uri": "https://localhost:8080/"
    },
    "executionInfo": {
     "elapsed": 3,
     "status": "ok",
     "timestamp": 1735195487466,
     "user": {
      "displayName": "황보선",
      "userId": "01102450509081992863"
     },
     "user_tz": -540
    },
    "id": "zCBJcnmXtePU",
    "outputId": "2381194e-07d9-4811-85da-1dedae0bb0c4"
   },
   "outputs": [
    {
     "data": {
      "text/plain": [
       "PromptTemplate(input_variables=['country1'], input_types={}, partial_variables={'country2': '캐나다'}, template='{country1}과 {country2}의 수도는 어디인가요?')\n",
       "| ChatOpenAI(client=<openai.resources.chat.completions.Completions object at 0x7eef0b47c670>, async_client=<openai.resources.chat.completions.AsyncCompletions object at 0x7eef0b4ac6d0>, root_client=<openai.OpenAI object at 0x7eef0b690490>, root_async_client=<openai.AsyncOpenAI object at 0x7eef0b47c610>, temperature=0.1, model_kwargs={}, openai_api_key=SecretStr('**********'), max_tokens=2048)"
      ]
     },
     "execution_count": 39,
     "metadata": {},
     "output_type": "execute_result"
    }
   ],
   "source": [
    "chain"
   ]
  }
 ],
 "metadata": {
  "colab": {
   "authorship_tag": "ABX9TyO4gw4k/1cfXK9I7U/RBdtP",
   "provenance": []
  },
  "kernelspec": {
   "display_name": "Python 3",
   "name": "python3"
  },
  "language_info": {
   "name": "python"
  }
 },
 "nbformat": 4,
 "nbformat_minor": 0
}
