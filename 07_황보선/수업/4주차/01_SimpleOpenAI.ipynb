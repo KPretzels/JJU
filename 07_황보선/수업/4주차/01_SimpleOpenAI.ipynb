{
 "cells": [
  {
   "cell_type": "code",
   "execution_count": 1,
   "metadata": {
    "colab": {
     "base_uri": "https://localhost:8080/"
    },
    "executionInfo": {
     "elapsed": 5709,
     "status": "ok",
     "timestamp": 1736399587861,
     "user": {
      "displayName": "황보선",
      "userId": "01102450509081992863"
     },
     "user_tz": -540
    },
    "id": "fxamrdWkP32D",
    "outputId": "8723d0d6-097f-42c5-a19c-b17fedcfb539"
   },
   "outputs": [
    {
     "name": "stdout",
     "output_type": "stream",
     "text": [
      "Requirement already satisfied: python-dotenv in /usr/local/lib/python3.10/dist-packages (1.0.1)\n"
     ]
    }
   ],
   "source": [
    "pip install python-dotenv"
   ]
  },
  {
   "cell_type": "code",
   "execution_count": 2,
   "metadata": {
    "executionInfo": {
     "elapsed": 7556,
     "status": "ok",
     "timestamp": 1736399595414,
     "user": {
      "displayName": "황보선",
      "userId": "01102450509081992863"
     },
     "user_tz": -540
    },
    "id": "_p8G5MLiPoRq"
   },
   "outputs": [],
   "source": [
    "!pip install -qU langchain_openai"
   ]
  },
  {
   "cell_type": "code",
   "execution_count": 4,
   "metadata": {
    "executionInfo": {
     "elapsed": 4,
     "status": "ok",
     "timestamp": 1736399595415,
     "user": {
      "displayName": "황보선",
      "userId": "01102450509081992863"
     },
     "user_tz": -540
    },
    "id": "hLM7E9P8Pwwo"
   },
   "outputs": [],
   "source": [
    "from dotenv import load_dotenv\n",
    "import os\n",
    "\n",
    "load_dotenv()\n",
    "\n",
    "OPENAI_API_KEY = os.getenv(\"OPENAI_API_KEY\")\n",
    "LANGCHAIN_API_KEY = os.getenv(\"LANGCHAIN_API_KEY\")\n",
    "LANGCHAIN_TRACING_V2 = os.getenv(\"LANGCHAIN_TRACING_V2\")\n",
    "LANGCHAIN_ENDPOINT = os.getenv(\"LANGCHAIN_ENDPOINT\")"
   ]
  },
  {
   "cell_type": "code",
   "execution_count": 5,
   "metadata": {
    "executionInfo": {
     "elapsed": 3655,
     "status": "ok",
     "timestamp": 1736399599066,
     "user": {
      "displayName": "황보선",
      "userId": "01102450509081992863"
     },
     "user_tz": -540
    },
    "id": "BgpfEkD-PyKo"
   },
   "outputs": [],
   "source": [
    "from langchain_openai import ChatOpenAI\n",
    "\n",
    "llm = ChatOpenAI(\n",
    "    model=\"gpt-4o\",\n",
    "    temperature=0,\n",
    "    max_tokens=None, # 보통 2000개 정도가 적당함\n",
    "    timeout=None,\n",
    "    max_retries=2,\n",
    "    openai_api_key=os.getenv(\"OPENAI_API_KEY\")\n",
    ")"
   ]
  },
  {
   "cell_type": "code",
   "execution_count": 6,
   "metadata": {
    "executionInfo": {
     "elapsed": 3,
     "status": "ok",
     "timestamp": 1736399599066,
     "user": {
      "displayName": "황보선",
      "userId": "01102450509081992863"
     },
     "user_tz": -540
    },
    "id": "8Wx2CZgKQT-U"
   },
   "outputs": [],
   "source": [
    "prompt = '비트코인?'"
   ]
  },
  {
   "cell_type": "code",
   "execution_count": 7,
   "metadata": {
    "executionInfo": {
     "elapsed": 1302,
     "status": "ok",
     "timestamp": 1736399600366,
     "user": {
      "displayName": "황보선",
      "userId": "01102450509081992863"
     },
     "user_tz": -540
    },
    "id": "U3Ob_4faPzon"
   },
   "outputs": [],
   "source": [
    "result=llm.invoke('광화문의 주소는?')"
   ]
  },
  {
   "cell_type": "code",
   "execution_count": 8,
   "metadata": {
    "colab": {
     "base_uri": "https://localhost:8080/"
    },
    "executionInfo": {
     "elapsed": 9,
     "status": "ok",
     "timestamp": 1736399600367,
     "user": {
      "displayName": "황보선",
      "userId": "01102450509081992863"
     },
     "user_tz": -540
    },
    "id": "28cvjBzHP1C2",
    "outputId": "e3d102c2-44d9-4610-c6ff-e8cd3d99cb28"
   },
   "outputs": [
    {
     "data": {
      "text/plain": [
       "AIMessage(content='광화문은 서울특별시 종로구 세종로에 위치하고 있습니다. 정확한 주소는 \"서울특별시 종로구 세종대로 175\"입니다. 광화문은 경복궁의 남쪽 정문으로, 서울의 중심부에 위치한 역사적인 장소입니다.', additional_kwargs={'refusal': None}, response_metadata={'token_usage': {'completion_tokens': 66, 'prompt_tokens': 13, 'total_tokens': 79, 'completion_tokens_details': {'accepted_prediction_tokens': 0, 'audio_tokens': 0, 'reasoning_tokens': 0, 'rejected_prediction_tokens': 0}, 'prompt_tokens_details': {'audio_tokens': 0, 'cached_tokens': 0}}, 'model_name': 'gpt-4o-2024-08-06', 'system_fingerprint': 'fp_b7d65f1a5b', 'finish_reason': 'stop', 'logprobs': None}, id='run-4a5a63df-b7eb-4df3-aeab-a5baf3e6b851-0', usage_metadata={'input_tokens': 13, 'output_tokens': 66, 'total_tokens': 79, 'input_token_details': {'audio': 0, 'cache_read': 0}, 'output_token_details': {'audio': 0, 'reasoning': 0}})"
      ]
     },
     "execution_count": 8,
     "metadata": {},
     "output_type": "execute_result"
    }
   ],
   "source": [
    "result"
   ]
  },
  {
   "cell_type": "markdown",
   "metadata": {
    "id": "RU5lisQNRa-f"
   },
   "source": [
    "## 2. PromptTemplate_Basic"
   ]
  },
  {
   "cell_type": "code",
   "execution_count": 9,
   "metadata": {
    "executionInfo": {
     "elapsed": 5,
     "status": "ok",
     "timestamp": 1736399600367,
     "user": {
      "displayName": "황보선",
      "userId": "01102450509081992863"
     },
     "user_tz": -540
    },
    "id": "0FYCSYexReU_"
   },
   "outputs": [],
   "source": [
    "prompt_2 = [\n",
    "    ('system',\n",
    "     '너는 제시된 국가의 수도가 어디인지 알려주는 어시스턴트야. 단어로 제시해.'\n",
    "     ),\n",
    "    ('human','중국')\n",
    "]"
   ]
  },
  {
   "cell_type": "code",
   "execution_count": 10,
   "metadata": {
    "colab": {
     "base_uri": "https://localhost:8080/"
    },
    "executionInfo": {
     "elapsed": 5,
     "status": "ok",
     "timestamp": 1736399600367,
     "user": {
      "displayName": "황보선",
      "userId": "01102450509081992863"
     },
     "user_tz": -540
    },
    "id": "90hdaO6ISg4X",
    "outputId": "898c5d03-1d23-4c8e-b8d5-31b1921dc786"
   },
   "outputs": [
    {
     "data": {
      "text/plain": [
       "[('system', '너는 제시된 국가의 수도가 어디인지 알려주는 어시스턴트야. 단어로 제시해.'), ('human', '중국')]"
      ]
     },
     "execution_count": 10,
     "metadata": {},
     "output_type": "execute_result"
    }
   ],
   "source": [
    "prompt_2"
   ]
  },
  {
   "cell_type": "code",
   "execution_count": 11,
   "metadata": {
    "colab": {
     "base_uri": "https://localhost:8080/"
    },
    "executionInfo": {
     "elapsed": 755,
     "status": "ok",
     "timestamp": 1736399601119,
     "user": {
      "displayName": "황보선",
      "userId": "01102450509081992863"
     },
     "user_tz": -540
    },
    "id": "2WHBJLa4SvGL",
    "outputId": "3e0a0061-6d7e-416f-81db-6908953de230"
   },
   "outputs": [
    {
     "data": {
      "text/plain": [
       "AIMessage(content='베이징', additional_kwargs={'refusal': None}, response_metadata={'token_usage': {'completion_tokens': 4, 'prompt_tokens': 40, 'total_tokens': 44, 'completion_tokens_details': {'accepted_prediction_tokens': 0, 'audio_tokens': 0, 'reasoning_tokens': 0, 'rejected_prediction_tokens': 0}, 'prompt_tokens_details': {'audio_tokens': 0, 'cached_tokens': 0}}, 'model_name': 'gpt-4o-2024-08-06', 'system_fingerprint': 'fp_d28bcae782', 'finish_reason': 'stop', 'logprobs': None}, id='run-db7f961f-db3a-4a95-96c0-877c75eda6e3-0', usage_metadata={'input_tokens': 40, 'output_tokens': 4, 'total_tokens': 44, 'input_token_details': {'audio': 0, 'cache_read': 0}, 'output_token_details': {'audio': 0, 'reasoning': 0}})"
      ]
     },
     "execution_count": 11,
     "metadata": {},
     "output_type": "execute_result"
    }
   ],
   "source": [
    "Response_2 = llm.invoke(prompt_2)\n",
    "Response_2"
   ]
  },
  {
   "cell_type": "markdown",
   "metadata": {
    "id": "2ueQCL-1VYAT"
   },
   "source": [
    "## 3-1 promptTemplate(1)"
   ]
  },
  {
   "cell_type": "code",
   "execution_count": 12,
   "metadata": {
    "colab": {
     "base_uri": "https://localhost:8080/"
    },
    "executionInfo": {
     "elapsed": 9,
     "status": "ok",
     "timestamp": 1736399601119,
     "user": {
      "displayName": "황보선",
      "userId": "01102450509081992863"
     },
     "user_tz": -540
    },
    "id": "jseYEMREVdjv",
    "outputId": "fe6c2b6c-2db3-4fa5-f1be-8bbb6193aa1d"
   },
   "outputs": [
    {
     "name": "stdout",
     "output_type": "stream",
     "text": [
      "input_variables=['input_dict'] input_types={} partial_variables={} template='{input_dict}의 개념은?'\n"
     ]
    }
   ],
   "source": [
    "from langchain_core.prompts import PromptTemplate\n",
    "\n",
    "template = '{input_dict}의 개념은?'\n",
    "\n",
    "prompt_3 = PromptTemplate.from_template(template)\n",
    "print(prompt_3)"
   ]
  },
  {
   "cell_type": "code",
   "execution_count": 13,
   "metadata": {
    "colab": {
     "base_uri": "https://localhost:8080/",
     "height": 36
    },
    "executionInfo": {
     "elapsed": 7,
     "status": "ok",
     "timestamp": 1736399601119,
     "user": {
      "displayName": "황보선",
      "userId": "01102450509081992863"
     },
     "user_tz": -540
    },
    "id": "kInw2UlrWwgT",
    "outputId": "15814160-e0a0-4641-ca5c-9629d47a4265"
   },
   "outputs": [
    {
     "data": {
      "application/vnd.google.colaboratory.intrinsic+json": {
       "type": "string"
      },
      "text/plain": [
       "'비트코인의 개념은?'"
      ]
     },
     "execution_count": 13,
     "metadata": {},
     "output_type": "execute_result"
    }
   ],
   "source": [
    "Prompt_3 = prompt_3.format(input_dict='비트코인')\n",
    "Prompt_3"
   ]
  },
  {
   "cell_type": "code",
   "execution_count": 14,
   "metadata": {
    "colab": {
     "base_uri": "https://localhost:8080/"
    },
    "executionInfo": {
     "elapsed": 8539,
     "status": "ok",
     "timestamp": 1736399609652,
     "user": {
      "displayName": "황보선",
      "userId": "01102450509081992863"
     },
     "user_tz": -540
    },
    "id": "6T_4VR6mXFpK",
    "outputId": "7445e30c-9b0e-4326-e8bf-56945c373425"
   },
   "outputs": [
    {
     "data": {
      "text/plain": [
       "AIMessage(content=\"비트코인은 2009년에 사토시 나카모토라는 가명을 사용하는 익명의 인물 또는 그룹에 의해 처음 소개된 디지털 암호화폐입니다. 비트코인은 중앙은행이나 정부의 개입 없이 개인 간의 거래를 가능하게 하는 탈중앙화된 디지털 통화입니다. \\n\\n비트코인의 핵심 개념은 다음과 같습니다:\\n\\n1. **블록체인 기술**: 비트코인은 블록체인이라는 분산 원장 기술을 기반으로 합니다. 블록체인은 거래 내역을 기록하는 공개된 분산 데이터베이스로, 모든 거래는 블록이라는 단위로 묶여 체인 형태로 연결됩니다. 이는 거래의 투명성과 보안을 높여줍니다.\\n\\n2. **탈중앙화**: 비트코인은 중앙 권한 없이 네트워크 참여자들에 의해 관리됩니다. 이는 정부나 금융 기관의 통제를 받지 않으며, 전 세계 어디서나 인터넷만 있으면 거래가 가능합니다.\\n\\n3. **한정된 공급**: 비트코인의 총 공급량은 2100만 개로 제한되어 있습니다. 이는 인플레이션을 방지하고 희소성을 부여하여 가치를 유지하는 데 기여합니다.\\n\\n4. **채굴**: 비트코인은 '채굴'이라는 과정을 통해 생성됩니다. 채굴자들은 복잡한 수학 문제를 해결하여 새로운 블록을 생성하고, 그 대가로 비트코인을 보상으로 받습니다. 이 과정은 비트코인 네트워크의 보안을 유지하는 데 중요한 역할을 합니다.\\n\\n5. **익명성**: 비트코인 거래는 사용자 신원을 공개하지 않으며, 공개 키 암호화를 사용하여 거래의 익명성을 보장합니다. 그러나 모든 거래 내역은 블록체인에 기록되어 누구나 열람할 수 있습니다.\\n\\n비트코인은 이러한 특성들로 인해 디지털 자산으로서의 가치와 함께 투자 수단으로도 주목받고 있습니다.\", additional_kwargs={'refusal': None}, response_metadata={'token_usage': {'completion_tokens': 437, 'prompt_tokens': 15, 'total_tokens': 452, 'completion_tokens_details': {'accepted_prediction_tokens': 0, 'audio_tokens': 0, 'reasoning_tokens': 0, 'rejected_prediction_tokens': 0}, 'prompt_tokens_details': {'audio_tokens': 0, 'cached_tokens': 0}}, 'model_name': 'gpt-4o-2024-08-06', 'system_fingerprint': 'fp_703d4ff298', 'finish_reason': 'stop', 'logprobs': None}, id='run-437e2df1-13af-475c-bf42-47b14604a0bf-0', usage_metadata={'input_tokens': 15, 'output_tokens': 437, 'total_tokens': 452, 'input_token_details': {'audio': 0, 'cache_read': 0}, 'output_token_details': {'audio': 0, 'reasoning': 0}})"
      ]
     },
     "execution_count": 14,
     "metadata": {},
     "output_type": "execute_result"
    }
   ],
   "source": [
    "Result_3 = llm.invoke(Prompt_3)\n",
    "Result_3"
   ]
  },
  {
   "cell_type": "markdown",
   "metadata": {
    "id": "vBhCX1nuc8bK"
   },
   "source": [
    "## 3-2 promptTemplate(1)[링크 텍스트]"
   ]
  },
  {
   "cell_type": "code",
   "execution_count": 15,
   "metadata": {
    "colab": {
     "base_uri": "https://localhost:8080/"
    },
    "executionInfo": {
     "elapsed": 28,
     "status": "ok",
     "timestamp": 1736399609653,
     "user": {
      "displayName": "황보선",
      "userId": "01102450509081992863"
     },
     "user_tz": -540
    },
    "id": "tgynZyFdZXgy",
    "outputId": "87015a25-5106-4fd8-d49e-59c692bb883a"
   },
   "outputs": [
    {
     "name": "stdout",
     "output_type": "stream",
     "text": [
      "input_variables=['input_dict'] input_types={} partial_variables={} template='{input_dict}의 개념은?'\n"
     ]
    }
   ],
   "source": [
    "from langchain_core.prompts import PromptTemplate\n",
    "\n",
    "template = '{input_dict}의 개념은?'\n",
    "\n",
    "prompt_4 = PromptTemplate(\n",
    "    template=template,\n",
    "    input_variables=['input_dict']\n",
    ")\n",
    "\n",
    "print(prompt_4)"
   ]
  },
  {
   "cell_type": "code",
   "execution_count": 16,
   "metadata": {
    "colab": {
     "base_uri": "https://localhost:8080/",
     "height": 0
    },
    "executionInfo": {
     "elapsed": 14,
     "status": "ok",
     "timestamp": 1736399609653,
     "user": {
      "displayName": "황보선",
      "userId": "01102450509081992863"
     },
     "user_tz": -540
    },
    "id": "U9U_ILUPeLdp",
    "outputId": "bc776c3a-8d78-4ed5-e765-22ea40321d6f"
   },
   "outputs": [
    {
     "data": {
      "application/vnd.google.colaboratory.intrinsic+json": {
       "type": "string"
      },
      "text/plain": [
       "'핸드폰의 개념은?'"
      ]
     },
     "execution_count": 16,
     "metadata": {},
     "output_type": "execute_result"
    }
   ],
   "source": [
    "prompt_4.format(input_dict='핸드폰')"
   ]
  },
  {
   "cell_type": "code",
   "execution_count": 16,
   "metadata": {
    "executionInfo": {
     "elapsed": 12,
     "status": "ok",
     "timestamp": 1736399609653,
     "user": {
      "displayName": "황보선",
      "userId": "01102450509081992863"
     },
     "user_tz": -540
    },
    "id": "5Rx3_4Y7evki"
   },
   "outputs": [],
   "source": []
  }
 ],
 "metadata": {
  "colab": {
   "authorship_tag": "ABX9TyP6vg24u2Ch7ySFlkfzIsq3",
   "provenance": []
  },
  "kernelspec": {
   "display_name": "Python 3",
   "name": "python3"
  },
  "language_info": {
   "name": "python"
  }
 },
 "nbformat": 4,
 "nbformat_minor": 0
}
