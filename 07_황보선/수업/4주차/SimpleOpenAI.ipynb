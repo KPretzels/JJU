{
 "cells": [
  {
   "cell_type": "code",
   "execution_count": 2,
   "metadata": {},
   "outputs": [],
   "source": [
    "from dotenv import load_dotenv\n",
    "import os\n",
    "from langchain_openai import ChatOpenAI\n",
    "load_dotenv()\n",
    "\n",
    "OPENAI_API_KEY = os.getenv(\"OPENAI_API_KEY\")\n",
    "LANGCHAIN_API_KEY = os.getenv(\"LANGCHAIN_API_KEY\")\n",
    "LANGCHAIN_TRACING_V2 = os.getenv(\"LANGCHAIN_TRACING_V2\")\n",
    "LANGCHAIN_ENDPOINT = os.getenv(\"LANGCHAIN_ENDPOINT\")"
   ]
  },
  {
   "cell_type": "code",
   "execution_count": 3,
   "metadata": {},
   "outputs": [],
   "source": [
    "llm = ChatOpenAI(\n",
    "    model=\"gpt-4o\",\n",
    "    temperature=0,\n",
    "    max_tokens=None, # 보통 2000개 정도가 적당함\n",
    "    timeout=None,\n",
    "    max_retries=2,\n",
    "    openai_api_key=os.getenv(\"OPENAI_API_KEY\")\n",
    ")"
   ]
  },
  {
   "cell_type": "code",
   "execution_count": 4,
   "metadata": {},
   "outputs": [],
   "source": [
    "prompt = '비트코인?'"
   ]
  },
  {
   "cell_type": "code",
   "execution_count": 5,
   "metadata": {},
   "outputs": [
    {
     "data": {
      "text/plain": [
       "AIMessage(content='광화문은 서울특별시 종로구 세종로에 위치하고 있습니다. 정확한 주소는 \"서울특별시 종로구 세종대로 175\"입니다. 광화문은 경복궁의 남쪽 정문으로, 서울의 중심부에 위치한 역사적인 장소입니다.', additional_kwargs={'refusal': None}, response_metadata={'token_usage': {'completion_tokens': 66, 'prompt_tokens': 13, 'total_tokens': 79, 'completion_tokens_details': {'accepted_prediction_tokens': 0, 'audio_tokens': 0, 'reasoning_tokens': 0, 'rejected_prediction_tokens': 0}, 'prompt_tokens_details': {'audio_tokens': 0, 'cached_tokens': 0}}, 'model_name': 'gpt-4o-2024-08-06', 'system_fingerprint': 'fp_703d4ff298', 'finish_reason': 'stop', 'logprobs': None}, id='run-8c413652-8de8-4ead-8c28-0d28bf34a9d9-0', usage_metadata={'input_tokens': 13, 'output_tokens': 66, 'total_tokens': 79, 'input_token_details': {'audio': 0, 'cache_read': 0}, 'output_token_details': {'audio': 0, 'reasoning': 0}})"
      ]
     },
     "execution_count": 5,
     "metadata": {},
     "output_type": "execute_result"
    }
   ],
   "source": [
    "result = llm.invoke('광화문의 주소는?')\n",
    "result"
   ]
  },
  {
   "cell_type": "markdown",
   "metadata": {},
   "source": [
    "## 2. PromptTemplate_Basic"
   ]
  },
  {
   "cell_type": "code",
   "execution_count": 6,
   "metadata": {},
   "outputs": [],
   "source": [
    "prompt_2 = [\n",
    "    ('system',\n",
    "     '너는 제시된 국가의 수도가 어디인지 알려주는 어시스턴트야. 단어로 제시해.'\n",
    "     ),\n",
    "    ('human','중국')\n",
    "]"
   ]
  },
  {
   "cell_type": "code",
   "execution_count": 7,
   "metadata": {},
   "outputs": [
    {
     "data": {
      "text/plain": [
       "[('system', '너는 제시된 국가의 수도가 어디인지 알려주는 어시스턴트야. 단어로 제시해.'), ('human', '중국')]"
      ]
     },
     "execution_count": 7,
     "metadata": {},
     "output_type": "execute_result"
    }
   ],
   "source": [
    "prompt_2"
   ]
  },
  {
   "cell_type": "code",
   "execution_count": 8,
   "metadata": {},
   "outputs": [
    {
     "data": {
      "text/plain": [
       "AIMessage(content='베이징', additional_kwargs={'refusal': None}, response_metadata={'token_usage': {'completion_tokens': 4, 'prompt_tokens': 40, 'total_tokens': 44, 'completion_tokens_details': {'accepted_prediction_tokens': 0, 'audio_tokens': 0, 'reasoning_tokens': 0, 'rejected_prediction_tokens': 0}, 'prompt_tokens_details': {'audio_tokens': 0, 'cached_tokens': 0}}, 'model_name': 'gpt-4o-2024-08-06', 'system_fingerprint': 'fp_b7d65f1a5b', 'finish_reason': 'stop', 'logprobs': None}, id='run-378154f0-53d8-4ccf-868f-5e0ba85c6070-0', usage_metadata={'input_tokens': 40, 'output_tokens': 4, 'total_tokens': 44, 'input_token_details': {'audio': 0, 'cache_read': 0}, 'output_token_details': {'audio': 0, 'reasoning': 0}})"
      ]
     },
     "execution_count": 8,
     "metadata": {},
     "output_type": "execute_result"
    }
   ],
   "source": [
    "Response_2 = llm.invoke(prompt_2)\n",
    "Response_2"
   ]
  },
  {
   "cell_type": "markdown",
   "metadata": {},
   "source": [
    "## 3-1 promptTemplate(1)"
   ]
  },
  {
   "cell_type": "code",
   "execution_count": 9,
   "metadata": {},
   "outputs": [
    {
     "name": "stdout",
     "output_type": "stream",
     "text": [
      "input_variables=['input_dict'] input_types={} partial_variables={} template='{input_dict}의 개념은?'\n"
     ]
    }
   ],
   "source": [
    "from langchain_core.prompts import PromptTemplate\n",
    "\n",
    "template = '{input_dict}의 개념은?'\n",
    "\n",
    "prompt_3 = PromptTemplate.from_template(template)\n",
    "print(prompt_3)"
   ]
  },
  {
   "cell_type": "code",
   "execution_count": 10,
   "metadata": {},
   "outputs": [
    {
     "data": {
      "text/plain": [
       "'비트코인의 개념은?'"
      ]
     },
     "execution_count": 10,
     "metadata": {},
     "output_type": "execute_result"
    }
   ],
   "source": [
    "Prompt_3 = prompt_3.format(input_dict='비트코인')\n",
    "Prompt_3"
   ]
  },
  {
   "cell_type": "code",
   "execution_count": 11,
   "metadata": {},
   "outputs": [
    {
     "data": {
      "text/plain": [
       "AIMessage(content=\"비트코인은 2009년에 사토시 나카모토라는 가명을 사용하는 익명의 인물 또는 그룹에 의해 처음 소개된 디지털 암호화폐입니다. 비트코인은 중앙은행이나 정부의 개입 없이 개인 간의 거래를 가능하게 하는 탈중앙화된 디지털 통화입니다. \\n\\n비트코인의 핵심 개념은 다음과 같습니다:\\n\\n1. **블록체인 기술**: 비트코인은 블록체인이라는 분산 원장 기술을 기반으로 합니다. 블록체인은 거래 내역을 기록하는 공개된 데이터베이스로, 모든 거래는 블록이라는 단위로 묶여 체인 형태로 연결됩니다. 이는 거래의 투명성과 보안을 높여줍니다.\\n\\n2. **탈중앙화**: 비트코인은 중앙 권한 없이 네트워크 참여자들에 의해 관리됩니다. 이는 정부나 금융 기관의 통제를 받지 않으며, 네트워크의 모든 참여자가 거래를 검증하고 기록하는 방식으로 운영됩니다.\\n\\n3. **한정된 공급량**: 비트코인의 총 공급량은 2,100만 개로 제한되어 있습니다. 이는 인플레이션을 방지하고 희소성을 유지하기 위한 설계입니다.\\n\\n4. **채굴**: 비트코인은 '채굴'이라는 과정을 통해 생성됩니다. 채굴자들은 복잡한 수학 문제를 해결하여 새로운 블록을 생성하고, 그 대가로 비트코인을 보상으로 받습니다. 이 과정은 비트코인 네트워크의 보안을 유지하는 데 중요한 역할을 합니다.\\n\\n5. **익명성**: 비트코인 거래는 사용자 이름 대신 암호화된 주소를 사용하여 이루어지므로 어느 정도의 익명성을 제공합니다. 그러나 모든 거래는 블록체인에 기록되므로 완전한 익명성은 아닙니다.\\n\\n비트코인은 이러한 특성들로 인해 디지털 자산으로서의 가치 저장 수단, 거래 수단, 그리고 투자 대상으로 주목받고 있습니다.\", additional_kwargs={'refusal': None}, response_metadata={'token_usage': {'completion_tokens': 443, 'prompt_tokens': 15, 'total_tokens': 458, 'completion_tokens_details': {'accepted_prediction_tokens': 0, 'audio_tokens': 0, 'reasoning_tokens': 0, 'rejected_prediction_tokens': 0}, 'prompt_tokens_details': {'audio_tokens': 0, 'cached_tokens': 0}}, 'model_name': 'gpt-4o-2024-08-06', 'system_fingerprint': 'fp_b7d65f1a5b', 'finish_reason': 'stop', 'logprobs': None}, id='run-7e6b9608-9b05-4a24-aa64-7010dafd0851-0', usage_metadata={'input_tokens': 15, 'output_tokens': 443, 'total_tokens': 458, 'input_token_details': {'audio': 0, 'cache_read': 0}, 'output_token_details': {'audio': 0, 'reasoning': 0}})"
      ]
     },
     "execution_count": 11,
     "metadata": {},
     "output_type": "execute_result"
    }
   ],
   "source": [
    "Result_3 = llm.invoke(Prompt_3)\n",
    "Result_3"
   ]
  },
  {
   "cell_type": "markdown",
   "metadata": {},
   "source": [
    "## 3-2 promptTemplate(1)[링크 텍스트]"
   ]
  },
  {
   "cell_type": "code",
   "execution_count": 12,
   "metadata": {},
   "outputs": [
    {
     "name": "stdout",
     "output_type": "stream",
     "text": [
      "input_variables=['input_dict'] input_types={} partial_variables={} template='{input_dict}의 개념은?'\n"
     ]
    }
   ],
   "source": [
    "from langchain_core.prompts import PromptTemplate\n",
    "\n",
    "template = '{input_dict}의 개념은?'\n",
    "\n",
    "prompt_4 = PromptTemplate(\n",
    "    template=template,\n",
    "    input_variables=['input_dict']\n",
    ")\n",
    "\n",
    "print(prompt_4)"
   ]
  },
  {
   "cell_type": "code",
   "execution_count": 13,
   "metadata": {},
   "outputs": [
    {
     "data": {
      "text/plain": [
       "'핸드폰의 개념은?'"
      ]
     },
     "execution_count": 13,
     "metadata": {},
     "output_type": "execute_result"
    }
   ],
   "source": [
    "prompt_4.format(input_dict='핸드폰')"
   ]
  },
  {
   "cell_type": "code",
   "execution_count": 32,
   "metadata": {},
   "outputs": [
    {
     "name": "stdout",
     "output_type": "stream",
     "text": [
      "input_variables=['input_1', 'input_2'] input_types={} partial_variables={'input_3': '인공지능'} template='{input_1}과 {input_2}의 차이점을 한문장으로 간략하게 설명해'\n"
     ]
    }
   ],
   "source": [
    "from langchain_core.prompts import PromptTemplate\n",
    "\n",
    "template = '{input_1}과 {input_2}의 차이점을 한문장으로 간략하게 설명해'\n",
    "\n",
    "prompt_5 = PromptTemplate(\n",
    "    template=template,\n",
    "    input_variables=['input_1','input_2'],\n",
    "    partial_variables={'input_3':'인공지능'}\n",
    ")\n",
    "\n",
    "print(prompt_5)"
   ]
  },
  {
   "cell_type": "code",
   "execution_count": 33,
   "metadata": {},
   "outputs": [
    {
     "data": {
      "text/plain": [
       "'핸드폰과 전기차의 차이점을 한문장으로 간략하게 설명해'"
      ]
     },
     "execution_count": 33,
     "metadata": {},
     "output_type": "execute_result"
    }
   ],
   "source": [
    "prompt_5.format(input_1='핸드폰', input_2='전기차')"
   ]
  },
  {
   "cell_type": "code",
   "execution_count": 34,
   "metadata": {},
   "outputs": [
    {
     "data": {
      "text/plain": [
       "PromptTemplate(input_variables=['input_1', 'input_2'], input_types={}, partial_variables={'input_3': '마우스'}, template='{input_1}과 {input_2}의 차이점을 한문장으로 간략하게 설명해')"
      ]
     },
     "execution_count": 34,
     "metadata": {},
     "output_type": "execute_result"
    }
   ],
   "source": [
    "prompt_5.partial(input_3='마우스')"
   ]
  },
  {
   "cell_type": "code",
   "execution_count": 35,
   "metadata": {},
   "outputs": [
    {
     "data": {
      "text/plain": [
       "PromptTemplate(input_variables=['input_1'], input_types={}, partial_variables={'input_3': '인공지능', 'input_2': '마우스'}, template='{input_1}과 {input_2}의 차이점을 한문장으로 간략하게 설명해')"
      ]
     },
     "execution_count": 35,
     "metadata": {},
     "output_type": "execute_result"
    }
   ],
   "source": [
    "prompt_5_partial = prompt_5.partial(input_2='마우스')\n",
    "prompt_5_partial"
   ]
  },
  {
   "cell_type": "code",
   "execution_count": 36,
   "metadata": {},
   "outputs": [],
   "source": [
    "chain = prompt_5 | llm"
   ]
  },
  {
   "cell_type": "code",
   "execution_count": 37,
   "metadata": {},
   "outputs": [
    {
     "data": {
      "text/plain": [
       "AIMessage(content='핸드폰은 주로 통신과 정보 처리를 위한 휴대용 전자기기인 반면, 전기차는 전기를 동력으로 하여 이동을 목적으로 하는 교통수단입니다.', additional_kwargs={'refusal': None}, response_metadata={'token_usage': {'completion_tokens': 48, 'prompt_tokens': 28, 'total_tokens': 76, 'completion_tokens_details': {'accepted_prediction_tokens': 0, 'audio_tokens': 0, 'reasoning_tokens': 0, 'rejected_prediction_tokens': 0}, 'prompt_tokens_details': {'audio_tokens': 0, 'cached_tokens': 0}}, 'model_name': 'gpt-4o-2024-08-06', 'system_fingerprint': 'fp_d28bcae782', 'finish_reason': 'stop', 'logprobs': None}, id='run-5d3140ac-c806-41a9-81c4-147eacbb43cb-0', usage_metadata={'input_tokens': 28, 'output_tokens': 48, 'total_tokens': 76, 'input_token_details': {'audio': 0, 'cache_read': 0}, 'output_token_details': {'audio': 0, 'reasoning': 0}})"
      ]
     },
     "execution_count": 37,
     "metadata": {},
     "output_type": "execute_result"
    }
   ],
   "source": [
    "chain.invoke({'input_1':'핸드폰', 'input_2':'전기차'})"
   ]
  },
  {
   "cell_type": "markdown",
   "metadata": {},
   "source": [
    "## Partial Variable의 사용 예"
   ]
  },
  {
   "cell_type": "code",
   "execution_count": 43,
   "metadata": {},
   "outputs": [],
   "source": [
    "from datetime import datetime\n",
    "\n",
    "prompt_6 = PromptTemplate(\n",
    "    template='오늘의 날짜는 {today}입니다. 오늘이 생일인 유명인 {n}명을 나열해 주세요. 생년월일을 표시해주세요.',\n",
    "    input_variables=['n'], # 필수 적으로 입력 해줘야함 (input_variables)\n",
    "    partial_variables = {\n",
    "        'today' : datetime.now().strftime('%Y %B %d')\n",
    "    },\n",
    ")"
   ]
  },
  {
   "cell_type": "code",
   "execution_count": 48,
   "metadata": {},
   "outputs": [
    {
     "data": {
      "text/plain": [
       "'오늘의 날짜는 2025 January 09입니다. 오늘이 생일인 유명인 5명을 나열해 주세요. 생년월일을 표시해주세요.'"
      ]
     },
     "execution_count": 48,
     "metadata": {},
     "output_type": "execute_result"
    }
   ],
   "source": [
    "prompt_6.format(n=5)"
   ]
  },
  {
   "cell_type": "code",
   "execution_count": 49,
   "metadata": {},
   "outputs": [],
   "source": [
    "chain = prompt_6 | llm"
   ]
  },
  {
   "cell_type": "code",
   "execution_count": 50,
   "metadata": {},
   "outputs": [
    {
     "data": {
      "text/plain": [
       "'오늘이 2025년 1월 9일이라면, 이 날짜에 생일인 몇몇 유명인을 소개하겠습니다. 다만, 이 정보는 시간이 지남에 따라 변할 수 있으므로 최신 정보를 확인하는 것이 좋습니다.\\n\\n1. 리처드 닉슨 (Richard Nixon) - 1913년 1월 9일 출생: 미국의 제37대 대통령.\\n2. 케이트 미들턴 (Kate Middleton) - 1982년 1월 9일 출생: 영국 왕세손비, 윌리엄 왕자의 아내.\\n3. J.K. 시몬스 (J.K. Simmons) - 1955년 1월 9일 출생: 미국의 배우, 영화 \"위플래쉬\"로 유명.\\n\\n이 외에도 여러 유명인들이 있을 수 있으니, 추가적인 검색을 통해 더 많은 정보를 얻을 수 있습니다.'"
      ]
     },
     "execution_count": 50,
     "metadata": {},
     "output_type": "execute_result"
    }
   ],
   "source": [
    "Response_6 = chain.invoke({'n':3}).content\n",
    "Response_6"
   ]
  },
  {
   "cell_type": "code",
   "execution_count": 53,
   "metadata": {},
   "outputs": [
    {
     "name": "stdout",
     "output_type": "stream",
     "text": [
      "1월 2일에 생일인 유명인 중 일부는 다음과 같습니다:\n",
      "\n",
      "1. **아이작 아시모프 (Isaac Asimov)** - 1920년 1월 2일 출생. 러시아 태생의 미국 작가이자 생화학자이며, 과학 소설과 과학 서적을 많이 저술한 것으로 유명합니다.\n",
      "\n",
      "2. **큐반 굿잉 주니어 (Cuba Gooding Jr.)** - 1968년 1월 2일 출생. 미국의 배우로, 영화 \"제리 맥과이어\"에서의 연기로 아카데미 남우조연상을 수상했습니다.\n",
      "\n",
      "3. **케이트 보스워스 (Kate Bosworth)** - 1983년 1월 2일 출생. 미국의 배우로, 영화 \"블루 크러쉬\"와 \"슈퍼맨 리턴즈\" 등에 출연했습니다.\n",
      "\n",
      "이 외에도 여러 유명인들이 1월 2일에 태어났습니다.\n"
     ]
    }
   ],
   "source": [
    "print(chain.invoke({'today':'Jan 02', 'n':3}).content)"
   ]
  }
 ],
 "metadata": {
  "kernelspec": {
   "display_name": "Anaconda (PyTorch)",
   "language": "python",
   "name": "base"
  },
  "language_info": {
   "codemirror_mode": {
    "name": "ipython",
    "version": 3
   },
   "file_extension": ".py",
   "mimetype": "text/x-python",
   "name": "python",
   "nbconvert_exporter": "python",
   "pygments_lexer": "ipython3",
   "version": "3.12.4"
  }
 },
 "nbformat": 4,
 "nbformat_minor": 2
}
