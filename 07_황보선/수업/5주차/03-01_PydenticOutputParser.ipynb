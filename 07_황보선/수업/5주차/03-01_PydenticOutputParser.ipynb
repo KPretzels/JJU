{
 "cells": [
  {
   "cell_type": "code",
   "execution_count": 2,
   "metadata": {},
   "outputs": [],
   "source": [
    "import os\n",
    "\n",
main
    "os.environ['OPENAI_API_KEY'] = ''\n",
    "os.environ['LANGCHAIN_API_KEY'] = ''\n",
    "os.environ['LANGCHAIN_TRACING_V2'] = ''\n",
    "os.environ['LANGCHAIN_ENDPOINT'] = ''\n",

    "os.environ['OPENAI_API_KEY'] = '",
    "os.environ['LANGCHAIN_API_KEY'] = '",
    "os.environ['LANGCHAIN_TRACING_V2'] = '",
    "os.environ['LANGCHAIN_ENDPOINT'] = '",
main
    "os.environ['LANGCHAIN_PROJECT'] = ''"
   ]
  },
  {
   "cell_type": "code",
   "execution_count": 3,
   "metadata": {},
   "outputs": [],
   "source": [
    "from langchain_openai import ChatOpenAI\n",
    "from langchain_core.output_parsers import PydanticOutputParser\n",
    "from pydantic import BaseModel, Field\n",
    "\n",
    "llm = ChatOpenAI(temperature=0, model_name='gpt-4o')"
   ]
  },
  {
   "cell_type": "code",
   "execution_count": 4,
   "metadata": {},
   "outputs": [],
   "source": [
    "email_conversation = '''\n",
    "From: John (John@bikecorporation.me)\n",
    "To: Kim (Kim@teddyinternational.me)\n",
    "Subject: “ZENESIS” bike distribution cooperation and meeting schedule proposal\n",
    "Dear Mr. Kim,\n",
    "\n",
    "I am John, Senior Executive Director at Bike Corporation. I recently learned about your new bicycle model, \"ZENESIS,\" through your press release. Bike Corporation is a company that leads innovation and quality in the field of bicycle manufacturing and distribution, with long-time experience and expertise in this field.\n",
    "\n",
    "We would like to request a detailed brochure for the ZENESIS model. In particular, we need information on technical specifications, battery performance, and design aspects. This information will help us further refine our proposed distribution strategy and marketing plan.\n",
    "\n",
    "Additionally, to discuss the possibilities for collaboration in more detail, I propose a meeting next Tuesday, January 15th, at 10:00 AM. Would it be possible to meet at your office to have this discussion?\n",
    "\n",
    "Thank you.\n",
    "\n",
    "Best regards,\n",
    "John\n",
    "Senior Executive Director\n",
    "Bike Corporation\n",
    "'''\n"
   ]
  },
  {
   "cell_type": "markdown",
   "metadata": {},
   "source": [
    "### Output Parser를 사용하지 않는 경우"
   ]
  },
  {
   "cell_type": "code",
   "execution_count": 5,
   "metadata": {},
   "outputs": [],
   "source": [
    "from itertools import chain\n",
    "from langchain_core.prompts import PromptTemplate\n",
    "from langchain_core.messages import AIMessageChunk\n",
    "from langchain_core.output_parsers import StrOutputParser\n",
    "\n",
    "prompt = PromptTemplate.from_template(\n",
    "    '''Please extract the important parts of the following email.\n",
    "    \n",
    "    {email_conversation}'''\n",
    ")\n",
    "\n",
    "llm = ChatOpenAI(temperature=0, model_name='gpt-4o')\n",
    "\n",
    "chain = prompt | llm # | StrOutputParser()\n",
    "\n",
    "answer = chain.stream({'email_conversation': email_conversation})"
   ]
  },
  {
   "cell_type": "code",
   "execution_count": 6,
   "metadata": {},
   "outputs": [
    {
     "name": "stdout",
     "output_type": "stream",
     "text": [
      "**Important Parts of the Email:**\n",
      "\n",
      "- **Sender:** John (Senior Executive Director at Bike Corporation)\n",
      "- **Recipient:** Kim (Teddy International)\n",
      "- **Subject:** \"ZENESIS\" bike distribution cooperation and meeting schedule proposal\n",
      "- **Key Points:**\n",
      "  - John learned about the \"ZENESIS\" bicycle model through a press release.\n",
      "  - Bike Corporation is interested in a detailed brochure for the ZENESIS model, focusing on technical specifications, battery performance, and design aspects.\n",
      "  - John proposes a meeting to discuss collaboration possibilities in more detail.\n",
      "  - Proposed meeting date and time: Next Tuesday, January 15th, at 10:00 AM.\n",
      "  - Proposed meeting location: Kim's office."
     ]
    }
   ],
   "source": [
    "def stream_response(response, return_output=False):\n",
    "    ''' \n",
    "    Streams the response from the AI model, processing and printing each chunk.\n",
    "\n",
    "    This function iterates over each item in the 'response' iterable. If an item is an instance of AIMessageChunk, it extracts and prints the content.\n",
    "    If the item is a string, it prints the string directly.\n",
    "    Optionally, the function can return the concatenated string of all response chunks.\n",
    "\n",
    "    Args:\n",
    "    - response (iterable): An iterable of response chunks, which can be AIMessageChunk objects or strings.\n",
    "    - return_output (bool, optional): If True, the function returns the concatenated response string. The default is False.\n",
    "\n",
    "    Returns:\n",
    "    - str: If `return_output` is True, the concatenated response string. Otherwise, nothing is returned.\n",
    "    '''\n",
    "    answer=''\n",
    "    for token in response:\n",
    "        if isinstance(token, AIMessageChunk):\n",
    "            answer+=token.content\n",
    "            print(token.content, end='', flush=True)\n",
    "        elif isinstance(token, str):\n",
    "            answer+=token\n",
    "            print(token, end='', flush=True)\n",
    "    if return_output:\n",
    "        return answer         \n",
    "    \n",
    "output = stream_response(answer, return_output=True)"
   ]
  },
  {
   "cell_type": "code",
   "execution_count": 7,
   "metadata": {},
   "outputs": [
    {
     "data": {
      "text/plain": [
       "'**Important Parts of the Email:**\\n\\n- **Sender:** John (Senior Executive Director at Bike Corporation)\\n- **Recipient:** Kim (Teddy International)\\n- **Subject:** \"ZENESIS\" bike distribution cooperation and meeting schedule proposal\\n- **Key Points:**\\n  - John learned about the \"ZENESIS\" bicycle model through a press release.\\n  - Bike Corporation is interested in a detailed brochure for the ZENESIS model, focusing on technical specifications, battery performance, and design aspects.\\n  - John proposes a meeting to discuss collaboration possibilities in more detail.\\n  - Proposed meeting date and time: Next Tuesday, January 15th, at 10:00 AM.\\n  - Proposed meeting location: Kim\\'s office.'"
      ]
     },
     "execution_count": 7,
     "metadata": {},
     "output_type": "execute_result"
    }
   ],
   "source": [
    "output"
   ]
  },
  {
   "cell_type": "code",
   "execution_count": 8,
   "metadata": {},
   "outputs": [
    {
     "name": "stdout",
     "output_type": "stream",
     "text": [
      "content='**Important Parts of the Email:**\\n\\n- **Sender:** John (Senior Executive Director at Bike Corporation)\\n- **Recipient:** Kim (Teddy International)\\n- **Subject:** \"ZENESIS\" bike distribution cooperation and meeting schedule proposal\\n- **Key Points:**\\n  - John learned about the \"ZENESIS\" bicycle model through a press release.\\n  - Bike Corporation is interested in a detailed brochure for the ZENESIS model, focusing on technical specifications, battery performance, and design aspects.\\n  - John proposes a meeting to discuss collaboration possibilities.\\n  - Suggested meeting date and time: Next Tuesday, January 15th, at 10:00 AM.\\n  - Proposed meeting location: Kim\\'s office.' additional_kwargs={'refusal': None} response_metadata={'token_usage': {'completion_tokens': 144, 'prompt_tokens': 225, 'total_tokens': 369, 'completion_tokens_details': {'accepted_prediction_tokens': 0, 'audio_tokens': 0, 'reasoning_tokens': 0, 'rejected_prediction_tokens': 0}, 'prompt_tokens_details': {'audio_tokens': 0, 'cached_tokens': 0}}, 'model_name': 'gpt-4o-2024-08-06', 'system_fingerprint': 'fp_4691090a87', 'finish_reason': 'stop', 'logprobs': None} id='run-5db72bbc-fe88-4d04-aa65-429664b55fbf-0' usage_metadata={'input_tokens': 225, 'output_tokens': 144, 'total_tokens': 369, 'input_token_details': {'audio': 0, 'cache_read': 0}, 'output_token_details': {'audio': 0, 'reasoning': 0}}\n"
     ]
    }
   ],
   "source": [
    "answer = chain.invoke({'email_conversation': email_conversation})\n",
    "print(answer)"
   ]
  },
  {
   "cell_type": "markdown",
   "metadata": {},
   "source": [
    "### Output Parser를 사용하는 경우"
   ]
  },
  {
   "cell_type": "code",
   "execution_count": 9,
   "metadata": {},
   "outputs": [],
   "source": [
    "# answer에서 출력된 text를 json으로 변환하기 위해 output parser 사용\n",
    "class EmailSummary(BaseModel):\n",
    "    person: str = Field(description='The sender of the email')\n",
    "    email: str = Field(description='The email address of the sender')\n",
    "    subject: str = Field(description='The subject of the email')\n",
    "    summary: str = Field(description='A summary of the email content')\n",
    "    date: str = Field(\n",
    "        description='The meeting date and time mentioned in the email content'\n",
    "    )\n"
   ]
  },
  {
   "cell_type": "code",
   "execution_count": 10,
   "metadata": {},
   "outputs": [],
   "source": [
    "# Create PydanticOutputParser\n",
    "parser = PydanticOutputParser(pydantic_object=EmailSummary)"
   ]
  },
  {
   "cell_type": "code",
   "execution_count": 11,
   "metadata": {},
   "outputs": [],
   "source": [
    "test_instruct = parser.get_format_instructions() # format instructions 가져와"
   ]
  },
  {
   "cell_type": "code",
   "execution_count": 12,
   "metadata": {},
   "outputs": [
    {
     "name": "stdout",
     "output_type": "stream",
     "text": [
      "The output should be formatted as a JSON instance that conforms to the JSON schema below.\n",
      "\n",
      "As an example, for the schema {\"properties\": {\"foo\": {\"title\": \"Foo\", \"description\": \"a list of strings\", \"type\": \"array\", \"items\": {\"type\": \"string\"}}}, \"required\": [\"foo\"]}\n",
      "the object {\"foo\": [\"bar\", \"baz\"]} is a well-formatted instance of the schema. The object {\"properties\": {\"foo\": [\"bar\", \"baz\"]}} is not well-formatted.\n",
      "\n",
      "Here is the output schema:\n",
      "```\n",
      "{\"properties\": {\"person\": {\"description\": \"The sender of the email\", \"title\": \"Person\", \"type\": \"string\"}, \"email\": {\"description\": \"The email address of the sender\", \"title\": \"Email\", \"type\": \"string\"}, \"subject\": {\"description\": \"The subject of the email\", \"title\": \"Subject\", \"type\": \"string\"}, \"summary\": {\"description\": \"A summary of the email content\", \"title\": \"Summary\", \"type\": \"string\"}, \"date\": {\"description\": \"The meeting date and time mentioned in the email content\", \"title\": \"Date\", \"type\": \"string\"}}, \"required\": [\"person\", \"email\", \"subject\", \"summary\", \"date\"]}\n",
      "```\n"
     ]
    }
   ],
   "source": [
    "print(test_instruct)"
   ]
  },
  {
   "cell_type": "markdown",
   "metadata": {},
   "source": [
    "### Prompt 제작\n",
    "- get_format_instructions(): 언어 모델이 출력해야 할 정보의 형식을 정의하는 지침(instruction) 을 제공합니다. 예를 들어, 언어 모델이 출력해야 할 데이터의 필드와 그 형태를 설명하는 지침을 문자열로 반환할 수 있습니다. 이때 설정하는 지침(instruction) 의 역할이 매우 중요합니다. 이 지침에 따라 언어 모델은 출력을 구조화하고, 이를 특정 데이터 모델에 맞게 변환할 수 있습니다.\n",
    "\n",
    "- parse(): 언어 모델의 출력(문자열로 가정)을 받아들여 이를 특정 구조로 분석하고 변환합니다. Pydantic와 같은 도구를 사용하여, 입력된 문자열을 사전 정의된 스키마에 따라 검증하고, 해당 스키마를 따르는 데이터 구조로 변환합니다."
   ]
  },
  {
   "cell_type": "code",
   "execution_count": 13,
   "metadata": {},
   "outputs": [],
   "source": [
    "prompt = PromptTemplate.from_template(\n",
    "    '''\n",
    "You are a helpful assistant.\n",
    "\n",
    "QUESTION:\n",
    "{question}\n",
    "\n",
    "EMAIL CONVERSATION:\n",
    "{email_conversation}\n",
    "\n",
    "FORMAT:\n",
    "{format}\n",
    "'''\n",
    ")"
   ]
  },
  {
   "cell_type": "code",
   "execution_count": 14,
   "metadata": {},
   "outputs": [],
   "source": [
    "prompt = prompt.partial(format=parser.get_format_instructions())"
   ]
  },
  {
   "cell_type": "code",
   "execution_count": 15,
   "metadata": {},
   "outputs": [
    {
     "data": {
      "text/plain": [
       "PromptTemplate(input_variables=['email_conversation', 'question'], input_types={}, partial_variables={'format': 'The output should be formatted as a JSON instance that conforms to the JSON schema below.\\n\\nAs an example, for the schema {\"properties\": {\"foo\": {\"title\": \"Foo\", \"description\": \"a list of strings\", \"type\": \"array\", \"items\": {\"type\": \"string\"}}}, \"required\": [\"foo\"]}\\nthe object {\"foo\": [\"bar\", \"baz\"]} is a well-formatted instance of the schema. The object {\"properties\": {\"foo\": [\"bar\", \"baz\"]}} is not well-formatted.\\n\\nHere is the output schema:\\n```\\n{\"properties\": {\"person\": {\"description\": \"The sender of the email\", \"title\": \"Person\", \"type\": \"string\"}, \"email\": {\"description\": \"The email address of the sender\", \"title\": \"Email\", \"type\": \"string\"}, \"subject\": {\"description\": \"The subject of the email\", \"title\": \"Subject\", \"type\": \"string\"}, \"summary\": {\"description\": \"A summary of the email content\", \"title\": \"Summary\", \"type\": \"string\"}, \"date\": {\"description\": \"The meeting date and time mentioned in the email content\", \"title\": \"Date\", \"type\": \"string\"}}, \"required\": [\"person\", \"email\", \"subject\", \"summary\", \"date\"]}\\n```'}, template='\\nYou are a helpful assistant.\\n\\nQUESTION:\\n{question}\\n\\nEMAIL CONVERSATION:\\n{email_conversation}\\n\\nFORMAT:\\n{format}\\n')"
      ]
     },
     "execution_count": 15,
     "metadata": {},
     "output_type": "execute_result"
    }
   ],
   "source": [
    "prompt"
   ]
  },
  {
   "cell_type": "code",
   "execution_count": 16,
   "metadata": {},
   "outputs": [],
   "source": [
    "chain = prompt | llm "
   ]
  },
  {
   "cell_type": "code",
   "execution_count": 17,
   "metadata": {},
   "outputs": [],
   "source": [
    "response = chain.stream(\n",
    "    {\n",
    "        \"email_conversation\": email_conversation,\n",
    "        \"question\": \"이메일을 요약해.\",\n",
    "    }\n",
    ")"
   ]
  },
  {
   "cell_type": "code",
   "execution_count": 18,
   "metadata": {},
   "outputs": [
    {
     "name": "stdout",
     "output_type": "stream",
     "text": [
      "```json\n",
      "{\n",
      "  \"person\": \"John\",\n",
      "  \"email\": \"John@bikecorporation.me\",\n",
      "  \"subject\": \"“ZENESIS” bike distribution cooperation and meeting schedule proposal\",\n",
      "  \"summary\": \"John, Senior Executive Director at Bike Corporation, is interested in the ZENESIS bike model and requests a detailed brochure with technical specifications, battery performance, and design aspects. He proposes a meeting to discuss collaboration possibilities on Tuesday, January 15th, at 10:00 AM at Kim's office.\",\n",
      "  \"date\": \"Tuesday, January 15th, 10:00 AM\"\n",
      "}\n",
      "```"
     ]
    }
   ],
   "source": [
    "output = stream_response(response, return_output=True)"
   ]
  },
  {
   "cell_type": "markdown",
   "metadata": {},
   "source": [
    "### with Parser"
   ]
  },
  {
   "cell_type": "code",
   "execution_count": 19,
   "metadata": {},
   "outputs": [],
   "source": [
    "chain = prompt | llm | parser"
   ]
  },
  {
   "cell_type": "code",
   "execution_count": 20,
   "metadata": {},
   "outputs": [
    {
     "name": "stdout",
     "output_type": "stream",
     "text": [
      "person='John' email='John@bikecorporation.me' subject='“ZENESIS” bike distribution cooperation and meeting schedule proposal' summary=\"John, Senior Executive Director at Bike Corporation, is interested in the ZENESIS bike model and requests a detailed brochure with technical specifications, battery performance, and design aspects. He proposes a meeting to discuss collaboration possibilities on Tuesday, January 15th, at 10:00 AM at Kim's office.\" date='January 15th, 10:00 AM'\n"
     ]
    }
   ],
   "source": [
    "# chain 을 실행하고 결과를 출력합니다.\n",
    "response = chain.invoke(\n",
    "    {\n",
    "        \"email_conversation\": email_conversation,\n",
    "        \"question\":\"이메일 요약해\",\n",
    "    }\n",
    ")\n",
    "\n",
    "# The results are output in the form of an EmailSummary object.\n",
    "print(response)"
   ]
  },
  {
   "cell_type": "code",
   "execution_count": 21,
   "metadata": {},
   "outputs": [
    {
     "data": {
      "text/plain": [
       "'John@bikecorporation.me'"
      ]
     },
     "execution_count": 21,
     "metadata": {},
     "output_type": "execute_result"
    }
   ],
   "source": [
    "response.email"
   ]
  },
  {
   "cell_type": "code",
   "execution_count": 22,
   "metadata": {},
   "outputs": [
    {
     "data": {
      "text/plain": [
       "'John'"
      ]
     },
     "execution_count": 22,
     "metadata": {},
     "output_type": "execute_result"
    }
   ],
   "source": [
    "response.person"
   ]
  },
  {
   "cell_type": "code",
   "execution_count": 23,
   "metadata": {},
   "outputs": [],
   "source": [
    "from langchain_openai import ChatOpenAI\n",
    "from langchain_core.output_parsers import PydanticOutputParser\n",
    "from pydantic import BaseModel, Field\n",
    "\n",
    "llm = ChatOpenAI(temperature=0, model_name='gpt-4o')"
   ]
  },
  {
   "cell_type": "code",
   "execution_count": 24,
   "metadata": {},
   "outputs": [],
   "source": [
    "email_conversation = '''\n",
    "Delivered-To: boseon1234@gmail.com\n",
    "Received: by 2002:a05:7010:3909:b0:400:60c1:1f31 with SMTP id c9csp826821mdk;\n",
    "        Wed, 9 Oct 2024 16:30:11 -0700 (PDT)\n",
    "X-Received: by 2002:a05:6602:29d1:b0:835:2ef4:3aa4 with SMTP id ca18e2360f4ac-8353d4ad3b6mr465497739f.8.1728516611238;\n",
    "        Wed, 09 Oct 2024 16:30:11 -0700 (PDT)\n",
    "ARC-Seal: i=1; a=rsa-sha256; t=1728516611; cv=none;\n",
    "        d=google.com; s=arc-20240605;\n",
    "        b=Vr1qUlFVNXYPufstK3c0lkgJZnS9sjL4djjSXXBMZVqqK7KOw2HMaq4nlpP1c1nzFE\n",
    "         tfoUkV2/nA5zu/tesJqDUcumnVGcqFVvHIt5IzT0E9TtZqaIRPynWJMgN+bZByD0+Zdk\n",
    "         lyYVfzR9XlXk5FmvftdVUBS8xnsp4oounz1xtmgQ+mqKjk6O7wf8R0fiRUD+kQPCkvmZ\n",
    "         qdf+DKsCyn5VMot5xun0/fz9acXHQyJ/Mc6A+oLMIYwNji+4NZHSGF2W+4ErbYlIVplB\n",
    "         j2jVbtz+HWvsjwmjsSPyICPgPBX7eP3QMK7NjmRVyaSm8/vbSs4PCt88Jro+9UC1Afm7\n",
    "         K+BA==\n",
    "ARC-Message-Signature: i=1; a=rsa-sha256; c=relaxed/relaxed; d=google.com; s=arc-20240605;\n",
    "        h=to:from:subject:message-id:feedback-id:date:mime-version\n",
    "         :dkim-signature;\n",
    "        bh=/UPN+O3tGQpTHF2Yv/wcyILivdW9YKA+K4ZERcJ4FZs=;\n",
    "        fh=jAAesdOUP+8sSrbVTg1b7vlKbnZZNaPA1SqF+hrYwPo=;\n",
    "        b=RrfH/+Vg6hixcebhtpgPDabp6PMbZjCFYL+KQPW0E0XmBQ/BjfQHhYnOlR+8rk7NEe\n",
    "         RWgtu6Y6bS1pGwj4YhHd8jr/gd701Tyh/JuFjch/2xGTUQvgHBIpHbsPFozPr4jcE+j0\n",
    "         zKDyYdNUItVlvS9fP6v9EB67SMn5sG3kgcqQma9Qv8gK0rhnkKAg39h4cObzL+hkxPoN\n",
    "         vnYwiHGNu4ctUZdknXOuz03jRKnmShhgex3qWeopC2/ndt8ae25qj80E3YlllZMCqX43\n",
    "         zN68rkOGLUDoIDzYm9DdaNqgjDvAnz5VFjxLlCGchMBVDh/gWmbGpvLF1jW7X80Zdnzl\n",
    "         TMrQ==;\n",
    "        dara=google.com\n",
    "ARC-Authentication-Results: i=1; mx.google.com;\n",
    "       dkim=pass header.i=@accounts.google.com header.s=20230601 header.b=QEWRDbK+;\n",
    "       spf=pass (google.com: domain of 3ahihzwgtcoest-wjuq3fhhtzsyx.lttlqj.htrgtxjts6789lrfnq.htr@gaia.bounces.google.com designates 209.85.220.73 as permitted sender) smtp.mailfrom=3AhIHZwgTCoEst-wjuq3fhhtzsyx.lttlqj.htrgtxjts6789lrfnq.htr@gaia.bounces.google.com;\n",
    "       dmarc=pass (p=REJECT sp=REJECT dis=NONE) header.from=accounts.google.com;\n",
    "       dara=pass header.i=@gmail.com\n",
    "Return-Path: <3AhIHZwgTCoEst-wjuq3fhhtzsyx.lttlqj.htrgtxjts6789lrfnq.htr@gaia.bounces.google.com>\n",
    "Received: from mail-sor-f73.google.com (mail-sor-f73.google.com. [209.85.220.73])\n",
    "        by mx.google.com with SMTPS id ca18e2360f4ac-8354ba3ab29sor1885539f.6.2024.10.09.16.30.11\n",
    "        for <boseon1234@gmail.com>\n",
    "        (Google Transport Security);\n",
    "        Wed, 09 Oct 2024 16:30:11 -0700 (PDT)\n",
    "Received-SPF: pass (google.com: domain of 3ahihzwgtcoest-wjuq3fhhtzsyx.lttlqj.htrgtxjts6789lrfnq.htr@gaia.bounces.google.com designates 209.85.220.73 as permitted sender) client-ip=209.85.220.73;\n",
    "Authentication-Results: mx.google.com;\n",
    "       dkim=pass header.i=@accounts.google.com header.s=20230601 header.b=QEWRDbK+;\n",
    "       spf=pass (google.com: domain of 3ahihzwgtcoest-wjuq3fhhtzsyx.lttlqj.htrgtxjts6789lrfnq.htr@gaia.bounces.google.com designates 209.85.220.73 as permitted sender) smtp.mailfrom=3AhIHZwgTCoEst-wjuq3fhhtzsyx.lttlqj.htrgtxjts6789lrfnq.htr@gaia.bounces.google.com;\n",
    "       dmarc=pass (p=REJECT sp=REJECT dis=NONE) header.from=accounts.google.com;\n",
    "       dara=pass header.i=@gmail.com\n",
    "DKIM-Signature: v=1; a=rsa-sha256; c=relaxed/relaxed;\n",
    "        d=accounts.google.com; s=20230601; t=1728516611; x=1729121411; dara=google.com;\n",
    "        h=to:from:subject:message-id:feedback-id:date:mime-version:from:to:cc\n",
    "         :subject:date:message-id:reply-to;\n",
    "        bh=/UPN+O3tGQpTHF2Yv/wcyILivdW9YKA+K4ZERcJ4FZs=;\n",
    "        b=QEWRDbK+/MrnnwomJ3zf7ggv4DhTO4J9/qjY/nvsRCX4sE3UNsztZG4c1J5Mm6yMBH\n",
    "         wMFhA1fazjc0WT46hQE8ScICdz+CfkTcMxLeVbzWG3XOfRfFR6z3pJgWpBYkQQ8MYZgS\n",
    "         vmu71pbdrv0iTNRV0wjGgZQSZyC62GoZuAmkKEY4GhcDLkvq4o9/BjxzSHtTuZZg0b9J\n",
    "         qYLNdnm6/TxocS5CV/Wsmwyb2qFKv/qB5rvvTmXvWBBhVCkypVlQKiUNvWPO5APMpHLr\n",
    "         SPlKm/TBngK9MpgUYEkqUL7zGmRiWYIB+nCvoxZztFmZRhd5EegQ+d703aPFUhjOtmqf\n",
    "         Zl7A==\n",
    "X-Google-DKIM-Signature: v=1; a=rsa-sha256; c=relaxed/relaxed;\n",
    "        d=1e100.net; s=20230601; t=1728516611; x=1729121411;\n",
    "        h=to:from:subject:message-id:feedback-id:date:mime-version\n",
    "         :x-gm-message-state:from:to:cc:subject:date:message-id:reply-to;\n",
    "        bh=/UPN+O3tGQpTHF2Yv/wcyILivdW9YKA+K4ZERcJ4FZs=;\n",
    "        b=cpvlyk04VWUj/HIK/O+ak2mkop4ORtkQ0Gcz+7aD84Q7co/QJIQ6fX1mGBxKiH1oi9\n",
    "         EGWv6Q0NFd8Uy05aJ5DXOzzk6/ZjeULnBHK89lqciQdSzgkUpIPemYmtpe/Csu8JrBBQ\n",
    "         FqDH1+fCRgVqOKb4078ZdLM7815wCRZGSOJVhAcu6kne5pHHE+XenP8omrENSDcUWEBc\n",
    "         PW9cB4JIxNal5H34iAivrDhVack6SI+Bhq/KY0UFwpPV4us1FArzwMGGEUc/BV5CmvkU\n",
    "         ls9aXi8Ivjq9KR//sdO4oUHBQ4SDb446H+SZ6xfD9YHuGuOyljRqPNiPlxwB1yalUQkc\n",
    "         P0sA==\n",
    "X-Gm-Message-State: AOJu0YwVsT2rsHW3TlPimZTCgfS8oqP3MeIuPfqkrNbDq3L/49/jHKPi\n",
    "\tqElnm8xRIuGRRfCIvAAVsJ4QGcaOzkIsrksZ+25nkY18uISTfcaAFjGfDcfpnPw7HSPfiaKEOlE\n",
    "\t56nQFXwMPGIUEBpRMMTcfO8FA1s3iLcyhlxQ=\n",
    "X-Google-Smtp-Source: AGHT+IGHcNcYZbZiQpTHKqlraTnGBSOeSHPrEZ43Z56A/YnS1XCP45MArBDRlcZNbmOFGhC//EBXOlbfrJUO1HOKX07T1w==\n",
    "MIME-Version: 1.0\n",
    "X-Received: by 2002:a05:6602:485:b0:82d:8a8:b9e with SMTP id\n",
    " ca18e2360f4ac-8353d379c80mr417959339f.3.1728516610858; Wed, 09 Oct 2024\n",
    " 16:30:10 -0700 (PDT)\n",
    "Date: Wed, 09 Oct 2024 23:30:10 GMT\n",
    "X-Account-Notification-Type: 264\n",
    "Feedback-ID: 264:account-notifier\n",
    "X-Notifications: 6b3313d39e420000\n",
    "X-Notifications-Bounce-Info: AdZT3xSaD7QBTfJijcsmcHMTDACk2pjHHsnvPjtd2O2lSwLizAcXTZglNVoogkbRW2QSihzhuvMjn7l5SDqm5k4FWMiQcuRGzK1_EtZGoAoA5E6y4qTBmfXeALK6P8bilmTkUSN8QR32WH3N49ke8ltqEraQjs0B2VuqCWnYfdAbF5KBe8qETPxrnTrYhgNM3odfHllXkhp1CotNdQNjAwNjA0MDQxNTM1NTk2OTMzMg\n",
    "Message-ID: <98L8OYnB0tD8h07d2FLktQ@notifications.google.com>\n",
    "Subject: =?UTF-8?B?R29vZ2xlIOqzhOyglSDrs7XqtazqsIAg7JmE66OM65CY7JeI7Iq164uI64uk?=\n",
    "From: Google <no-reply@accounts.google.com>\n",
    "To: boseon1234@gmail.com\n",
    "Content-Type: multipart/alternative; boundary=\"000000000000941fee062413a260\"\n",
    "\n",
    "--000000000000941fee062413a260\n",
    "Content-Type: text/plain; charset=\"UTF-8\"; format=flowed; delsp=yes\n",
    "Content-Transfer-Encoding: base64\n",
    "\n",
    "W2ltYWdlOiBHb29nbGVdDQrqs4TsoJUg67O16rWsIOyZhOujjA0KDQoNCmJvc2VvbjEyMzRAZ21h\n",
    "aWwuY29tDQrqs4TsoJXsnYQg67O16rWs7ZWY7IugIOqyg+ydhCDstpXtlZjrk5zrpr3ri4jri6Tr\n",
    "i6Trpbgg7IKs656M7J20IOqzhOyglSDshKTsoJXsnYQg67OA6rK97ZWY7JesIOq3uOuPmeyViCAg\n",
    "DQrqs4TsoJXsl5Ag7JWh7IS47Iqk7ZWY7KeAIOuqu+2WiOuLpOqzoCDsnZjsi6zrkJzri6TrqbQg\n",
    "6rOE7KCVIOuztOyViOydhCDqsoDthqDtlZjqs6Ag6rCV7ZmUDQo8aHR0cHM6Ly9hY2NvdW50cy5n\n",
    "b29nbGUuY29tL0FjY291bnRDaG9vc2VyP0VtYWlsPWJvc2VvbjEyMzRAZ21haWwuY29tJmNvbnRp\n",
    "bnVlPWh0dHBzOi8vbXlhY2NvdW50Lmdvb2dsZS5jb20vc2VjdXJlLWFjY291bnQ/dXRtX3NvdXJj\n",
    "ZSUzRGVtYWlsJTI2dXRtX21lZGl1bSUzRGVtYWlsJTI2dXRtX2NhbXBhaWduJTNEcGglMjZzcmMl\n",
    "M0QxNCUyNmFuZWlkJTNELTMyNjQxMjcxMzgyOTI5Mjg0OTU+7ZWY7Iuc6riwDQrrsJTrno3ri4jr\n",
    "i6QuDQrsnbQg7J2066mU7J287J2AIEdvb2dsZSDqs4TsoJUg67CPIOyEnOu5hOyKpOydmCDspJHs\n",
    "mpTtlZwg67OA6rK97IKs7ZWt7J2EIOyVjOugpOuTnOumrOq4sCDsnITtlbQgIA0K67Cc7Iah65CY\n",
    "7JeI7Iq164uI64ukLg0KwqkgMjAyNCBHb29nbGUgTExDLCAxNjAwIEFtcGhpdGhlYXRyZSBQYXJr\n",
    "d2F5LCBNb3VudGFpbiBWaWV3LCBDQSA5NDA0MywgVVNBDQo=\n",
    "--000000000000941fee062413a260\n",
    "Content-Type: text/html; charset=\"UTF-8\"\n",
    "Content-Transfer-Encoding: quoted-printable\n",
    "\n",
    "<!DOCTYPE html><html lang=3D\"en\"><head><meta name=3D\"format-detection\" cont=\n",
    "ent=3D\"email=3Dno\"/><meta name=3D\"format-detection\" content=3D\"date=3Dno\"/>=\n",
    "<style nonce=3D\"h4l-Dl5kqb-G8i-QwcDnzA\">.awl a {color: #FFFFFF; text-decora=\n",
    "tion: none;} .abml a {color: #000000; font-family: Roboto-Medium,Helvetica,=\n",
    "Arial,sans-serif; font-weight: bold; text-decoration: none;} .adgl a {color=\n",
    ": rgba(0, 0, 0, 0.87); text-decoration: none;} .afal a {color: #b0b0b0; tex=\n",
    "t-decoration: none;} @media screen and (min-width: 600px) {.v2sp {padding: =\n",
    "6px 30px 0px;} .v2rsp {padding: 0px 10px;}} @media screen and (min-width: 6=\n",
    "00px) {.mdv2rw {padding: 40px 40px;}} </style><link href=3D\"//fonts.googlea=\n",
    "pis.com/css?family=3DGoogle+Sans\" rel=3D\"stylesheet\" type=3D\"text/css\" nonc=\n",
    "e=3D\"h4l-Dl5kqb-G8i-QwcDnzA\"/></head><body style=3D\"margin: 0; padding: 0;\"=\n",
    " bgcolor=3D\"#FFFFFF\"><table width=3D\"100%\" height=3D\"100%\" style=3D\"min-wid=\n",
    "th: 348px;\" border=3D\"0\" cellspacing=3D\"0\" cellpadding=3D\"0\" lang=3D\"en\"><t=\n",
    "r height=3D\"32\" style=3D\"height: 32px;\"><td></td></tr><tr align=3D\"center\">=\n",
    "<td><div itemscope itemtype=3D\"//schema.org/EmailMessage\"><div itemprop=3D\"=\n",
    "action\" itemscope itemtype=3D\"//schema.org/ViewAction\"><link itemprop=3D\"ur=\n",
    "l\" href=3D\"https://accounts.google.com/AccountChooser?Email=3Dboseon1234@gm=\n",
    "ail.com&amp;continue=3Dhttps://myaccount.google.com/secure-account?utm_sour=\n",
    "ce%3Demail%26utm_medium%3Demail%26utm_campaign%3Dph%26src%3D14%26aneid%3D-3=\n",
    "264127138292928495\"/><meta itemprop=3D\"name\" content=3D\"=ED=99=9C=EB=8F=99 =\n",
    "=EA=B2=80=ED=86=A0\"/></div></div><table border=3D\"0\" cellspacing=3D\"0\" cell=\n",
    "padding=3D\"0\" style=3D\"padding-bottom: 20px; max-width: 516px; min-width: 2=\n",
    "20px;\"><tr><td width=3D\"8\" style=3D\"width: 8px;\"></td><td><div style=3D\"bor=\n",
    "der-style: solid; border-width: thin; border-color:#dadce0; border-radius: =\n",
    "8px; padding: 40px 20px;\" align=3D\"center\" class=3D\"mdv2rw\"><img src=3D\"htt=\n",
    "ps://www.gstatic.com/images/branding/googlelogo/2x/googlelogo_color_74x24dp=\n",
    ".png\" width=3D\"74\" height=3D\"24\" aria-hidden=3D\"true\" style=3D\"margin-botto=\n",
    "m: 16px;\" alt=3D\"Google\"><div style=3D\"font-family: &#39;Google Sans&#39;,R=\n",
    "oboto,RobotoDraft,Helvetica,Arial,sans-serif;border-bottom: thin solid #dad=\n",
    "ce0; color: rgba(0,0,0,0.87); line-height: 32px; padding-bottom: 24px;text-=\n",
    "align: center; word-break: break-word;\"><div style=3D\"font-size: 24px;\">=EA=\n",
    "=B3=84=EC=A0=95 =EB=B3=B5=EA=B5=AC =EC=99=84=EB=A3=8C </div><table align=3D=\n",
    "\"center\" style=3D\"margin-top:8px;\"><tr style=3D\"line-height: normal;\"><td a=\n",
    "lign=3D\"right\" style=3D\"padding-right:8px;\"><img width=3D\"20\" height=3D\"20\"=\n",
    " style=3D\"width: 20px; height: 20px; vertical-align: sub; border-radius: 50=\n",
    "%;;\" src=3D\"https://lh3.googleusercontent.com/a/ACg8ocKxeWE-fGVRglhsXT7QCYn=\n",
    "5RIcmsRK8yNmx9Wgg8NkAcJfilQ=3Ds96-c\" alt=3D\"\"></td><td><a style=3D\"font-fam=\n",
    "ily: &#39;Google Sans&#39;,Roboto,RobotoDraft,Helvetica,Arial,sans-serif;co=\n",
    "lor: rgba(0,0,0,0.87); font-size: 14px; line-height: 20px;\">boseon1234@gmai=\n",
    "l.com</a></td></tr></table> </div><div style=3D\"font-family: Roboto-Regular=\n",
    ",Helvetica,Arial,sans-serif; font-size: 14px; color: rgba(0,0,0,0.87); line=\n",
    "-height: 20px;padding-top: 20px; text-align: left;\"><h3>=EA=B3=84=EC=A0=95=\n",
    "=EC=9D=84 =EB=B3=B5=EA=B5=AC=ED=95=98=EC=8B=A0 =EA=B2=83=EC=9D=84 =EC=B6=95=\n",
    "=ED=95=98=EB=93=9C=EB=A6=BD=EB=8B=88=EB=8B=A4</h3>=EB=8B=A4=EB=A5=B8 =EC=82=\n",
    "=AC=EB=9E=8C=EC=9D=B4 =EA=B3=84=EC=A0=95 =EC=84=A4=EC=A0=95=EC=9D=84 =EB=B3=\n",
    "=80=EA=B2=BD=ED=95=98=EC=97=AC =EA=B7=B8=EB=8F=99=EC=95=88 =EA=B3=84=EC=A0=\n",
    "=95=EC=97=90 =EC=95=A1=EC=84=B8=EC=8A=A4=ED=95=98=EC=A7=80 =EB=AA=BB=ED=96=\n",
    "=88=EB=8B=A4=EA=B3=A0 =EC=9D=98=EC=8B=AC=EB=90=9C=EB=8B=A4=EB=A9=B4 <a href=\n",
    "=3D\"https://accounts.google.com/AccountChooser?Email=3Dboseon1234@gmail.com=\n",
    "&amp;continue=3Dhttps://myaccount.google.com/secure-account?utm_source%3Dem=\n",
    "ail%26utm_medium%3Demail%26utm_campaign%3Dph%26src%3D14%26aneid%3D-32641271=\n",
    "38292928495\" style=3D\"text-decoration: none; color: #4285F4;\" target=3D\"_bl=\n",
    "ank\">=EA=B3=84=EC=A0=95 =EB=B3=B4=EC=95=88=EC=9D=84 =EA=B2=80=ED=86=A0=ED=\n",
    "=95=98=EA=B3=A0 =EA=B0=95=ED=99=94</a>=ED=95=98=EC=8B=9C=EA=B8=B0 =EB=B0=94=\n",
    "=EB=9E=8D=EB=8B=88=EB=8B=A4.</div></div><div style=3D\"text-align: left;\"><d=\n",
    "iv style=3D\"font-family: Roboto-Regular,Helvetica,Arial,sans-serif;color: r=\n",
    "gba(0,0,0,0.54); font-size: 11px; line-height: 18px; padding-top: 12px; tex=\n",
    "t-align: center;\"><div>=EC=9D=B4 =EC=9D=B4=EB=A9=94=EC=9D=BC=EC=9D=80 Googl=\n",
    "e =EA=B3=84=EC=A0=95 =EB=B0=8F =EC=84=9C=EB=B9=84=EC=8A=A4=EC=9D=98 =EC=A4=\n",
    "=91=EC=9A=94=ED=95=9C =EB=B3=80=EA=B2=BD=EC=82=AC=ED=95=AD=EC=9D=84 =EC=95=\n",
    "=8C=EB=A0=A4=EB=93=9C=EB=A6=AC=EA=B8=B0 =EC=9C=84=ED=95=B4 =EB=B0=9C=EC=86=\n",
    "=A1=EB=90=98=EC=97=88=EC=8A=B5=EB=8B=88=EB=8B=A4.</div><div style=3D\"direct=\n",
    "ion: ltr;\">&copy; 2024 Google LLC, <a class=3D\"afal\" style=3D\"font-family: =\n",
    "Roboto-Regular,Helvetica,Arial,sans-serif;color: rgba(0,0,0,0.54); font-siz=\n",
    "e: 11px; line-height: 18px; padding-top: 12px; text-align: center;\">1600 Am=\n",
    "phitheatre Parkway, Mountain View, CA 94043, USA</a></div></div></div></td>=\n",
    "<td width=3D\"8\" style=3D\"width: 8px;\"></td></tr></table></td></tr><tr heigh=\n",
    "t=3D\"32\" style=3D\"height: 32px;\"><td></td></tr></table></body></html>\n",
    "--000000000000941fee062413a260--\n",
    "\n",
    "'''\n"
   ]
  },
  {
   "cell_type": "code",
   "execution_count": 25,
   "metadata": {},
   "outputs": [],
   "source": [
    "from itertools import chain\n",
    "from langchain_core.prompts import PromptTemplate\n",
    "from langchain_core.messages import AIMessageChunk\n",
    "from langchain_core.output_parsers import StrOutputParser\n",
    "\n",
    "prompt = PromptTemplate.from_template(\n",
    "    '''Please extract the important parts of the following email.\n",
    "    \n",
    "    {email_conversation}'''\n",
    ")\n",
    "\n",
    "llm = ChatOpenAI(temperature=0, model_name='gpt-4o')\n",
    "\n",
    "chain = prompt | llm # | StrOutputParser()\n",
    "\n",
    "answer = chain.stream({'email_conversation': email_conversation})"
   ]
  },
  {
   "cell_type": "code",
   "execution_count": 26,
   "metadata": {},
   "outputs": [
    {
     "name": "stdout",
     "output_type": "stream",
     "text": [
      "Here are the important parts of the email:\n",
      "\n",
      "- **Subject**: Google 계정 복구 완료 (Google Account Recovery Complete)\n",
      "- **From**: Google <no-reply@accounts.google.com>\n",
      "- **To**: boseon1234@gmail.com\n",
      "- **Date**: Wed, 09 Oct 2024 23:30:10 GMT\n",
      "- **Message**: The email is a notification from Google indicating that the account recovery process for the email address boseon1234@gmail.com has been completed. It suggests checking and securing the account if there are any suspicions of unauthorized access.\n",
      "- **Action Link**: A link is provided to review and secure the account: [Account Security Check](https://accounts.google.com/AccountChooser?Email=boseon1234@gmail.com&continue=https://myaccount.google.com/secure-account?utm_source=email&utm_medium=email&utm_campaign=ph&src=14&aneid=-3264127138292928495)\n",
      "\n",
      "This email is a standard notification from Google regarding account security."
     ]
    }
   ],
   "source": [
    "def stream_response(response, return_output=False):\n",
    "    ''' \n",
    "    Streams the response from the AI model, processing and printing each chunk.\n",
    "\n",
    "    This function iterates over each item in the 'response' iterable. If an item is an instance of AIMessageChunk, it extracts and prints the content.\n",
    "    If the item is a string, it prints the string directly.\n",
    "    Optionally, the function can return the concatenated string of all response chunks.\n",
    "\n",
    "    Args:\n",
    "    - response (iterable): An iterable of response chunks, which can be AIMessageChunk objects or strings.\n",
    "    - return_output (bool, optional): If True, the function returns the concatenated response string. The default is False.\n",
    "\n",
    "    Returns:\n",
    "    - str: If `return_output` is True, the concatenated response string. Otherwise, nothing is returned.\n",
    "    '''\n",
    "    answer=''\n",
    "    for token in response:\n",
    "        if isinstance(token, AIMessageChunk):\n",
    "            answer+=token.content\n",
    "            print(token.content, end='', flush=True)\n",
    "        elif isinstance(token, str):\n",
    "            answer+=token\n",
    "            print(token, end='', flush=True)\n",
    "    if return_output:\n",
    "        return answer         \n",
    "    \n",
    "output = stream_response(answer, return_output=True)"
   ]
  },
  {
   "cell_type": "code",
   "execution_count": 27,
   "metadata": {},
   "outputs": [
    {
     "name": "stdout",
     "output_type": "stream",
     "text": [
      "content='Here are the important parts of the email:\\n\\n- **Subject**: Google 계정 복구 완료 (Google Account Recovery Complete)\\n- **From**: Google <no-reply@accounts.google.com>\\n- **To**: boseon1234@gmail.com\\n- **Date**: Wed, 09 Oct 2024 23:30:10 GMT\\n- **Message**: The email is a notification from Google indicating that the account recovery process for the email address boseon1234@gmail.com has been completed. It suggests checking and securing the account if there are any suspicions of unauthorized access.\\n- **Action**: The email provides a link to review and secure the account: [Google Account Security](https://accounts.google.com/AccountChooser?Email=boseon1234@gmail.com&continue=https://myaccount.google.com/secure-account?utm_source=email&utm_medium=email&utm_campaign=ph&src=14&aneid=-3264127138292928495).\\n\\nThis email is a standard notification from Google regarding account recovery and security.' additional_kwargs={'refusal': None} response_metadata={'token_usage': {'completion_tokens': 214, 'prompt_tokens': 5931, 'total_tokens': 6145, 'completion_tokens_details': {'accepted_prediction_tokens': 0, 'audio_tokens': 0, 'reasoning_tokens': 0, 'rejected_prediction_tokens': 0}, 'prompt_tokens_details': {'audio_tokens': 0, 'cached_tokens': 5760}}, 'model_name': 'gpt-4o-2024-08-06', 'system_fingerprint': 'fp_50cad350e4', 'finish_reason': 'stop', 'logprobs': None} id='run-6aba98d6-0a5b-49fb-b648-585e8545ac85-0' usage_metadata={'input_tokens': 5931, 'output_tokens': 214, 'total_tokens': 6145, 'input_token_details': {'audio': 0, 'cache_read': 5760}, 'output_token_details': {'audio': 0, 'reasoning': 0}}\n"
     ]
    }
   ],
   "source": [
    "answer = chain.invoke({'email_conversation': email_conversation})\n",
    "print(answer)"
   ]
  },
  {
   "cell_type": "code",
   "execution_count": 28,
   "metadata": {},
   "outputs": [],
   "source": [
    "# answer에서 출력된 text를 json으로 변환하기 위해 output parser 사용\n",
    "class EmailSummary(BaseModel):\n",
    "    person: str = Field(description='The sender of the email')\n",
    "    email: str = Field(description='The email address of the sender')\n",
    "    subject: str = Field(description='The subject of the email')\n",
    "    summary: str = Field(description='A summary of the email content')\n",
    "    date: str = Field(\n",
    "        description='The meeting date and time mentioned in the email content'\n",
    "    )\n",
    "    recipient: str = Field(description='The recipient of the email')"
   ]
  },
  {
   "cell_type": "code",
   "execution_count": 29,
   "metadata": {},
   "outputs": [],
   "source": [
    "# Create PydanticOutputParser\n",
    "parser = PydanticOutputParser(pydantic_object=EmailSummary)"
   ]
  },
  {
   "cell_type": "code",
   "execution_count": 30,
   "metadata": {},
   "outputs": [],
   "source": [
    "prompt = PromptTemplate.from_template(\n",
    "    '''\n",
    "You are a helpful assistant.\n",
    "\n",
    "QUESTION:\n",
    "{question}\n",
    "\n",
    "EMAIL CONVERSATION:\n",
    "{email_conversation}\n",
    "\n",
    "FORMAT:\n",
    "{format}\n",
    "'''\n",
    ")"
   ]
  },
  {
   "cell_type": "code",
   "execution_count": 31,
   "metadata": {},
   "outputs": [],
   "source": [
    "prompt = prompt.partial(format=parser.get_format_instructions())"
   ]
  },
  {
   "cell_type": "code",
   "execution_count": 32,
   "metadata": {},
   "outputs": [],
   "source": [
    "# response = chain.stream(\n",
    "#     {\n",
    "#         \"email_conversation\": email_conversation,\n",
    "#         \"question\": \"이메일을 요약해.\",\n",
    "#     }\n",
    "# )"
   ]
  },
  {
   "cell_type": "code",
   "execution_count": 33,
   "metadata": {},
   "outputs": [],
   "source": [
    "# # chain 을 실행하고 결과를 출력합니다.\n",
    "# response = chain.invoke(\n",
    "#     {\n",
    "#         \"email_conversation\": email_conversation,\n",
    "#         \"question\":\"이메일 요약해\",\n",
    "#     }\n",
    "# )\n",
    "\n",
    "# # The results are output in the form of an EmailSummary object.\n",
    "# print(response)"
   ]
  },
  {
   "cell_type": "code",
   "execution_count": 34,
   "metadata": {},
   "outputs": [],
   "source": [
    "chain = prompt | llm | parser"
   ]
  },
  {
   "cell_type": "code",
   "execution_count": 35,
   "metadata": {},
   "outputs": [
    {
     "name": "stdout",
     "output_type": "stream",
     "text": [
      "person='Google' email='no-reply@accounts.google.com' subject='Google 계정 복구 완료' summary='boseon1234@gmail.com 계정의 복구가 완료되었습니다. 다른 사람이 계정 설정을 변경하여 계정에 액세스하지 못했다고 의심되면 계정 보안을 검토하고 강화하시기 바랍니다.' date='2024-10-09T23:30:10Z' recipient='boseon1234@gmail.com'\n"
     ]
    }
   ],
   "source": [
    "# chain 을 실행하고 결과를 출력합니다.\n",
    "response = chain.invoke(\n",
    "    {\n",
    "        \"email_conversation\": email_conversation,\n",
    "        \"question\":\"이메일 요약해\",\n",
    "    }\n",
    ")\n",
    "\n",
    "# The results are output in the form of an EmailSummary object.\n",
    "print(response)"
   ]
  },
  {
   "cell_type": "code",
   "execution_count": 36,
   "metadata": {},
   "outputs": [],
   "source": [
    "email_conversation = \"\"\"Delivered-To: boseon1234@gmail.com\n",
    "Received: by 2002:a05:7010:3909:b0:400:60c1:1f31 with SMTP id c9csp826821mdk;\n",
    "        Wed, 9 Oct 2024 16:30:11 -0700 (PDT)\n",
    "X-Received: by 2002:a05:6602:29d1:b0:835:2ef4:3aa4 with SMTP id ca18e2360f4ac-8353d4ad3b6mr465497739f.8.1728516611238;\n",
    "        Wed, 09 Oct 2024 16:30:11 -0700 (PDT)\n",
    "ARC-Seal: i=1; a=rsa-sha256; t=1728516611; cv=none;\n",
    "        d=google.com; s=arc-20240605;\n",
    "        b=Vr1qUlFVNXYPufstK3c0lkgJZnS9sjL4djjSXXBMZVqqK7KOw2HMaq4nlpP1c1nzFE\n",
    "         tfoUkV2/nA5zu/tesJqDUcumnVGcqFVvHIt5IzT0E9TtZqaIRPynWJMgN+bZByD0+Zdk\n",
    "         lyYVfzR9XlXk5FmvftdVUBS8xnsp4oounz1xtmgQ+mqKjk6O7wf8R0fiRUD+kQPCkvmZ\n",
    "         qdf+DKsCyn5VMot5xun0/fz9acXHQyJ/Mc6A+oLMIYwNji+4NZHSGF2W+4ErbYlIVplB\n",
    "         j2jVbtz+HWvsjwmjsSPyICPgPBX7eP3QMK7NjmRVyaSm8/vbSs4PCt88Jro+9UC1Afm7\n",
    "         K+BA==\n",
    "ARC-Message-Signature: i=1; a=rsa-sha256; c=relaxed/relaxed; d=google.com; s=arc-20240605;\n",
    "        h=to:from:subject:message-id:feedback-id:date:mime-version\n",
    "         :dkim-signature;\n",
    "        bh=/UPN+O3tGQpTHF2Yv/wcyILivdW9YKA+K4ZERcJ4FZs=;\n",
    "        fh=jAAesdOUP+8sSrbVTg1b7vlKbnZZNaPA1SqF+hrYwPo=;\n",
    "        b=RrfH/+Vg6hixcebhtpgPDabp6PMbZjCFYL+KQPW0E0XmBQ/BjfQHhYnOlR+8rk7NEe\n",
    "         RWgtu6Y6bS1pGwj4YhHd8jr/gd701Tyh/JuFjch/2xGTUQvgHBIpHbsPFozPr4jcE+j0\n",
    "         zKDyYdNUItVlvS9fP6v9EB67SMn5sG3kgcqQma9Qv8gK0rhnkKAg39h4cObzL+hkxPoN\n",
    "         vnYwiHGNu4ctUZdknXOuz03jRKnmShhgex3qWeopC2/ndt8ae25qj80E3YlllZMCqX43\n",
    "         zN68rkOGLUDoIDzYm9DdaNqgjDvAnz5VFjxLlCGchMBVDh/gWmbGpvLF1jW7X80Zdnzl\n",
    "         TMrQ==;\n",
    "        dara=google.com\n",
    "ARC-Authentication-Results: i=1; mx.google.com;\n",
    "       dkim=pass header.i=@accounts.google.com header.s=20230601 header.b=QEWRDbK+;\n",
    "       spf=pass (google.com: domain of 3ahihzwgtcoest-wjuq3fhhtzsyx.lttlqj.htrgtxjts6789lrfnq.htr@gaia.bounces.google.com designates 209.85.220.73 as permitted sender) smtp.mailfrom=3AhIHZwgTCoEst-wjuq3fhhtzsyx.lttlqj.htrgtxjts6789lrfnq.htr@gaia.bounces.google.com;\n",
    "       dmarc=pass (p=REJECT sp=REJECT dis=NONE) header.from=accounts.google.com;\n",
    "       dara=pass header.i=@gmail.com\n",
    "Return-Path: <3AhIHZwgTCoEst-wjuq3fhhtzsyx.lttlqj.htrgtxjts6789lrfnq.htr@gaia.bounces.google.com>\n",
    "Received: from mail-sor-f73.google.com (mail-sor-f73.google.com. [209.85.220.73])\n",
    "        by mx.google.com with SMTPS id ca18e2360f4ac-8354ba3ab29sor1885539f.6.2024.10.09.16.30.11\n",
    "        for <boseon1234@gmail.com>\n",
    "        (Google Transport Security);\n",
    "        Wed, 09 Oct 2024 16:30:11 -0700 (PDT)\n",
    "Received-SPF: pass (google.com: domain of 3ahihzwgtcoest-wjuq3fhhtzsyx.lttlqj.htrgtxjts6789lrfnq.htr@gaia.bounces.google.com designates 209.85.220.73 as permitted sender) client-ip=209.85.220.73;\n",
    "Authentication-Results: mx.google.com;\n",
    "       dkim=pass header.i=@accounts.google.com header.s=20230601 header.b=QEWRDbK+;\n",
    "       spf=pass (google.com: domain of 3ahihzwgtcoest-wjuq3fhhtzsyx.lttlqj.htrgtxjts6789lrfnq.htr@gaia.bounces.google.com designates 209.85.220.73 as permitted sender) smtp.mailfrom=3AhIHZwgTCoEst-wjuq3fhhtzsyx.lttlqj.htrgtxjts6789lrfnq.htr@gaia.bounces.google.com;\n",
    "       dmarc=pass (p=REJECT sp=REJECT dis=NONE) header.from=accounts.google.com;\n",
    "       dara=pass header.i=@gmail.com\n",
    "DKIM-Signature: v=1; a=rsa-sha256; c=relaxed/relaxed;\n",
    "        d=accounts.google.com; s=20230601; t=1728516611; x=1729121411; dara=google.com;\n",
    "        h=to:from:subject:message-id:feedback-id:date:mime-version:from:to:cc\n",
    "         :subject:date:message-id:reply-to;\n",
    "        bh=/UPN+O3tGQpTHF2Yv/wcyILivdW9YKA+K4ZERcJ4FZs=;\n",
    "        b=QEWRDbK+/MrnnwomJ3zf7ggv4DhTO4J9/qjY/nvsRCX4sE3UNsztZG4c1J5Mm6yMBH\n",
    "         wMFhA1fazjc0WT46hQE8ScICdz+CfkTcMxLeVbzWG3XOfRfFR6z3pJgWpBYkQQ8MYZgS\n",
    "         vmu71pbdrv0iTNRV0wjGgZQSZyC62GoZuAmkKEY4GhcDLkvq4o9/BjxzSHtTuZZg0b9J\n",
    "         qYLNdnm6/TxocS5CV/Wsmwyb2qFKv/qB5rvvTmXvWBBhVCkypVlQKiUNvWPO5APMpHLr\n",
    "         SPlKm/TBngK9MpgUYEkqUL7zGmRiWYIB+nCvoxZztFmZRhd5EegQ+d703aPFUhjOtmqf\n",
    "         Zl7A==\n",
    "X-Google-DKIM-Signature: v=1; a=rsa-sha256; c=relaxed/relaxed;\n",
    "        d=1e100.net; s=20230601; t=1728516611; x=1729121411;\n",
    "        h=to:from:subject:message-id:feedback-id:date:mime-version\n",
    "         :x-gm-message-state:from:to:cc:subject:date:message-id:reply-to;\n",
    "        bh=/UPN+O3tGQpTHF2Yv/wcyILivdW9YKA+K4ZERcJ4FZs=;\n",
    "        b=cpvlyk04VWUj/HIK/O+ak2mkop4ORtkQ0Gcz+7aD84Q7co/QJIQ6fX1mGBxKiH1oi9\n",
    "         EGWv6Q0NFd8Uy05aJ5DXOzzk6/ZjeULnBHK89lqciQdSzgkUpIPemYmtpe/Csu8JrBBQ\n",
    "         FqDH1+fCRgVqOKb4078ZdLM7815wCRZGSOJVhAcu6kne5pHHE+XenP8omrENSDcUWEBc\n",
    "         PW9cB4JIxNal5H34iAivrDhVack6SI+Bhq/KY0UFwpPV4us1FArzwMGGEUc/BV5CmvkU\n",
    "         ls9aXi8Ivjq9KR//sdO4oUHBQ4SDb446H+SZ6xfD9YHuGuOyljRqPNiPlxwB1yalUQkc\n",
    "         P0sA==\n",
    "X-Gm-Message-State: AOJu0YwVsT2rsHW3TlPimZTCgfS8oqP3MeIuPfqkrNbDq3L/49/jHKPi\n",
    "\tqElnm8xRIuGRRfCIvAAVsJ4QGcaOzkIsrksZ+25nkY18uISTfcaAFjGfDcfpnPw7HSPfiaKEOlE\n",
    "\t56nQFXwMPGIUEBpRMMTcfO8FA1s3iLcyhlxQ=\n",
    "X-Google-Smtp-Source: AGHT+IGHcNcYZbZiQpTHKqlraTnGBSOeSHPrEZ43Z56A/YnS1XCP45MArBDRlcZNbmOFGhC//EBXOlbfrJUO1HOKX07T1w==\n",
    "MIME-Version: 1.0\n",
    "X-Received: by 2002:a05:6602:485:b0:82d:8a8:b9e with SMTP id\n",
    " ca18e2360f4ac-8353d379c80mr417959339f.3.1728516610858; Wed, 09 Oct 2024\n",
    " 16:30:10 -0700 (PDT)\n",
    "Date: Wed, 09 Oct 2024 23:30:10 GMT\n",
    "X-Account-Notification-Type: 264\n",
    "Feedback-ID: 264:account-notifier\n",
    "X-Notifications: 6b3313d39e420000\n",
    "X-Notifications-Bounce-Info: AdZT3xSaD7QBTfJijcsmcHMTDACk2pjHHsnvPjtd2O2lSwLizAcXTZglNVoogkbRW2QSihzhuvMjn7l5SDqm5k4FWMiQcuRGzK1_EtZGoAoA5E6y4qTBmfXeALK6P8bilmTkUSN8QR32WH3N49ke8ltqEraQjs0B2VuqCWnYfdAbF5KBe8qETPxrnTrYhgNM3odfHllXkhp1CotNdQNjAwNjA0MDQxNTM1NTk2OTMzMg\n",
    "Message-ID: <98L8OYnB0tD8h07d2FLktQ@notifications.google.com>\n",
    "Subject: =?UTF-8?B?R29vZ2xlIOqzhOyglSDrs7XqtazqsIAg7JmE66OM65CY7JeI7Iq164uI64uk?=\n",
    "From: Google <no-reply@accounts.google.com>\n",
    "To: boseon1234@gmail.com\n",
    "Content-Type: multipart/alternative; boundary=\"000000000000941fee062413a260\"\n",
    "\n",
    "--000000000000941fee062413a260\n",
    "Content-Type: text/plain; charset=\"UTF-8\"; format=flowed; delsp=yes\n",
    "Content-Transfer-Encoding: base64\n",
    "\n",
    "W2ltYWdlOiBHb29nbGVdDQrqs4TsoJUg67O16rWsIOyZhOujjA0KDQoNCmJvc2VvbjEyMzRAZ21h\n",
    "aWwuY29tDQrqs4TsoJXsnYQg67O16rWs7ZWY7IugIOqyg+ydhCDstpXtlZjrk5zrpr3ri4jri6Tr\n",
    "i6Trpbgg7IKs656M7J20IOqzhOyglSDshKTsoJXsnYQg67OA6rK97ZWY7JesIOq3uOuPmeyViCAg\n",
    "DQrqs4TsoJXsl5Ag7JWh7IS47Iqk7ZWY7KeAIOuqu+2WiOuLpOqzoCDsnZjsi6zrkJzri6TrqbQg\n",
    "6rOE7KCVIOuztOyViOydhCDqsoDthqDtlZjqs6Ag6rCV7ZmUDQo8aHR0cHM6Ly9hY2NvdW50cy5n\n",
    "b29nbGUuY29tL0FjY291bnRDaG9vc2VyP0VtYWlsPWJvc2VvbjEyMzRAZ21haWwuY29tJmNvbnRp\n",
    "bnVlPWh0dHBzOi8vbXlhY2NvdW50Lmdvb2dsZS5jb20vc2VjdXJlLWFjY291bnQ/dXRtX3NvdXJj\n",
    "ZSUzRGVtYWlsJTI2dXRtX21lZGl1bSUzRGVtYWlsJTI2dXRtX2NhbXBhaWduJTNEcGglMjZzcmMl\n",
    "M0QxNCUyNmFuZWlkJTNELTMyNjQxMjcxMzgyOTI5Mjg0OTU+7ZWY7Iuc6riwDQrrsJTrno3ri4jr\n",
    "i6QuDQrsnbQg7J2066mU7J287J2AIEdvb2dsZSDqs4TsoJUg67CPIOyEnOu5hOyKpOydmCDspJHs\n",
    "mpTtlZwg67OA6rK97IKs7ZWt7J2EIOyVjOugpOuTnOumrOq4sCDsnITtlbQgIA0K67Cc7Iah65CY\n",
    "7JeI7Iq164uI64ukLg0KwqkgMjAyNCBHb29nbGUgTExDLCAxNjAwIEFtcGhpdGhlYXRyZSBQYXJr\n",
    "d2F5LCBNb3VudGFpbiBWaWV3LCBDQSA5NDA0MywgVVNBDQo=\n",
    "--000000000000941fee062413a260\n",
    "Content-Type: text/html; charset=\"UTF-8\"\n",
    "Content-Transfer-Encoding: quoted-printable\n",
    "\n",
    "<!DOCTYPE html><html lang=3D\"en\"><head><meta name=3D\"format-detection\" cont=\n",
    "ent=3D\"email=3Dno\"/><meta name=3D\"format-detection\" content=3D\"date=3Dno\"/>=\n",
    "<style nonce=3D\"h4l-Dl5kqb-G8i-QwcDnzA\">.awl a {color: #FFFFFF; text-decora=\n",
    "tion: none;} .abml a {color: #000000; font-family: Roboto-Medium,Helvetica,=\n",
    "Arial,sans-serif; font-weight: bold; text-decoration: none;} .adgl a {color=\n",
    ": rgba(0, 0, 0, 0.87); text-decoration: none;} .afal a {color: #b0b0b0; tex=\n",
    "t-decoration: none;} @media screen and (min-width: 600px) {.v2sp {padding: =\n",
    "6px 30px 0px;} .v2rsp {padding: 0px 10px;}} @media screen and (min-width: 6=\n",
    "00px) {.mdv2rw {padding: 40px 40px;}} </style><link href=3D\"//fonts.googlea=\n",
    "pis.com/css?family=3DGoogle+Sans\" rel=3D\"stylesheet\" type=3D\"text/css\" nonc=\n",
    "e=3D\"h4l-Dl5kqb-G8i-QwcDnzA\"/></head><body style=3D\"margin: 0; padding: 0;\"=\n",
    " bgcolor=3D\"#FFFFFF\"><table width=3D\"100%\" height=3D\"100%\" style=3D\"min-wid=\n",
    "th: 348px;\" border=3D\"0\" cellspacing=3D\"0\" cellpadding=3D\"0\" lang=3D\"en\"><t=\n",
    "r height=3D\"32\" style=3D\"height: 32px;\"><td></td></tr><tr align=3D\"center\">=\n",
    "<td><div itemscope itemtype=3D\"//schema.org/EmailMessage\"><div itemprop=3D\"=\n",
    "action\" itemscope itemtype=3D\"//schema.org/ViewAction\"><link itemprop=3D\"ur=\n",
    "l\" href=3D\"https://accounts.google.com/AccountChooser?Email=3Dboseon1234@gm=\n",
    "ail.com&amp;continue=3Dhttps://myaccount.google.com/secure-account?utm_sour=\n",
    "ce%3Demail%26utm_medium%3Demail%26utm_campaign%3Dph%26src%3D14%26aneid%3D-3=\n",
    "264127138292928495\"/><meta itemprop=3D\"name\" content=3D\"=ED=99=9C=EB=8F=99 =\n",
    "=EA=B2=80=ED=86=A0\"/></div></div><table border=3D\"0\" cellspacing=3D\"0\" cell=\n",
    "padding=3D\"0\" style=3D\"padding-bottom: 20px; max-width: 516px; min-width: 2=\n",
    "20px;\"><tr><td width=3D\"8\" style=3D\"width: 8px;\"></td><td><div style=3D\"bor=\n",
    "der-style: solid; border-width: thin; border-color:#dadce0; border-radius: =\n",
    "8px; padding: 40px 20px;\" align=3D\"center\" class=3D\"mdv2rw\"><img src=3D\"htt=\n",
    "ps://www.gstatic.com/images/branding/googlelogo/2x/googlelogo_color_74x24dp=\n",
    ".png\" width=3D\"74\" height=3D\"24\" aria-hidden=3D\"true\" style=3D\"margin-botto=\n",
    "m: 16px;\" alt=3D\"Google\"><div style=3D\"font-family: &#39;Google Sans&#39;,R=\n",
    "oboto,RobotoDraft,Helvetica,Arial,sans-serif;border-bottom: thin solid #dad=\n",
    "ce0; color: rgba(0,0,0,0.87); line-height: 32px; padding-bottom: 24px;text-=\n",
    "align: center; word-break: break-word;\"><div style=3D\"font-size: 24px;\">=EA=\n",
    "=B3=84=EC=A0=95 =EB=B3=B5=EA=B5=AC =EC=99=84=EB=A3=8C </div><table align=3D=\n",
    "\"center\" style=3D\"margin-top:8px;\"><tr style=3D\"line-height: normal;\"><td a=\n",
    "lign=3D\"right\" style=3D\"padding-right:8px;\"><img width=3D\"20\" height=3D\"20\"=\n",
    " style=3D\"width: 20px; height: 20px; vertical-align: sub; border-radius: 50=\n",
    "%;;\" src=3D\"https://lh3.googleusercontent.com/a/ACg8ocKxeWE-fGVRglhsXT7QCYn=\n",
    "5RIcmsRK8yNmx9Wgg8NkAcJfilQ=3Ds96-c\" alt=3D\"\"></td><td><a style=3D\"font-fam=\n",
    "ily: &#39;Google Sans&#39;,Roboto,RobotoDraft,Helvetica,Arial,sans-serif;co=\n",
    "lor: rgba(0,0,0,0.87); font-size: 14px; line-height: 20px;\">boseon1234@gmai=\n",
    "l.com</a></td></tr></table> </div><div style=3D\"font-family: Roboto-Regular=\n",
    ",Helvetica,Arial,sans-serif; font-size: 14px; color: rgba(0,0,0,0.87); line=\n",
    "-height: 20px;padding-top: 20px; text-align: left;\"><h3>=EA=B3=84=EC=A0=95=\n",
    "=EC=9D=84 =EB=B3=B5=EA=B5=AC=ED=95=98=EC=8B=A0 =EA=B2=83=EC=9D=84 =EC=B6=95=\n",
    "=ED=95=98=EB=93=9C=EB=A6=BD=EB=8B=88=EB=8B=A4</h3>=EB=8B=A4=EB=A5=B8 =EC=82=\n",
    "=AC=EB=9E=8C=EC=9D=B4 =EA=B3=84=EC=A0=95 =EC=84=A4=EC=A0=95=EC=9D=84 =EB=B3=\n",
    "=80=EA=B2=BD=ED=95=98=EC=97=AC =EA=B7=B8=EB=8F=99=EC=95=88 =EA=B3=84=EC=A0=\n",
    "=95=EC=97=90 =EC=95=A1=EC=84=B8=EC=8A=A4=ED=95=98=EC=A7=80 =EB=AA=BB=ED=96=\n",
    "=88=EB=8B=A4=EA=B3=A0 =EC=9D=98=EC=8B=AC=EB=90=9C=EB=8B=A4=EB=A9=B4 <a href=\n",
    "=3D\"https://accounts.google.com/AccountChooser?Email=3Dboseon1234@gmail.com=\n",
    "&amp;continue=3Dhttps://myaccount.google.com/secure-account?utm_source%3Dem=\n",
    "ail%26utm_medium%3Demail%26utm_campaign%3Dph%26src%3D14%26aneid%3D-32641271=\n",
    "38292928495\" style=3D\"text-decoration: none; color: #4285F4;\" target=3D\"_bl=\n",
    "ank\">=EA=B3=84=EC=A0=95 =EB=B3=B4=EC=95=88=EC=9D=84 =EA=B2=80=ED=86=A0=ED=\n",
    "=95=98=EA=B3=A0 =EA=B0=95=ED=99=94</a>=ED=95=98=EC=8B=9C=EA=B8=B0 =EB=B0=94=\n",
    "=EB=9E=8D=EB=8B=88=EB=8B=A4.</div></div><div style=3D\"text-align: left;\"><d=\n",
    "iv style=3D\"font-family: Roboto-Regular,Helvetica,Arial,sans-serif;color: r=\n",
    "gba(0,0,0,0.54); font-size: 11px; line-height: 18px; padding-top: 12px; tex=\n",
    "t-align: center;\"><div>=EC=9D=B4 =EC=9D=B4=EB=A9=94=EC=9D=BC=EC=9D=80 Googl=\n",
    "e =EA=B3=84=EC=A0=95 =EB=B0=8F =EC=84=9C=EB=B9=84=EC=8A=A4=EC=9D=98 =EC=A4=\n",
    "=91=EC=9A=94=ED=95=9C =EB=B3=80=EA=B2=BD=EC=82=AC=ED=95=AD=EC=9D=84 =EC=95=\n",
    "=8C=EB=A0=A4=EB=93=9C=EB=A6=AC=EA=B8=B0 =EC=9C=84=ED=95=B4 =EB=B0=9C=EC=86=\n",
    "=A1=EB=90=98=EC=97=88=EC=8A=B5=EB=8B=88=EB=8B=A4.</div><div style=3D\"direct=\n",
    "ion: ltr;\">&copy; 2024 Google LLC, <a class=3D\"afal\" style=3D\"font-family: =\n",
    "Roboto-Regular,Helvetica,Arial,sans-serif;color: rgba(0,0,0,0.54); font-siz=\n",
    "e: 11px; line-height: 18px; padding-top: 12px; text-align: center;\">1600 Am=\n",
    "phitheatre Parkway, Mountain View, CA 94043, USA</a></div></div></div></td>=\n",
    "<td width=3D\"8\" style=3D\"width: 8px;\"></td></tr></table></td></tr><tr heigh=\n",
    "t=3D\"32\" style=3D\"height: 32px;\"><td></td></tr></table></body></html>\n",
    "--000000000000941fee062413a260--\"\"\"  "
   ]
  },
  {
   "cell_type": "code",
   "execution_count": 37,
   "metadata": {},
   "outputs": [
    {
     "name": "stdout",
     "output_type": "stream",
     "text": [
      "person='Google' email='no-reply@accounts.google.com' subject='Google 계정 복구 완료' summary='This email notifies the recipient that their Google account recovery has been completed. It suggests checking and securing the account if there are any suspicions of unauthorized access.' date='Wed, 09 Oct 2024 23:30:10 GMT' recipient='boseon1234@gmail.com'\n"
     ]
    }
   ],
   "source": [
    "from langchain_openai import ChatOpenAI\n",
    "from langchain_core.output_parsers import PydanticOutputParser\n",
    "from pydantic import BaseModel, Field\n",
    "from langchain_core.prompts import PromptTemplate\n",
    "\n",
    "class EmailSummary(BaseModel):\n",
    "    person: str = Field(description=\"The sender of the email\")\n",
    "    email: str = Field(description=\"The email address of the sender\")\n",
    "    subject: str = Field(description=\"The subject of the email\")\n",
    "    summary: str = Field(description=\"A summary of the email content\")\n",
    "    date: str = Field(description=\"The meeting date and time mentioned in the email\")\n",
    "    recipient: str = Field(description=\"The recipient of the email\")\n",
    "\n",
    "parser = PydanticOutputParser(pydantic_object=EmailSummary)\n",
    "llm = ChatOpenAI(temperature=0, model_name=\"gpt-4o\")\n",
    "\n",
    "prompt = PromptTemplate.from_template(\n",
    "    \"Extract key details from the email:\\n\\n{email_conversation}\\n\\n{format}\"\n",
    ").partial(format=parser.get_format_instructions())\n",
    "\n",
    "chain = prompt | llm | parser\n",
    "\n",
    "response = chain.invoke({\"email_conversation\": email_conversation})\n",
    "\n",
    "print(response)"
   ]
  },
  {
   "cell_type": "code",
   "execution_count": 41,
   "metadata": {},
   "outputs": [
    {
     "name": "stdout",
     "output_type": "stream",
     "text": [
      "person='Google' email='no-reply@accounts.google.com' subject='Google 계정 복구 완료' summary='This email is a notification from Google confirming the completion of an account recovery process. It suggests checking and securing the account if there are any suspicions of unauthorized access.' date='Wed, 09 Oct 2024 23:30:10 GMT' recipient='boseon1234@gmail.com'\n"
     ]
    }
   ],
   "source": [
    "from langchain_openai import ChatOpenAI\n",
    "from langchain_core.output_parsers import PydanticOutputParser\n",
    "from pydantic import BaseModel, Field\n",
    "from langchain_core.prompts import PromptTemplate\n",
    "\n",
    "# Define the Pydantic model for the output\n",
    "class EmailSummary(BaseModel):\n",
    "    person: str = Field(description=\"The sender of the email\")\n",
    "    email: str = Field(description=\"The email address of the sender\")\n",
    "    subject: str = Field(description=\"The subject of the email\")\n",
    "    summary: str = Field(description=\"A summary of the email content\")\n",
    "    date: str = Field(description=\"The meeting date and time mentioned in the email content\")\n",
    "    recipient: str = Field(description=\"The recipient of the email\")\n",
    "\n",
    "# Initialize the parser and the LLM\n",
    "parser = PydanticOutputParser(pydantic_object=EmailSummary)\n",
    "llm = ChatOpenAI(temperature=0, model_name=\"gpt-4o\")\n",
    "\n",
    "# Load the email content from file\n",
    "with open(r\"C:\\Users\\user\\Desktop\\2024년 2학기\\2024비트특강\\practice_2\\email.txt\", \"r\", encoding=\"cp949\") as file:\n",
    "    email_conversation = file.read()\n",
    "\n",
    "# Define the prompt with format instructions\n",
    "prompt = PromptTemplate.from_template(\n",
    "    \"Extract key details from the email:\\n\\n{email_conversation}\\n\\n{format}\"\n",
    ").partial(format=parser.get_format_instructions())\n",
    "\n",
    "# Combine the prompt, LLM, and parser into a chain\n",
    "chain = prompt | llm | parser\n",
    "\n",
    "# Execute the chain with the email content and print the response\n",
    "response = chain.invoke({\"email_conversation\": email_conversation})\n",
    "\n",
    "print(response)\n"
   ]
  }
 ],
 "metadata": {
  "kernelspec": {
   "display_name": "Anaconda (PyTorch)",
   "language": "python",
   "name": "base"
  },
  "language_info": {
   "codemirror_mode": {
    "name": "ipython",
    "version": 3
   },
   "file_extension": ".py",
   "mimetype": "text/x-python",
   "name": "python",
   "nbconvert_exporter": "python",
   "pygments_lexer": "ipython3",
   "version": "3.12.4"
  }
 },
 "nbformat": 4,
 "nbformat_minor": 2
}
