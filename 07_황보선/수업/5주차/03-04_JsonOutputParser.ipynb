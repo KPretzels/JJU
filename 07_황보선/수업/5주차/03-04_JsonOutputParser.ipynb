{
 "cells": [
  {
   "cell_type": "code",
   "execution_count": 33,
   "metadata": {},
   "outputs": [],
   "source": [
    "import os\n",
    "\n",
main
    "os.environ['OPENAI_API_KEY']=''\n",
    "os.environ['LANGCHAIN_TRACING_V2']=''\n",
    "os.environ['LANGCHAIN_ENDPOINT']=''\n",
    "os.environ['LANGCHAIN_API_KEY']=''\n",

    "os.environ['OPENAI_API_KEY']='",
    "os.environ['LANGCHAIN_TRACING_V2']='",
    "os.environ['LANGCHAIN_ENDPOINT']='",
    "os.environ['LANGCHAIN_API_KEY']='",
main
    "os.environ['LANGCHAIN_PROJECT']=''"
   ]
  },
  {
   "cell_type": "code",
   "execution_count": 34,
   "metadata": {},
   "outputs": [],
   "source": [
    "from langchain_core.prompts import ChatPromptTemplate\n",
    "from langchain_core.output_parsers import JsonOutputParser\n",
    "from langchain_openai import ChatOpenAI\n",
    "from pydantic import BaseModel, Field"
   ]
  },
  {
   "cell_type": "code",
   "execution_count": 35,
   "metadata": {},
   "outputs": [],
   "source": [
    "model = ChatOpenAI(temperature=0, model_name='gpt-4o')"
   ]
  },
  {
   "cell_type": "code",
   "execution_count": 36,
   "metadata": {},
   "outputs": [],
   "source": [
    "class Topic(BaseModel):\n",
    "    description: str = Field(description='주제에 대한 간결한 설명')\n",
    "    hashtags: str = Field(description='해시태그 형식의 키워드(2개 이상)')"
   ]
  },
  {
   "cell_type": "code",
   "execution_count": 37,
   "metadata": {},
   "outputs": [],
   "source": [
    "parser = JsonOutputParser(pydantic_object=Topic)"
   ]
  },
  {
   "cell_type": "code",
   "execution_count": 38,
   "metadata": {},
   "outputs": [],
   "source": [
    "prompt = ChatPromptTemplate.from_messages(\n",
    "    [\n",
    "        ('system', '당신은 친절한 ai 어시스턴트 입니다. 질문에 간결하게 답변하세요.'),\n",
    "        ('user', '#Format: {format_instructions}\\n\\n#Question: {question}'),\n",
    "    ]\n",
    ")\n",
    "\n",
    "prompt = prompt.partial(format_instructions=parser.get_format_instructions())"
   ]
  },
  {
   "cell_type": "code",
   "execution_count": 39,
   "metadata": {},
   "outputs": [],
   "source": [
    "chain = prompt | model | parser"
   ]
  },
  {
   "cell_type": "code",
   "execution_count": 40,
   "metadata": {},
   "outputs": [],
   "source": [
    "question = \"지구 온난화에 대해 알려주세요. 온난화에 대한 설명은 'description'에. 관련 키워드는 'hashtags'에 담아주세요.\"\n",
    "answer = chain.invoke({'question':question})"
   ]
  },
  {
   "cell_type": "code",
   "execution_count": 41,
   "metadata": {},
   "outputs": [
    {
     "data": {
      "text/plain": [
       "{'description': '지구 온난화는 대기 중 온실가스 농도의 증가로 인해 지구의 평균 기온이 상승하는 현상입니다. 이는 기후 변화, 해수면 상승, 생태계 변화 등을 초래합니다.',\n",
       " 'hashtags': '#지구온난화 #기후변화 #온실가스'}"
      ]
     },
     "execution_count": 41,
     "metadata": {},
     "output_type": "execute_result"
    }
   ],
   "source": [
    "answer"
   ]
  },
  {
   "cell_type": "code",
   "execution_count": 42,
   "metadata": {},
   "outputs": [],
   "source": [
    "# 질의 작성(pydantic 사용 x)\n",
    "question = \"지구 온난화에 대해 알려주세요. 온난화에 대한 설명은 'description'에. 관련 키워드는 'hashtags'에 담아주세요.\"\n",
    "\n",
    "# Json 출력 파서 초기화\n",
    "parser = JsonOutputParser()\n",
    "\n",
    "# 프롬프트 템플릿을 설정합니다.\n",
    "prompt = ChatPromptTemplate.from_messages(\n",
    "    [\n",
    "        ('system', '당신은 친절한 ai 어시스턴트 입니다. 질문에 간결하게 답변하세요.'),\n",
    "        ('user', '#Format: {format_instructions}\\n\\n#Question: {question}'),\n",
    "    ]\n",
    ")\n",
    "\n",
    "# 지시사항을 프롬프트에 주입합니다.\n",
    "prompt = prompt.partial(format_instructions=parser.get_format_instructions())\n",
    "\n",
    "# 프롬프트, 모델, 파서를 연결하는 체인 생성\n",
    "chain = prompt | model | parser\n",
    "\n",
    "# 체인을 호출하여 쿼리 실행\n",
    "response = chain.invoke({'question': question})"
   ]
  },
  {
   "cell_type": "code",
   "execution_count": 43,
   "metadata": {},
   "outputs": [
    {
     "data": {
      "text/plain": [
       "{'description': '지구 온난화는 대기 중 온실가스 농도의 증가로 인해 지구의 평균 기온이 상승하는 현상입니다. 이는 주로 화석 연료의 연소, 산림 파괴, 산업 활동 등 인간의 활동에 의해 촉발됩니다. 지구 온난화는 극지방의 빙하 감소, 해수면 상승, 기후 패턴 변화 등 다양한 환경적 영향을 초래하며, 생태계와 인간 사회에 심각한 위협을 가하고 있습니다.',\n",
       " 'hashtags': ['#지구온난화', '#온실가스', '#기후변화', '#환경보호', '#지속가능성']}"
      ]
     },
     "execution_count": 43,
     "metadata": {},
     "output_type": "execute_result"
    }
   ],
   "source": [
    "response"
   ]
  }
 ],
 "metadata": {
  "kernelspec": {
   "display_name": "Anaconda (PyTorch)",
   "language": "python",
   "name": "base"
  },
  "language_info": {
   "codemirror_mode": {
    "name": "ipython",
    "version": 3
   },
   "file_extension": ".py",
   "mimetype": "text/x-python",
   "name": "python",
   "nbconvert_exporter": "python",
   "pygments_lexer": "ipython3",
   "version": "3.12.4"
  }
 },
 "nbformat": 4,
 "nbformat_minor": 2
}
