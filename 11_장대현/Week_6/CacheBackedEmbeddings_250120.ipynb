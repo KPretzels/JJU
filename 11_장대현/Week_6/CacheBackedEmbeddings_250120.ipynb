{
  "nbformat": 4,
  "nbformat_minor": 0,
  "metadata": {
    "colab": {
      "provenance": []
    },
    "kernelspec": {
      "name": "python3",
      "display_name": "Python 3"
    },
    "language_info": {
      "name": "python"
    }
  },
  "cells": [
    {
      "cell_type": "markdown",
      "source": [
        "# 비휘발성 데이터 생성"
      ],
      "metadata": {
        "id": "Xp-_qTVrIvr8"
      }
    },
    {
      "cell_type": "code",
      "execution_count": null,
      "metadata": {
        "id": "qxUtoTETH1bI"
      },
      "outputs": [],
      "source": [
        "!pip install -qU langchain_openai langchain_community faiss-cpu"
      ]
    },
    {
      "cell_type": "code",
      "source": [
        "from langchain.storage import LocalFileStore\n",
        "from langchain_openai import OpenAIEmbeddings\n",
        "from langchain.embeddings import CacheBackedEmbeddings\n",
        "from langchain.vectorstores import FAISS"
      ],
      "metadata": {
        "id": "UQlKT8P8JqGy"
      },
      "execution_count": null,
      "outputs": []
    },
    {
      "cell_type": "code",
      "source": [
        "# OpenAI 임베딩을 사용하여 기본 임베딩 설정\n",
        "embedding = OpenAIEmbeddings()\n",
        "\n",
        "# 로컬 파일 저장소 설정\n",
        "store = LocalFileStore(\"./cache/\")\n",
        "\n",
        "# 캐시를 지원하는 임베딩 생성\n",
        "cached_embedder = CacheBackedEmbeddings.from_bytes_store(\n",
        "    underlying_embeddings=embedding,\n",
        "    document_embedding_cache=store,\n",
        "    namespace=embedding.model,  # 기본 임베딩과 저장소를 사용하여 캐시 지원 임베딩을 생성\n",
        ")"
      ],
      "metadata": {
        "id": "4czWwhI5JuLo"
      },
      "execution_count": null,
      "outputs": []
    },
    {
      "cell_type": "code",
      "source": [
        "# store에서 키들을 순차적으로 가져옵니다.\n",
        "list(store.yield_keys())"
      ],
      "metadata": {
        "colab": {
          "base_uri": "https://localhost:8080/"
        },
        "id": "7KgJR8A5Lxuy",
        "outputId": "baf9a2cc-1c8c-4249-a2b8-a3d30681bb4f"
      },
      "execution_count": null,
      "outputs": [
        {
          "output_type": "execute_result",
          "data": {
            "text/plain": [
              "[]"
            ]
          },
          "metadata": {},
          "execution_count": 5
        }
      ]
    },
    {
      "cell_type": "code",
      "source": [
        "from langchain.document_loaders import TextLoader\n",
        "from langchain_text_splitters import CharacterTextSplitter\n",
        "\n",
        "# 문서 로드\n",
        "raw_documents = TextLoader(\"/content/appendix-keywords.txt\").load()\n",
        "\n",
        "# 문자 단위로 텍스트 분할 설정\n",
        "text_splitter = CharacterTextSplitter(chunk_size=1000, chunk_overlap=0)\n",
        "\n",
        "# 문서 분할\n",
        "documents = text_splitter.split_documents(raw_documents)"
      ],
      "metadata": {
        "id": "p1UwS6mJMOta"
      },
      "execution_count": null,
      "outputs": []
    },
    {
      "cell_type": "code",
      "source": [
        "# 코드 실행 시간을 측정\n",
        "%time db = FAISS.from_documents(documents, cached_embedder)  # 문서로부터 FAISS 데이터베이스 생성"
      ],
      "metadata": {
        "colab": {
          "base_uri": "https://localhost:8080/"
        },
        "id": "paB3qP7ONAv7",
        "outputId": "2994dfb4-04b1-4ce1-96cf-ea322dcc5873"
      },
      "execution_count": null,
      "outputs": [
        {
          "output_type": "stream",
          "name": "stdout",
          "text": [
            "CPU times: user 453 ms, sys: 57.7 ms, total: 510 ms\n",
            "Wall time: 1.74 s\n"
          ]
        }
      ]
    },
    {
      "cell_type": "code",
      "source": [
        "# 캐싱된 임베딩을 사용하여 FAISS 데이터베이스 생성\n",
        "%time db2 = FAISS.from_documents(documents, cached_embedder)"
      ],
      "metadata": {
        "colab": {
          "base_uri": "https://localhost:8080/"
        },
        "id": "DhD2yS4bNAtj",
        "outputId": "ddf4b79e-9b7d-42c1-8c6d-09d6ea8ed2b8"
      },
      "execution_count": null,
      "outputs": [
        {
          "output_type": "stream",
          "name": "stdout",
          "text": [
            "CPU times: user 11 ms, sys: 772 µs, total: 11.8 ms\n",
            "Wall time: 11.6 ms\n"
          ]
        }
      ]
    },
    {
      "cell_type": "markdown",
      "source": [
        "# 휘발성 DB 생성"
      ],
      "metadata": {
        "id": "_pQWRJLhTDZC"
      }
    },
    {
      "cell_type": "code",
      "source": [
        "from langchain.embeddings import CacheBackedEmbeddings\n",
        "from langchain.storage import InMemoryByteStore\n",
        "\n",
        "store = InMemoryByteStore()  # 메모리 내 바이트 저장소 생성\n",
        "\n",
        "# 캐시 지원 임베딩 생성\n",
        "cached_embedder = CacheBackedEmbeddings.from_bytes_store(\n",
        "    embedding, store, namespace=embedding.model\n",
        ")"
      ],
      "metadata": {
        "id": "dpYOM0NGNArC"
      },
      "execution_count": null,
      "outputs": []
    },
    {
      "cell_type": "code",
      "source": [
        "from langchain.document_loaders import TextLoader\n",
        "from langchain_text_splitters import CharacterTextSplitter\n",
        "\n",
        "# 문서 로드\n",
        "raw_documents = TextLoader(\"/content/appendix-keywords.txt\").load()\n",
        "\n",
        "# 문자 단위로 텍스트 분할 설정\n",
        "text_splitter = CharacterTextSplitter(chunk_size=1000, chunk_overlap=0)\n",
        "\n",
        "# 문서 분할\n",
        "documents = text_splitter.split_documents(raw_documents)"
      ],
      "metadata": {
        "id": "WuRe4HLsNAeC"
      },
      "execution_count": null,
      "outputs": []
    },
    {
      "cell_type": "code",
      "source": [
        "# 코드 실행 시간을 측정\n",
        "%time db = FAISS.from_documents(documents, cached_embedder)  # 문서로부터 FAISS 데이터베이스 생성"
      ],
      "metadata": {
        "colab": {
          "base_uri": "https://localhost:8080/"
        },
        "id": "GBzOplP9ThqU",
        "outputId": "1854a84c-ec7e-4928-c785-746e08791b6b"
      },
      "execution_count": null,
      "outputs": [
        {
          "output_type": "stream",
          "name": "stdout",
          "text": [
            "CPU times: user 58.9 ms, sys: 826 µs, total: 59.8 ms\n",
            "Wall time: 473 ms\n"
          ]
        }
      ]
    },
    {
      "cell_type": "code",
      "source": [
        "# 캐싱된 임베딩을 사용하여 FAISS 데이터베이스 생성\n",
        "%time db2 = FAISS.from_documents(documents, cached_embedder)"
      ],
      "metadata": {
        "colab": {
          "base_uri": "https://localhost:8080/"
        },
        "id": "TZYUShHWTkws",
        "outputId": "6f03c947-ce02-4d07-f5bd-b688f11d6141"
      },
      "execution_count": null,
      "outputs": [
        {
          "output_type": "stream",
          "name": "stdout",
          "text": [
            "CPU times: user 8.94 ms, sys: 0 ns, total: 8.94 ms\n",
            "Wall time: 9.45 ms\n"
          ]
        }
      ]
    }
  ]
}