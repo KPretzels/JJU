{
  "nbformat": 4,
  "nbformat_minor": 0,
  "metadata": {
    "colab": {
      "provenance": []
    },
    "kernelspec": {
      "name": "python3",
      "display_name": "Python 3"
    },
    "language_info": {
      "name": "python"
    }
  },
  "cells": [
    {
      "cell_type": "markdown",
      "source": [
        "## `BM25Retriever` 와` FAISS` 검색기를 결합\n",
        "- BM25: 키워드 유사도\n",
        "- FAISS: 의미기반 유사도"
      ],
      "metadata": {
        "id": "7TOmOVRIwTBI"
      }
    },
    {
      "cell_type": "code",
      "source": [
        "!pip install -qU langchain_openai langchain-community rank_bm25 faiss-cpu"
      ],
      "metadata": {
        "colab": {
          "base_uri": "https://localhost:8080/"
        },
        "id": "qoBT_zhDwN_5",
        "outputId": "c3a197ab-6221-4176-fd9f-06eaf9080c66"
      },
      "execution_count": 2,
      "outputs": [
        {
          "output_type": "stream",
          "name": "stdout",
          "text": [
            "\u001b[?25l   \u001b[90m━━━━━━━━━━━━━━━━━━━━━━━━━━━━━━━━━━━━━━━━\u001b[0m \u001b[32m0.0/54.4 kB\u001b[0m \u001b[31m?\u001b[0m eta \u001b[36m-:--:--\u001b[0m\r\u001b[2K   \u001b[90m━━━━━━━━━━━━━━━━━━━━━━━━━━━━━━━━━━━━━━━━\u001b[0m \u001b[32m54.4/54.4 kB\u001b[0m \u001b[31m4.1 MB/s\u001b[0m eta \u001b[36m0:00:00\u001b[0m\n",
            "\u001b[2K   \u001b[90m━━━━━━━━━━━━━━━━━━━━━━━━━━━━━━━━━━━━━━━━\u001b[0m \u001b[32m2.5/2.5 MB\u001b[0m \u001b[31m31.0 MB/s\u001b[0m eta \u001b[36m0:00:00\u001b[0m\n",
            "\u001b[2K   \u001b[90m━━━━━━━━━━━━━━━━━━━━━━━━━━━━━━━━━━━━━━━━\u001b[0m \u001b[32m27.5/27.5 MB\u001b[0m \u001b[31m36.3 MB/s\u001b[0m eta \u001b[36m0:00:00\u001b[0m\n",
            "\u001b[2K   \u001b[90m━━━━━━━━━━━━━━━━━━━━━━━━━━━━━━━━━━━━━━━━\u001b[0m \u001b[32m1.0/1.0 MB\u001b[0m \u001b[31m39.5 MB/s\u001b[0m eta \u001b[36m0:00:00\u001b[0m\n",
            "\u001b[2K   \u001b[90m━━━━━━━━━━━━━━━━━━━━━━━━━━━━━━━━━━━━━━━━\u001b[0m \u001b[32m412.2/412.2 kB\u001b[0m \u001b[31m26.7 MB/s\u001b[0m eta \u001b[36m0:00:00\u001b[0m\n",
            "\u001b[2K   \u001b[90m━━━━━━━━━━━━━━━━━━━━━━━━━━━━━━━━━━━━━━━━\u001b[0m \u001b[32m1.2/1.2 MB\u001b[0m \u001b[31m41.4 MB/s\u001b[0m eta \u001b[36m0:00:00\u001b[0m\n",
            "\u001b[2K   \u001b[90m━━━━━━━━━━━━━━━━━━━━━━━━━━━━━━━━━━━━━━━━\u001b[0m \u001b[32m50.8/50.8 kB\u001b[0m \u001b[31m3.7 MB/s\u001b[0m eta \u001b[36m0:00:00\u001b[0m\n",
            "\u001b[?25h"
          ]
        }
      ]
    },
    {
      "cell_type": "code",
      "source": [
        "from langchain.retrievers import BM25Retriever, EnsembleRetriever\n",
        "from langchain.vectorstores import FAISS\n",
        "from langchain_openai import OpenAIEmbeddings"
      ],
      "metadata": {
        "id": "kRsDipTHxqNh"
      },
      "execution_count": 3,
      "outputs": []
    },
    {
      "cell_type": "code",
      "source": [
        "doc_list = [\n",
        "    \"I like apples\",\n",
        "    \"I like apple company\",\n",
        "    \"I like apple's iphone\",\n",
        "    \"Apple is my favorite company\",\n",
        "    \"I like apple's ipad\",\n",
        "    \"I like apple's macbook\",\n",
        "]"
      ],
      "metadata": {
        "id": "_J2uOobEwvX5"
      },
      "execution_count": 4,
      "outputs": []
    },
    {
      "cell_type": "code",
      "source": [
        "# bm25 retriever와 faiss retriever를 초기화\n",
        "bm25_retriever = BM25Retriever.from_texts(\n",
        "    doc_list,\n",
        ")\n",
        "bm25_retriever.k = 1  # BM25Retriever의 검색 결과 개수를 1로 설정\n",
        "\n",
        "embedding = OpenAIEmbeddings()  # OpenAI 임베딩을 사용\n",
        "faiss_vectorstore = FAISS.from_texts(\n",
        "    doc_list,\n",
        "    embedding,\n",
        ")\n",
        "faiss_retriever = faiss_vectorstore.as_retriever(search_kwargs = {\"k\": 1})\n",
        "\n",
        "# 앙상블 retriever를 초기화\n",
        "ensemble_retriever = EnsembleRetriever(\n",
        "    retrievers = [bm25_retriever, faiss_retriever],\n",
        "    weights = [0.3, 0.7],\n",
        ")"
      ],
      "metadata": {
        "id": "l9MPS3-Lxoh6"
      },
      "execution_count": 8,
      "outputs": []
    },
    {
      "cell_type": "code",
      "source": [
        "query = \"my favorite fruit is apple\"\n",
        "ensemble_result = ensemble_retriever.invoke(query)\n",
        "bm25_result = bm25_retriever.invoke(query)\n",
        "faiss_result = faiss_retriever.invoke(query)\n",
        "\n",
        "print(\"[Ensemble Retriever]\")\n",
        "for doc in ensemble_result:\n",
        "    print(f\"Content: {doc.page_content}\")\n",
        "    print()\n",
        "\n",
        "print(\"[BM25 Retriever]\") # 단어 기반\n",
        "for doc in bm25_result:\n",
        "    print(f\"Content: {doc.page_content}\")\n",
        "    print()\n",
        "\n",
        "print(\"[FAISS Retriever]\") # 의미 기\n",
        "for doc in faiss_result:\n",
        "    print(f\"Content: {doc.page_content}\")\n",
        "    print()"
      ],
      "metadata": {
        "colab": {
          "base_uri": "https://localhost:8080/"
        },
        "id": "_nwjoHrIzVvp",
        "outputId": "6bb7c348-6339-4822-a13d-785bfb7c6ef3"
      },
      "execution_count": 9,
      "outputs": [
        {
          "output_type": "stream",
          "name": "stdout",
          "text": [
            "[Ensemble Retriever]\n",
            "Content: I like apples\n",
            "\n",
            "Content: Apple is my favorite company\n",
            "\n",
            "[BM25 Retriever]\n",
            "Content: Apple is my favorite company\n",
            "\n",
            "[FAISS Retriever]\n",
            "Content: I like apples\n",
            "\n"
          ]
        }
      ]
    },
    {
      "cell_type": "code",
      "source": [
        "query = \"Apple company makes my favorite iphone\"\n",
        "ensemble_result = ensemble_retriever.invoke(query)\n",
        "bm25_result = bm25_retriever.invoke(query)\n",
        "faiss_result = faiss_retriever.invoke(query)\n",
        "\n",
        "print(\"[Ensemble Retriever]\")\n",
        "for doc in ensemble_result:\n",
        "    print(f\"Content: {doc.page_content}\")\n",
        "    print()\n",
        "\n",
        "print(\"[BM25 Retriever]\")\n",
        "for doc in bm25_result:\n",
        "    print(f\"Content: {doc.page_content}\")\n",
        "    print()\n",
        "\n",
        "print(\"[FAISS Retriever]\")\n",
        "for doc in faiss_result:\n",
        "    print(f\"Content: {doc.page_content}\")\n",
        "    print()"
      ],
      "metadata": {
        "colab": {
          "base_uri": "https://localhost:8080/"
        },
        "id": "uPOpraOg5Esj",
        "outputId": "04c29e47-9a1e-4249-b3a7-a9d961b4aae3"
      },
      "execution_count": 10,
      "outputs": [
        {
          "output_type": "stream",
          "name": "stdout",
          "text": [
            "[Ensemble Retriever]\n",
            "Content: I like apple's iphone\n",
            "\n",
            "Content: Apple is my favorite company\n",
            "\n",
            "[BM25 Retriever]\n",
            "Content: Apple is my favorite company\n",
            "\n",
            "[FAISS Retriever]\n",
            "Content: I like apple's iphone\n",
            "\n"
          ]
        }
      ]
    },
    {
      "cell_type": "code",
      "source": [
        "from langchain_core.runnables import ConfigurableField\n",
        "\n",
        "\n",
        "ensemble_retriever = EnsembleRetriever(\n",
        "    # 리트리버 목록을 설정. 여기서는 bm25_retriever와 faiss_retriever를 사용\n",
        "    retrievers=[bm25_retriever, faiss_retriever],\n",
        ").configurable_fields(\n",
        "    weights=ConfigurableField(\n",
        "        # 검색 매개변수의 고유 식별자를 설정\n",
        "        id=\"ensemble_weights\",\n",
        "        # 검색 매개변수의 이름을 설정\n",
        "        name=\"Ensemble Weights\",\n",
        "        # 검색 매개변수에 대한 설명을 작성\n",
        "        description=\"Ensemble Weights\",\n",
        "    )\n",
        ")"
      ],
      "metadata": {
        "id": "Pp_YziTm6wRb"
      },
      "execution_count": 11,
      "outputs": []
    },
    {
      "cell_type": "code",
      "source": [
        "config = {\"configurable\": {\"ensemble_weights\": [0.3, 0.7]}}\n",
        "\n",
        "# config 매개변수를 사용하여 검색 설정을 지정\n",
        "docs = ensemble_retriever.invoke(\"my favorite fruit is apple\", config = config)\n",
        "docs"
      ],
      "metadata": {
        "colab": {
          "base_uri": "https://localhost:8080/"
        },
        "id": "A01XNzOa7TLW",
        "outputId": "494a26f4-667c-494b-9ff2-72c841b9b74e"
      },
      "execution_count": 12,
      "outputs": [
        {
          "output_type": "execute_result",
          "data": {
            "text/plain": [
              "[Document(id='ed9d6edd-62dd-49fc-b180-cfb3c14515c3', metadata={}, page_content='I like apples'),\n",
              " Document(metadata={}, page_content='Apple is my favorite company')]"
            ]
          },
          "metadata": {},
          "execution_count": 12
        }
      ]
    },
    {
      "cell_type": "code",
      "source": [
        "config = {\"configurable\": {\"ensemble_weights\": [0.3, 0.7]}}\n",
        "\n",
        "# config 매개변수를 사용하여 검색 설정을 지정\n",
        "docs = ensemble_retriever.invoke(\"my favorite fruit is apple\", config = config)\n",
        "docs"
      ],
      "metadata": {
        "colab": {
          "base_uri": "https://localhost:8080/"
        },
        "id": "UVKDWuD77nBE",
        "outputId": "d9b4128b-4f8d-41ba-bd70-eb340027270b"
      },
      "execution_count": 13,
      "outputs": [
        {
          "output_type": "execute_result",
          "data": {
            "text/plain": [
              "[Document(id='ed9d6edd-62dd-49fc-b180-cfb3c14515c3', metadata={}, page_content='I like apples'),\n",
              " Document(metadata={}, page_content='Apple is my favorite company')]"
            ]
          },
          "metadata": {},
          "execution_count": 13
        }
      ]
    }
  ]
}