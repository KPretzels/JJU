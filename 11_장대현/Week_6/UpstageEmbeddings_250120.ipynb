{
  "nbformat": 4,
  "nbformat_minor": 0,
  "metadata": {
    "colab": {
      "provenance": []
    },
    "kernelspec": {
      "name": "python3",
      "display_name": "Python 3"
    },
    "language_info": {
      "name": "python"
    }
  },
  "cells": [
    {
      "cell_type": "code",
      "source": [
        "!pip install -qU langchain_upstage"
      ],
      "metadata": {
        "id": "FXBZORS4pwWC"
      },
      "execution_count": 5,
      "outputs": []
    },
    {
      "cell_type": "code",
      "source": [
        "texts = [\n",
        "    \"안녕, 만나서 반가워.\",\n",
        "    \"LangChain simplifies the process of building applications with large language models\",\n",
        "    \"랭체인 한국어 튜토리얼은 LangChain의 공식 문서, cookbook 및 다양한 실용 예제를 바탕으로 하여 사용자가 LangChain을 더 쉽고 효과적으로 활용할 수 있도록 구성되어 있습니다. \",\n",
        "    \"LangChain은 초거대 언어모델로 애플리케이션을 구축하는 과정을 단순화합니다.\",\n",
        "    \"Retrieval-Augmented Generation (RAG) is an effective technique for improving AI responses.\",\n",
        "]"
      ],
      "metadata": {
        "id": "UmTCvglloduq"
      },
      "execution_count": 6,
      "outputs": []
    },
    {
      "cell_type": "code",
      "source": [
        "from langchain_upstage import UpstageEmbeddings\n",
        "\n",
        "# 쿼리 전용 임베딩 모델\n",
        "query_embeddings = UpstageEmbeddings(model=\"solar-embedding-1-large-query\")\n",
        "\n",
        "# 문장 전용 임베딩 모델\n",
        "passage_embeddings = UpstageEmbeddings(model=\"solar-embedding-1-large-passage\")\n"
      ],
      "metadata": {
        "id": "586rGxbwp516"
      },
      "execution_count": 7,
      "outputs": []
    },
    {
      "cell_type": "code",
      "source": [
        "# 쿼리 임베딩\n",
        "embedded_query = query_embeddings.embed_query(\"LangChain 에 대해서 상세히 알려주세요.\")\n",
        "\n",
        "# 임베딩 차원 출력\n",
        "len(embedded_query)"
      ],
      "metadata": {
        "colab": {
          "base_uri": "https://localhost:8080/"
        },
        "id": "6Tl7LH_4qVPc",
        "outputId": "54b7bb4c-9058-43b1-a5d2-68267baaadc0"
      },
      "execution_count": 8,
      "outputs": [
        {
          "output_type": "execute_result",
          "data": {
            "text/plain": [
              "4096"
            ]
          },
          "metadata": {},
          "execution_count": 8
        }
      ]
    },
    {
      "cell_type": "code",
      "source": [
        "# 문서 임베딩\n",
        "embedded_documents = passage_embeddings.embed_documents(texts)"
      ],
      "metadata": {
        "id": "Qyw3Ju92qbVG"
      },
      "execution_count": 9,
      "outputs": []
    },
    {
      "cell_type": "code",
      "source": [
        "import numpy as np\n",
        "\n",
        "# 질문(embedded_query): LangChain 에 대해서 알려주세요.\n",
        "similarity = np.array(embedded_query) @ np.array(embedded_documents).T\n",
        "\n",
        "# 유사도 기준 내림차순 정렬\n",
        "sorted_idx = (np.array(embedded_query) @ np.array(embedded_documents).T).argsort()[::-1]\n",
        "\n",
        "# 결과 출력\n",
        "print(\"[Query] LangChain 에 대해서 알려주세요.\\n====================================\")\n",
        "for i, idx in enumerate(sorted_idx):\n",
        "    print(f\"[{i}] 유사도: {similarity[idx]:.3f} | {texts[idx]}\")\n",
        "    print()"
      ],
      "metadata": {
        "colab": {
          "base_uri": "https://localhost:8080/"
        },
        "id": "YOLjOke9qhaP",
        "outputId": "56aef0c5-ce2e-47ba-da40-5abb41ddab42"
      },
      "execution_count": 10,
      "outputs": [
        {
          "output_type": "stream",
          "name": "stdout",
          "text": [
            "[Query] LangChain 에 대해서 알려주세요.\n",
            "====================================\n",
            "[0] 유사도: 0.487 | LangChain은 초거대 언어모델로 애플리케이션을 구축하는 과정을 단순화합니다.\n",
            "\n",
            "[1] 유사도: 0.465 | LangChain simplifies the process of building applications with large language models\n",
            "\n",
            "[2] 유사도: 0.432 | 랭체인 한국어 튜토리얼은 LangChain의 공식 문서, cookbook 및 다양한 실용 예제를 바탕으로 하여 사용자가 LangChain을 더 쉽고 효과적으로 활용할 수 있도록 구성되어 있습니다. \n",
            "\n",
            "[3] 유사도: 0.194 | Retrieval-Augmented Generation (RAG) is an effective technique for improving AI responses.\n",
            "\n",
            "[4] 유사도: 0.151 | 안녕, 만나서 반가워.\n",
            "\n"
          ]
        }
      ]
    }
  ]
}