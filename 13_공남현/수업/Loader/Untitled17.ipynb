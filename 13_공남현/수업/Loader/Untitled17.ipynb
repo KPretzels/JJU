{
  "nbformat": 4,
  "nbformat_minor": 0,
  "metadata": {
    "colab": {
      "private_outputs": true,
      "provenance": []
    },
    "kernelspec": {
      "name": "python3",
      "display_name": "Python 3"
    },
    "language_info": {
      "name": "python"
    }
  },
  "cells": [
    {
      "cell_type": "markdown",
      "source": [
        "## Sorter 1"
      ],
      "metadata": {
        "id": "5XpoRPTOZLaM"
      }
    },
    {
      "cell_type": "code",
      "source": [
        "pip install -qU pypdf"
      ],
      "metadata": {
        "id": "JGv8PIvWmEgR"
      },
      "execution_count": null,
      "outputs": []
    },
    {
      "cell_type": "code",
      "source": [
        "pip install -qU langchain_community"
      ],
      "metadata": {
        "id": "L6j1vX1FYVz1"
      },
      "execution_count": null,
      "outputs": []
    },
    {
      "cell_type": "code",
      "source": [
        "pip install -qU langchain_teddynote"
      ],
      "metadata": {
        "id": "XQ7X2YjTYhAs"
      },
      "execution_count": null,
      "outputs": []
    },
    {
      "cell_type": "code",
      "execution_count": null,
      "metadata": {
        "id": "UL5ovKGBYDxa"
      },
      "outputs": [],
      "source": [
        "import os\n",
        "from langchain_community.document_loaders import (\n",
        "    PyPDFLoader,\n",
        "    UnstructuredExcelLoader,\n",
        "    CSVLoader,\n",
        "    UnstructuredMarkdownLoader,\n",
        "    WebBaseLoader,\n",
        ")\n",
        "from langchain_teddynote.document_loaders import HWPLoader\n",
        "\n",
        "def sorter(file_path):\n",
        "    \"\"\"\n",
        "    파일 형식에 따라 적합한 Loader를 선택하고 처리합니다.\n",
        "\n",
        "    :param file_path: 처리할 파일 경로\n",
        "    :return: 처리된 문서 리스트 (Document 객체)\n",
        "    \"\"\"\n",
        "    # 확장자별 Loader 매핑\n",
        "    loader_mapping = {\n",
        "        \".pdf\": PyPDFLoader,\n",
        "        \".hwp\": HWPLoader,\n",
        "        \".csv\": CSVLoader,\n",
        "        \".xls\": UnstructuredExcelLoader,\n",
        "        \".xlsx\": UnstructuredExcelLoader,\n",
        "        \".txt\": UnstructuredMarkdownLoader,\n",
        "        \".json\": UnstructuredMarkdownLoader,\n",
        "        \".html\": WebBaseLoader,\n",
        "        \".md\": UnstructuredMarkdownLoader,\n",
        "    }\n",
        "\n",
        "    # 파일 확장자 추출\n",
        "    extension = os.path.splitext(file_path)[-1].lower()\n",
        "\n",
        "    # 로더 선택\n",
        "    loader_class = loader_mapping.get(extension)\n",
        "    if not loader_class:\n",
        "        raise ValueError(f\"Unsupported file type: {extension}\")\n",
        "\n",
        "    # 선택된 Loader 호출\n",
        "    loader = loader_class(file_path)\n",
        "    docs = loader.load()\n",
        "\n",
        "    return docs\n",
        "\n",
        "# 테스트 파일 처리\n",
        "file_path = \"/content/data/sample.pdf\"  # 예제 파일 경로\n",
        "try:\n",
        "    print(f\"Processing file: {file_path}\")\n",
        "    docs = sorter(file_path)\n",
        "    print(f\"Loaded {len(docs)} documents.\")\n",
        "    print(f\"First document content: {docs[0].page_content[:300]}\")  # 첫 300자 출력\n",
        "except Exception as e:\n",
        "    print(f\"Error: {e}\")\n"
      ]
    },
    {
      "cell_type": "markdown",
      "source": [
        "# Loader"
      ],
      "metadata": {
        "id": "G4ShTAxtZOhi"
      }
    },
    {
      "cell_type": "markdown",
      "source": [
        "### PyPDF"
      ],
      "metadata": {
        "id": "6dbf_wjaZQYT"
      }
    },
    {
      "cell_type": "code",
      "source": [
        "from langchain_community.document_loaders import PyPDFLoader\n",
        "\n",
        "def pypdf_loader(file_path):\n",
        "    \"\"\"\n",
        "    PyPDF를 사용하여 PDF 파일 처리.\n",
        "    \"\"\"\n",
        "    loader = PyPDFLoader(file_path)\n",
        "    docs = loader.load()\n",
        "    return docs\n"
      ],
      "metadata": {
        "id": "CNk_xhvWYr4n"
      },
      "execution_count": null,
      "outputs": []
    },
    {
      "cell_type": "markdown",
      "source": [
        "### PyMuPDF"
      ],
      "metadata": {
        "id": "M5p_VWpTZUie"
      }
    },
    {
      "cell_type": "code",
      "source": [
        "from langchain_community.document_loaders import PyMuPDFLoader\n",
        "\n",
        "def pymupdf_loader(file_path):\n",
        "    \"\"\"\n",
        "    PyMuPDF를 사용하여 PDF 파일 처리.\n",
        "    \"\"\"\n",
        "    loader = PyMuPDFLoader(file_path)\n",
        "    docs = loader.load()\n",
        "    return docs\n"
      ],
      "metadata": {
        "id": "9Bfu5pOfZiif"
      },
      "execution_count": null,
      "outputs": []
    },
    {
      "cell_type": "markdown",
      "source": [
        "### PyPDFium2"
      ],
      "metadata": {
        "id": "XFVA7G_tZXIG"
      }
    },
    {
      "cell_type": "code",
      "source": [
        "from langchain_community.document_loaders import PyPDFium2Loader\n",
        "\n",
        "def pypdfium2_loader(file_path):\n",
        "    \"\"\"\n",
        "    PyPDFium2를 사용하여 PDF 파일 처리.\n",
        "    \"\"\"\n",
        "    loader = PyPDFium2Loader(file_path)\n",
        "    docs = loader.load()\n",
        "    return docs\n"
      ],
      "metadata": {
        "id": "jo859XcLZkCH"
      },
      "execution_count": null,
      "outputs": []
    },
    {
      "cell_type": "markdown",
      "source": [
        "### PDFMinerPDFasHTML"
      ],
      "metadata": {
        "id": "skYSBiLhZXau"
      }
    },
    {
      "cell_type": "code",
      "source": [
        "from langchain_community.document_loaders import PDFMinerPDFasHTMLLoader\n",
        "\n",
        "def pdfminer_loader(file_path):\n",
        "    \"\"\"\n",
        "    PDFMiner를 사용하여 PDF 파일을 HTML로 처리.\n",
        "    \"\"\"\n",
        "    loader = PDFMinerPDFasHTMLLoader(file_path)\n",
        "    docs = loader.load()\n",
        "    return docs\n"
      ],
      "metadata": {
        "id": "P057bBNtZlf_"
      },
      "execution_count": null,
      "outputs": []
    },
    {
      "cell_type": "markdown",
      "source": [
        "### PDFPlumber"
      ],
      "metadata": {
        "id": "KqnbIX_KZXp-"
      }
    },
    {
      "cell_type": "code",
      "source": [
        "from langchain_community.document_loaders import PDFPlumberLoader\n",
        "\n",
        "def pdfplumber_loader(file_path):\n",
        "    \"\"\"\n",
        "    PDFPlumber를 사용하여 PDF 파일 처리.\n",
        "    \"\"\"\n",
        "    loader = PDFPlumberLoader(file_path)\n",
        "    docs = loader.load()\n",
        "    return docs\n"
      ],
      "metadata": {
        "id": "1lh4DllMZnU-"
      },
      "execution_count": null,
      "outputs": []
    },
    {
      "cell_type": "markdown",
      "source": [
        "## hwp"
      ],
      "metadata": {
        "id": "QXhpDxI7ZYAW"
      }
    },
    {
      "cell_type": "code",
      "source": [
        "from langchain_teddynote.document_loaders import HWPLoader\n",
        "\n",
        "def hwp_loader(file_path):\n",
        "    \"\"\"\n",
        "    HWP 파일을 처리하는 Loader.\n",
        "    :param file_path: HWP 파일 경로\n",
        "    :return: 처리된 문서 리스트\n",
        "    \"\"\"\n",
        "    loader = HWPLoader(file_path)\n",
        "    docs = loader.load()\n",
        "    return docs\n"
      ],
      "metadata": {
        "id": "P3XWxg0kZyzC"
      },
      "execution_count": null,
      "outputs": []
    },
    {
      "cell_type": "markdown",
      "source": [
        "## CSV Loader"
      ],
      "metadata": {
        "id": "diE_7ip_ZzSz"
      }
    },
    {
      "cell_type": "code",
      "source": [
        "from langchain_community.document_loaders.csv_loader import CSVLoader\n",
        "\n",
        "def csv_loader(file_path):\n",
        "    \"\"\"\n",
        "    CSV 파일을 처리하는 Loader.\n",
        "    :param file_path: CSV 파일 경로\n",
        "    :return: 처리된 문서 리스트\n",
        "    \"\"\"\n",
        "    loader = CSVLoader(file_path=file_path)\n",
        "    docs = loader.load()\n",
        "    return docs\n"
      ],
      "metadata": {
        "id": "HPKQSYaoZzsq"
      },
      "execution_count": null,
      "outputs": []
    },
    {
      "cell_type": "markdown",
      "source": [
        "\n",
        "\n",
        "> ## Excel Loader\n",
        "\n"
      ],
      "metadata": {
        "id": "nAsGO861Z0LQ"
      }
    },
    {
      "cell_type": "code",
      "source": [
        "from langchain_community.document_loaders import UnstructuredExcelLoader\n",
        "\n",
        "def excel_loader(file_path):\n",
        "    \"\"\"\n",
        "    Excel 파일을 처리하는 Loader.\n",
        "    :param file_path: Excel 파일 경로\n",
        "    :return: 처리된 문서 리스트\n",
        "    \"\"\"\n",
        "    loader = UnstructuredExcelLoader(file_path=file_path)\n",
        "    docs = loader.load()\n",
        "    return docs\n"
      ],
      "metadata": {
        "id": "QUuXkqrmZ0yJ"
      },
      "execution_count": null,
      "outputs": []
    },
    {
      "cell_type": "markdown",
      "source": [
        "## TXT Loader"
      ],
      "metadata": {
        "id": "fWn-tFk7Z1WB"
      }
    },
    {
      "cell_type": "code",
      "source": [
        "from langchain_community.document_loaders import UnstructuredMarkdownLoader\n",
        "\n",
        "def txt_loader(file_path):\n",
        "    \"\"\"\n",
        "    TXT 파일을 처리하는 Loader.\n",
        "    :param file_path: TXT 파일 경로\n",
        "    :return: 처리된 문서 리스트\n",
        "    \"\"\"\n",
        "    loader = UnstructuredMarkdownLoader(file_path)\n",
        "    docs = loader.load()\n",
        "    return docs\n"
      ],
      "metadata": {
        "id": "HFsh07OZbeZc"
      },
      "execution_count": null,
      "outputs": []
    },
    {
      "cell_type": "markdown",
      "source": [
        "## JSON Loader"
      ],
      "metadata": {
        "id": "XB0SFTrMbgBQ"
      }
    },
    {
      "cell_type": "code",
      "source": [
        "from langchain_community.document_loaders import JSONLoader\n",
        "\n",
        "def json_loader(file_path):\n",
        "    \"\"\"\n",
        "    JSON 파일을 처리하는 Loader.\n",
        "    :param file_path: JSON 파일 경로\n",
        "    :return: 처리된 문서 리스트\n",
        "    \"\"\"\n",
        "    loader = JSONLoader(file_path=file_path, jq_schema=\".\")\n",
        "    docs = loader.load()\n",
        "    return docs\n"
      ],
      "metadata": {
        "id": "7JjB6ADuZ1-p"
      },
      "execution_count": null,
      "outputs": []
    },
    {
      "cell_type": "markdown",
      "source": [
        "## WebBase Loader"
      ],
      "metadata": {
        "id": "-_bQrxZybjvM"
      }
    },
    {
      "cell_type": "code",
      "source": [
        "from langchain_community.document_loaders import WebBaseLoader\n",
        "import bs4\n",
        "\n",
        "def webbase_loader_html(file_path):\n",
        "    \"\"\"\n",
        "    HTML 파일을 WebBaseLoader로 처리하는 함수.\n",
        "    :param file_path: HTML 파일 경로\n",
        "    :return: 처리된 문서 리스트\n",
        "    \"\"\"\n",
        "    # HTML 파일 읽기\n",
        "    with open(file_path, \"r\", encoding=\"utf-8\") as file:\n",
        "        html_content = file.read()\n",
        "\n",
        "    # WebBaseLoader로 처리\n",
        "    loader = WebBaseLoader(\n",
        "        web_paths=(html_content,),  # HTML 파일 내용을 WebBaseLoader로 전달\n",
        "        bs_kwargs=dict(\n",
        "            parse_only=bs4.SoupStrainer(\n",
        "                \"div\",\n",
        "                attrs={\"class\": [\"newsct_article _article_body\", \"media_end_head_title\"]},\n",
        "            )\n",
        "        ),\n",
        "        header_template={\n",
        "            \"User-Agent\": \"Mozilla/5.0 (Windows NT 10.0; Win64; x64) AppleWebKit/537.36 (KHTML, like Gecko) Chrome/102.0.0.0 Safari/537.36\",\n",
        "        },\n",
        "    )\n",
        "    docs = loader.load()\n",
        "    return docs\n"
      ],
      "metadata": {
        "id": "jVtKFKiIbkZm"
      },
      "execution_count": null,
      "outputs": []
    },
    {
      "cell_type": "markdown",
      "source": [
        "# Sorter 2"
      ],
      "metadata": {
        "id": "aXbdMWAWcL8f"
      }
    },
    {
      "cell_type": "code",
      "source": [
        "from langchain.text_splitter import (\n",
        "    CharacterTextSplitter,\n",
        "    RecursiveCharacterTextSplitter,\n",
        "    TokenTextSplitter,\n",
        "    MarkdownHeaderTextSplitter,\n",
        "    HTMLHeaderTextSplitter,\n",
        ")\n",
        "\n",
        "def sorter_II(docs, file_type):\n",
        "    \"\"\"\n",
        "    Loader에서 처리된 데이터를 적합한 Splitter로 전달하는 함수.\n",
        "\n",
        "    :param docs: Loader가 반환한 문서 리스트\n",
        "    :param file_type: 파일 형식 (ex: 'pdf', 'csv', 'txt', 'html', 'json')\n",
        "    :return: 분할된 텍스트 조각 리스트\n",
        "    \"\"\"\n",
        "    # Splitter 매핑\n",
        "    splitter_mapping = {\n",
        "        \"pdf\": CharacterTextSplitter(chunk_size=1000, chunk_overlap=100),\n",
        "        \"txt\": RecursiveCharacterTextSplitter(chunk_size=1000, chunk_overlap=100),\n",
        "        \"csv\": TokenTextSplitter(chunk_size=200, chunk_overlap=50),\n",
        "        \"excel\": TokenTextSplitter(chunk_size=200, chunk_overlap=50),\n",
        "        \"json\": RecursiveCharacterTextSplitter(chunk_size=1000, chunk_overlap=100),\n",
        "        \"html\": HTMLHeaderTextSplitter(),\n",
        "        \"md\": MarkdownHeaderTextSplitter(),\n",
        "    }\n",
        "\n",
        "    # 적합한 Splitter 선택\n",
        "    splitter = splitter_mapping.get(file_type)\n",
        "    if not splitter:\n",
        "        raise ValueError(f\"Unsupported file type for splitting: {file_type}\")\n",
        "\n",
        "    # Splitter를 사용하여 텍스트 분할\n",
        "    all_chunks = []\n",
        "    for doc in docs:\n",
        "        chunks = splitter.split_text(doc.page_content)\n",
        "        all_chunks.extend(chunks)\n",
        "\n",
        "    return all_chunks\n"
      ],
      "metadata": {
        "id": "aA7ILhRRcOKb"
      },
      "execution_count": null,
      "outputs": []
    },
    {
      "cell_type": "markdown",
      "source": [
        "# Splitter"
      ],
      "metadata": {
        "id": "OFUTDSkncxb2"
      }
    },
    {
      "cell_type": "markdown",
      "source": [
        "###  CharacterTextSplitter"
      ],
      "metadata": {
        "id": "-6Qs14d5eAtB"
      }
    },
    {
      "cell_type": "code",
      "source": [
        "from langchain.text_splitter import CharacterTextSplitter\n",
        "\n",
        "def character_text_splitter(chunk_size=1000, chunk_overlap=100):\n",
        "    \"\"\"\n",
        "    CharacterTextSplitter를 생성하는 함수.\n",
        "    :param chunk_size: 하나의 텍스트 조각 크기\n",
        "    :param chunk_overlap: 조각 간 중첩 크기\n",
        "    :return: CharacterTextSplitter 객체\n",
        "    \"\"\"\n",
        "    return CharacterTextSplitter(chunk_size=chunk_size, chunk_overlap=chunk_overlap)\n"
      ],
      "metadata": {
        "id": "VFSBDTBFd-6a"
      },
      "execution_count": null,
      "outputs": []
    },
    {
      "cell_type": "markdown",
      "source": [
        "### RecursiveCharacterTextSplitter"
      ],
      "metadata": {
        "id": "OoFOKQ9Ed_W1"
      }
    },
    {
      "cell_type": "code",
      "source": [
        "from langchain.text_splitter import RecursiveCharacterTextSplitter\n",
        "\n",
        "def recursive_character_text_splitter(chunk_size=1000, chunk_overlap=100):\n",
        "    \"\"\"\n",
        "    RecursiveCharacterTextSplitter를 생성하는 함수.\n",
        "    :param chunk_size: 하나의 텍스트 조각 크기\n",
        "    :param chunk_overlap: 조각 간 중첩 크기\n",
        "    :return: RecursiveCharacterTextSplitter 객체\n",
        "    \"\"\"\n",
        "    return RecursiveCharacterTextSplitter(chunk_size=chunk_size, chunk_overlap=chunk_overlap)\n"
      ],
      "metadata": {
        "id": "DYqyG8pDeBKZ"
      },
      "execution_count": null,
      "outputs": []
    },
    {
      "cell_type": "markdown",
      "source": [
        "### TokenTextSplitter"
      ],
      "metadata": {
        "id": "FiC1rQQoeBjR"
      }
    },
    {
      "cell_type": "code",
      "source": [
        "from langchain.text_splitter import TokenTextSplitter\n",
        "\n",
        "def token_text_splitter(chunk_size=200, chunk_overlap=50):\n",
        "    \"\"\"\n",
        "    TokenTextSplitter를 생성하는 함수.\n",
        "    :param chunk_size: 하나의 텍스트 조각 크기 (토큰 단위)\n",
        "    :param chunk_overlap: 조각 간 중첩 크기\n",
        "    :return: TokenTextSplitter 객체\n",
        "    \"\"\"\n",
        "    return TokenTextSplitter(chunk_size=chunk_size, chunk_overlap=chunk_overlap)\n"
      ],
      "metadata": {
        "id": "7SpV0B2beCDJ"
      },
      "execution_count": null,
      "outputs": []
    },
    {
      "cell_type": "markdown",
      "source": [
        "### SemanticChunker"
      ],
      "metadata": {
        "id": "szPI8bxveD85"
      }
    },
    {
      "cell_type": "code",
      "source": [
        "def semantic_chunker(text, chunk_size=1000):\n",
        "    \"\"\"\n",
        "    텍스트를 의미론적으로 분할하는 커스텀 함수.\n",
        "    :param text: 입력 텍스트\n",
        "    :param chunk_size: 의미론적 분할 크기\n",
        "    :return: 분할된 텍스트 리스트\n",
        "    \"\"\"\n",
        "    chunks = []\n",
        "    while text:\n",
        "        chunk = text[:chunk_size]\n",
        "        chunks.append(chunk.strip())\n",
        "        text = text[chunk_size:]\n",
        "    return chunks\n"
      ],
      "metadata": {
        "id": "2q8URajYeEVl"
      },
      "execution_count": null,
      "outputs": []
    },
    {
      "cell_type": "markdown",
      "source": [
        "### CodeSplitter"
      ],
      "metadata": {
        "id": "qotbI_kteEmN"
      }
    },
    {
      "cell_type": "code",
      "source": [
        "def code_splitter(code, delimiter=\"\\n\"):\n",
        "    \"\"\"\n",
        "    코드 파일을 특정 구분자(기본적으로 줄 단위)로 분할하는 함수.\n",
        "    :param code: 입력 코드 텍스트\n",
        "    :param delimiter: 코드 구분자\n",
        "    :return: 분할된 코드 조각 리스트\n",
        "    \"\"\"\n",
        "    return code.split(delimiter)\n"
      ],
      "metadata": {
        "id": "V-rnqdUoeE6l"
      },
      "execution_count": null,
      "outputs": []
    },
    {
      "cell_type": "markdown",
      "source": [
        "### MarkdownHeaderTextSplitter"
      ],
      "metadata": {
        "id": "6PGDmDjNeFU9"
      }
    },
    {
      "cell_type": "code",
      "source": [],
      "metadata": {
        "id": "e9WuZKh-jmXb"
      },
      "execution_count": null,
      "outputs": []
    },
    {
      "cell_type": "code",
      "source": [
        "from langchain.text_splitter import MarkdownHeaderTextSplitter\n",
        "from langchain_community.document_loaders import UnstructuredMarkdownLoader\n",
        "\n",
        "def markdown_splitter(file_path):\n",
        "    \"\"\"\n",
        "    Markdown 파일을 처리하고 MarkdownHeaderTextSplitter로 분할하는 함수.\n",
        "    :param file_path: Markdown 파일 경로\n",
        "    :return: 분할된 텍스트 조각 리스트\n",
        "    \"\"\"\n",
        "    # 1. Markdown 파일 로드\n",
        "    loader = UnstructuredMarkdownLoader(file_path)\n",
        "    docs = loader.load()  # Loader가 반환한 문서 리스트\n",
        "\n",
        "    # 2. MarkdownHeaderTextSplitter 생성\n",
        "    splitter = MarkdownHeaderTextSplitter()\n",
        "\n",
        "    # 3. Splitter를 사용하여 텍스트 분할\n",
        "    chunks = []\n",
        "    for doc in docs:\n",
        "        chunks.extend(splitter.split_text(doc.page_content))  # 각 문서를 분할하여 chunks 리스트에 추가\n",
        "\n",
        "    return chunks\n"
      ],
      "metadata": {
        "id": "chtDBrI6eFqd"
      },
      "execution_count": null,
      "outputs": []
    },
    {
      "cell_type": "markdown",
      "source": [
        "### HTMLHeaderTextSplitter"
      ],
      "metadata": {
        "id": "wPXPXX9gea91"
      }
    },
    {
      "cell_type": "code",
      "source": [
        "def markdown_header_splitter():\n",
        "    \"\"\"\n",
        "    Markdown 문서를 MarkdownHeaderTextSplitter로 분할.\n",
        "    :return: MarkdownHeaderTextSplitter 객체\n",
        "    \"\"\"\n",
        "    # 헤더 정의\n",
        "    headers_to_split_on = [\n",
        "        (\"#\", \"H1\"),  # 헤더 레벨 1\n",
        "        (\"##\", \"H2\"), # 헤더 레벨 2\n",
        "        (\"###\", \"H3\"), # 헤더 레벨 3\n",
        "    ]\n",
        "\n",
        "    return MarkdownHeaderTextSplitter(headers_to_split_on=headers_to_split_on)\n"
      ],
      "metadata": {
        "id": "CLyERZwEkhqs"
      },
      "execution_count": null,
      "outputs": []
    },
    {
      "cell_type": "code",
      "source": [
        "from langchain.text_splitter import MarkdownHeaderTextSplitter\n",
        "\n",
        "def markdown_header_splitter():\n",
        "    \"\"\"\n",
        "    Markdown 문서를 MarkdownHeaderTextSplitter로 분할.\n",
        "    :return: MarkdownHeaderTextSplitter 객체\n",
        "    \"\"\"\n",
        "    return MarkdownHeaderTextSplitter()\n"
      ],
      "metadata": {
        "id": "Ix4SWoQGkD5w"
      },
      "execution_count": null,
      "outputs": []
    },
    {
      "cell_type": "code",
      "source": [
        "from langchain.text_splitter import HTMLHeaderTextSplitter\n",
        "\n",
        "def html_header_text_splitter():\n",
        "    \"\"\"\n",
        "    HTMLHeaderTextSplitter를 생성하는 함수.\n",
        "    :return: HTMLHeaderTextSplitter 객체\n",
        "    \"\"\"\n",
        "    return HTMLHeaderTextSplitter()\n"
      ],
      "metadata": {
        "id": "CQZQ-ZNIebuT"
      },
      "execution_count": null,
      "outputs": []
    },
    {
      "cell_type": "markdown",
      "source": [
        "### RecursiveJsonSplitter"
      ],
      "metadata": {
        "id": "lsMT7RrIecIh"
      }
    },
    {
      "cell_type": "code",
      "source": [
        "def recursive_json_splitter(json_data, prefix=\"\"):\n",
        "    \"\"\"\n",
        "    JSON 데이터를 재귀적으로 분할하는 함수.\n",
        "    :param json_data: JSON 데이터\n",
        "    :param prefix: 키 경로를 나타내는 문자열\n",
        "    :return: 분할된 JSON 데이터 리스트\n",
        "    \"\"\"\n",
        "    chunks = []\n",
        "    if isinstance(json_data, dict):\n",
        "        for key, value in json_data.items():\n",
        "            chunks.extend(recursive_json_splitter(value, f\"{prefix}.{key}\" if prefix else key))\n",
        "    elif isinstance(json_data, list):\n",
        "        for i, item in enumerate(json_data):\n",
        "            chunks.extend(recursive_json_splitter(item, f\"{prefix}[{i}]\"))\n",
        "    else:\n",
        "        chunks.append(f\"{prefix}: {json_data}\")\n",
        "    return chunks\n"
      ],
      "metadata": {
        "id": "I-JqkVmeecfR"
      },
      "execution_count": null,
      "outputs": []
    },
    {
      "cell_type": "markdown",
      "source": [
        "# OpenAI"
      ],
      "metadata": {
        "id": "bGQ2IgFviZd1"
      }
    },
    {
      "cell_type": "code",
      "source": [
        "def evaluate_loader_splitter(file_path, loader_function, splitter_function, llm=\"openai\", **llm_kwargs):\n",
        "    \"\"\"\n",
        "    Loader와 Splitter 조합을 테스트하여 LLM 성능 평가.\n",
        "    :param file_path: 입력 파일 경로\n",
        "    :param loader_function: 사용할 Loader 함수\n",
        "    :param splitter_function: 사용할 Splitter 함수\n",
        "    :param llm: 사용할 LLM (\"openai\" 또는 \"gemini\")\n",
        "    :param llm_kwargs: LLM에 전달할 추가 매개변수\n",
        "    :return: LLM 응답 리스트\n",
        "    \"\"\"\n",
        "    try:\n",
        "        # 1. Loader 실행\n",
        "        docs = loader_function(file_path)\n",
        "\n",
        "        # 2. Splitter 실행\n",
        "        chunks = splitter_function(docs)\n",
        "\n",
        "        # 3. LLM 호출\n",
        "        responses = process_with_llm(chunks, llm=llm, **llm_kwargs)\n",
        "\n",
        "        return responses\n",
        "\n",
        "    except Exception as e:\n",
        "        print(f\"Error in evaluate_loader_splitter: {e}\")\n",
        "        return None\n"
      ],
      "metadata": {
        "id": "4Ol-s8XmicL9"
      },
      "execution_count": null,
      "outputs": []
    },
    {
      "cell_type": "code",
      "source": [
        "def evaluate_all(file_path, file_type, llm=\"openai\", **llm_kwargs):\n",
        "    \"\"\"\n",
        "    모든 Loader와 Splitter 조합을 테스트하여 성능 평가.\n",
        "    :param file_path: 입력 파일 경로\n",
        "    :param file_type: 파일 형식 (ex: \"pdf\", \"csv\", \"txt\")\n",
        "    :param llm: 사용할 LLM (\"openai\" 또는 \"gemini\")\n",
        "    :param llm_kwargs: LLM에 전달할 추가 매개변수\n",
        "    :return: 성능 평가 결과 딕셔너리\n",
        "    \"\"\"\n",
        "    results = {}\n",
        "\n",
        "    # 1. 해당 파일 형식에 적합한 Loader 선택\n",
        "    loader_function = loaders.get(file_type)\n",
        "    if not loader_function:\n",
        "        print(f\"Unsupported file type: {file_type}\")\n",
        "        return None\n",
        "\n",
        "    # 2. 모든 Splitter와 조합 테스트\n",
        "    for splitter_name, splitter_function in splitters.items():\n",
        "        print(f\"\\nTesting with Splitter: {splitter_name}\")\n",
        "        responses = evaluate_loader_splitter(\n",
        "            file_path=file_path,\n",
        "            loader_function=loader_function,\n",
        "            splitter_function=splitter_function(),\n",
        "            llm=llm,\n",
        "            **llm_kwargs\n",
        "        )\n",
        "        if responses:\n",
        "            # LLM 응답 기록\n",
        "            results[splitter_name] = responses\n",
        "\n",
        "    return results\n"
      ],
      "metadata": {
        "id": "4zVurQHKjEMe"
      },
      "execution_count": null,
      "outputs": []
    },
    {
      "cell_type": "code",
      "source": [
        "# Loader 함수 정의\n",
        "loaders = {\n",
        "    \"pdf\": pdf_loader,\n",
        "    \"hwp\": hwp_loader,\n",
        "    \"csv\": csv_loader,\n",
        "    \"excel\": excel_loader,\n",
        "    \"txt\": txt_loader,\n",
        "    \"json\": json_loader,\n",
        "    \"html\": webbase_loader_html,\n",
        "    \"md\": markdown_splitter,\n",
        "}\n",
        "\n",
        "# Splitter 함수 정의\n",
        "splitters = {\n",
        "    \"CharacterTextSplitter\": character_text_splitter,\n",
        "    \"RecursiveCharacterTextSplitter\": recursive_character_text_splitter,\n",
        "    \"TokenTextSplitter\": token_text_splitter,\n",
        "    \"MarkdownHeaderTextSplitter\": markdown_header_splitter,\n",
        "    \"HTMLHeaderTextSplitter\": html_header_text_splitter,\n",
        "}\n"
      ],
      "metadata": {
        "id": "IVBiI1xvjEZk"
      },
      "execution_count": null,
      "outputs": []
    },
    {
      "cell_type": "code",
      "source": [
        "import openai\n",
        "\n",
        "def process_with_llm(chunks, llm=\"openai\", **kwargs):\n",
        "    \"\"\"\n",
        "    다양한 LLM을 사용하여 텍스트 조각 처리.\n",
        "    :param chunks: 텍스트 조각 리스트\n",
        "    :param llm: 사용할 LLM (\"openai\" 또는 \"gemini\")\n",
        "    :param kwargs: LLM에 전달할 추가 매개변수\n",
        "    :return: 처리된 결과 리스트\n",
        "    \"\"\"\n",
        "    results = []\n",
        "\n",
        "    for chunk in chunks:\n",
        "        try:\n",
        "            if llm == \"openai\":\n",
        "                # OpenAI API 호출\n",
        "                response = openai.ChatCompletion.create(\n",
        "                    model=kwargs.get(\"model\", \"gpt-4\"),\n",
        "                    messages=[{\"role\": \"user\", \"content\": chunk}],\n",
        "                    temperature=kwargs.get(\"temperature\", 0.7),\n",
        "                )\n",
        "                results.append(response[\"choices\"][0][\"message\"][\"content\"])\n",
        "            elif llm == \"gemini\":\n",
        "                # Gemini API 호출 (임시 구현)\n",
        "                response = {\"generated_text\": f\"Gemini processed: {chunk[:30]}...\"}\n",
        "                results.append(response[\"generated_text\"])\n",
        "            else:\n",
        "                raise ValueError(f\"Unsupported LLM: {llm}\")\n",
        "\n",
        "        except Exception as e:\n",
        "            print(f\"Error processing chunk: {e}\")\n",
        "            results.append(None)\n",
        "\n",
        "    return results\n"
      ],
      "metadata": {
        "id": "J7ckiGtPjEn8"
      },
      "execution_count": null,
      "outputs": []
    },
    {
      "cell_type": "code",
      "source": [
        "def print_results(results):\n",
        "    \"\"\"\n",
        "    성능 평가 결과 출력.\n",
        "    :param results: 성능 평가 결과 딕셔너리\n",
        "    \"\"\"\n",
        "    print(\"\\n=== Evaluation Results ===\")\n",
        "    for splitter_name, responses in results.items():\n",
        "        print(f\"\\nSplitter: {splitter_name}\")\n",
        "        for i, response in enumerate(responses):\n",
        "            print(f\"Chunk {i + 1}: {response}\")\n"
      ],
      "metadata": {
        "id": "ZNB1BJxgkLmA"
      },
      "execution_count": null,
      "outputs": []
    },
    {
      "cell_type": "code",
      "source": [
        "# 파일 경로 및 형식 설정\n",
        "file_path = \"/content/data/sample.md\"\n",
        "file_type = \"md\"\n",
        "\n",
        "# OpenAI API를 사용하여 평가\n",
        "results = evaluate_all(\n",
        "    file_path=file_path,\n",
        "    file_type=file_type,\n",
        "    llm=\"openai\",\n",
        "    model=\"gpt-4\",\n",
        "    temperature=0.7,\n",
        ")\n",
        "\n",
        "# 결과 출력\n",
        "print_results(results)\n"
      ],
      "metadata": {
        "id": "MbTID36ZkOEv"
      },
      "execution_count": null,
      "outputs": []
    }
  ]
}