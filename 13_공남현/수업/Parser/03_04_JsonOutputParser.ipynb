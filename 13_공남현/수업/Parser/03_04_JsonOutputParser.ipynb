{
  "nbformat": 4,
  "nbformat_minor": 0,
  "metadata": {
    "colab": {
      "private_outputs": true,
      "provenance": []
    },
    "kernelspec": {
      "name": "python3",
      "display_name": "Python 3"
    },
    "language_info": {
      "name": "python"
    }
  },
  "cells": [
    {
      "cell_type": "code",
      "execution_count": null,
      "metadata": {
        "id": "RJFeju86TNV5"
      },
      "outputs": [],
      "source": [
        "import os\n",
        "\n",
        "os.environ[\"OPENAI_API_KEY\"] = \"\"\n",
        "os.environ[\"LANGCHAIN_API_KEY\"] = \"\"\n",
        "os.environ[\"LANGCHAIN_TRACING_V2\"] = \"true\"\n",
        "os.environ[\"LANGCHAIN_ENDPOINT\"] = \"https://api.smith.langchain.com\"\n",
        "os.environ[\"LANGCHAIN_PROJECT\"] = \"03-04\""
      ]
    },
    {
      "cell_type": "code",
      "source": [
        "pip install -qU langchain_openai"
      ],
      "metadata": {
        "id": "VErXBOFhTzbH"
      },
      "execution_count": null,
      "outputs": []
    },
    {
      "cell_type": "code",
      "source": [
        "from langchain_core.prompts import ChatPromptTemplate\n",
        "from langchain_core.output_parsers import JsonOutputParser\n",
        "from pydantic import BaseModel, Field\n",
        "from langchain_openai import ChatOpenAI\n"
      ],
      "metadata": {
        "id": "u6Tza23rTgcA"
      },
      "execution_count": null,
      "outputs": []
    },
    {
      "cell_type": "code",
      "source": [
        "# OpenAI 객체를 생성합니다.\n",
        "model = ChatOpenAI(temperature=0, model_name=\"gpt-4o\")\n"
      ],
      "metadata": {
        "id": "xK2O2kw7UOFn"
      },
      "execution_count": null,
      "outputs": []
    },
    {
      "cell_type": "code",
      "source": [
        "# 원하는 데이터 구조를 정의합니다.\n",
        "class Topic(BaseModel):\n",
        "    description: str = Field(description=\"주제에 대한 간결한 설명\")\n",
        "    hashtags: str = Field(description=\"해시태그 형식의 키워드(2개 이상)\")\n"
      ],
      "metadata": {
        "id": "DvbXQhP9UOTP"
      },
      "execution_count": null,
      "outputs": []
    },
    {
      "cell_type": "code",
      "source": [
        "# 파서를 설정하고 프롬프트 템플릿에 지시사항을 주입합니다.\n",
        "parser = JsonOutputParser(pydantic_object=Topic)"
      ],
      "metadata": {
        "id": "t0baNmqRUjvu"
      },
      "execution_count": null,
      "outputs": []
    },
    {
      "cell_type": "code",
      "source": [
        "prompt = ChatPromptTemplate.from_messages(\n",
        "    [\n",
        "        (\"system\", \"당신은 친절한 AI 어시스턴트 입니다. 질문에 간결하게 답변하세요.\"),\n",
        "        (\"user\", \"#Format: {format_instructions}\\n\\n#Question: {question}\"),\n",
        "    ]\n",
        ")\n",
        "\n",
        "prompt = prompt.partial(format_instructions=parser.get_format_instructions())"
      ],
      "metadata": {
        "id": "ZJBh0NGqUj8m"
      },
      "execution_count": null,
      "outputs": []
    },
    {
      "cell_type": "code",
      "source": [
        "chain = prompt | model | parser"
      ],
      "metadata": {
        "id": "dDxJXxZmUOl_"
      },
      "execution_count": null,
      "outputs": []
    },
    {
      "cell_type": "code",
      "source": [
        "# 질의 작성\n",
        "question = \"손흥민 골에 대해 알려줘  .\"\n",
        "answer = chain.invoke({\"question\": question})  # 체인을 호출하여 쿼리 실행"
      ],
      "metadata": {
        "id": "fud1QgJGVL9m"
      },
      "execution_count": null,
      "outputs": []
    },
    {
      "cell_type": "code",
      "source": [
        "answer"
      ],
      "metadata": {
        "id": "rsT3zw6zVlPP"
      },
      "execution_count": null,
      "outputs": []
    },
    {
      "cell_type": "code",
      "source": [
        "type(answer)"
      ],
      "metadata": {
        "id": "P29XLgKOXFBL"
      },
      "execution_count": null,
      "outputs": []
    }
  ]
}