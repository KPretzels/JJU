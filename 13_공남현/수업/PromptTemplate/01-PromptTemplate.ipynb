{
 "cells": [
  {
   "cell_type": "code",
   "execution_count": null,
   "metadata": {
    "id": "R2e9FNpT_vBd"
   },
   "outputs": [],
   "source": [
    "import os\n",
    "\n",
    "os.environ[\"OPENAI_API_KEY\"] = \"\"\n",
    "os.environ[\"LANGCHAIN_API_KEY\"] = \"\"\n",
    "os.environ[\"LANGCHAIN_TRACING_V2\"] = \"true\"\n",
    "os.environ[\"LANGCHAIN_ENDPOINT\"] = \"https://api.smith.langchain.com\"\n",
    "os.environ[\"LANGCHAIN_PROJECT\"] = \"01-01\""
   ]
  },
  {
   "cell_type": "code",
   "execution_count": null,
   "metadata": {
    "id": "TFwY9t3nHI79"
   },
   "outputs": [],
   "source": [
    "pip install -qU langchain_openai"
   ]
  },
  {
   "cell_type": "code",
   "execution_count": null,
   "metadata": {
    "id": "x_QR6BbWGhlf"
   },
   "outputs": [],
   "source": [
    "from langchain_openai import ChatOpenAI\n",
    "\n",
    "llm = ChatOpenAI(\n",
    "      model ='gpt-4o',\n",
    "      temperature=0,\n",
    "      max_tokens=None,\n",
    "      timeout=None,\n",
    "      max_retries=2,\n",
    ")\n"
   ]
  },
  {
   "cell_type": "code",
   "execution_count": null,
   "metadata": {
    "id": "4x6nwp40Hni0"
   },
   "outputs": [],
   "source": [
    "llm"
   ]
  },
  {
   "cell_type": "code",
   "execution_count": null,
   "metadata": {
    "id": "tOht5SAZHezT"
   },
   "outputs": [],
   "source": [
    "prompt = '서울의 수도는?'"
   ]
  },
  {
   "cell_type": "code",
   "execution_count": null,
   "metadata": {
    "id": "PzlIFqTMHjbE"
   },
   "outputs": [],
   "source": [
    "Response = llm.invoke('대한민국의 수도는?')"
   ]
  },
  {
   "cell_type": "code",
   "execution_count": null,
   "metadata": {
    "id": "hP0k_GgdH16B"
   },
   "outputs": [],
   "source": [
    "print(Response)"
   ]
  },
  {
   "cell_type": "code",
   "execution_count": null,
   "metadata": {
    "id": "lyoQBEnKH6_m"
   },
   "outputs": [],
   "source": [
    "Response.content"
   ]
  },
  {
   "cell_type": "code",
   "execution_count": null,
   "metadata": {
    "id": "7HACchEZI94l"
   },
   "outputs": [],
   "source": [
    "prompt = [\n",
    "    ('system',\"너는 제시된 국가의 수도가 어디인지 알려주는 어시스턴트야. 문장을 말고 수도만 알려줘\"),\n",
    "    (\"human\",\"중국\")\n",
    "\n",
    "]\n",
    "Response2 = llm.invoke('중국의 수도는?')\n",
    "print(Response2)"
   ]
  },
  {
   "cell_type": "markdown",
   "metadata": {
    "id": "bMr2HQ2FPPyO"
   },
   "source": [
    "## 방법 1. from_template() 메소드를 사용하여 PromptTemplate 객체 생성\n",
    "치환될 변수를 { 변수 } 로 묶어서 템플릿을 정의합니다."
   ]
  },
  {
   "cell_type": "code",
   "execution_count": null,
   "metadata": {
    "id": "K4zTB453H9iJ"
   },
   "outputs": [],
   "source": [
    "from langchain_core.prompts import PromptTemplate\n",
    "\n",
    "# template 정의. {country}는 변수로, 이후에 값이 들어갈 자리를 의미\n",
    "template = \"{country}의 수도는 어디인가요?\"\n",
    "\n",
    "# from_template 메소드를 이용하여 PromptTemplate 객체 생성\n",
    "prompt_3 = PromptTemplate.from_template(template)\n",
    "\n",
    "chain = prompt_3 | llm"
   ]
  },
  {
   "cell_type": "markdown",
   "metadata": {
    "id": "lHdkb6EjP6aF"
   },
   "source": [
    "country 변수에 값을 넣어서 문장을 생성할 수 있습니다."
   ]
  },
  {
   "cell_type": "code",
   "execution_count": null,
   "metadata": {
    "id": "p7n6Kx3URtta"
   },
   "outputs": [],
   "source": [
    "llm_response=chain.invoke(\"대한민국\")"
   ]
  },
  {
   "cell_type": "code",
   "execution_count": null,
   "metadata": {
    "id": "pDPHoCoORuBe"
   },
   "outputs": [],
   "source": [
    "llm_response.content"
   ]
  },
  {
   "cell_type": "markdown",
   "metadata": {
    "id": "KyMW6b9dSGoj"
   },
   "source": [
    "##방법 2. PromptTemplate 객체 생성과 동시에 prompt 생성\n",
    "추가 유효성 검사를 위해 input_variables 를 명시적으로 지정하세요.\n",
    "\n",
    "이러한 변수는 인스턴스화 중에 템플릿 문자열에 있는 변수와 비교하여 불일치하는 경우 예외를 발생시킵니다."
   ]
  },
  {
   "cell_type": "code",
   "execution_count": null,
   "metadata": {
    "id": "CZto9c2baXLo"
   },
   "outputs": [],
   "source": []
  },
  {
   "cell_type": "code",
   "execution_count": null,
   "metadata": {
    "id": "QbNp72cnUZO7"
   },
   "outputs": [],
   "source": [
    "prompt = PromptTemplate(\n",
    "    template='{country1}와 {country2}의 수도는 어디인가요?',\n",
    "    input_variables=[\"country1\", \"country2\"],\n",
    ")\n"
   ]
  },
  {
   "cell_type": "code",
   "execution_count": null,
   "metadata": {
    "id": "v0MBXLxWVBwp"
   },
   "outputs": [],
   "source": [
    "prompt"
   ]
  },
  {
   "cell_type": "code",
   "execution_count": null,
   "metadata": {
    "id": "JTG0SzPISIiT"
   },
   "outputs": [],
   "source": [
    "# template 정의\n",
    "template = \"{country1},{country2}의 수도는 어디인가요?\"\n",
    "\n",
    "# PromptTemplate 객체를 활용하여 prompt_template 생성\n",
    "prompt = PromptTemplate(\n",
    "    template=template,\n",
    "    input_variables=[\"country1\",\"country2\"],\n",
    ")\n",
    "\n",
    "prompt\n"
   ]
  },
  {
   "cell_type": "code",
   "execution_count": null,
   "metadata": {
    "id": "0IhFGtslWRcf"
   },
   "outputs": [],
   "source": [
    "chian = prompt | llm"
   ]
  },
  {
   "cell_type": "code",
   "execution_count": null,
   "metadata": {
    "id": "0BfX8Hn3WT30"
   },
   "outputs": [],
   "source": [
    "Response = chain.invoke({\"country1\":\"대한민국\",\"country2\":\"호주\"})"
   ]
  },
  {
   "cell_type": "code",
   "execution_count": null,
   "metadata": {
    "id": "t0CBTtCyWYvg"
   },
   "outputs": [],
   "source": [
    "chain.invoke({\"country1\": \"대한민국\", \"country2:\": \"호주\"}).content"
   ]
  },
  {
   "cell_type": "code",
   "execution_count": null,
   "metadata": {
    "id": "zbov7zm0aFzT"
   },
   "outputs": [],
   "source": [
    "from datetime import datetime\n",
    "\n",
    "# 오늘 날짜를 출력\n",
    "datetime.now().strftime(\"%B %d\")\n"
   ]
  },
  {
   "cell_type": "code",
   "execution_count": null,
   "metadata": {
    "id": "s9WJ5PWjaGFK"
   },
   "outputs": [],
   "source": [
    "# 날짜를 반환하는 함수 정의\n",
    "def get_today():\n",
    "    return datetime.now().strftime(\"%B %d\")\n"
   ]
  },
  {
   "cell_type": "code",
   "execution_count": null,
   "metadata": {
    "id": "QpJJ-HM8aJlz"
   },
   "outputs": [],
   "source": [
    "prompt = PromptTemplate(\n",
    "    template=\"오늘의 날짜는 {today} 입니다. 오늘이 생일인 유명인 {n}명을 나열해 주세요. 생년월일을 표기해주세요.\",\n",
    "    input_variables=[\"n\"],\n",
    "    partial_variables={\n",
    "        \"today\": get_today  # dictionary 형태로 partial_variables를 전달\n",
    "    },\n",
    ")\n"
   ]
  },
  {
   "cell_type": "code",
   "execution_count": null,
   "metadata": {
    "id": "ZpP6kNYnaK6L"
   },
   "outputs": [],
   "source": [
    "# prompt 생성\n",
    "prompt.format(n=3)\n"
   ]
  },
  {
   "cell_type": "code",
   "execution_count": null,
   "metadata": {
    "id": "TWeKmg1pb8o8"
   },
   "outputs": [],
   "source": [
    "# chain 을 생성합니다.\n",
    "chain = prompt | llm\n"
   ]
  },
  {
   "cell_type": "code",
   "execution_count": null,
   "metadata": {
    "id": "memvBTBbb_X6"
   },
   "outputs": [],
   "source": [
    "response=chain.invoke[3]"
   ]
  },
  {
   "cell_type": "code",
   "execution_count": null,
   "metadata": {
    "id": "FjeM4h30cr06"
   },
   "outputs": [],
   "source": [
    "# chain 을 실행 후 결과를 확인합니다.\n",
    "print(chain.invoke({\"today\": \"Jan 02\", \"n\": 3}).content)\n"
   ]
  },
  {
   "cell_type": "markdown",
   "metadata": {
    "id": "nHrPRof1eTfX"
   },
   "source": [
    "## 파일로부터 template 읽어오기"
   ]
  },
  {
   "cell_type": "code",
   "execution_count": null,
   "metadata": {
    "id": "kKRujOt_e1W-"
   },
   "outputs": [],
   "source": [
    "pip install -qU langchain_teddynote"
   ]
  },
  {
   "cell_type": "code",
   "execution_count": null,
   "metadata": {
    "id": "yLJsyrb7eTAX"
   },
   "outputs": [],
   "source": [
    "from langchain_core.prompts import load_prompt\n",
    "\n",
    "prompt = load_prompt(\"/content/data/fruit_color.yaml\")\n",
    "\n"
   ]
  },
  {
   "cell_type": "code",
   "execution_count": null,
   "metadata": {
    "id": "-raAxjhffC3m"
   },
   "outputs": [],
   "source": [
    "prompt.format(fruit=\"사과\")\n"
   ]
  },
  {
   "cell_type": "code",
   "execution_count": null,
   "metadata": {
    "id": "-X0p2PeHfCxt"
   },
   "outputs": [],
   "source": [
    "prompt2 = load_prompt(\"/content/data/capital.yaml\")\n",
    "print(prompt2.format(country=\"대한민국\"))\n"
   ]
  },
  {
   "cell_type": "code",
   "execution_count": null,
   "metadata": {
    "id": "WY9DjbbHfn8n"
   },
   "outputs": [],
   "source": [
    "prompt = load_prompt(\"/content/data/fruit_color.yaml\")\n",
    "response = llm.invoke(\"바나나\")\n",
    "print(response)"
   ]
  },
  {
   "cell_type": "code",
   "execution_count": null,
   "metadata": {
    "id": "nFPWARlcfoRe"
   },
   "outputs": [],
   "source": [
    "prompt2.format(country=\"대한민국\")"
   ]
  },
  {
   "cell_type": "code",
   "execution_count": null,
   "metadata": {
    "id": "oSefI89rjSEU"
   },
   "outputs": [],
   "source": [
    "llm.invoke(prompt2.format(country=\"대한민국\"))"
   ]
  },
  {
   "cell_type": "code",
   "execution_count": null,
   "metadata": {
    "id": "prqvk2_qjSHN"
   },
   "outputs": [],
   "source": [
    "chain = prompt2 | llm"
   ]
  },
  {
   "cell_type": "code",
   "execution_count": null,
   "metadata": {
    "id": "f2psPpDHjSMU"
   },
   "outputs": [],
   "source": [
    "response = chain.invoke({\"country\": \"대한민국\"})"
   ]
  },
  {
   "cell_type": "code",
   "execution_count": null,
   "metadata": {
    "id": "Sv05vXgSjSUX"
   },
   "outputs": [],
   "source": [
    "response.content"
   ]
  }
 ],
 "metadata": {
  "colab": {
   "authorship_tag": "ABX9TyPX4ui6bvEE6a8JJNMLNrW7",
   "private_outputs": true,
   "provenance": []
  },
  "kernelspec": {
   "display_name": "Python 3",
   "name": "python3"
  },
  "language_info": {
   "name": "python"
  }
 },
 "nbformat": 4,
 "nbformat_minor": 0
}
