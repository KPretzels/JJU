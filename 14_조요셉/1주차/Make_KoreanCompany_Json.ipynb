{
 "cells": [
  {
   "cell_type": "code",
   "execution_count": 7,
   "metadata": {},
   "outputs": [
    {
     "name": "stdout",
     "output_type": "stream",
     "text": [
      "기업 정보가 'KoreanCompany.json' 파일로 저장되었습니다.\n"
     ]
    }
   ],
   "source": [
    "import dart_fss as dart_fss\n",
    "import pandas as pd\n",
    "import json\n",
    "\n",
    "api_key = 'your_api_key'\n",
    "dart_fss.set_api_key(api_key=api_key)\n",
    "\n",
    "corp_list = dart_fss.get_corp_list()\n",
    "\n",
    "lst = corp_list.corps\n",
    "corp_dict = {}\n",
    "\n",
    "for corp in corp_list.corps:\n",
    "    corp_name = corp.corp_name\n",
    "    # print(corp.stock_code)\n",
    "    if corp.stock_code != None:\n",
    "        corp_dict[corp_name] = corp.corp_code, corp.stock_code, corp.modify_date\n",
    "\n",
    "# JSON 파일로 저장\n",
    "with open('KoreanCompany.json', 'w', encoding='utf-8') as json_file:\n",
    "    json.dump(corp_dict, json_file, ensure_ascii=False, indent=4)\n",
    "\n",
    "print(\"기업 정보가 'KoreanCompany.json' 파일로 저장되었습니다.\")"
   ]
  }
 ],
 "metadata": {
  "kernelspec": {
   "display_name": "bitcomputer",
   "language": "python",
   "name": "python3"
  },
  "language_info": {
   "codemirror_mode": {
    "name": "ipython",
    "version": 3
   },
   "file_extension": ".py",
   "mimetype": "text/x-python",
   "name": "python",
   "nbconvert_exporter": "python",
   "pygments_lexer": "ipython3",
   "version": "3.11.11"
  }
 },
 "nbformat": 4,
 "nbformat_minor": 2
}
