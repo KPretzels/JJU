{
  "nbformat": 4,
  "nbformat_minor": 0,
  "metadata": {
    "colab": {
      "provenance": []
    },
    "kernelspec": {
      "name": "python3",
      "display_name": "Python 3"
    },
    "language_info": {
      "name": "python"
    }
  },
  "cells": [
    {
      "cell_type": "markdown",
      "source": [
        "# HTMLHeaderTextSplitter"
      ],
      "metadata": {
        "id": "zxBGwzNK_QUd"
      }
    },
    {
      "cell_type": "code",
      "execution_count": 1,
      "metadata": {
        "id": "VgRM58by8MX7"
      },
      "outputs": [],
      "source": [
        "from langchain_text_splitters import HTMLHeaderTextSplitter\n",
        "\n",
        "html_string = \"\"\"\n",
        "<!DOCTYPE html>\n",
        "  <html lang='en'>\n",
        "  <head>\n",
        "    <meta charset='UTF-8'>\n",
        "    <meta name='viewport' content='width=device-width, initial-scale=1.0'>\n",
        "    <title>Fancy Example HTML Page</title>\n",
        "  </head>\n",
        "  <body>\n",
        "    <h1>Main Title</h1>\n",
        "    <p>This is an introductory paragraph with some basic content.</p>\n",
        "\n",
        "    <h2>Section 1: Introduction</h2>\n",
        "    <p>This section introduces the topic. Below is a list:</p>\n",
        "    <ul>\n",
        "      <li>First item</li>\n",
        "      <li>Second item</li>\n",
        "      <li>Third item with <strong>bold text</strong> and <a href='#'>a link</a></li>\n",
        "    </ul>\n",
        "\n",
        "    <h3>Subsection 1.1: Details</h3>\n",
        "    <p>This subsection provides additional details. Here's a table:</p>\n",
        "    <table border='1'>\n",
        "      <thead>\n",
        "        <tr>\n",
        "          <th>Header 1</th>\n",
        "          <th>Header 2</th>\n",
        "          <th>Header 3</th>\n",
        "        </tr>\n",
        "      </thead>\n",
        "      <tbody>\n",
        "        <tr>\n",
        "          <td>Row 1, Cell 1</td>\n",
        "          <td>Row 1, Cell 2</td>\n",
        "          <td>Row 1, Cell 3</td>\n",
        "        </tr>\n",
        "        <tr>\n",
        "          <td>Row 2, Cell 1</td>\n",
        "          <td>Row 2, Cell 2</td>\n",
        "          <td>Row 2, Cell 3</td>\n",
        "        </tr>\n",
        "      </tbody>\n",
        "    </table>\n",
        "\n",
        "    <h2>Section 2: Media Content</h2>\n",
        "    <p>This section contains an image and a video:</p>\n",
        "      <img src='example_image_link.mp4' alt='Example Image'>\n",
        "      <video controls width='250' src='example_video_link.mp4' type='video/mp4'>\n",
        "      Your browser does not support the video tag.\n",
        "    </video>\n",
        "\n",
        "    <h2>Section 3: Code Example</h2>\n",
        "    <p>This section contains a code block:</p>\n",
        "    <pre><code data-lang=\"html\">\n",
        "    &lt;div&gt;\n",
        "      &lt;p&gt;This is a paragraph inside a div.&lt;/p&gt;\n",
        "    &lt;/div&gt;\n",
        "    </code></pre>\n",
        "\n",
        "    <h2>Conclusion</h2>\n",
        "    <p>This is the conclusion of the document.</p>\n",
        "  </body>\n",
        "  </html>\n",
        "\"\"\""
      ]
    },
    {
      "cell_type": "code",
      "source": [
        "headers_to_split_on = [\n",
        "    (\"h1\", \"Header 1\"),  # 분할할 헤더 태그와 해당 헤더의 이름을 지정합니다.\n",
        "    (\"h2\", \"Header 2\"),\n",
        "    (\"h3\", \"Header 3\"),\n",
        "]"
      ],
      "metadata": {
        "id": "LigReBO38Xyv"
      },
      "execution_count": 2,
      "outputs": []
    },
    {
      "cell_type": "code",
      "source": [
        "# 지정된 헤더를 기준으로 HTML 텍스트를 분할하는 HTMLHeaderTextSplitter 객체를 생성합니다.\n",
        "html_splitter = HTMLHeaderTextSplitter(headers_to_split_on=headers_to_split_on)"
      ],
      "metadata": {
        "id": "nvglTymX8ZO8"
      },
      "execution_count": 3,
      "outputs": []
    },
    {
      "cell_type": "code",
      "source": [
        "# HTML 문자열을 분할하여 결과를 html_header_splits 변수에 저장합니다.\n",
        "html_header_splits = html_splitter.split_text(html_string)"
      ],
      "metadata": {
        "id": "3GX3joSN8aff"
      },
      "execution_count": 4,
      "outputs": []
    },
    {
      "cell_type": "code",
      "source": [
        "# 분할된 결과를 출력합니다.\n",
        "for header in html_header_splits:\n",
        "    print(f\"{header.page_content}\")\n",
        "    print(f\"{header.metadata}\", end=\"\\n=====================\\n\")"
      ],
      "metadata": {
        "colab": {
          "base_uri": "https://localhost:8080/"
        },
        "id": "2nboIp1w8byj",
        "outputId": "c1bc815e-a4af-4777-e4e3-da491411314a"
      },
      "execution_count": 5,
      "outputs": [
        {
          "output_type": "stream",
          "name": "stdout",
          "text": [
            "This is an introductory paragraph with some basic content.\n",
            "{'Header 1': 'Main Title'}\n",
            "=====================\n",
            "This section introduces the topic. Below is a list:  \n",
            "First item Second item Third item with bold text and a link\n",
            "{'Header 1': 'Main Title', 'Header 2': 'Section 1: Introduction'}\n",
            "=====================\n",
            "This subsection provides additional details. Here's a table:\n",
            "{'Header 1': 'Main Title', 'Header 2': 'Section 1: Introduction', 'Header 3': 'Subsection 1.1: Details'}\n",
            "=====================\n",
            "This section contains an image and a video:\n",
            "{'Header 1': 'Main Title', 'Header 2': 'Section 2: Media Content'}\n",
            "=====================\n",
            "This section contains a code block:\n",
            "{'Header 1': 'Main Title', 'Header 2': 'Section 3: Code Example'}\n",
            "=====================\n",
            "This is the conclusion of the document.\n",
            "{'Header 1': 'Main Title', 'Header 2': 'Conclusion'}\n",
            "=====================\n"
          ]
        }
      ]
    },
    {
      "cell_type": "markdown",
      "source": [
        "# WEP URL 연결"
      ],
      "metadata": {
        "id": "JzZeYXv6_6mS"
      }
    },
    {
      "cell_type": "code",
      "source": [
        "from langchain_text_splitters import RecursiveCharacterTextSplitter\n",
        "\n",
        "url = \"https://plato.stanford.edu/entries/goedel/\"  # 분할할 텍스트의 URL을 지정합니다.\n",
        "\n",
        "headers_to_split_on = [  # 분할할 HTML 헤더 태그와 해당 헤더의 이름을 지정합니다.\n",
        "    (\"h1\", \"Header 1\"),\n",
        "    (\"h2\", \"Header 2\"),\n",
        "    (\"h3\", \"Header 3\"),\n",
        "    (\"h4\", \"Header 4\"),\n",
        "]\n",
        "\n",
        "# HTML 헤더를 기준으로 텍스트를 분할하는 HTMLHeaderTextSplitter 객체를 생성합니다.\n",
        "html_splitter = HTMLHeaderTextSplitter(headers_to_split_on=headers_to_split_on)\n",
        "\n",
        "# URL에서 텍스트를 가져와 HTML 헤더를 기준으로 분할합니다.\n",
        "html_header_splits = html_splitter.split_text_from_url(url)\n",
        "\n",
        "chunk_size = 500  # 텍스트를 분할할 청크의 크기를 지정합니다.\n",
        "chunk_overlap = 30  # 분할된 청크 간의 중복되는 문자 수를 지정합니다.\n",
        "text_splitter = RecursiveCharacterTextSplitter(  # 텍스트를 재귀적으로 분할하는 RecursiveCharacterTextSplitter 객체를 생성합니다.\n",
        "    chunk_size=chunk_size, chunk_overlap=chunk_overlap\n",
        ")"
      ],
      "metadata": {
        "id": "Z3-HyVUw9X0s"
      },
      "execution_count": 6,
      "outputs": []
    },
    {
      "cell_type": "code",
      "source": [
        "# HTML 헤더로 분할된 텍스트를 다시 청크 크기에 맞게 분할합니다.\n",
        "splits = text_splitter.split_documents(html_header_splits)"
      ],
      "metadata": {
        "id": "QSEST8F-A4KB"
      },
      "execution_count": 7,
      "outputs": []
    },
    {
      "cell_type": "code",
      "source": [
        "# 분할된 텍스트 중 80번째부터 85번째까지의 청크를 출력합니다.\n",
        "for header in splits[80:85]:\n",
        "    print(f\"{header.page_content}\")\n",
        "    print(f\"{header.metadata}\", end=\"\\n=====================\\n\")"
      ],
      "metadata": {
        "colab": {
          "base_uri": "https://localhost:8080/"
        },
        "id": "PCcyxclIA4XS",
        "outputId": "4bff7124-4de1-4ea4-f8aa-ad6ac31c7d12"
      },
      "execution_count": 8,
      "outputs": [
        {
          "output_type": "stream",
          "name": "stdout",
          "text": [
            "We see that Gödel first tried to reduce the consistency problem for analysis to that of arithmetic. This seemed to require a truth definition for arithmetic, which in turn led to paradoxes, such as the Liar paradox (“This sentence is false”) and Berry’s paradox (“The least number not defined by an expression consisting of just fourteen English words”). Gödel then noticed that such paradoxes would not necessarily arise if truth were replaced by provability. But this means that arithmetic truth\n",
            "{'Header 1': 'Kurt Gödel', 'Header 2': '2. Gödel’s Mathematical Work', 'Header 3': '2.2 The Incompleteness Theorems', 'Header 4': '2.2.1 The First Incompleteness Theorem'}\n",
            "=====================\n",
            "means that arithmetic truth and arithmetic provability are not co-extensive — whence the First Incompleteness Theorem.\n",
            "{'Header 1': 'Kurt Gödel', 'Header 2': '2. Gödel’s Mathematical Work', 'Header 3': '2.2 The Incompleteness Theorems', 'Header 4': '2.2.1 The First Incompleteness Theorem'}\n",
            "=====================\n",
            "This account of Gödel’s discovery was told to Hao Wang very much after the fact; but in Gödel’s contemporary correspondence with Bernays and Zermelo, essentially the same description of his path to the theorems is given. (See Gödel 2003a and Gödel 2003b respectively.) From those accounts we see that the undefinability of truth in arithmetic, a result credited to Tarski, was likely obtained in some form by Gödel by 1931. But he neither publicized nor published the result; the biases logicians\n",
            "{'Header 1': 'Kurt Gödel', 'Header 2': '2. Gödel’s Mathematical Work', 'Header 3': '2.2 The Incompleteness Theorems', 'Header 4': '2.2.1 The First Incompleteness Theorem'}\n",
            "=====================\n",
            "result; the biases logicians had expressed at the time concerning the notion of truth, biases which came vehemently to the fore when Tarski announced his results on the undefinability of truth in formal systems 1935, may have served as a deterrent to Gödel’s publication of that theorem.\n",
            "{'Header 1': 'Kurt Gödel', 'Header 2': '2. Gödel’s Mathematical Work', 'Header 3': '2.2 The Incompleteness Theorems', 'Header 4': '2.2.1 The First Incompleteness Theorem'}\n",
            "=====================\n",
            "We now describe the proof of the two theorems, formulating Gödel’s results in Peano arithmetic. Gödel himself used a system related to that defined in Principia Mathematica, but containing Peano arithmetic. In our presentation of the First and Second Incompleteness Theorems we refer to Peano arithmetic as P, following Gödel’s notation.\n",
            "{'Header 1': 'Kurt Gödel', 'Header 2': '2. Gödel’s Mathematical Work', 'Header 3': '2.2 The Incompleteness Theorems', 'Header 4': '2.2.2 The proof of the First Incompleteness Theorem'}\n",
            "=====================\n"
          ]
        }
      ]
    },
    {
      "cell_type": "code",
      "source": [
        "with open('/content/이력서.html') as f:\n",
        "  file = f.read()\n",
        "\n",
        "file"
      ],
      "metadata": {
        "colab": {
          "base_uri": "https://localhost:8080/",
          "height": 145
        },
        "id": "lclxk3uoCGUn",
        "outputId": "6beb8b68-ce82-4de0-cf3c-51e312ead124"
      },
      "execution_count": 13,
      "outputs": [
        {
          "output_type": "execute_result",
          "data": {
            "text/plain": [
              "'<html><head><meta http-equiv=\"Content-Type\" content=\"text/html; charset=utf-8\"/><title>데이터 이력서 템플릿 2</title><style>\\n/* cspell:disable-file */\\n/* webkit printing magic: print all background colors */\\nhtml {\\n\\t-webkit-print-color-adjust: exact;\\n}\\n* {\\n\\tbox-sizing: border-box;\\n\\t-webkit-print-color-adjust: exact;\\n}\\n\\nhtml,\\nbody {\\n\\tmargin: 0;\\n\\tpadding: 0;\\n}\\n@media only screen {\\n\\tbody {\\n\\t\\tmargin: 2em auto;\\n\\t\\tmax-width: 900px;\\n\\t\\tcolor: rgb(55, 53, 47);\\n\\t}\\n}\\n\\nbody {\\n\\tline-height: 1.5;\\n\\twhite-space: pre-wrap;\\n}\\n\\na,\\na.visited {\\n\\tcolor: inherit;\\n\\ttext-decoration: underline;\\n}\\n\\n.pdf-relative-link-path {\\n\\tfont-size: 80%;\\n\\tcolor: #444;\\n}\\n\\nh1,\\nh2,\\nh3 {\\n\\tletter-spacing: -0.01em;\\n\\tline-height: 1.2;\\n\\tfont-weight: 600;\\n\\tmargin-bottom: 0;\\n}\\n\\n.page-title {\\n\\tfont-size: 2.5rem;\\n\\tfont-weight: 700;\\n\\tmargin-top: 0;\\n\\tmargin-bottom: 0.75em;\\n}\\n\\nh1 {\\n\\tfont-size: 1.875rem;\\n\\tmargin-top: 1.875rem;\\n}\\n\\nh2 {\\n\\tfont-size: 1.5rem;\\n\\tmargin-top: 1.5rem;\\n}\\n\\nh3 {\\n\\tfont-size: 1.25rem;\\n\\tmargin-top: 1.25rem;\\n}\\n\\n.source {\\n\\tborder: 1px solid #ddd;\\n\\tborder-radius: 3px;\\n\\tpadding: 1.5em;\\n\\tword-break: break-all;\\n}\\n\\n.callout {\\n\\tborder-radius: 3px;\\n\\tpadding: 1rem;\\n}\\n\\nfigure {\\n\\tmargin: 1.25em 0;\\n\\tpage-break-inside: avoid;\\n}\\n\\nfigcaption {\\n\\topacity: 0.5;\\n\\tfont-size: 85%;\\n\\tmargin-top: 0.5em;\\n}\\n\\nmark {\\n\\tbackground-color: transparent;\\n}\\n\\n.indented {\\n\\tpadding-left: 1.5em;\\n}\\n\\nhr {\\n\\tbackground: transparent;\\n\\tdisplay: block;\\n\\twidth: 100%;\\n\\theight: 1px;\\n\\tvisibility: visible;\\n\\tborder: none;\\n\\tborder-bottom: 1px solid rgba(55, 53, 47, 0.09);\\n}\\n\\nimg {\\n\\tmax-width: 100%;\\n}\\n\\n@media only print {\\n\\timg {\\n\\t\\tmax-height: 100vh;\\n\\t\\tobject-fit: contain;\\n\\t}\\n}\\n\\n@page {\\n\\tmargin: 1in;\\n}\\n\\n.collection-content {\\n\\tfont-size: 0.875rem;\\n}\\n\\n.column-list {\\n\\tdisplay: flex;\\n\\tjustify-content: space-between;\\n}\\n\\n.column {\\n\\tpadding: 0 1em;\\n}\\n\\n.column:first-child {\\n\\tpadding-left: 0;\\n}\\n\\n.column:last-child {\\n\\tpadding-right: 0;\\n}\\n\\n.table_of_contents-item {\\n\\tdisplay: block;\\n\\tfont-size: 0.875rem;\\n\\tline-height: 1.3;\\n\\tpadding: 0.125rem;\\n}\\n\\n.table_of_contents-indent-1 {\\n\\tmargin-left: 1.5rem;\\n}\\n\\n.table_of_contents-indent-2 {\\n\\tmargin-left: 3rem;\\n}\\n\\n.table_of_contents-indent-3 {\\n\\tmargin-left: 4.5rem;\\n}\\n\\n.table_of_contents-link {\\n\\ttext-decoration: none;\\n\\topacity: 0.7;\\n\\tborder-bottom: 1px solid rgba(55, 53, 47, 0.18);\\n}\\n\\ntable,\\nth,\\ntd {\\n\\tborder: 1px solid rgba(55, 53, 47, 0.09);\\n\\tborder-collapse: collapse;\\n}\\n\\ntable {\\n\\tborder-left: none;\\n\\tborder-right: none;\\n}\\n\\nth,\\ntd {\\n\\tfont-weight: normal;\\n\\tpadding: 0.25em 0.5em;\\n\\tline-height: 1.5;\\n\\tmin-height: 1.5em;\\n\\ttext-align: left;\\n}\\n\\nth {\\n\\tcolor: rgba(55, 53, 47, 0.6);\\n}\\n\\nol,\\nul {\\n\\tmargin: 0;\\n\\tmargin-block-start: 0.6em;\\n\\tmargin-block-end: 0.6em;\\n}\\n\\nli > ol:first-child,\\nli > ul:first-child {\\n\\tmargin-block-start: 0.6em;\\n}\\n\\nul > li {\\n\\tlist-style: disc;\\n}\\n\\nul.to-do-list {\\n\\tpadding-inline-start: 0;\\n}\\n\\nul.to-do-list > li {\\n\\tlist-style: none;\\n}\\n\\n.to-do-children-checked {\\n\\ttext-decoration: line-through;\\n\\topacity: 0.375;\\n}\\n\\nul.toggle > li {\\n\\tlist-style: none;\\n}\\n\\nul {\\n\\tpadding-inline-start: 1.7em;\\n}\\n\\nul > li {\\n\\tpadding-left: 0.1em;\\n}\\n\\nol {\\n\\tpadding-inline-start: 1.6em;\\n}\\n\\nol > li {\\n\\tpadding-left: 0.2em;\\n}\\n\\n.mono ol {\\n\\tpadding-inline-start: 2em;\\n}\\n\\n.mono ol > li {\\n\\ttext-indent: -0.4em;\\n}\\n\\n.toggle {\\n\\tpadding-inline-start: 0em;\\n\\tlist-style-type: none;\\n}\\n\\n/* Indent toggle children */\\n.toggle > li > details {\\n\\tpadding-left: 1.7em;\\n}\\n\\n.toggle > li > details > summary {\\n\\tmargin-left: -1.1em;\\n}\\n\\n.selected-value {\\n\\tdisplay: inline-block;\\n\\tpadding: 0 0.5em;\\n\\tbackground: rgba(206, 205, 202, 0.5);\\n\\tborder-radius: 3px;\\n\\tmargin-right: 0.5em;\\n\\tmargin-top: 0.3em;\\n\\tmargin-bottom: 0.3em;\\n\\twhite-space: nowrap;\\n}\\n\\n.collection-title {\\n\\tdisplay: inline-block;\\n\\tmargin-right: 1em;\\n}\\n\\n.page-description {\\n\\tmargin-bottom: 2em;\\n}\\n\\n.simple-table {\\n\\tmargin-top: 1em;\\n\\tfont-size: 0.875rem;\\n\\tempty-cells: show;\\n}\\n.simple-table td {\\n\\theight: 29px;\\n\\tmin-width: 120px;\\n}\\n\\n.simple-table th {\\n\\theight: 29px;\\n\\tmin-width: 120px;\\n}\\n\\n.simple-table-header-color {\\n\\tbackground: rgb(247, 246, 243);\\n\\tcolor: black;\\n}\\n.simple-table-header {\\n\\tfont-weight: 500;\\n}\\n\\ntime {\\n\\topacity: 0.5;\\n}\\n\\n.icon {\\n\\tdisplay: inline-block;\\n\\tmax-width: 1.2em;\\n\\tmax-height: 1.2em;\\n\\ttext-decoration: none;\\n\\tvertical-align: text-bottom;\\n\\tmargin-right: 0.5em;\\n}\\n\\nimg.icon {\\n\\tborder-radius: 3px;\\n}\\n\\n.user-icon {\\n\\twidth: 1.5em;\\n\\theight: 1.5em;\\n\\tborder-radius: 100%;\\n\\tmargin-right: 0.5rem;\\n}\\n\\n.user-icon-inner {\\n\\tfont-size: 0.8em;\\n}\\n\\n.text-icon {\\n\\tborder: 1px solid #000;\\n\\ttext-align: center;\\n}\\n\\n.page-cover-image {\\n\\tdisplay: block;\\n\\tobject-fit: cover;\\n\\twidth: 100%;\\n\\tmax-height: 30vh;\\n}\\n\\n.page-header-icon {\\n\\tfont-size: 3rem;\\n\\tmargin-bottom: 1rem;\\n}\\n\\n.page-header-icon-with-cover {\\n\\tmargin-top: -0.72em;\\n\\tmargin-left: 0.07em;\\n}\\n\\n.page-header-icon img {\\n\\tborder-radius: 3px;\\n}\\n\\n.link-to-page {\\n\\tmargin: 1em 0;\\n\\tpadding: 0;\\n\\tborder: none;\\n\\tfont-weight: 500;\\n}\\n\\np > .user {\\n\\topacity: 0.5;\\n}\\n\\ntd > .user,\\ntd > time {\\n\\twhite-space: nowrap;\\n}\\n\\ninput[type=\"checkbox\"] {\\n\\ttransform: scale(1.5);\\n\\tmargin-right: 0.6em;\\n\\tvertical-align: middle;\\n}\\n\\np {\\n\\tmargin-top: 0.5em;\\n\\tmargin-bottom: 0.5em;\\n}\\n\\n.image {\\n\\tborder: none;\\n\\tmargin: 1.5em 0;\\n\\tpadding: 0;\\n\\tborder-radius: 0;\\n\\ttext-align: center;\\n}\\n\\n.code,\\ncode {\\n\\tbackground: rgba(135, 131, 120, 0.15);\\n\\tborder-radius: 3px;\\n\\tpadding: 0.2em 0.4em;\\n\\tborder-radius: 3px;\\n\\tfont-size: 85%;\\n\\ttab-size: 2;\\n}\\n\\ncode {\\n\\tcolor: #eb5757;\\n}\\n\\n.code {\\n\\tpadding: 1.5em 1em;\\n}\\n\\n.code-wrap {\\n\\twhite-space: pre-wrap;\\n\\tword-break: break-all;\\n}\\n\\n.code > code {\\n\\tbackground: none;\\n\\tpadding: 0;\\n\\tfont-size: 100%;\\n\\tcolor: inherit;\\n}\\n\\nblockquote {\\n\\tfont-size: 1.25em;\\n\\tmargin: 1em 0;\\n\\tpadding-left: 1em;\\n\\tborder-left: 3px solid rgb(55, 53, 47);\\n}\\n\\n.bookmark {\\n\\ttext-decoration: none;\\n\\tmax-height: 8em;\\n\\tpadding: 0;\\n\\tdisplay: flex;\\n\\twidth: 100%;\\n\\talign-items: stretch;\\n}\\n\\n.bookmark-title {\\n\\tfont-size: 0.85em;\\n\\toverflow: hidden;\\n\\ttext-overflow: ellipsis;\\n\\theight: 1.75em;\\n\\twhite-space: nowrap;\\n}\\n\\n.bookmark-text {\\n\\tdisplay: flex;\\n\\tflex-direction: column;\\n}\\n\\n.bookmark-info {\\n\\tflex: 4 1 180px;\\n\\tpadding: 12px 14px 14px;\\n\\tdisplay: flex;\\n\\tflex-direction: column;\\n\\tjustify-content: space-between;\\n}\\n\\n.bookmark-image {\\n\\twidth: 33%;\\n\\tflex: 1 1 180px;\\n\\tdisplay: block;\\n\\tposition: relative;\\n\\tobject-fit: cover;\\n\\tborder-radius: 1px;\\n}\\n\\n.bookmark-description {\\n\\tcolor: rgba(55, 53, 47, 0.6);\\n\\tfont-size: 0.75em;\\n\\toverflow: hidden;\\n\\tmax-height: 4.5em;\\n\\tword-break: break-word;\\n}\\n\\n.bookmark-href {\\n\\tfont-size: 0.75em;\\n\\tmargin-top: 0.25em;\\n}\\n\\n.sans { font-family: ui-sans-serif, -apple-system, BlinkMacSystemFont, \"Segoe UI Variable Display\", \"Segoe UI\", Helvetica, \"Apple Color Emoji\", Arial, sans-serif, \"Segoe UI Emoji\", \"Segoe UI Symbol\"; }\\n.code { font-family: \"SFMono-Regular\", Menlo, Consolas, \"PT Mono\", \"Liberation Mono\", Courier, monospace; }\\n.serif { font-family: Lyon-Text, Georgia, ui-serif, serif; }\\n.mono { font-family: iawriter-mono, Nitti, Menlo, Courier, monospace; }\\n.pdf .sans { font-family: Inter, ui-sans-serif, -apple-system, BlinkMacSystemFont, \"Segoe UI Variable Display\", \"Segoe UI\", Helvetica, \"Apple Color Emoji\", Arial, sans-serif, \"Segoe UI Emoji\", \"Segoe UI Symbol\", \\'Twemoji\\', \\'Noto Color Emoji\\', \\'Noto Sans CJK JP\\'; }\\n.pdf:lang(zh-CN) .sans { font-family: Inter, ui-sans-serif, -apple-system, BlinkMacSystemFont, \"Segoe UI Variable Display\", \"Segoe UI\", Helvetica, \"Apple Color Emoji\", Arial, sans-serif, \"Segoe UI Emoji\", \"Segoe UI Symbol\", \\'Twemoji\\', \\'Noto Color Emoji\\', \\'Noto Sans CJK SC\\'; }\\n.pdf:lang(zh-TW) .sans { font-family: Inter, ui-sans-serif, -apple-system, BlinkMacSystemFont, \"Segoe UI Variable Display\", \"Segoe UI\", Helvetica, \"Apple Color Emoji\", Arial, sans-serif, \"Segoe UI Emoji\", \"Segoe UI Symbol\", \\'Twemoji\\', \\'Noto Color Emoji\\', \\'Noto Sans CJK TC\\'; }\\n.pdf:lang(ko-KR) .sans { font-family: Inter, ui-sans-serif, -apple-system, BlinkMacSystemFont, \"Segoe UI Variable Display\", \"Segoe UI\", Helvetica, \"Apple Color Emoji\", Arial, sans-serif, \"Segoe UI Emoji\", \"Segoe UI Symbol\", \\'Twemoji\\', \\'Noto Color Emoji\\', \\'Noto Sans CJK KR\\'; }\\n.pdf .code { font-family: Source Code Pro, \"SFMono-Regular\", Menlo, Consolas, \"PT Mono\", \"Liberation Mono\", Courier, monospace, \\'Twemoji\\', \\'Noto Color Emoji\\', \\'Noto Sans Mono CJK JP\\'; }\\n.pdf:lang(zh-CN) .code { font-family: Source Code Pro, \"SFMono-Regular\", Menlo, Consolas, \"PT Mono\", \"Liberation Mono\", Courier, monospace, \\'Twemoji\\', \\'Noto Color Emoji\\', \\'Noto Sans Mono CJK SC\\'; }\\n.pdf:lang(zh-TW) .code { font-family: Source Code Pro, \"SFMono-Regular\", Menlo, Consolas, \"PT Mono\", \"Liberation Mono\", Courier, monospace, \\'Twemoji\\', \\'Noto Color Emoji\\', \\'Noto Sans Mono CJK TC\\'; }\\n.pdf:lang(ko-KR) .code { font-family: Source Code Pro, \"SFMono-Regular\", Menlo, Consolas, \"PT Mono\", \"Liberation Mono\", Courier, monospace, \\'Twemoji\\', \\'Noto Color Emoji\\', \\'Noto Sans Mono CJK KR\\'; }\\n.pdf .serif { font-family: PT Serif, Lyon-Text, Georgia, ui-serif, serif, \\'Twemoji\\', \\'Noto Color Emoji\\', \\'Noto Serif CJK JP\\'; }\\n.pdf:lang(zh-CN) .serif { font-family: PT Serif, Lyon-Text, Georgia, ui-serif, serif, \\'Twemoji\\', \\'Noto Color Emoji\\', \\'Noto Serif CJK SC\\'; }\\n.pdf:lang(zh-TW) .serif { font-family: PT Serif, Lyon-Text, Georgia, ui-serif, serif, \\'Twemoji\\', \\'Noto Color Emoji\\', \\'Noto Serif CJK TC\\'; }\\n.pdf:lang(ko-KR) .serif { font-family: PT Serif, Lyon-Text, Georgia, ui-serif, serif, \\'Twemoji\\', \\'Noto Color Emoji\\', \\'Noto Serif CJK KR\\'; }\\n.pdf .mono { font-family: PT Mono, iawriter-mono, Nitti, Menlo, Courier, monospace, \\'Twemoji\\', \\'Noto Color Emoji\\', \\'Noto Sans Mono CJK JP\\'; }\\n.pdf:lang(zh-CN) .mono { font-family: PT Mono, iawriter-mono, Nitti, Menlo, Courier, monospace, \\'Twemoji\\', \\'Noto Color Emoji\\', \\'Noto Sans Mono CJK SC\\'; }\\n.pdf:lang(zh-TW) .mono { font-family: PT Mono, iawriter-mono, Nitti, Menlo, Courier, monospace, \\'Twemoji\\', \\'Noto Color Emoji\\', \\'Noto Sans Mono CJK TC\\'; }\\n.pdf:lang(ko-KR) .mono { font-family: PT Mono, iawriter-mono, Nitti, Menlo, Courier, monospace, \\'Twemoji\\', \\'Noto Color Emoji\\', \\'Noto Sans Mono CJK KR\\'; }\\n.highlight-default {\\n\\tcolor: rgba(55, 53, 47, 1);\\n}\\n.highlight-gray {\\n\\tcolor: rgba(120, 119, 116, 1);\\n\\tfill: rgba(120, 119, 116, 1);\\n}\\n.highlight-brown {\\n\\tcolor: rgba(159, 107, 83, 1);\\n\\tfill: rgba(159, 107, 83, 1);\\n}\\n.highlight-orange {\\n\\tcolor: rgba(217, 115, 13, 1);\\n\\tfill: rgba(217, 115, 13, 1);\\n}\\n.highlight-yellow {\\n\\tcolor: rgba(203, 145, 47, 1);\\n\\tfill: rgba(203, 145, 47, 1);\\n}\\n.highlight-teal {\\n\\tcolor: rgba(68, 131, 97, 1);\\n\\tfill: rgba(68, 131, 97, 1);\\n}\\n.highlight-blue {\\n\\tcolor: rgba(51, 126, 169, 1);\\n\\tfill: rgba(51, 126, 169, 1);\\n}\\n.highlight-purple {\\n\\tcolor: rgba(144, 101, 176, 1);\\n\\tfill: rgba(144, 101, 176, 1);\\n}\\n.highlight-pink {\\n\\tcolor: rgba(193, 76, 138, 1);\\n\\tfill: rgba(193, 76, 138, 1);\\n}\\n.highlight-red {\\n\\tcolor: rgba(212, 76, 71, 1);\\n\\tfill: rgba(212, 76, 71, 1);\\n}\\n.highlight-default_background {\\n\\tcolor: rgba(55, 53, 47, 1);\\n}\\n.highlight-gray_background {\\n\\tbackground: rgba(241, 241, 239, 1);\\n}\\n.highlight-brown_background {\\n\\tbackground: rgba(244, 238, 238, 1);\\n}\\n.highlight-orange_background {\\n\\tbackground: rgba(251, 236, 221, 1);\\n}\\n.highlight-yellow_background {\\n\\tbackground: rgba(251, 243, 219, 1);\\n}\\n.highlight-teal_background {\\n\\tbackground: rgba(237, 243, 236, 1);\\n}\\n.highlight-blue_background {\\n\\tbackground: rgba(231, 243, 248, 1);\\n}\\n.highlight-purple_background {\\n\\tbackground: rgba(244, 240, 247, 0.8);\\n}\\n.highlight-pink_background {\\n\\tbackground: rgba(249, 238, 243, 0.8);\\n}\\n.highlight-red_background {\\n\\tbackground: rgba(253, 235, 236, 1);\\n}\\n.block-color-default {\\n\\tcolor: inherit;\\n\\tfill: inherit;\\n}\\n.block-color-gray {\\n\\tcolor: rgba(120, 119, 116, 1);\\n\\tfill: rgba(120, 119, 116, 1);\\n}\\n.block-color-brown {\\n\\tcolor: rgba(159, 107, 83, 1);\\n\\tfill: rgba(159, 107, 83, 1);\\n}\\n.block-color-orange {\\n\\tcolor: rgba(217, 115, 13, 1);\\n\\tfill: rgba(217, 115, 13, 1);\\n}\\n.block-color-yellow {\\n\\tcolor: rgba(203, 145, 47, 1);\\n\\tfill: rgba(203, 145, 47, 1);\\n}\\n.block-color-teal {\\n\\tcolor: rgba(68, 131, 97, 1);\\n\\tfill: rgba(68, 131, 97, 1);\\n}\\n.block-color-blue {\\n\\tcolor: rgba(51, 126, 169, 1);\\n\\tfill: rgba(51, 126, 169, 1);\\n}\\n.block-color-purple {\\n\\tcolor: rgba(144, 101, 176, 1);\\n\\tfill: rgba(144, 101, 176, 1);\\n}\\n.block-color-pink {\\n\\tcolor: rgba(193, 76, 138, 1);\\n\\tfill: rgba(193, 76, 138, 1);\\n}\\n.block-color-red {\\n\\tcolor: rgba(212, 76, 71, 1);\\n\\tfill: rgba(212, 76, 71, 1);\\n}\\n.block-color-default_background {\\n\\tcolor: inherit;\\n\\tfill: inherit;\\n}\\n.block-color-gray_background {\\n\\tbackground: rgba(241, 241, 239, 1);\\n}\\n.block-color-brown_background {\\n\\tbackground: rgba(244, 238, 238, 1);\\n}\\n.block-color-orange_background {\\n\\tbackground: rgba(251, 236, 221, 1);\\n}\\n.block-color-yellow_background {\\n\\tbackground: rgba(251, 243, 219, 1);\\n}\\n.block-color-teal_background {\\n\\tbackground: rgba(237, 243, 236, 1);\\n}\\n.block-color-blue_background {\\n\\tbackground: rgba(231, 243, 248, 1);\\n}\\n.block-color-purple_background {\\n\\tbackground: rgba(244, 240, 247, 0.8);\\n}\\n.block-color-pink_background {\\n\\tbackground: rgba(249, 238, 243, 0.8);\\n}\\n.block-color-red_background {\\n\\tbackground: rgba(253, 235, 236, 1);\\n}\\n.select-value-color-uiBlue { background-color: rgba(35, 131, 226, .07); }\\n.select-value-color-pink { background-color: rgba(245, 224, 233, 1); }\\n.select-value-color-purple { background-color: rgba(232, 222, 238, 1); }\\n.select-value-color-green { background-color: rgba(219, 237, 219, 1); }\\n.select-value-color-gray { background-color: rgba(227, 226, 224, 1); }\\n.select-value-color-transparentGray { background-color: rgba(227, 226, 224, 0); }\\n.select-value-color-translucentGray { background-color: rgba(0, 0, 0, 0.06); }\\n.select-value-color-orange { background-color: rgba(250, 222, 201, 1); }\\n.select-value-color-brown { background-color: rgba(238, 224, 218, 1); }\\n.select-value-color-red { background-color: rgba(255, 226, 221, 1); }\\n.select-value-color-yellow { background-color: rgba(253, 236, 200, 1); }\\n.select-value-color-blue { background-color: rgba(211, 229, 239, 1); }\\n.select-value-color-pageGlass { background-color: undefined; }\\n.select-value-color-washGlass { background-color: undefined; }\\n\\n.checkbox {\\n\\tdisplay: inline-flex;\\n\\tvertical-align: text-bottom;\\n\\twidth: 16;\\n\\theight: 16;\\n\\tbackground-size: 16px;\\n\\tmargin-left: 2px;\\n\\tmargin-right: 5px;\\n}\\n\\n.checkbox-on {\\n\\tbackground-image: url(\"data:image/svg+xml;charset=UTF-8,%3Csvg%20width%3D%2216%22%20height%3D%2216%22%20viewBox%3D%220%200%2016%2016%22%20fill%3D%22none%22%20xmlns%3D%22http%3A%2F%2Fwww.w3.org%2F2000%2Fsvg%22%3E%0A%3Crect%20width%3D%2216%22%20height%3D%2216%22%20fill%3D%22%2358A9D7%22%2F%3E%0A%3Cpath%20d%3D%22M6.71429%2012.2852L14%204.9995L12.7143%203.71436L6.71429%209.71378L3.28571%206.2831L2%207.57092L6.71429%2012.2852Z%22%20fill%3D%22white%22%2F%3E%0A%3C%2Fsvg%3E\");\\n}\\n\\n.checkbox-off {\\n\\tbackground-image: url(\"data:image/svg+xml;charset=UTF-8,%3Csvg%20width%3D%2216%22%20height%3D%2216%22%20viewBox%3D%220%200%2016%2016%22%20fill%3D%22none%22%20xmlns%3D%22http%3A%2F%2Fwww.w3.org%2F2000%2Fsvg%22%3E%0A%3Crect%20x%3D%220.75%22%20y%3D%220.75%22%20width%3D%2214.5%22%20height%3D%2214.5%22%20fill%3D%22white%22%20stroke%3D%22%2336352F%22%20stroke-width%3D%221.5%22%2F%3E%0A%3C%2Fsvg%3E\");\\n}\\n\\t\\n</style></head><body><article id=\"16d92d3b-1eb7-8019-8429-de9b5e0a259b\" class=\"page sans\"><header><img class=\"page-cover-image\" src=\"banner.webp\" style=\"object-position:center 69.7%\"/><div class=\"page-header-icon page-header-icon-with-cover\"><img class=\"icon\" src=\"logo.png\"/></div><h1 class=\"page-title\">데이터 이력서 템플릿 2</h1><p class=\"page-description\"></p></header><div class=\"page-body\"><hr id=\"16d92d3b-1eb7-818b-a55c-cfa5eac64b98\"/><div id=\"16d92d3b-1eb7-8117-a330-c2c2ffc16640\" class=\"column-list\"><div id=\"16d92d3b-1eb7-8179-8f7d-d10e84a84956\" style=\"width:25%\" class=\"column\"><p id=\"16d92d3b-1eb7-8135-b272-e0e4bd12f763\" class=\"\">이력서 템플릿 무료 버전 2</p></div><div id=\"16d92d3b-1eb7-81a5-bad4-c25eceeaf352\" style=\"width:75%\" class=\"column\"><ul id=\"16d92d3b-1eb7-81b5-ab95-d165d31491de\" class=\"block-color-default toggle\"><li><details open=\"\"><summary><mark class=\"highlight-gray\">순서 (Table of Contents)</mark></summary><figure class=\"block-color-default_background callout\" style=\"white-space:pre-wrap;display:flex\" id=\"16d92d3b-1eb7-810d-a133-c2c72f39aecf\"><div style=\"width:100%\"><nav id=\"16d92d3b-1eb7-810b-9f98-cf8addbd55b2\" class=\"block-color-gray table_of_contents\"><div class=\"table_of_contents-item table_of_contents-indent-0\"><a class=\"table_of_contents-link\" href=\"#16d92d3b-1eb7-8170-95d5-c1156a5e0a9f\"><mark class=\"highlight-default_background\">프로필 (Profile)</mark></a></div><div class=\"table_of_contents-item table_of_contents-indent-0\"><a class=\"table_of_contents-link\" href=\"#16d92d3b-1eb7-8101-ac12-d68f465f5f9a\">프로필 (Profile)</a></div><div class=\"table_of_contents-item table_of_contents-indent-0\"><a class=\"table_of_contents-link\" href=\"#16d92d3b-1eb7-810a-a7c8-f8d404564eda\">약력 (About Me)</a></div><div class=\"table_of_contents-item table_of_contents-indent-0\"><a class=\"table_of_contents-link\" href=\"#16d92d3b-1eb7-810b-be72-d3f19f67d89a\">직무 및 이력 (Experiences)</a></div><div class=\"table_of_contents-item table_of_contents-indent-0\"><a class=\"table_of_contents-link\" href=\"#16d92d3b-1eb7-81fb-8819-fd83695753d1\">보유 스킬 (Skill)</a></div><div class=\"table_of_contents-item table_of_contents-indent-0\"><a class=\"table_of_contents-link\" href=\"#16d92d3b-1eb7-81cd-a06e-d64a8834e4ea\">프로젝트 (Project)</a></div><div class=\"table_of_contents-item table_of_contents-indent-0\"><a class=\"table_of_contents-link\" href=\"#16d92d3b-1eb7-818c-ab3d-e8542836a106\">학력 (Education)</a></div><div class=\"table_of_contents-item table_of_contents-indent-1\"><a class=\"table_of_contents-link\" href=\"#16d92d3b-1eb7-81bd-a5ec-f1bdc8a536d7\"><strong>전주 대학교 </strong></a></div><div class=\"table_of_contents-item table_of_contents-indent-1\"><a class=\"table_of_contents-link\" href=\"#16d92d3b-1eb7-815b-aadd-e58d3260b4f5\"><strong>학위 </strong></a></div><div class=\"table_of_contents-item table_of_contents-indent-0\"><a class=\"table_of_contents-link\" href=\"#16d92d3b-1eb7-8133-8464-d5b4b15a0b44\">소셜 미디어 &amp; 블로그 <br/>(Social &amp; Blog)<br/></a></div><div class=\"table_of_contents-item table_of_contents-indent-0\"><a class=\"table_of_contents-link\" href=\"#16d92d3b-1eb7-8107-99b7-f2e944285da6\">커피챗 (Coffee Chat)</a></div></nav></div></figure><figure class=\"block-color-default callout\" style=\"white-space:pre-wrap;display:flex\" id=\"16d92d3b-1eb7-8132-89b8-dc51c21f6f11\"><div style=\"font-size:1.5em\"><img class=\"icon\" src=\"https://www.notion.so/icons/clipping_gray.svg\"/></div><div style=\"width:100%\"><strong>[준비 중] </strong>템플릿을 pdf 형태로 바꾸는 법→</div></figure></details></li></ul></div></div><hr id=\"16d92d3b-1eb7-8154-afb3-edd2f40ba42e\"/><div id=\"16d92d3b-1eb7-81e1-b7b1-f492749af2fa\" class=\"column-list\"><div id=\"16d92d3b-1eb7-814e-82a1-c3ea1ea10171\" style=\"width:20.833333333333332%\" class=\"column\"><figure class=\"block-color-default_background callout\" style=\"white-space:pre-wrap;display:flex\" id=\"16d92d3b-1eb7-81b8-9b28-d3ec49cb8b75\"><div style=\"width:100%\"><h2 id=\"16d92d3b-1eb7-8170-95d5-c1156a5e0a9f\" class=\"block-color-default_background\"><mark class=\"highlight-default_background\">프로필 (Profile)</mark></h2><hr id=\"16d92d3b-1eb7-81ac-8d2e-e8e9a04ef409\"/><figure id=\"16d92d3b-1eb7-81dc-adad-c9eff93b0f6d\" class=\"image\" style=\"text-align:center\"><a href=\"profile.png\"><img style=\"width:288px\" src=\"profile.png\"/></a><figcaption>프로필 사진</figcaption></figure></div></figure></div><div id=\"16d92d3b-1eb7-81fa-8389-f1bdeba0652a\" style=\"width:58.33333333333333%\" class=\"column\"><figure class=\"block-color-default_background callout\" style=\"white-space:pre-wrap;display:flex\" id=\"16d92d3b-1eb7-818e-a167-f8fedf1a0b07\"><div style=\"width:100%\"><h2 id=\"16d92d3b-1eb7-8101-ac12-d68f465f5f9a\" class=\"block-color-default_background\">프로필 (Profile)</h2><ul id=\"16d92d3b-1eb7-8111-8645-e835f8f59102\" class=\"toggle\"><li><details open=\"\"><summary><mark class=\"highlight-default\"><strong>[프로필]을 작성할 때 다음과 같은 사항을 고려하여 작성해주세요.</strong></mark></summary><p id=\"16d92d3b-1eb7-81ef-ac01-f4f7e15b413c\" class=\"\"><mark class=\"highlight-gray\"><br/>- 한 줄 소개는 보는 사람이 다음 내용을 궁금하게 하는 첫번째 후킹(Hooking) 포인트입니다. <br/>- 한 줄 소개 파트 뒤에 등장하는 경력과 학력, 프로젝트는 모두 뒷받침하는 내용이 되어야 합니다.<br/></mark><br/><br/>[00]에 경험을 가진 [0]년차 [직무 타이틀]입니다.<br/><br/><mark class=\"highlight-gray\">예시) 태블로 대시보드 제작 경험이 있는  3년차 데이터 분석가입니다.</mark></p></details></li></ul><hr id=\"16d92d3b-1eb7-8101-aa0a-e610b0a2f0a2\"/><div id=\"16d92d3b-1eb7-8168-99bc-f6549cd363f6\" class=\"column-list\"><div id=\"16d92d3b-1eb7-81f4-ac40-f0f28bf38dc1\" style=\"width:12.5%\" class=\"column\"><figure id=\"16d92d3b-1eb7-8100-8194-f3a0112809f0\" class=\"image\" style=\"text-align:left\"><a href=\"phone.svg\"><img style=\"width:30.000001907348633px\" src=\"phone.svg\"/></a></figure><p id=\"16d92d3b-1eb7-81f1-8da8-cca8e8d7feef\" class=\"\"><strong>연락처</strong></p></div><div id=\"16d92d3b-1eb7-813b-b862-e86c52dc8d7b\" style=\"width:87.49999999999997%\" class=\"column\"><blockquote id=\"16d92d3b-1eb7-810b-990d-d0f22e8c6128\" class=\"\"><mark class=\"highlight-gray\">010-4903-7391</mark></blockquote></div></div><hr id=\"16d92d3b-1eb7-8185-8eb4-f79a75cda987\"/><div id=\"16d92d3b-1eb7-81d5-a70d-e8c0ef411d52\" class=\"column-list\"><div id=\"16d92d3b-1eb7-8183-ae89-e2f02f83ebfe\" style=\"width:12.5%\" class=\"column\"><figure id=\"16d92d3b-1eb7-81fd-a80d-e35aaa378e95\" class=\"image\" style=\"text-align:left\"><a href=\"mail.svg\"><img style=\"width:30.000001907348633px\" src=\"mail.svg\"/></a></figure><p id=\"16d92d3b-1eb7-815a-bf99-eeb8cd5d0ea0\" class=\"\"><strong>이메일</strong></p></div><div id=\"16d92d3b-1eb7-816d-b697-d7496ff6afe9\" style=\"width:87.5%\" class=\"column\"><blockquote id=\"16d92d3b-1eb7-81fd-990e-d736c8af05d4\" class=\"\"><mark class=\"highlight-gray\">joyospe339@naver.com</mark></blockquote><p id=\"16d92d3b-1eb7-80e5-9198-c9c8503b6e1d\" class=\"\">\\n</p></div></div><hr id=\"16d92d3b-1eb7-816e-b56e-d9e64ab03635\"/><div id=\"16d92d3b-1eb7-8164-bac1-d8cb742ad8b3\" class=\"column-list\"><div id=\"16d92d3b-1eb7-8143-baff-c26c269c7c3a\" style=\"width:12.5%\" class=\"column\"><figure id=\"16d92d3b-1eb7-8155-8fcd-c118e02cf623\" class=\"image\" style=\"text-align:left\"><a href=\"web.svg\"><img style=\"width:30.000001907348633px\" src=\"web.svg\"/></a></figure><p id=\"16d92d3b-1eb7-81fd-af2c-e18d0c965d60\" class=\"\"><strong>포트폴리오</strong></p></div><div id=\"16d92d3b-1eb7-8138-a0aa-e90aef2eba7a\" style=\"width:87.5%\" class=\"column\"><blockquote id=\"16d92d3b-1eb7-81e8-a96c-f606c79eefdd\" class=\"\"><mark class=\"highlight-gray\">없음</mark></blockquote><p id=\"16d92d3b-1eb7-8144-a523-f206771ffdb2\" class=\"\">\\n</p></div></div><hr id=\"16d92d3b-1eb7-812f-a5a7-ef6ebe936278\"/></div></figure><figure class=\"block-color-default_background callout\" style=\"white-space:pre-wrap;display:flex\" id=\"16d92d3b-1eb7-814f-9cd4-cdb10204060b\"><div style=\"width:100%\"><h2 id=\"16d92d3b-1eb7-810a-a7c8-f8d404564eda\" class=\"block-color-default_background\">약력 (About Me)</h2><ul id=\"16d92d3b-1eb7-8196-8cb9-df2c61240c56\" class=\"block-color-gray toggle\"><li><details open=\"\"><summary><mark class=\"highlight-default\"><strong>[약력]를 작성할 때 다음과 같은 사항을 고려하여 작성해주세요.</strong></mark></summary><p id=\"16d92d3b-1eb7-816d-8bba-f0e580c29b03\" class=\"\"><br/>- 간략하고 명확하게 자신을 <br/><strong>‘관련 직무 경험자’</strong>로 소개하세요.<br/>- 직무와 관련된 특별한 역량이나 경험 ‘<br/><strong>키워드’</strong>를 강조하세요.<br/>- 관련된 직무의 특별한 <br/><strong>‘도메인’</strong>과 <strong>‘스킬’</strong>을 동시에 언급하는 것이 중요합니다.<br/><br/></p><p id=\"16d92d3b-1eb7-8133-a2d8-fa3b895cd244\" class=\"\">예시) 물류 데이터 분석 및 시각화에 대한 경험을 가진 데이터 분석가입니다. <br/>각 지역별 물류 최적화에 대한 비즈니스 인사이트를 태블로(Tablaeu)로 제공한 경험을 보유하고 있습니다.<br/></p></details></li></ul></div></figure><figure class=\"block-color-default_background callout\" style=\"white-space:pre-wrap;display:flex\" id=\"16d92d3b-1eb7-8144-986f-f1c2fdbee322\"><div style=\"width:100%\"><h2 id=\"16d92d3b-1eb7-810b-be72-d3f19f67d89a\" class=\"block-color-default_background\">직무 및 이력 (Experiences)</h2><ul id=\"16d92d3b-1eb7-8156-871b-e8b715c20e9a\" class=\"toggle\"><li><details open=\"\"><summary><mark class=\"highlight-default\"><strong>[직무 및 이력]을 작성할 때 다음과 같은 사항을 고려하여 작성해주세요.</strong></mark></summary><p id=\"16d92d3b-1eb7-81d5-a7c8-d8a96fd63840\" class=\"\"><mark class=\"highlight-gray\"><br/>- 직무 타이틀과 직무 기간이 잘 보일수 있도록 작성해주세요.<br/>- 직무와 이력은 <br/></mark><mark class=\"highlight-gray\"><strong><a href=\"https://justinchronicles.net/ko/2014/10/01/one-simple-formula-for-successful-resume-from-hr-svp-of-google/\">xyz법칙</a></strong></mark><mark class=\"highlight-gray\">을 적용해서 작성해주세요.</mark></p></details></li></ul><div id=\"16d92d3b-1eb7-81f9-9eee-ebec007b4d20\" class=\"column-list\"><div id=\"16d92d3b-1eb7-812e-a22b-f0594e9ad691\" style=\"width:43.75%\" class=\"column\"><figure class=\"block-color-default callout\" style=\"white-space:pre-wrap;display:flex\" id=\"16d92d3b-1eb7-8181-b72d-e17c9bcdb73b\"><div style=\"font-size:1.5em\"><img class=\"icon\" src=\"https://www.notion.so/icons/briefcase_gray.svg\"/></div><div style=\"width:100%\"><strong>웹 프로그래밍 실습<br/>| 회사 나우리<br/></strong></div></figure><p id=\"16d92d3b-1eb7-8187-be9b-e21857828b14\" class=\"\">\\n</p></div><div id=\"16d92d3b-1eb7-8121-9b27-c9a46c810745\" style=\"width:87.5%\" class=\"column\"><blockquote id=\"16d92d3b-1eb7-81a3-85f3-c77577cc46dc\" class=\"\">전주시 완산구 <mark class=\"highlight-gray\">∙</mark><mark class=\"highlight-gray\"><strong> 2024.08 - 2024.08</strong></mark></blockquote><hr id=\"16d92d3b-1eb7-81a7-b9c7-d4be60e1b7cf\"/><ul id=\"16d92d3b-1eb7-8120-ab18-fa15547fe49f\" class=\"bulleted-list\"><li style=\"list-style-type:disc\"><mark class=\"highlight-gray\">원광대학교 포토갤러리 서비스 개발 실습</mark></li></ul><ul id=\"16d92d3b-1eb7-817e-8f9b-d698ac179a33\" class=\"bulleted-list\"><li style=\"list-style-type:disc\"><mark class=\"highlight-gray\">아시아 보드스트릿 챌린지 수정 실습</mark></li></ul><hr id=\"16d92d3b-1eb7-81de-878a-d25f48cb9980\"/><p id=\"16d92d3b-1eb7-8157-88ac-fd25c32fda91\" class=\"\">\\n</p></div></div><div id=\"16d92d3b-1eb7-817d-a09a-d887449da824\" class=\"column-list\"><div id=\"16d92d3b-1eb7-8175-ac58-f1f8f92bd7e6\" style=\"width:43.75%\" class=\"column\"><figure class=\"block-color-default callout\" style=\"white-space:pre-wrap;display:flex\" id=\"16d92d3b-1eb7-81ab-9b46-d342647617b8\"><div style=\"font-size:1.5em\"><img class=\"icon\" src=\"https://www.notion.so/icons/briefcase_gray.svg\"/></div><div style=\"width:100%\">직무 타이틀\\xa0<strong> <br/>| 회사 이름<br/></strong></div></figure><p id=\"16d92d3b-1eb7-8181-997d-df8b3428ecc7\" class=\"\">\\n</p></div><div id=\"16d92d3b-1eb7-8171-8ef2-ea89796a9010\" style=\"width:87.5%\" class=\"column\"><blockquote id=\"16d92d3b-1eb7-81ca-8d52-c95e6d6dbd6f\" class=\"\">회사 위치<mark class=\"highlight-gray\"> ∙ </mark><mark class=\"highlight-gray\"><strong>경력 시작일 - 경력 종료일</strong></mark></blockquote><hr id=\"16d92d3b-1eb7-81d3-8145-fa0d12f6990d\"/><ul id=\"16d92d3b-1eb7-81cb-bf1d-fc7100b82fae\" class=\"bulleted-list\"><li style=\"list-style-type:disc\"><mark class=\"highlight-gray\">직무 성과 설명 (1-2줄로 작성해주세요)</mark></li></ul><ul id=\"16d92d3b-1eb7-8162-823b-f74d98b05e3f\" class=\"bulleted-list\"><li style=\"list-style-type:disc\"><mark class=\"highlight-gray\">직무 성과 설명 (1-2줄로 작성해주세요)</mark></li></ul><hr id=\"16d92d3b-1eb7-8167-9668-e5ef75e89933\"/><p id=\"16d92d3b-1eb7-811f-a2c5-fe1a44400a54\" class=\"\">\\n</p></div></div><div id=\"16d92d3b-1eb7-817f-8a94-e89cacfac50d\" class=\"column-list\"><div id=\"16d92d3b-1eb7-81f6-bcbf-ea00eafa315e\" style=\"width:37.5%\" class=\"column\"><figure class=\"block-color-default callout\" style=\"white-space:pre-wrap;display:flex\" id=\"16d92d3b-1eb7-813c-99ae-cd2f8396c595\"><div style=\"font-size:1.5em\"><img class=\"icon\" src=\"https://www.notion.so/icons/briefcase_gray.svg\"/></div><div style=\"width:100%\">직무 타이틀\\xa0<strong> <br/>| 회사 이름<br/></strong></div></figure></div><div id=\"16d92d3b-1eb7-81be-8a32-e2010ebe0ce2\" style=\"width:62.5%\" class=\"column\"><blockquote id=\"16d92d3b-1eb7-81fa-9053-cdbe89aa83a0\" class=\"\">회사 위치<mark class=\"highlight-gray\"> </mark><mark class=\"highlight-gray\"><strong>∙ 경력 시작일 - 경력 종료일</strong></mark></blockquote><hr id=\"16d92d3b-1eb7-8190-a5a4-d59665ecbc7c\"/><ul id=\"16d92d3b-1eb7-812d-a98d-db0176b1cb7d\" class=\"bulleted-list\"><li style=\"list-style-type:disc\"><mark class=\"highlight-gray\">직무 성과 설명 (1-2줄로 작성해주세요)</mark></li></ul><ul id=\"16d92d3b-1eb7-811a-a508-d4342e2a567c\" class=\"bulleted-list\"><li style=\"list-style-type:disc\"><mark class=\"highlight-gray\">직무 성과 설명 (1-2줄로 작성해주세요)</mark></li></ul><hr id=\"16d92d3b-1eb7-8198-86fe-c8b1e23dc9ff\"/></div></div></div></figure><figure class=\"block-color-default_background callout\" style=\"white-space:pre-wrap;display:flex\" id=\"16d92d3b-1eb7-81e7-b2cd-cc81b9d49adf\"><div style=\"width:100%\"><h2 id=\"16d92d3b-1eb7-81fb-8819-fd83695753d1\" class=\"block-color-default_background\">보유 스킬 (Skill)</h2><div id=\"16d92d3b-1eb7-810f-b952-f6467388b16a\" class=\"collection-content\"><h4 class=\"collection-title\">보유 스킬</h4><table class=\"collection-content\"><thead><tr><th><span class=\"icon property-icon\"><svg role=\"graphics-symbol\" viewBox=\"0 0 16 16\" style=\"width:14px;height:14px;display:block;fill:rgba(55, 53, 47, 0.45);flex-shrink:0\" class=\"typesTitle\"><path d=\"M0.637695 13.1914C1.0957 13.1914 1.32812 13 1.47852 12.5215L2.24414 10.3887H6.14746L6.90625 12.5215C7.05664 13 7.2959 13.1914 7.74707 13.1914C8.22559 13.1914 8.5332 12.9043 8.5332 12.4531C8.5332 12.2891 8.50586 12.1523 8.44434 11.9678L5.41602 3.79199C5.2041 3.21777 4.82129 2.9375 4.19922 2.9375C3.60449 2.9375 3.21484 3.21777 3.0166 3.78516L-0.0322266 12.002C-0.09375 12.1797 -0.121094 12.3232 -0.121094 12.4668C-0.121094 12.918 0.166016 13.1914 0.637695 13.1914ZM2.63379 9.12402L4.17871 4.68066H4.21973L5.76465 9.12402H2.63379ZM12.2793 13.2324C13.3115 13.2324 14.2891 12.6787 14.7129 11.8037H14.7402V12.5762C14.7471 12.9863 15.0273 13.2393 15.4238 13.2393C15.834 13.2393 16.1143 12.9795 16.1143 12.5215V8.00977C16.1143 6.49902 14.9658 5.52148 13.1543 5.52148C11.7666 5.52148 10.6592 6.08887 10.2695 6.99121C10.1943 7.15527 10.1533 7.3125 10.1533 7.46289C10.1533 7.81152 10.4062 8.04395 10.7686 8.04395C11.0215 8.04395 11.2129 7.94824 11.3496 7.73633C11.7529 6.99121 12.2861 6.65625 13.1064 6.65625C14.0977 6.65625 14.6992 7.20996 14.6992 8.1123V8.67285L12.5664 8.7959C10.7686 8.8916 9.77734 9.69824 9.77734 11.0107C9.77734 12.3369 10.8096 13.2324 12.2793 13.2324ZM12.6621 12.1387C11.8008 12.1387 11.2129 11.667 11.2129 10.9561C11.2129 10.2725 11.7598 9.82129 12.7578 9.75977L14.6992 9.62988V10.3203C14.6992 11.3457 13.7969 12.1387 12.6621 12.1387Z\"></path></svg></span>Name</th><th><span class=\"icon property-icon\"><svg role=\"graphics-symbol\" viewBox=\"0 0 16 16\" style=\"width:14px;height:14px;display:block;fill:rgba(55, 53, 47, 0.45);flex-shrink:0\" class=\"typesText\"><path d=\"M1.56738 3.25879H14.4258C14.7676 3.25879 15.0479 2.97852 15.0479 2.63672C15.0479 2.29492 14.7744 2.02148 14.4258 2.02148H1.56738C1.21875 2.02148 0.952148 2.29492 0.952148 2.63672C0.952148 2.97852 1.22559 3.25879 1.56738 3.25879ZM1.56738 6.84082H14.4258C14.7676 6.84082 15.0479 6.56055 15.0479 6.21875C15.0479 5.87695 14.7744 5.60352 14.4258 5.60352H1.56738C1.21875 5.60352 0.952148 5.87695 0.952148 6.21875C0.952148 6.56055 1.22559 6.84082 1.56738 6.84082ZM1.56738 10.4229H14.4258C14.7676 10.4229 15.0479 10.1426 15.0479 9.80078C15.0479 9.45898 14.7744 9.18555 14.4258 9.18555H1.56738C1.21875 9.18555 0.952148 9.45898 0.952148 9.80078C0.952148 10.1426 1.22559 10.4229 1.56738 10.4229ZM1.56738 14.0049H8.75879C9.10059 14.0049 9.38086 13.7246 9.38086 13.3828C9.38086 13.041 9.10742 12.7676 8.75879 12.7676H1.56738C1.21875 12.7676 0.952148 13.041 0.952148 13.3828C0.952148 13.7246 1.22559 14.0049 1.56738 14.0049Z\"></path></svg></span>Description</th><th><span class=\"icon property-icon\"><svg role=\"graphics-symbol\" viewBox=\"0 0 16 16\" style=\"width:14px;height:14px;display:block;fill:rgba(55, 53, 47, 0.45);flex-shrink:0\" class=\"typesNumber\"><path d=\"M2.4834 10.9902H4.33594L3.75488 13.8887C3.74121 13.9639 3.72754 14.0664 3.72754 14.1416C3.72754 14.5381 3.99414 14.7637 4.39746 14.7637C4.81445 14.7637 5.09473 14.5449 5.18359 14.1143L5.80566 10.9902H8.79297L8.21191 13.8887C8.19824 13.9639 8.18457 14.0664 8.18457 14.1416C8.18457 14.5381 8.45117 14.7637 8.85449 14.7637C9.27148 14.7637 9.55176 14.5449 9.63379 14.1143L10.2627 10.9902H12.4502C12.9287 10.9902 13.2432 10.6758 13.2432 10.2109C13.2432 9.8418 12.9902 9.56836 12.6006 9.56836H10.5498L11.2129 6.28711H13.3662C13.8379 6.28711 14.1523 5.96582 14.1523 5.50098C14.1523 5.13184 13.9062 4.8584 13.5098 4.8584H11.5L12.0195 2.27441C12.0264 2.21973 12.0469 2.11035 12.0469 2.01465C12.0469 1.625 11.7666 1.39258 11.3633 1.39258C10.9053 1.39258 10.6797 1.63867 10.5977 2.05566L10.0303 4.8584H7.04297L7.5625 2.27441C7.57617 2.21973 7.58984 2.11035 7.58984 2.01465C7.58984 1.625 7.30957 1.39258 6.91309 1.39258C6.44824 1.39258 6.21582 1.63867 6.13379 2.05566L5.57324 4.8584H3.54297C3.06445 4.8584 2.75 5.18652 2.75 5.65137C2.75 6.03418 3.00293 6.28711 3.39258 6.28711H5.28613L4.62305 9.56836H2.63379C2.15527 9.56836 1.84082 9.89648 1.84082 10.3613C1.84082 10.7373 2.09375 10.9902 2.4834 10.9902ZM6.09277 9.56836L6.75586 6.28711H9.74316L9.08008 9.56836H6.09277Z\"></path></svg></span>Skill Level</th><th><span class=\"icon property-icon\"><svg role=\"graphics-symbol\" viewBox=\"0 0 16 16\" style=\"width:14px;height:14px;display:block;fill:rgba(55, 53, 47, 0.45);flex-shrink:0\" class=\"typesSelect\"><path d=\"M8 15.126C11.8623 15.126 15.0615 11.9336 15.0615 8.06445C15.0615 4.20215 11.8623 1.00293 7.99316 1.00293C4.13086 1.00293 0.938477 4.20215 0.938477 8.06445C0.938477 11.9336 4.1377 15.126 8 15.126ZM8 13.7383C4.85547 13.7383 2.33301 11.209 2.33301 8.06445C2.33301 4.91992 4.84863 2.39746 7.99316 2.39746C11.1377 2.39746 13.6738 4.91992 13.6738 8.06445C13.6738 11.209 11.1445 13.7383 8 13.7383ZM7.62402 10.6348C7.79492 10.915 8.20508 10.9287 8.37598 10.6348L10.666 6.73145C10.8574 6.41016 10.7002 6.04102 10.3652 6.04102H5.62793C5.29297 6.04102 5.14941 6.43066 5.32031 6.73145L7.62402 10.6348Z\"></path></svg></span>Type</th></tr></thead><tbody><tr id=\"16d92d3b-1eb7-8121-95b0-cf90c12af1f8\"><td class=\"cell-title\"><a href=\"https://www.notion.so/Excel-16d92d3b1eb7812195b0cf90c12af1f8?pvs=21\">Excel</a></td><td class=\"cell-vXp}\"></td><td class=\"cell-\\\\@]N\">60%</td><td class=\"cell-vTK[\"><span class=\"selected-value select-value-color-default\">프로그래밍</span></td></tr><tr id=\"16d92d3b-1eb7-81ac-b011-ee5873626983\"><td class=\"cell-title\"><a href=\"https://www.notion.so/SQL-16d92d3b1eb781acb011ee5873626983?pvs=21\">SQL</a></td><td class=\"cell-vXp}\"></td><td class=\"cell-\\\\@]N\">50%</td><td class=\"cell-vTK[\"><span class=\"selected-value select-value-color-default\">프로그래밍</span></td></tr><tr id=\"16d92d3b-1eb7-81f9-8630-d0be3cff7a77\"><td class=\"cell-title\"><a href=\"https://www.notion.so/Python-16d92d3b1eb781f98630d0be3cff7a77?pvs=21\">Python</a></td><td class=\"cell-vXp}\"></td><td class=\"cell-\\\\@]N\">90%</td><td class=\"cell-vTK[\"><span class=\"selected-value select-value-color-default\">프로그래밍</span></td></tr><tr id=\"16d92d3b-1eb7-81fa-ab49-f00c2e061cf9\"><td class=\"cell-title\"><a href=\"https://www.notion.so/Git-16d92d3b1eb781faab49f00c2e061cf9?pvs=21\">Git</a></td><td class=\"cell-vXp}\"></td><td class=\"cell-\\\\@]N\">20%</td><td class=\"cell-vTK[\"><span class=\"selected-value select-value-color-default\">프로그래밍</span></td></tr></tbody></table><br/><br/></div><p id=\"16d92d3b-1eb7-8197-8670-d1b2fcd0d466\" class=\"\">\\n</p></div></figure><figure class=\"block-color-default_background callout\" style=\"white-space:pre-wrap;display:flex\" id=\"16d92d3b-1eb7-814b-b85c-f55aadabac8d\"><div style=\"width:100%\"><h2 id=\"16d92d3b-1eb7-81cd-a06e-d64a8834e4ea\" class=\"block-color-default_background\">프로젝트 (Project)</h2><div id=\"16d92d3b-1eb7-816a-a890-e17753157dbc\" class=\"collection-content\"><h4 class=\"collection-title\">프로젝트</h4><table class=\"collection-content\"><thead><tr><th><span class=\"icon property-icon\"><svg role=\"graphics-symbol\" viewBox=\"0 0 16 16\" style=\"width:14px;height:14px;display:block;fill:rgba(55, 53, 47, 0.45);flex-shrink:0\" class=\"typesTitle\"><path d=\"M0.637695 13.1914C1.0957 13.1914 1.32812 13 1.47852 12.5215L2.24414 10.3887H6.14746L6.90625 12.5215C7.05664 13 7.2959 13.1914 7.74707 13.1914C8.22559 13.1914 8.5332 12.9043 8.5332 12.4531C8.5332 12.2891 8.50586 12.1523 8.44434 11.9678L5.41602 3.79199C5.2041 3.21777 4.82129 2.9375 4.19922 2.9375C3.60449 2.9375 3.21484 3.21777 3.0166 3.78516L-0.0322266 12.002C-0.09375 12.1797 -0.121094 12.3232 -0.121094 12.4668C-0.121094 12.918 0.166016 13.1914 0.637695 13.1914ZM2.63379 9.12402L4.17871 4.68066H4.21973L5.76465 9.12402H2.63379ZM12.2793 13.2324C13.3115 13.2324 14.2891 12.6787 14.7129 11.8037H14.7402V12.5762C14.7471 12.9863 15.0273 13.2393 15.4238 13.2393C15.834 13.2393 16.1143 12.9795 16.1143 12.5215V8.00977C16.1143 6.49902 14.9658 5.52148 13.1543 5.52148C11.7666 5.52148 10.6592 6.08887 10.2695 6.99121C10.1943 7.15527 10.1533 7.3125 10.1533 7.46289C10.1533 7.81152 10.4062 8.04395 10.7686 8.04395C11.0215 8.04395 11.2129 7.94824 11.3496 7.73633C11.7529 6.99121 12.2861 6.65625 13.1064 6.65625C14.0977 6.65625 14.6992 7.20996 14.6992 8.1123V8.67285L12.5664 8.7959C10.7686 8.8916 9.77734 9.69824 9.77734 11.0107C9.77734 12.3369 10.8096 13.2324 12.2793 13.2324ZM12.6621 12.1387C11.8008 12.1387 11.2129 11.667 11.2129 10.9561C11.2129 10.2725 11.7598 9.82129 12.7578 9.75977L14.6992 9.62988V10.3203C14.6992 11.3457 13.7969 12.1387 12.6621 12.1387Z\"></path></svg></span>이름</th><th><span class=\"icon property-icon\"><svg role=\"graphics-symbol\" viewBox=\"0 0 16 16\" style=\"width:14px;height:14px;display:block;fill:rgba(55, 53, 47, 0.45);flex-shrink:0\" class=\"typesCreatedAt\"><path d=\"M8 15.126C11.8623 15.126 15.0615 11.9336 15.0615 8.06445C15.0615 4.20215 11.8623 1.00293 7.99316 1.00293C4.13086 1.00293 0.938477 4.20215 0.938477 8.06445C0.938477 11.9336 4.1377 15.126 8 15.126ZM8 13.7383C4.85547 13.7383 2.33301 11.209 2.33301 8.06445C2.33301 4.91992 4.84863 2.39746 7.99316 2.39746C11.1377 2.39746 13.6738 4.91992 13.6738 8.06445C13.6738 11.209 11.1445 13.7383 8 13.7383ZM4.54102 8.91211H7.99316C8.30078 8.91211 8.54004 8.67285 8.54004 8.37207V3.8877C8.54004 3.58691 8.30078 3.34766 7.99316 3.34766C7.69238 3.34766 7.45312 3.58691 7.45312 3.8877V7.83203H4.54102C4.2334 7.83203 4.00098 8.06445 4.00098 8.37207C4.00098 8.67285 4.2334 8.91211 4.54102 8.91211Z\"></path></svg></span>생성일</th><th><span class=\"icon property-icon\"><svg role=\"graphics-symbol\" viewBox=\"0 0 16 16\" style=\"width:14px;height:14px;display:block;fill:rgba(55, 53, 47, 0.45);flex-shrink:0\" class=\"typesText\"><path d=\"M1.56738 3.25879H14.4258C14.7676 3.25879 15.0479 2.97852 15.0479 2.63672C15.0479 2.29492 14.7744 2.02148 14.4258 2.02148H1.56738C1.21875 2.02148 0.952148 2.29492 0.952148 2.63672C0.952148 2.97852 1.22559 3.25879 1.56738 3.25879ZM1.56738 6.84082H14.4258C14.7676 6.84082 15.0479 6.56055 15.0479 6.21875C15.0479 5.87695 14.7744 5.60352 14.4258 5.60352H1.56738C1.21875 5.60352 0.952148 5.87695 0.952148 6.21875C0.952148 6.56055 1.22559 6.84082 1.56738 6.84082ZM1.56738 10.4229H14.4258C14.7676 10.4229 15.0479 10.1426 15.0479 9.80078C15.0479 9.45898 14.7744 9.18555 14.4258 9.18555H1.56738C1.21875 9.18555 0.952148 9.45898 0.952148 9.80078C0.952148 10.1426 1.22559 10.4229 1.56738 10.4229ZM1.56738 14.0049H8.75879C9.10059 14.0049 9.38086 13.7246 9.38086 13.3828C9.38086 13.041 9.10742 12.7676 8.75879 12.7676H1.56738C1.21875 12.7676 0.952148 13.041 0.952148 13.3828C0.952148 13.7246 1.22559 14.0049 1.56738 14.0049Z\"></path></svg></span>스킬</th><th><span class=\"icon property-icon\"><svg role=\"graphics-symbol\" viewBox=\"0 0 16 16\" style=\"width:14px;height:14px;display:block;fill:rgba(55, 53, 47, 0.45);flex-shrink:0\" class=\"typesSelect\"><path d=\"M8 15.126C11.8623 15.126 15.0615 11.9336 15.0615 8.06445C15.0615 4.20215 11.8623 1.00293 7.99316 1.00293C4.13086 1.00293 0.938477 4.20215 0.938477 8.06445C0.938477 11.9336 4.1377 15.126 8 15.126ZM8 13.7383C4.85547 13.7383 2.33301 11.209 2.33301 8.06445C2.33301 4.91992 4.84863 2.39746 7.99316 2.39746C11.1377 2.39746 13.6738 4.91992 13.6738 8.06445C13.6738 11.209 11.1445 13.7383 8 13.7383ZM7.62402 10.6348C7.79492 10.915 8.20508 10.9287 8.37598 10.6348L10.666 6.73145C10.8574 6.41016 10.7002 6.04102 10.3652 6.04102H5.62793C5.29297 6.04102 5.14941 6.43066 5.32031 6.73145L7.62402 10.6348Z\"></path></svg></span>프로젝트 타입</th></tr></thead><tbody><tr id=\"16d92d3b-1eb7-811c-8f84-d30615c94b17\"><td class=\"cell-title\"><a href=\"https://www.notion.so/16d92d3b1eb7811c8f84d30615c94b17?pvs=21\">하우스 가격 예측 모델 만들기</a></td><td class=\"cell-^M?D\"><time>@2024년 12월 31일 오전 9:47</time></td><td class=\"cell-=c}&gt;\"></td><td class=\"cell-i]vB\"><span class=\"selected-value select-value-color-blue\">개인</span></td></tr><tr id=\"16d92d3b-1eb7-81d5-961f-edb032bfcccb\"><td class=\"cell-title\"><a href=\"https://www.notion.so/16d92d3b1eb781d5961fedb032bfcccb?pvs=21\">에어비엔비 가격 &amp; 수용률 분석</a></td><td class=\"cell-^M?D\"><time>@2024년 12월 31일 오전 9:47</time></td><td class=\"cell-=c}&gt;\">태블로</td><td class=\"cell-i]vB\"><span class=\"selected-value select-value-color-blue\">개인</span></td></tr></tbody></table><br/><br/></div></div></figure><figure class=\"block-color-default_background callout\" style=\"white-space:pre-wrap;display:flex\" id=\"16d92d3b-1eb7-8159-973d-fdcbf6efa0cf\"><div style=\"width:100%\"><h2 id=\"16d92d3b-1eb7-818c-ab3d-e8542836a106\" class=\"block-color-default_background\">학력 (Education)</h2><hr id=\"16d92d3b-1eb7-8138-a652-e050b943cbf4\"/><div id=\"16d92d3b-1eb7-8173-ac6e-d8945fa849af\" class=\"column-list\"><div id=\"16d92d3b-1eb7-8154-8e25-e92ab0a3b551\" style=\"width:31.25%\" class=\"column\"><h3 id=\"16d92d3b-1eb7-81bd-a5ec-f1bdc8a536d7\" class=\"\"><strong>전주 대학교 </strong></h3><p id=\"16d92d3b-1eb7-804c-a3fc-db86c59890b2\" class=\"\"><strong>인공지능 전공 학사</strong></p><p id=\"16d92d3b-1eb7-8145-9d99-ea44ba263850\" class=\"\">\\n</p></div><div id=\"16d92d3b-1eb7-8160-ab31-c526ae98e421\" style=\"width:68.75%\" class=\"column\"><p id=\"16d92d3b-1eb7-81e1-bafd-f5633f87ab3b\" class=\"\"><mark class=\"highlight-gray\">학점: 3.75 / 4.0<br/>수강 과목: 비즈니스 분석 기초, 파이썬 프로그래밍, 프로젝트 캡스톤<br/>∙ 2028년 2월 졸업 예정<br/></mark></p></div></div><hr id=\"16d92d3b-1eb7-8105-9be8-d7325f0e06e7\"/><div id=\"16d92d3b-1eb7-81d4-8f6b-e645b58bea31\" class=\"column-list\"><div id=\"16d92d3b-1eb7-818f-ad00-daa51debc520\" style=\"width:31.25%\" class=\"column\"><h3 id=\"16d92d3b-1eb7-815b-aadd-e58d3260b4f5\" class=\"\"><strong>학위 </strong></h3><p id=\"16d92d3b-1eb7-8195-9526-f36db0c2b4f8\" class=\"\"><mark class=\"highlight-gray\"><strong>학사 | 석사 | 박사</strong></mark></p><p id=\"16d92d3b-1eb7-81f3-a583-c73f822e7761\" class=\"\">\\n</p></div><div id=\"16d92d3b-1eb7-81bd-ad13-cf2971dfb890\" style=\"width:68.75%\" class=\"column\"><p id=\"16d92d3b-1eb7-81e2-ba8f-fd392e9b37ef\" class=\"\"><mark class=\"highlight-gray\">대학교 이름 - 전공 | 부전공 [학점]<br/>∙ 재학 기간<br/></mark></p></div></div><hr id=\"16d92d3b-1eb7-8104-809f-f2ee8dff4ced\"/></div></figure><p id=\"16d92d3b-1eb7-81af-a900-de1462ed5c9c\" class=\"\"><a href=\"https://www.notion.so/2-16d92d3b1eb780198429de9b5e0a259b?pvs=21\">맨 위로 돌아가기 →</a></p></div><div id=\"16d92d3b-1eb7-814f-86cb-c41d57b6bf6b\" style=\"width:20.83333333333333%\" class=\"column\"><h2 id=\"16d92d3b-1eb7-8133-8464-d5b4b15a0b44\" class=\"block-color-default_background\">소셜 미디어 &amp; 블로그 <br/>(Social &amp; Blog)<br/></h2><hr id=\"16d92d3b-1eb7-81bd-bc56-fa040a41d735\"/><figure class=\"block-color-default callout\" style=\"white-space:pre-wrap;display:flex\" id=\"16d92d3b-1eb7-8175-99fc-ca47cea47814\"><div style=\"font-size:1.5em\"><img class=\"icon\" src=\"https://www.notion.so/icons/drafts_gray.svg\"/></div><div style=\"width:100%\"><a href=\"https://www.linkedin.com/in/datarichard/\">링크드인 (LinkedIn) →</a></div></figure><figure class=\"block-color-default callout\" style=\"white-space:pre-wrap;display:flex\" id=\"16d92d3b-1eb7-8141-b424-fc6086c1f14b\"><div style=\"font-size:1.5em\"><img class=\"icon\" src=\"https://www.notion.so/icons/code_gray.svg\"/></div><div style=\"width:100%\"><a href=\"https://github.com/dongchanlim\">깃허브 (Github) →</a></div></figure><figure class=\"block-color-default callout\" style=\"white-space:pre-wrap;display:flex\" id=\"16d92d3b-1eb7-81d9-8869-e050af38f62f\"><div style=\"font-size:1.5em\"><img class=\"icon\" src=\"https://www.notion.so/icons/drafts_gray.svg\"/></div><div style=\"width:100%\"><a href=\"https://careerly.co.kr/@494354\">커리어리 (Careerly) →</a></div></figure><figure class=\"block-color-default callout\" style=\"white-space:pre-wrap;display:flex\" id=\"16d92d3b-1eb7-8173-ba45-fdb3a93be03a\"><div style=\"font-size:1.5em\"><img class=\"icon\" src=\"https://www.notion.so/icons/drafts_gray.svg\"/></div><div style=\"width:100%\"><a href=\"https://inblog.ai/datarichard-official\">블로그 (Blog) →</a></div></figure><h2 id=\"16d92d3b-1eb7-8107-99b7-f2e944285da6\" class=\"block-color-default_background\">커피챗 (Coffee Chat)</h2><hr id=\"16d92d3b-1eb7-812c-8f49-ee7e8605b7d1\"/><ul id=\"16d92d3b-1eb7-8153-9e99-edcfabca7ccf\" class=\"toggle\"><li><details open=\"\"><summary>온라인 <strong>커피챗</strong>을 할수 있는 기능을 추가해보세요.</summary><p id=\"16d92d3b-1eb7-81a7-beb8-c7de785c9f41\" class=\"\"><a href=\"https://dchanlim.gumroad.com/l/datarichard_notion_template\">☕ 이력서에서 커피챗 기능 추가하기</a> →<br/><br/><a href=\"https://dbdt-challenge.typedream.app/mentoring\">📝 작성한 이력서 피드백 &amp; 멘토링 받기 →</a></p></details></li></ul></div></div><p id=\"16d92d3b-1eb7-8134-83b0-f343c4104302\" class=\"\">\\n</p><hr id=\"16d92d3b-1eb7-8112-b71d-ff6b70ff8552\"/></div></article><span class=\"sans\" style=\"font-size:14px;padding-top:2em\"></span></body></html>'"
            ],
            "application/vnd.google.colaboratory.intrinsic+json": {
              "type": "string"
            }
          },
          "metadata": {},
          "execution_count": 13
        }
      ]
    },
    {
      "cell_type": "code",
      "source": [
        "from langchain_text_splitters import RecursiveCharacterTextSplitter\n",
        "\n",
        "headers_to_split_on = [  # 분할할 HTML 헤더 태그와 해당 헤더의 이름을 지정합니다.\n",
        "    (\"h1\", \"Header 1\"),\n",
        "    (\"h2\", \"Header 2\"),\n",
        "    (\"h3\", \"Header 3\"),\n",
        "]\n",
        "\n",
        "# HTML 헤더를 기준으로 텍스트를 분할하는 HTMLHeaderTextSplitter 객체를 생성합니다.\n",
        "html_splitter = HTMLHeaderTextSplitter(headers_to_split_on=headers_to_split_on)\n",
        "\n",
        "# URL에서 텍스트를 가져와 HTML 헤더를 기준으로 분할합니다.\n",
        "html_header_splits = html_splitter.split_text(file)\n",
        "\n",
        "chunk_size = 500  # 텍스트를 분할할 청크의 크기를 지정합니다.\n",
        "chunk_overlap = 30  # 분할된 청크 간의 중복되는 문자 수를 지정합니다.\n",
        "text_splitter = RecursiveCharacterTextSplitter(  # 텍스트를 재귀적으로 분할하는 RecursiveCharacterTextSplitter 객체를 생성합니다.\n",
        "    chunk_size=chunk_size, chunk_overlap=chunk_overlap\n",
        ")"
      ],
      "metadata": {
        "id": "X76RNoBdDVdl"
      },
      "execution_count": 14,
      "outputs": []
    },
    {
      "cell_type": "code",
      "source": [
        "# HTML 헤더로 분할된 텍스트를 다시 청크 크기에 맞게 분할합니다.\n",
        "splits = text_splitter.split_documents(html_header_splits)"
      ],
      "metadata": {
        "id": "K6DPQhQnDpZP"
      },
      "execution_count": 15,
      "outputs": []
    },
    {
      "cell_type": "code",
      "source": [
        "output = []\n",
        "for header in splits:\n",
        "    print(f\"{header.page_content}\")\n",
        "    print(f\"{header.metadata}\", end=\"\\n=====================\\n\")\n",
        "    content = f\"{header.page_content}\"\n",
        "    metadata = f\"{header.metadata}\"\n",
        "    output.append(f\"{content}\\n{metadata}\\n\")\n",
        "\n",
        "# 파일로 저장\n",
        "with open(\"sub/result/htmlheadertextsplittet_result.txt\", \"w\", encoding=\"utf-8\") as file:\n",
        "    file.write(\"\\n\".join(output))\n",
        "\n",
        "print(\"결과물이 sub\\result\\htmlheadertextsplittet_result.txt에 저장되었습니다.\")"
      ],
      "metadata": {
        "colab": {
          "base_uri": "https://localhost:8080/"
        },
        "id": "aYZinb73Dq04",
        "outputId": "5da95b53-f34f-4786-ac54-73f7f6213058"
      },
      "execution_count": 21,
      "outputs": [
        {
          "output_type": "stream",
          "name": "stdout",
          "text": [
            "이력서 템플릿 무료 버전 2  \n",
            "순서 (Table of Contents)  \n",
            "프로필 (Profile)  \n",
            "프로필 (Profile)  \n",
            "약력 (About Me)  \n",
            "직무 및 이력 (Experiences)  \n",
            "보유 스킬 (Skill)  \n",
            "프로젝트 (Project)  \n",
            "학력 (Education)  \n",
            "전주 대학교  \n",
            "학위  \n",
            "소셜 미디어 & 블로그 (Social & Blog)  \n",
            "커피챗 (Coffee Chat)  \n",
            "[준비 중] 템플릿을 pdf 형태로 바꾸는 법→  \n",
            "프로필 (Profile)프로필 사진  \n",
            "프로필 (Profile)\n",
            "{'Header 1': '데이터 이력서 템플릿 2'}\n",
            "=====================\n",
            "[프로필]을 작성할 때 다음과 같은 사항을 고려하여 작성해주세요.  \n",
            "- 한 줄 소개는 보는 사람이 다음 내용을 궁금하게 하는 첫번째 후킹(Hooking) 포인트입니다. - 한 줄 소개 파트 뒤에 등장하는 경력과 학력, 프로젝트는 모두 뒷받침하는 내용이 되어야 합니다.[00]에 경험을 가진 [0]년차 [직무 타이틀]입니다.예시) 태블로 대시보드 제작 경험이 있는 3년차 데이터 분석가입니다.  \n",
            "연락처  \n",
            "010-4903-7391  \n",
            "이메일  \n",
            "joyospe339@naver.com  \n",
            "포트폴리오  \n",
            "없음\n",
            "{'Header 1': '데이터 이력서 템플릿 2', 'Header 2': '프로필 (Profile)'}\n",
            "=====================\n",
            "약력 (About Me)\n",
            "{'Header 1': '데이터 이력서 템플릿 2'}\n",
            "=====================\n",
            "[약력]를 작성할 때 다음과 같은 사항을 고려하여 작성해주세요.  \n",
            "- 간략하고 명확하게 자신을 ‘관련 직무 경험자’로 소개하세요.- 직무와 관련된 특별한 역량이나 경험 ‘키워드’를 강조하세요.- 관련된 직무의 특별한 ‘도메인’과 ‘스킬’을 동시에 언급하는 것이 중요합니다.  \n",
            "예시) 물류 데이터 분석 및 시각화에 대한 경험을 가진 데이터 분석가입니다. 각 지역별 물류 최적화에 대한 비즈니스 인사이트를 태블로(Tablaeu)로 제공한 경험을 보유하고 있습니다.\n",
            "{'Header 1': '데이터 이력서 템플릿 2', 'Header 2': '약력 (About Me)'}\n",
            "=====================\n",
            "직무 및 이력 (Experiences)\n",
            "{'Header 1': '데이터 이력서 템플릿 2'}\n",
            "=====================\n",
            "[직무 및 이력]을 작성할 때 다음과 같은 사항을 고려하여 작성해주세요.  \n",
            "- 직무 타이틀과 직무 기간이 잘 보일수 있도록 작성해주세요.- 직무와 이력은 xyz법칙을 적용해서 작성해주세요.  \n",
            "웹 프로그래밍 실습| 회사 나우리  \n",
            "전주시 완산구 ∙ 2024.08 - 2024.08  \n",
            "원광대학교 포토갤러리 서비스 개발 실습  \n",
            "아시아 보드스트릿 챌린지 수정 실습  \n",
            "직무 타이틀  | 회사 이름  \n",
            "회사 위치 ∙ 경력 시작일 - 경력 종료일  \n",
            "직무 성과 설명 (1-2줄로 작성해주세요)  \n",
            "직무 성과 설명 (1-2줄로 작성해주세요)  \n",
            "직무 타이틀  | 회사 이름  \n",
            "회사 위치 ∙ 경력 시작일 - 경력 종료일  \n",
            "직무 성과 설명 (1-2줄로 작성해주세요)  \n",
            "직무 성과 설명 (1-2줄로 작성해주세요)\n",
            "{'Header 1': '데이터 이력서 템플릿 2', 'Header 2': '직무 및 이력 (Experiences)'}\n",
            "=====================\n",
            "보유 스킬 (Skill)\n",
            "{'Header 1': '데이터 이력서 템플릿 2'}\n",
            "=====================\n",
            "보유 스킬NameDescriptionSkill LevelTypeExcel60%프로그래밍SQL50%프로그래밍Python90%프로그래밍Git20%프로그래밍\n",
            "{'Header 1': '데이터 이력서 템플릿 2', 'Header 2': '보유 스킬 (Skill)'}\n",
            "=====================\n",
            "프로젝트 (Project)\n",
            "{'Header 1': '데이터 이력서 템플릿 2'}\n",
            "=====================\n",
            "프로젝트이름생성일스킬프로젝트 타입하우스 가격 예측 모델 만들기@2024년 12월 31일 오전 9:47개인에어비엔비 가격 & 수용률 분석@2024년 12월 31일 오전 9:47태블로개인\n",
            "{'Header 1': '데이터 이력서 템플릿 2', 'Header 2': '프로젝트 (Project)'}\n",
            "=====================\n",
            "학력 (Education)\n",
            "{'Header 1': '데이터 이력서 템플릿 2'}\n",
            "=====================\n",
            "전주 대학교\n",
            "{'Header 1': '데이터 이력서 템플릿 2', 'Header 2': '학력 (Education)'}\n",
            "=====================\n",
            "인공지능 전공 학사\n",
            "{'Header 1': '데이터 이력서 템플릿 2', 'Header 2': '학력 (Education)', 'Header 3': '전주 대학교'}\n",
            "=====================\n",
            "학점: 3.75 / 4.0수강 과목: 비즈니스 분석 기초, 파이썬 프로그래밍, 프로젝트 캡스톤∙ 2028년 2월 졸업 예정  \n",
            "학위\n",
            "{'Header 1': '데이터 이력서 템플릿 2', 'Header 2': '학력 (Education)'}\n",
            "=====================\n",
            "학사 | 석사 | 박사\n",
            "{'Header 1': '데이터 이력서 템플릿 2', 'Header 2': '학력 (Education)', 'Header 3': '학위'}\n",
            "=====================\n",
            "대학교 이름 - 전공 | 부전공 [학점]∙ 재학 기간\n",
            "{'Header 1': '데이터 이력서 템플릿 2', 'Header 2': '학력 (Education)'}\n",
            "=====================\n",
            "맨 위로 돌아가기 →  \n",
            "소셜 미디어 & 블로그 (Social & Blog)커피챗 (Coffee Chat)\n",
            "{'Header 1': '데이터 이력서 템플릿 2'}\n",
            "=====================\n",
            "링크드인 (LinkedIn) →  \n",
            "깃허브 (Github) →  \n",
            "커리어리 (Careerly) →  \n",
            "블로그 (Blog) →\n",
            "{'Header 1': '데이터 이력서 템플릿 2', 'Header 2': '소셜 미디어 & 블로그 (Social & Blog)'}\n",
            "=====================\n",
            "온라인 커피챗을 할수 있는 기능을 추가해보세요.  \n",
            "☕ 이력서에서 커피챗 기능 추가하기 →📝 작성한 이력서 피드백 & 멘토링 받기 →\n",
            "{'Header 1': '데이터 이력서 템플릿 2', 'Header 2': '커피챗 (Coffee Chat)'}\n",
            "=====================\n",
            "결과물이 sub\result\\htmlheadertextsplittet_result.txt에 저장되었습니다.\n"
          ]
        }
      ]
    },
    {
      "cell_type": "code",
      "source": [],
      "metadata": {
        "id": "dSzfE5P9DtoK"
      },
      "execution_count": null,
      "outputs": []
    }
  ]
}
